{
 "cells": [
  {
   "cell_type": "code",
   "execution_count": 1,
   "metadata": {},
   "outputs": [
    {
     "name": "stderr",
     "output_type": "stream",
     "text": [
      "/home/yifan/miniconda3/envs/deepdebugger/lib/python3.7/site-packages/tqdm/auto.py:22: TqdmWarning: IProgress not found. Please update jupyter and ipywidgets. See https://ipywidgets.readthedocs.io/en/stable/user_install.html\n",
      "  from .autonotebook import tqdm as notebook_tqdm\n"
     ]
    },
    {
     "name": "stdout",
     "output_type": "stream",
     "text": [
      "NET resnet18\n",
      "Finish initialization...\n"
     ]
    },
    {
     "name": "stderr",
     "output_type": "stream",
     "text": [
      "100%|██████████| 250/250 [00:01<00:00, 125.63it/s]\n"
     ]
    },
    {
     "name": "stdout",
     "output_type": "stream",
     "text": [
      "NET resnet18_with_dropout\n",
      "Finish initialization...\n"
     ]
    },
    {
     "name": "stderr",
     "output_type": "stream",
     "text": [
      "100%|██████████| 250/250 [00:00<00:00, 444.18it/s]\n",
      "100%|██████████| 250/250 [00:00<00:00, 450.79it/s]\n",
      "100%|██████████| 250/250 [00:00<00:00, 437.93it/s]\n"
     ]
    },
    {
     "name": "stdout",
     "output_type": "stream",
     "text": [
      "absolute alignment indicates number: 167 label diff indicates number: 13 confidence diff indicates number: 15 high distance number: 75\n"
     ]
    }
   ],
   "source": [
    "####### dropout resnet18 vs without dropout\n",
    "#### \n",
    "import torch\n",
    "import sys\n",
    "sys.path.append(\"..\")\n",
    "import numpy as np\n",
    "\n",
    "CLEAN_PATH = \"/home/yifan/dataset/resnet18_with_dropout/pairflip/cifar10/0/\"\n",
    "REF_PATH = \"/home/yifan/dataset/resnet18_init/pairflip/cifar10/0\"\n",
    "\n",
    "\n",
    "ENCODER_DIMS=[512,256,256,256,256,2]\n",
    "DECODER_DIMS= [2,256,256,256,256,512]\n",
    "VIS_MODEL_NAME = 'vis'\n",
    "\n",
    "DEVICE='cuda:0'\n",
    "########## initulize reference data and target data\n",
    "from alignment.data_preprocess import DataInit\n",
    "REF_EPOCH = 200\n",
    "TAR_EPOCH = 200\n",
    "ref_datainit = DataInit(REF_PATH,REF_PATH,REF_EPOCH)\n",
    "tar_datainit = DataInit(CLEAN_PATH,CLEAN_PATH,TAR_EPOCH)\n",
    "ref_model, ref_provider, ref_train_data, ref_prediction, ref_prediction_res, ref_scores = ref_datainit.getData()\n",
    "tar_model, tar_provider, tar_train_data, tar_prediction, tar_prediction_res, tar_scores = tar_datainit.getData()\n",
    "\n",
    "\n",
    "from alignment.ReferenceGenerator import ReferenceGenerator\n",
    "gen = ReferenceGenerator(ref_provider=ref_provider, tar_provider=tar_provider,REF_EPOCH=REF_EPOCH,TAR_EPOCH=TAR_EPOCH,ref_model=ref_model,tar_model=tar_model,DEVICE=DEVICE)\n",
    "\n",
    "absolute_alignment_indicates,predict_label_diff_indicates,predict_confidence_Diff_indicates,high_distance_indicates = gen.subsetClassify(18,0.8,0.3,0.05)\n",
    "\n",
    "\n",
    "from representationTrans.trans_visualizer_border import visualizer\n",
    "from singleVis.SingleVisualizationModel import VisModel\n",
    "from singleVis.projector import TimeVisProjector\n",
    "model = VisModel(ENCODER_DIMS, DECODER_DIMS)\n",
    "\n",
    "I = np.eye(512)\n",
    "projector = TimeVisProjector(vis_model=model, content_path=REF_PATH, vis_model_name=VIS_MODEL_NAME, device=\"cpu\")\n",
    "vis = visualizer(ref_provider, I,I, np.dot(ref_provider.train_representation(TAR_EPOCH),I), projector, 200,[0,1],'tab10')\n"
   ]
  },
  {
   "cell_type": "code",
   "execution_count": 2,
   "metadata": {},
   "outputs": [],
   "source": [
    "import torch\n",
    "import torch.nn as nn\n",
    "import torch.optim as optim\n",
    "import torch.utils.data as data_utils\n",
    "import numpy as np\n",
    "from sklearn.metrics import pairwise_distances\n",
    "from sklearn.neighbors import NearestNeighbors\n",
    "from torch.nn.functional import cosine_similarity\n",
    "\n",
    "\n",
    "class TransformerModel(nn.Module):\n",
    "    def __init__(self, input_dim, hidden_dim, nhead, num_layers):\n",
    "        super().__init__()\n",
    "        self.encoder = nn.TransformerEncoder(\n",
    "            nn.TransformerEncoderLayer(input_dim, nhead, hidden_dim),\n",
    "            num_layers\n",
    "        )\n",
    "        self.decoder = nn.TransformerDecoder(\n",
    "            nn.TransformerDecoderLayer(input_dim, nhead, hidden_dim),\n",
    "            num_layers\n",
    "        )\n",
    "\n",
    "    def forward(self, X, Y):\n",
    "        X = X.unsqueeze(0)  # Add sequence length dimension\n",
    "        Y = Y.unsqueeze(0)  # Add sequence length dimension\n",
    "        encoded_Y = self.encoder(Y)\n",
    "        decoded_X = self.decoder(X, encoded_Y)\n",
    "        return encoded_Y.squeeze(0), decoded_X.squeeze(0)  # Remove sequence length dimension\n",
    "\n",
    "\n",
    "\n",
    "def cka(X, Y):\n",
    "    X_centered = X - X.mean(axis=0)\n",
    "    Y_centered = Y - Y.mean(axis=0)\n",
    "    hsic = np.dot(X_centered, Y_centered.T).mean() ** 2\n",
    "    var_X = np.dot(X_centered, X_centered.T).mean()\n",
    "    var_Y = np.dot(Y_centered, Y_centered.T).mean()\n",
    "    return hsic / (var_X * var_Y)\n",
    "\n",
    "def F_norm(X, Y):\n",
    "    m = len(X)\n",
    "    return ((( X - Y)**2).sum())/m\n",
    "\n",
    "\n",
    "def knn_overlap(X, Y, k=5):\n",
    "    nbrs_X = NearestNeighbors(n_neighbors=k).fit(X)\n",
    "    nbrs_Y = NearestNeighbors(n_neighbors=k).fit(Y)\n",
    "    X_neighbors = nbrs_X.kneighbors(X, return_distance=False)\n",
    "    Y_neighbors = nbrs_Y.kneighbors(Y, return_distance=False)\n",
    "    return np.mean([len(np.intersect1d(x_nbrs, y_nbrs)) for x_nbrs, y_nbrs in zip(X_neighbors, Y_neighbors)])\n",
    "\n",
    "input_dim = 512\n",
    "hidden_dim = 1024\n",
    "nhead = 8\n",
    "num_layers = 4\n",
    "learning_rate = 0.001\n",
    "num_epochs = 50\n",
    "\n",
    "model = TransformerModel(input_dim, hidden_dim, nhead, num_layers).cuda()\n",
    "\n",
    "criterion = nn.MSELoss()\n",
    "optimizer = optim.Adam(model.parameters(), lr=learning_rate)\n",
    "\n"
   ]
  },
  {
   "cell_type": "code",
   "execution_count": 3,
   "metadata": {},
   "outputs": [],
   "source": [
    "def batch_cka_loss(Y, transformed_Y):\n",
    "    cka_score = cka(Y.detach().numpy(), transformed_Y.detach().numpy())\n",
    "    cka_loss = 1 - cka_score\n",
    "    return cka_loss\n",
    "\n",
    "def batch_knn_loss(Y, transformed_Y, k=10):\n",
    "    knn_score = knn_overlap(Y.detach().numpy(), transformed_Y.detach().numpy(), k=k)\n",
    "    knn_loss = 1 - (knn_score + 1)  # Add 1 to the knn_score before calculating the loss\n",
    "    return knn_loss\n",
    "\n"
   ]
  },
  {
   "cell_type": "code",
   "execution_count": 6,
   "metadata": {},
   "outputs": [
    {
     "name": "stderr",
     "output_type": "stream",
     "text": [
      "/home/yifan/miniconda3/envs/deepdebugger/lib/python3.7/site-packages/ipykernel_launcher.py:38: RuntimeWarning: divide by zero encountered in double_scalars\n",
      "/home/yifan/miniconda3/envs/deepdebugger/lib/python3.7/site-packages/ipykernel_launcher.py:38: RuntimeWarning: divide by zero encountered in double_scalars\n"
     ]
    },
    {
     "ename": "NameError",
     "evalue": "name 'cka_score' is not defined",
     "output_type": "error",
     "traceback": [
      "\u001b[0;31m---------------------------------------------------------------------------\u001b[0m",
      "\u001b[0;31mNameError\u001b[0m                                 Traceback (most recent call last)",
      "\u001b[0;32m/tmp/ipykernel_1636817/2439555928.py\u001b[0m in \u001b[0;36m<module>\u001b[0;34m\u001b[0m\n\u001b[1;32m     57\u001b[0m         \u001b[0mknn_score\u001b[0m \u001b[0;34m=\u001b[0m \u001b[0mknn_overlap\u001b[0m\u001b[0;34m(\u001b[0m\u001b[0mY\u001b[0m\u001b[0;34m.\u001b[0m\u001b[0mcpu\u001b[0m\u001b[0;34m(\u001b[0m\u001b[0;34m)\u001b[0m\u001b[0;34m.\u001b[0m\u001b[0mnumpy\u001b[0m\u001b[0;34m(\u001b[0m\u001b[0;34m)\u001b[0m\u001b[0;34m,\u001b[0m \u001b[0mdecoded_X\u001b[0m\u001b[0;34m.\u001b[0m\u001b[0mcpu\u001b[0m\u001b[0;34m(\u001b[0m\u001b[0;34m)\u001b[0m\u001b[0;34m.\u001b[0m\u001b[0mnumpy\u001b[0m\u001b[0;34m(\u001b[0m\u001b[0;34m)\u001b[0m\u001b[0;34m)\u001b[0m\u001b[0;34m\u001b[0m\u001b[0;34m\u001b[0m\u001b[0m\n\u001b[1;32m     58\u001b[0m \u001b[0;34m\u001b[0m\u001b[0m\n\u001b[0;32m---> 59\u001b[0;31m         \u001b[0mprint\u001b[0m\u001b[0;34m(\u001b[0m\u001b[0;34mf'Epoch: {epoch+1}, Loss: {loss.item()}, CKA: {cka_score}, KNN Overlap: {knn_score}'\u001b[0m\u001b[0;34m)\u001b[0m\u001b[0;34m\u001b[0m\u001b[0;34m\u001b[0m\u001b[0m\n\u001b[0m",
      "\u001b[0;31mNameError\u001b[0m: name 'cka_score' is not defined"
     ]
    }
   ],
   "source": [
    "X = torch.Tensor(ref_train_data)\n",
    "Y = torch.Tensor(tar_train_data)\n",
    "cka_weight = 1.0\n",
    "knn_weight = 1.0\n",
    "\n",
    "batch_size = 300\n",
    "# Assume X and Y are both numpy arrays of size (num_samples, input_dim)\n",
    "train_data = data_utils.TensorDataset(X, Y)\n",
    "train_loader = data_utils.DataLoader(train_data, batch_size=batch_size, shuffle=True)\n",
    "encoder_criterion = nn.MSELoss()\n",
    "decoder_criterion = nn.MSELoss()\n",
    "encoder_weight = 0.5\n",
    "decoder_weight = 0.5\n",
    "from AlignVis.losses import KNNOverlapLoss, CKALoss, PredictionLoss, ConfidenceLoss\n",
    "\n",
    " ##### knn loss\n",
    "knn_overlap_loss = KNNOverlapLoss(k=10)\n",
    "##### knn overleap different with target\n",
    "# knn_loss = knn_overlap_loss(input=y, target=x)\n",
    "\n",
    "for epoch in range(num_epochs):\n",
    "    for X_batch, Y_batch in train_loader:\n",
    "        X_batch = X_batch.cuda()\n",
    "        Y_batch = Y_batch.cuda()\n",
    "\n",
    "        optimizer.zero_grad()\n",
    "\n",
    "        encoded_Y, decoded_X = model(X_batch, Y_batch)\n",
    "        encoder_loss = F_norm(encoded_Y, X_batch)\n",
    "        decoder_loss = F_norm(decoded_X, Y_batch)\n",
    "       \n",
    "        # Compute CKA and KNN losses on the batch level\n",
    "        cka_loss = batch_cka_loss(Y_batch.cpu(), encoded_Y.cpu())\n",
    "        knn_loss = knn_overlap_loss(input=Y_batch.cpu(), target=decoded_X.cpu())\n",
    "\n",
    "        loss = (\n",
    "            encoder_weight * encoder_loss\n",
    "            + decoder_weight * decoder_loss\n",
    "            # + prediction_weight * prediction_loss\n",
    "            + cka_weight * cka_loss\n",
    "            + knn_weight * knn_loss\n",
    "        )\n",
    "\n",
    "\n",
    "\n",
    "        loss = encoder_weight * (encoder_loss) + decoder_weight * decoder_loss\n",
    "        loss.backward()\n",
    "        optimizer.step()\n",
    "\n",
    "        # print(f'Epoch: {epoch+1}, Loss: {loss.item()},CKA: {cka_loss.item()}, KNN Overlap: {knn_loss.item()}')\n",
    "\n",
    "    with torch.no_grad():\n",
    "        X = X.cuda()\n",
    "        Y = Y.cuda()\n",
    "        encoded_Y, decoded_X = model(X, Y)  # Unpack the model output here\n",
    "        # cka_score = cka(Y.cpu().numpy(), encoded_Y.cpu().numpy())\n",
    "        knn_score = knn_overlap(Y.cpu().numpy(), decoded_X.cpu().numpy())\n",
    "     \n",
    "        print(f'Epoch: {epoch+1}, Loss: {loss.item()}, KNN Overlap: {knn_score}')\n"
   ]
  }
 ],
 "metadata": {
  "kernelspec": {
   "display_name": "deepdebugger",
   "language": "python",
   "name": "deepdebugger"
  },
  "language_info": {
   "codemirror_mode": {
    "name": "ipython",
    "version": 3
   },
   "file_extension": ".py",
   "mimetype": "text/x-python",
   "name": "python",
   "nbconvert_exporter": "python",
   "pygments_lexer": "ipython3",
   "version": "3.7.15"
  },
  "orig_nbformat": 4
 },
 "nbformat": 4,
 "nbformat_minor": 2
}
