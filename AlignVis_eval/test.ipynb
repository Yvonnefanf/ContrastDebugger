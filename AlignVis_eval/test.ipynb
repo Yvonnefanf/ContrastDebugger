{
 "cells": [
  {
   "cell_type": "code",
   "execution_count": 1,
   "metadata": {},
   "outputs": [
    {
     "name": "stderr",
     "output_type": "stream",
     "text": [
      "/home/yifan/miniconda3/envs/deepdebugger/lib/python3.7/site-packages/tqdm/auto.py:22: TqdmWarning: IProgress not found. Please update jupyter and ipywidgets. See https://ipywidgets.readthedocs.io/en/stable/user_install.html\n",
      "  from .autonotebook import tqdm as notebook_tqdm\n"
     ]
    },
    {
     "name": "stdout",
     "output_type": "stream",
     "text": [
      "NET resnet18\n",
      "Finish initialization...\n"
     ]
    },
    {
     "name": "stderr",
     "output_type": "stream",
     "text": [
      "100%|██████████| 250/250 [00:00<00:00, 483.90it/s]\n"
     ]
    },
    {
     "name": "stdout",
     "output_type": "stream",
     "text": [
      "NET resnet18_with_dropout\n",
      "Finish initialization...\n"
     ]
    },
    {
     "name": "stderr",
     "output_type": "stream",
     "text": [
      "100%|██████████| 250/250 [00:00<00:00, 7964.33it/s]\n",
      "100%|██████████| 250/250 [00:00<00:00, 8551.64it/s]\n",
      "100%|██████████| 250/250 [00:00<00:00, 7986.17it/s]\n"
     ]
    },
    {
     "name": "stdout",
     "output_type": "stream",
     "text": [
      "absolute alignment indicates number: 167 label diff indicates number: 13 confidence diff indicates number: 15 high distance number: 75\n"
     ]
    }
   ],
   "source": [
    "####### dropout resnet18 vs without dropout\n",
    "#### \n",
    "import torch\n",
    "import sys\n",
    "sys.path.append(\"..\")\n",
    "import numpy as np\n",
    "\n",
    "CLEAN_PATH = \"/home/yifan/dataset/resnet18_with_dropout/pairflip/cifar10/0/\"\n",
    "# REF_PATH = \"/home/yifan/dataset/clean/pairflip/cifar10/0\"\n",
    "REF_PATH = \"/home/yifan/dataset/resnet18_init/pairflip/cifar10/0\"\n",
    "\n",
    "\n",
    "ENCODER_DIMS=[512,256,256,256,256,2]\n",
    "DECODER_DIMS= [2,256,256,256,256,512]\n",
    "VIS_MODEL_NAME = 'vis'\n",
    "\n",
    "DEVICE='cuda:1'\n",
    "########## initulize reference data and target data\n",
    "from AlignVis.DataInit import DataInit\n",
    "REF_EPOCH = 200\n",
    "TAR_EPOCH = 200\n",
    "ref_datainit = DataInit(REF_PATH,REF_PATH,REF_EPOCH,DEVICE)\n",
    "tar_datainit = DataInit(CLEAN_PATH,CLEAN_PATH,TAR_EPOCH,DEVICE)\n",
    "ref_model, ref_provider, ref_train_data, ref_prediction, ref_prediction_res, ref_scores = ref_datainit.getData()\n",
    "tar_model, tar_provider, tar_train_data, tar_prediction, tar_prediction_res, tar_scores = tar_datainit.getData()\n",
    "\n",
    "\n",
    "from AlignVis.ReferenceGenerator import ReferenceGenerator\n",
    "gen = ReferenceGenerator(ref_provider=ref_provider, tar_provider=tar_provider,REF_EPOCH=REF_EPOCH,TAR_EPOCH=TAR_EPOCH,ref_model=ref_model,tar_model=tar_model,DEVICE=DEVICE)\n",
    "\n",
    "absolute_alignment_indicates,predict_label_diff_indicates,predict_confidence_Diff_indicates,high_distance_indicates = gen.subsetClassify(18,0.8,0.3,0.05)\n",
    "\n",
    "\n",
    "from AlignVisAutoEncoder.trans_visualizer_border import visualizer\n",
    "from singleVis.SingleVisualizationModel import VisModel\n",
    "from singleVis.projector import TimeVisProjector\n",
    "model = VisModel(ENCODER_DIMS, DECODER_DIMS)\n",
    "\n",
    "I = np.eye(512)\n",
    "projector = TimeVisProjector(vis_model=model, content_path=REF_PATH, vis_model_name=VIS_MODEL_NAME, device=\"cpu\")\n",
    "vis = visualizer(ref_provider, I,I, np.dot(ref_provider.train_representation(TAR_EPOCH),I), projector, 200,[0,1],'tab10')\n"
   ]
  },
  {
   "cell_type": "code",
   "execution_count": 2,
   "metadata": {},
   "outputs": [
    {
     "data": {
      "text/plain": [
       "<All keys matched successfully>"
      ]
     },
     "execution_count": 2,
     "metadata": {},
     "output_type": "execute_result"
    }
   ],
   "source": [
    "from AlignVis_eval.AlignEval import Evaluator\n",
    "eval = Evaluator(projector,ref_provider,tar_provider,REF_EPOCH,TAR_EPOCH)\n",
    "######### initialize autoencoder and dataloader #########################\n",
    "from AlignVisAutoEncoder.autoencoder import SimpleAutoencoder\n",
    "from AlignVisAutoEncoder.data_loader import DataLoaderInit\n",
    "input_dim = 512\n",
    "output_dim = 512\n",
    "batch_size = 500\n",
    "\n",
    "autoencoder = SimpleAutoencoder(input_dim,output_dim)\n",
    "checkpoint = torch.load(\"/home/yifan/projects/deepdebugertool/DLVisDebugger/AlignVis_pre_autoencoder_res/new_1.pth\")\n",
    "autoencoder.load_state_dict(checkpoint['model_state_dict'])\n"
   ]
  },
  {
   "cell_type": "code",
   "execution_count": 3,
   "metadata": {},
   "outputs": [
    {
     "name": "stderr",
     "output_type": "stream",
     "text": [
      "100%|██████████| 250/250 [00:00<00:00, 7973.60it/s]\n",
      "100%|██████████| 250/250 [00:00<00:00, 8504.40it/s]\n"
     ]
    },
    {
     "name": "stdout",
     "output_type": "stream",
     "text": [
      "long distance move subet number is 2517, short distance move set number is 616\n"
     ]
    },
    {
     "name": "stderr",
     "output_type": "stream",
     "text": [
      "100%|██████████| 250/250 [00:00<00:00, 8486.16it/s]\n",
      "100%|██████████| 250/250 [00:00<00:00, 7987.32it/s]\n"
     ]
    },
    {
     "name": "stdout",
     "output_type": "stream",
     "text": [
      "all reference distance preserving 49845/50000\n",
      "all reference distance preserving 49975/50000\n",
      "short distance move direction preserving 606/616\n",
      "long distance move direction preserving 2508/2517\n"
     ]
    }
   ],
   "source": [
    "eval.eval_move_direction_preserving(autoencoder,10,1.5)"
   ]
  },
  {
   "cell_type": "code",
   "execution_count": 4,
   "metadata": {},
   "outputs": [
    {
     "name": "stderr",
     "output_type": "stream",
     "text": [
      "100%|██████████| 250/250 [00:00<00:00, 7983.25it/s]\n",
      "100%|██████████| 250/250 [00:00<00:00, 8561.20it/s]\n",
      "100%|██████████| 250/250 [00:00<00:00, 8541.12it/s]\n",
      "100%|██████████| 250/250 [00:00<00:00, 7951.17it/s]"
     ]
    },
    {
     "name": "stdout",
     "output_type": "stream",
     "text": [
      "refere  predction preserving:47308/50000 0.95\n",
      "target  predction preserving:48797/50000 0.98\n",
      "ref&tar pred_same preserving:46526/49987 0.93\n",
      "ref&tar pred_diff preserving:8/13 0.62\n"
     ]
    },
    {
     "name": "stderr",
     "output_type": "stream",
     "text": [
      "\n"
     ]
    }
   ],
   "source": [
    "val_same, val_diff = eval.eval_prediction_preserving(autoencoder)"
   ]
  },
  {
   "cell_type": "code",
   "execution_count": 4,
   "metadata": {},
   "outputs": [
    {
     "ename": "RecursionError",
     "evalue": "maximum recursion depth exceeded",
     "output_type": "error",
     "traceback": [
      "\u001b[0;31m---------------------------------------------------------------------------\u001b[0m",
      "\u001b[0;31mRecursionError\u001b[0m                            Traceback (most recent call last)",
      "\u001b[0;32m/tmp/ipykernel_3957911/1669298404.py\u001b[0m in \u001b[0;36m<module>\u001b[0;34m\u001b[0m\n\u001b[0;32m----> 1\u001b[0;31m \u001b[0mtar_h\u001b[0m\u001b[0;34m,\u001b[0m \u001b[0mref_h\u001b[0m\u001b[0;34m,\u001b[0m \u001b[0mlong_\u001b[0m\u001b[0;34m,\u001b[0m \u001b[0mshort_\u001b[0m \u001b[0;34m=\u001b[0m \u001b[0meval\u001b[0m\u001b[0;34m.\u001b[0m\u001b[0meval_move_direction_preserving\u001b[0m\u001b[0;34m(\u001b[0m\u001b[0mautoencoder\u001b[0m\u001b[0;34m,\u001b[0m \u001b[0;36m10\u001b[0m\u001b[0;34m,\u001b[0m \u001b[0;36m1.5\u001b[0m\u001b[0;34m)\u001b[0m\u001b[0;34m\u001b[0m\u001b[0;34m\u001b[0m\u001b[0m\n\u001b[0m",
      "\u001b[0;32m~/projects/deepdebugertool/DLVisDebugger/AlignVis_eval/AlignEval.py\u001b[0m in \u001b[0;36meval_move_direction_preserving\u001b[0;34m(self, autoencoder, mes_val_for_diff, mes_val_for_same)\u001b[0m\n\u001b[1;32m    298\u001b[0m     \u001b[0;32mdef\u001b[0m \u001b[0meval_move_direction_preserving\u001b[0m\u001b[0;34m(\u001b[0m\u001b[0mself\u001b[0m\u001b[0;34m,\u001b[0m\u001b[0mautoencoder\u001b[0m\u001b[0;34m,\u001b[0m\u001b[0mmes_val_for_diff\u001b[0m\u001b[0;34m,\u001b[0m\u001b[0mmes_val_for_same\u001b[0m \u001b[0;34m)\u001b[0m\u001b[0;34m:\u001b[0m\u001b[0;34m\u001b[0m\u001b[0;34m\u001b[0m\u001b[0m\n\u001b[1;32m    299\u001b[0m \u001b[0;34m\u001b[0m\u001b[0m\n\u001b[0;32m--> 300\u001b[0;31m         \u001b[0mtar_h\u001b[0m\u001b[0;34m,\u001b[0m \u001b[0mref_h\u001b[0m\u001b[0;34m,\u001b[0m \u001b[0mlong_\u001b[0m\u001b[0;34m,\u001b[0m \u001b[0mshort_\u001b[0m \u001b[0;34m=\u001b[0m \u001b[0mself\u001b[0m\u001b[0;34m.\u001b[0m\u001b[0meval_move_direction_preserving\u001b[0m\u001b[0;34m(\u001b[0m\u001b[0mautoencoder\u001b[0m\u001b[0;34m,\u001b[0m \u001b[0mmes_val_for_diff\u001b[0m\u001b[0;34m,\u001b[0m\u001b[0mmes_val_for_same\u001b[0m\u001b[0;34m)\u001b[0m\u001b[0;34m\u001b[0m\u001b[0;34m\u001b[0m\u001b[0m\n\u001b[0m\u001b[1;32m    301\u001b[0m         \u001b[0mtar_l\u001b[0m\u001b[0;34m,\u001b[0m \u001b[0mref_l\u001b[0m \u001b[0;34m=\u001b[0m \u001b[0mself\u001b[0m\u001b[0;34m.\u001b[0m\u001b[0mget_low_dimension_top\u001b[0m\u001b[0;34m(\u001b[0m\u001b[0mautoencoder\u001b[0m\u001b[0;34m,\u001b[0m\u001b[0mn_clusters\u001b[0m\u001b[0;34m=\u001b[0m\u001b[0;36m10\u001b[0m\u001b[0;34m)\u001b[0m\u001b[0;34m\u001b[0m\u001b[0;34m\u001b[0m\u001b[0m\n\u001b[1;32m    302\u001b[0m \u001b[0;34m\u001b[0m\u001b[0m\n",
      "... last 1 frames repeated, from the frame below ...\n",
      "\u001b[0;32m~/projects/deepdebugertool/DLVisDebugger/AlignVis_eval/AlignEval.py\u001b[0m in \u001b[0;36meval_move_direction_preserving\u001b[0;34m(self, autoencoder, mes_val_for_diff, mes_val_for_same)\u001b[0m\n\u001b[1;32m    298\u001b[0m     \u001b[0;32mdef\u001b[0m \u001b[0meval_move_direction_preserving\u001b[0m\u001b[0;34m(\u001b[0m\u001b[0mself\u001b[0m\u001b[0;34m,\u001b[0m\u001b[0mautoencoder\u001b[0m\u001b[0;34m,\u001b[0m\u001b[0mmes_val_for_diff\u001b[0m\u001b[0;34m,\u001b[0m\u001b[0mmes_val_for_same\u001b[0m \u001b[0;34m)\u001b[0m\u001b[0;34m:\u001b[0m\u001b[0;34m\u001b[0m\u001b[0;34m\u001b[0m\u001b[0m\n\u001b[1;32m    299\u001b[0m \u001b[0;34m\u001b[0m\u001b[0m\n\u001b[0;32m--> 300\u001b[0;31m         \u001b[0mtar_h\u001b[0m\u001b[0;34m,\u001b[0m \u001b[0mref_h\u001b[0m\u001b[0;34m,\u001b[0m \u001b[0mlong_\u001b[0m\u001b[0;34m,\u001b[0m \u001b[0mshort_\u001b[0m \u001b[0;34m=\u001b[0m \u001b[0mself\u001b[0m\u001b[0;34m.\u001b[0m\u001b[0meval_move_direction_preserving\u001b[0m\u001b[0;34m(\u001b[0m\u001b[0mautoencoder\u001b[0m\u001b[0;34m,\u001b[0m \u001b[0mmes_val_for_diff\u001b[0m\u001b[0;34m,\u001b[0m\u001b[0mmes_val_for_same\u001b[0m\u001b[0;34m)\u001b[0m\u001b[0;34m\u001b[0m\u001b[0;34m\u001b[0m\u001b[0m\n\u001b[0m\u001b[1;32m    301\u001b[0m         \u001b[0mtar_l\u001b[0m\u001b[0;34m,\u001b[0m \u001b[0mref_l\u001b[0m \u001b[0;34m=\u001b[0m \u001b[0mself\u001b[0m\u001b[0;34m.\u001b[0m\u001b[0mget_low_dimension_top\u001b[0m\u001b[0;34m(\u001b[0m\u001b[0mautoencoder\u001b[0m\u001b[0;34m,\u001b[0m\u001b[0mn_clusters\u001b[0m\u001b[0;34m=\u001b[0m\u001b[0;36m10\u001b[0m\u001b[0;34m)\u001b[0m\u001b[0;34m\u001b[0m\u001b[0;34m\u001b[0m\u001b[0m\n\u001b[1;32m    302\u001b[0m \u001b[0;34m\u001b[0m\u001b[0m\n",
      "\u001b[0;31mRecursionError\u001b[0m: maximum recursion depth exceeded"
     ]
    }
   ],
   "source": [
    "tar_h, ref_h, long_, short_ = eval.eval_move_direction_preserving(autoencoder, 10, 1.5)"
   ]
  },
  {
   "cell_type": "code",
   "execution_count": 5,
   "metadata": {},
   "outputs": [
    {
     "name": "stderr",
     "output_type": "stream",
     "text": [
      "100%|██████████| 250/250 [00:00<00:00, 8445.22it/s]\n",
      "100%|██████████| 250/250 [00:00<00:00, 8079.21it/s]\n"
     ]
    },
    {
     "name": "stdout",
     "output_type": "stream",
     "text": [
      "Cluster 0: [ 8660   650 33683   905 47645 20458 49535 19127 44637 29837],[0 0 0 0 0 0 0 0 0 0]\n",
      "ref Cluster 0: [16457 43623 25902 28287 28085 13854 27515 33264 12175 44442],[8 8 8 8 8 8 8 8 8 8]\n",
      "Cluster 1: [18830 40555 43840 14734 20940 26971 19825 24352 27713 28471],[5 5 5 5 5 5 5 5 5 5]\n",
      "ref Cluster 1: [30777  7487 19117 23063 34661 10611 36543 15614 38994 37548],[3 3 3 3 3 3 3 3 3 3]\n",
      "Cluster 2: [31056 20955 39434 27011    67 39741 16152 34435 32838 35737],[9 9 9 9 9 9 9 9 9 9]\n",
      "ref Cluster 2: [ 6039 46790 10131 36694 49402 45811 23817 41788 23943 36536],[4 4 4 4 4 4 4 4 4 4]\n",
      "Cluster 3: [36968 28614 33796 24222  3219 26555 11785  3919 19441 12843],[4 4 4 4 4 4 4 4 4 4]\n",
      "ref Cluster 3: [15258  3051 13060 41414 28883 13864 43980 11671 40197  5972],[0 0 0 0 0 0 0 0 0 0]\n",
      "Cluster 4: [49388 34100 45536 19829 22649 16856 16620 12020 46248 49127],[8 8 8 8 8 8 8 8 8 8]\n",
      "ref Cluster 4: [43946 39330 25839  2347 23089  2214 35795 31989 32851  8727],[9 9 9 9 9 9 9 9 9 9]\n",
      "Cluster 5: [20223 30556 21833   394  9462 35025 19591 22309  9795 15979],[7 7 7 7 7 7 7 7 7 7]\n",
      "ref Cluster 5: [32454  3805 43958 14828 10889   132 18571 25442 15991 40685],[6 6 6 6 6 6 6 6 6 6]\n",
      "Cluster 6: [16678 39655 28878 25928 44644  8798 15895 45252 28948 36496],[2 2 2 2 2 2 2 2 2 2]\n",
      "ref Cluster 6: [ 6965 25452  1801 39157 20899 44223 49484 42041 21127 40555],[5 5 5 5 5 5 5 5 5 5]\n",
      "Cluster 7: [49222 10322 29861 15202 36145 22420 11477 12155  9129 12904],[3 3 3 3 3 3 3 3 3 3]\n",
      "ref Cluster 7: [41956 24406 46129 48466 47438  9805  1441 40107 34253  4903],[7 7 7 7 7 7 7 7 7 7]\n",
      "Cluster 8: [ 2583 17272 24800 13932   807 39913 45676 10794 28956  4926],[6 6 6 6 6 6 6 6 6 6]\n",
      "ref Cluster 8: [32913 17553 37259 14249 35404 46840 30316 26331 49875 47254],[1 1 1 1 1 1 1 1 1 1]\n",
      "Cluster 9: [42673 41568 14676  4500 19869 45377  1621  2756 47968  2775],[1 1 1 1 1 1 1 1 1 1]\n",
      "ref Cluster 9: [49802 10083  2595 27149 46795 43738 37754  4008 29637  1798],[2 2 2 2 2 2 2 2 2 2]\n"
     ]
    }
   ],
   "source": [
    "tar_l, ref_l = eval.get_low_dimension_top_2(autoencoder,n_clusters=10)"
   ]
  },
  {
   "cell_type": "code",
   "execution_count": 6,
   "metadata": {},
   "outputs": [
    {
     "data": {
      "text/plain": [
       "array([[6, 3],\n",
       "       [9, 1],\n",
       "       [9, 0],\n",
       "       ...,\n",
       "       [9, 8],\n",
       "       [1, 8],\n",
       "       [1, 0]])"
      ]
     },
     "execution_count": 6,
     "metadata": {},
     "output_type": "execute_result"
    }
   ],
   "source": [
    "ref_h"
   ]
  },
  {
   "cell_type": "code",
   "execution_count": 7,
   "metadata": {},
   "outputs": [
    {
     "data": {
      "text/plain": [
       "array([[6, 0, 3],\n",
       "       [9, 1, 3],\n",
       "       [9, 1, 3],\n",
       "       ...,\n",
       "       [9, 1, 3],\n",
       "       [1, 9, 8],\n",
       "       [8, 1, 9]])"
      ]
     },
     "execution_count": 7,
     "metadata": {},
     "output_type": "execute_result"
    }
   ],
   "source": [
    "ref_l"
   ]
  },
  {
   "cell_type": "code",
   "execution_count": 10,
   "metadata": {},
   "outputs": [
    {
     "name": "stdout",
     "output_type": "stream",
     "text": [
      "98 99\n"
     ]
    }
   ],
   "source": [
    "num = 0\n",
    "for i in range(len(ref_l[short_])):\n",
    "    if np.any(np.isin(ref_l[i], ref_h[i])):\n",
    "        num = num + 1\n",
    "print(num,len(ref_l[short_]))"
   ]
  },
  {
   "cell_type": "code",
   "execution_count": 11,
   "metadata": {},
   "outputs": [
    {
     "name": "stdout",
     "output_type": "stream",
     "text": [
      "76 99\n"
     ]
    }
   ],
   "source": [
    "num = 0\n",
    "for i in range(len(ref_l[short_])):\n",
    "    if np.array_equal(tar_l[i], ref_l[i]):\n",
    "        num = num + 1\n",
    "print(num,len(ref_l[short_]))"
   ]
  },
  {
   "cell_type": "code",
   "execution_count": 12,
   "metadata": {},
   "outputs": [
    {
     "name": "stdout",
     "output_type": "stream",
     "text": [
      "49845 50000\n"
     ]
    }
   ],
   "source": [
    "num = 0\n",
    "for i in range(len(ref_l)):\n",
    "    if np.any(np.isin(ref_l[i], ref_h[i])):\n",
    "        num = num + 1\n",
    "print(num,len(ref_l))"
   ]
  },
  {
   "cell_type": "code",
   "execution_count": 13,
   "metadata": {},
   "outputs": [
    {
     "name": "stdout",
     "output_type": "stream",
     "text": [
      "49975 50000\n"
     ]
    }
   ],
   "source": [
    "num = 0\n",
    "for i in range(len(tar_l)):\n",
    "    if np.any(np.isin(tar_l[i], tar_h[i])):\n",
    "        num = num + 1\n",
    "print(num,len(tar_l))"
   ]
  },
  {
   "cell_type": "code",
   "execution_count": 22,
   "metadata": {},
   "outputs": [
    {
     "name": "stdout",
     "output_type": "stream",
     "text": [
      "606 / 616\n"
     ]
    }
   ],
   "source": [
    "num = 0\n",
    "for i in range(len(ref_l[short_])):\n",
    "    if np.any(np.isin(tar_l[i], tar_h[i])) and np.any(np.isin(ref_l[i], tar_l[i])):\n",
    "        num = num + 1\n",
    "print(num,\"/\",len(ref_l[short_]))"
   ]
  },
  {
   "cell_type": "code",
   "execution_count": 23,
   "metadata": {},
   "outputs": [
    {
     "name": "stdout",
     "output_type": "stream",
     "text": [
      "2508 / 2517\n"
     ]
    }
   ],
   "source": [
    "num = 0\n",
    "for i in range(len(ref_l[long_])):\n",
    "    if np.any(np.isin(tar_l[i], tar_h[i])) and np.any(np.isin(ref_l[i], ref_h[i])):\n",
    "        num = num + 1\n",
    "print(num,\"/\",len(ref_l[long_]))"
   ]
  },
  {
   "cell_type": "code",
   "execution_count": 12,
   "metadata": {},
   "outputs": [
    {
     "data": {
      "text/plain": [
       "array([[9, 0],\n",
       "       [2, 1],\n",
       "       [2, 6],\n",
       "       ...,\n",
       "       [9, 0],\n",
       "       [5, 1],\n",
       "       [4, 2]])"
      ]
     },
     "execution_count": 12,
     "metadata": {},
     "output_type": "execute_result"
    }
   ],
   "source": [
    "tar_top_classes[longDistanceMove]"
   ]
  },
  {
   "cell_type": "code",
   "execution_count": 13,
   "metadata": {},
   "outputs": [
    {
     "data": {
      "text/plain": [
       "array([[9, 1],\n",
       "       [2, 7],\n",
       "       [2, 3],\n",
       "       ...,\n",
       "       [9, 1],\n",
       "       [5, 3],\n",
       "       [4, 7]])"
      ]
     },
     "execution_count": 13,
     "metadata": {},
     "output_type": "execute_result"
    }
   ],
   "source": [
    "ref_top_classes[longDistanceMove]"
   ]
  },
  {
   "cell_type": "code",
   "execution_count": 9,
   "metadata": {},
   "outputs": [
    {
     "data": {
      "text/plain": [
       "array([[9, 1],\n",
       "       [2, 0],\n",
       "       [2, 0],\n",
       "       ...,\n",
       "       [9, 1],\n",
       "       [5, 3],\n",
       "       [4, 7]])"
      ]
     },
     "execution_count": 9,
     "metadata": {},
     "output_type": "execute_result"
    }
   ],
   "source": [
    "tar_[longDistanceMove]"
   ]
  },
  {
   "cell_type": "code",
   "execution_count": 14,
   "metadata": {},
   "outputs": [
    {
     "data": {
      "text/plain": [
       "array([[9, 1],\n",
       "       [2, 0],\n",
       "       [2, 0],\n",
       "       ...,\n",
       "       [9, 1],\n",
       "       [5, 3],\n",
       "       [4, 7]])"
      ]
     },
     "execution_count": 14,
     "metadata": {},
     "output_type": "execute_result"
    }
   ],
   "source": [
    "ref_[longDistanceMove]"
   ]
  },
  {
   "cell_type": "code",
   "execution_count": 6,
   "metadata": {},
   "outputs": [
    {
     "data": {
      "text/plain": [
       "array([[6, 0],\n",
       "       [9, 1],\n",
       "       [9, 1],\n",
       "       ...,\n",
       "       [9, 1],\n",
       "       [1, 9],\n",
       "       [8, 1]])"
      ]
     },
     "execution_count": 6,
     "metadata": {},
     "output_type": "execute_result"
    }
   ],
   "source": [
    "ref_"
   ]
  },
  {
   "cell_type": "code",
   "execution_count": 3,
   "metadata": {},
   "outputs": [
    {
     "name": "stderr",
     "output_type": "stream",
     "text": [
      "100%|██████████| 250/250 [00:00<00:00, 8023.20it/s]\n",
      "100%|██████████| 250/250 [00:00<00:00, 7941.29it/s]"
     ]
    },
    {
     "name": "stdout",
     "output_type": "stream",
     "text": [
      "#train# autoencoder PPR: 0.96 in epoch 200\n"
     ]
    },
    {
     "name": "stderr",
     "output_type": "stream",
     "text": [
      "\n"
     ]
    },
    {
     "data": {
      "text/plain": [
       "0.96474"
      ]
     },
     "execution_count": 3,
     "metadata": {},
     "output_type": "execute_result"
    }
   ],
   "source": [
    "eval.eval_ppr_autoencoder(autoencoder)"
   ]
  },
  {
   "cell_type": "code",
   "execution_count": 17,
   "metadata": {},
   "outputs": [],
   "source": [
    "tar_top_classes = np.argsort(tar_prediction, axis=1)[:, ::-1][:, :2]"
   ]
  },
  {
   "cell_type": "code",
   "execution_count": 19,
   "metadata": {},
   "outputs": [],
   "source": [
    "ref_top_classes = np.argsort(ref_prediction, axis=1)[:, ::-1][:, :2]"
   ]
  },
  {
   "cell_type": "code",
   "execution_count": 20,
   "metadata": {},
   "outputs": [
    {
     "data": {
      "text/plain": [
       "array([[6, 3],\n",
       "       [9, 0],\n",
       "       [9, 0],\n",
       "       ...,\n",
       "       [9, 1],\n",
       "       [1, 8],\n",
       "       [1, 0]])"
      ]
     },
     "execution_count": 20,
     "metadata": {},
     "output_type": "execute_result"
    }
   ],
   "source": [
    "tar_top_classes"
   ]
  },
  {
   "cell_type": "code",
   "execution_count": 21,
   "metadata": {},
   "outputs": [
    {
     "data": {
      "text/plain": [
       "array([[6, 3],\n",
       "       [9, 1],\n",
       "       [9, 0],\n",
       "       ...,\n",
       "       [9, 8],\n",
       "       [1, 8],\n",
       "       [1, 0]])"
      ]
     },
     "execution_count": 21,
     "metadata": {},
     "output_type": "execute_result"
    }
   ],
   "source": [
    "ref_top_classes"
   ]
  },
  {
   "cell_type": "code",
   "execution_count": 26,
   "metadata": {},
   "outputs": [
    {
     "data": {
      "text/plain": [
       "True"
      ]
     },
     "execution_count": 26,
     "metadata": {},
     "output_type": "execute_result"
    }
   ],
   "source": [
    "np.array_equal(tar_top_classes[0],ref_top_classes[0])"
   ]
  },
  {
   "cell_type": "code",
   "execution_count": 28,
   "metadata": {},
   "outputs": [
    {
     "data": {
      "text/plain": [
       "True"
      ]
     },
     "execution_count": 28,
     "metadata": {},
     "output_type": "execute_result"
    }
   ],
   "source": [
    "np.array_equal(tar_top_classes[2],ref_top_classes[2])"
   ]
  },
  {
   "cell_type": "code",
   "execution_count": 8,
   "metadata": {},
   "outputs": [
    {
     "name": "stdout",
     "output_type": "stream",
     "text": [
      "long distance move subet number is 2517, short distance move set number is 99\n"
     ]
    }
   ],
   "source": [
    "from AlignVis.utils import *\n",
    "\n",
    "longDistanceMove = []\n",
    "shortDistanceMove = []\n",
    "tar_top_classes = np.argsort(tar_prediction, axis=1)[:, ::-1][:, :2]\n",
    "ref_top_classes = np.argsort(ref_prediction, axis=1)[:, ::-1][:, :2]\n",
    "for i in range(len(ref_prediction)):\n",
    "    mes_val = EMAE(ref_prediction[i], tar_prediction[i])\n",
    "    if mes_val > 10 and (not np.array_equal(tar_top_classes[i],ref_top_classes[i])):\n",
    "        longDistanceMove.append(i)\n",
    "    elif mes_val <= 0.8 and np.array_equal(tar_top_classes[i],ref_top_classes[i]):\n",
    "        shortDistanceMove.append(i)\n",
    "print(\"long distance move subet number is {}, short distance move set number is {}\".format(len(longDistanceMove),len(shortDistanceMove)))\n"
   ]
  },
  {
   "cell_type": "code",
   "execution_count": 31,
   "metadata": {},
   "outputs": [
    {
     "data": {
      "text/plain": [
       "array([[9, 1],\n",
       "       [2, 7],\n",
       "       [2, 3],\n",
       "       ...,\n",
       "       [9, 1],\n",
       "       [5, 3],\n",
       "       [4, 7]])"
      ]
     },
     "execution_count": 31,
     "metadata": {},
     "output_type": "execute_result"
    }
   ],
   "source": [
    "ref_top_classes[longDistanceMove]"
   ]
  },
  {
   "cell_type": "code",
   "execution_count": 32,
   "metadata": {},
   "outputs": [
    {
     "data": {
      "text/plain": [
       "array([[9, 0],\n",
       "       [2, 1],\n",
       "       [2, 6],\n",
       "       ...,\n",
       "       [9, 0],\n",
       "       [5, 1],\n",
       "       [4, 2]])"
      ]
     },
     "execution_count": 32,
     "metadata": {},
     "output_type": "execute_result"
    }
   ],
   "source": [
    "tar_top_classes[longDistanceMove]"
   ]
  },
  {
   "cell_type": "code",
   "execution_count": 13,
   "metadata": {},
   "outputs": [
    {
     "data": {
      "text/plain": [
       "array([[ -9.033905  ,   9.881061  ,   2.4750533 , ...,  -9.217087  ,\n",
       "         -4.600233  ,  37.96974   ],\n",
       "       [  1.1324817 ,  -0.7668014 ,  13.617726  , ...,   3.5348403 ,\n",
       "         -6.488342  ,  -6.827238  ],\n",
       "       [  8.722182  ,  -9.057712  ,  -5.990113  , ...,  -3.6244574 ,\n",
       "         30.94682   ,  -5.419151  ],\n",
       "       ...,\n",
       "       [  0.500704  ,  39.428387  ,  -9.48786   , ..., -12.582587  ,\n",
       "         -0.45613956,  13.632008  ],\n",
       "       [ -1.8576515 ,  -2.3897526 ,   0.76586276, ..., -11.366705  ,\n",
       "         -5.8492246 ,  -5.4919467 ],\n",
       "       [ -3.235338  , -11.5179825 ,   3.1005979 , ...,   5.151562  ,\n",
       "         -7.232927  ,  -8.095783  ]], dtype=float32)"
      ]
     },
     "execution_count": 13,
     "metadata": {},
     "output_type": "execute_result"
    }
   ],
   "source": [
    "ref_prediction[longDistanceMove]"
   ]
  },
  {
   "cell_type": "code",
   "execution_count": 14,
   "metadata": {},
   "outputs": [
    {
     "data": {
      "text/plain": [
       "array([[ 2.3663418 ,  1.8965043 , -0.13606454, ..., -4.813856  ,\n",
       "         0.8078534 , 28.04294   ],\n",
       "       [-4.203941  ,  1.281303  , 27.992817  , ..., -5.0099053 ,\n",
       "        -4.7319756 , -1.7294415 ],\n",
       "       [ 3.743858  , -1.9534453 , -0.745916  , ..., -0.6351479 ,\n",
       "        19.868597  , -2.5129838 ],\n",
       "       ...,\n",
       "       [-6.764474  , 29.674839  , -7.1061063 , ..., -2.3340993 ,\n",
       "        -4.7834783 ,  2.1811256 ],\n",
       "       [ 0.23966525,  2.047787  , -2.7143116 , ..., -5.4074965 ,\n",
       "         0.8727607 ,  1.8945909 ],\n",
       "       [-1.3692774 , -7.153215  , 10.508709  , ...,  0.7805488 ,\n",
       "        -3.5378861 , -5.451972  ]], dtype=float32)"
      ]
     },
     "execution_count": 14,
     "metadata": {},
     "output_type": "execute_result"
    }
   ],
   "source": [
    "tar_prediction[longDistanceMove]"
   ]
  },
  {
   "cell_type": "code",
   "execution_count": 33,
   "metadata": {},
   "outputs": [],
   "source": [
    "ref_embedding = projector.batch_project(REF_EPOCH, ref_train_data)"
   ]
  },
  {
   "cell_type": "code",
   "execution_count": 34,
   "metadata": {},
   "outputs": [],
   "source": [
    "init_data = tar_provider.train_representation(TAR_EPOCH)\n",
    "encoded_tar = autoencoder.encoder(torch.Tensor(init_data))\n",
    "train_data = encoded_tar.detach().numpy()\n",
    "tar_embedding = projector.batch_project(REF_EPOCH, train_data)"
   ]
  },
  {
   "cell_type": "code",
   "execution_count": 64,
   "metadata": {},
   "outputs": [
    {
     "name": "stdout",
     "output_type": "stream",
     "text": [
      "Cluster 0: [ 8660   650 33683   905 47645 20458 49535 19127 44637 29837],[0 0 0 0 0 0 0 0 0 0]\n",
      "Cluster 1: [18830 40555 43840 14734 20940 26971 19825 24352 27713 28471],[5 5 5 5 5 5 5 5 5 5]\n",
      "Cluster 2: [31056 20955 39434 27011    67 39741 16152 34435 32838 35737],[9 9 9 9 9 9 9 9 9 9]\n",
      "Cluster 3: [36968 28614 33796 24222  3219 26555 11785  3919 19441 12843],[4 4 4 4 4 4 4 4 4 4]\n",
      "Cluster 4: [49388 34100 45536 19829 22649 16856 16620 12020 46248 49127],[8 8 8 8 8 8 8 8 8 8]\n",
      "Cluster 5: [20223 30556 21833   394  9462 35025 19591 22309  9795 15979],[7 7 7 7 7 7 7 7 7 7]\n",
      "Cluster 6: [16678 39655 28878 25928 44644  8798 15895 45252 28948 36496],[2 2 2 2 2 2 2 2 2 2]\n",
      "Cluster 7: [49222 10322 29861 15202 36145 22420 11477 12155  9129 12904],[3 3 3 3 3 3 3 3 3 3]\n",
      "Cluster 8: [ 2583 17272 24800 13932   807 39913 45676 10794 28956  4926],[6 6 6 6 6 6 6 6 6 6]\n",
      "Cluster 9: [42673 41568 14676  4500 19869 45377  1621  2756 47968  2775],[1 1 1 1 1 1 1 1 1 1]\n"
     ]
    }
   ],
   "source": [
    "from sklearn.cluster import KMeans\n",
    "\n",
    "# set the number of clusters\n",
    "n_clusters = 10\n",
    "\n",
    "# fit KMeans to the sample and get the cluster centers\n",
    "kmeans = KMeans(n_clusters=n_clusters, random_state=0).fit(tar_embedding)\n",
    "centers = kmeans.cluster_centers_\n",
    "# get the indices of the 10 closest samples to each center\n",
    "center_indices = []\n",
    "for i in range(n_clusters):\n",
    "    dist_to_center = np.linalg.norm(tar_embedding - centers[i], axis=1)\n",
    "    closest_indices = np.argsort(dist_to_center)[:10]\n",
    "    center_indices.append(closest_indices)\n",
    "\n",
    "# print the center sample indices for each cluster\n",
    "label_ = []\n",
    "for i in range(n_clusters):\n",
    "    label_.append(tar_prediction_res[center_indices[i]][0])\n",
    "    print(\"Cluster {}: {},{}\".format(i, center_indices[i], tar_prediction_res[center_indices[i]]))"
   ]
  },
  {
   "cell_type": "code",
   "execution_count": 56,
   "metadata": {},
   "outputs": [
    {
     "data": {
      "text/plain": [
       "[0, 5, 9, 4, 8, 7, 2, 3, 6, 1]"
      ]
     },
     "execution_count": 56,
     "metadata": {},
     "output_type": "execute_result"
    }
   ],
   "source": [
    "label_"
   ]
  },
  {
   "cell_type": "code",
   "execution_count": 48,
   "metadata": {},
   "outputs": [],
   "source": [
    "sample = ref_embedding[longDistanceMove[0]]"
   ]
  },
  {
   "cell_type": "code",
   "execution_count": 49,
   "metadata": {},
   "outputs": [],
   "source": [
    "# compute the distances between each sample and each cluster center\n",
    "distances = kmeans.transform(tar_embedding)"
   ]
  },
  {
   "cell_type": "code",
   "execution_count": 50,
   "metadata": {},
   "outputs": [
    {
     "data": {
      "text/plain": [
       "array([[ 2.8759077,  9.125532 ,  7.020964 , ...,  5.6394706,  0.3002998,\n",
       "         8.428816 ],\n",
       "       [10.845587 ,  8.2487135,  1.0946887, ...,  4.942587 ,  7.9341908,\n",
       "         4.234233 ],\n",
       "       [10.578631 ,  8.023169 ,  0.8787375, ...,  4.6599636,  7.684541 ,\n",
       "         4.3356395],\n",
       "       ...,\n",
       "       [ 8.734114 ,  7.7169905,  1.0490795, ...,  3.709114 ,  5.8105583,\n",
       "         4.3625793],\n",
       "       [12.747653 , 13.165394 ,  5.118969 , ...,  9.342071 ,  9.633833 ,\n",
       "         1.4867624],\n",
       "       [ 9.549353 , 10.631718 ,  2.9740126, ...,  6.508203 ,  6.421581 ,\n",
       "         1.8029999]], dtype=float32)"
      ]
     },
     "execution_count": 50,
     "metadata": {},
     "output_type": "execute_result"
    }
   ],
   "source": [
    "distances"
   ]
  },
  {
   "cell_type": "code",
   "execution_count": 51,
   "metadata": {},
   "outputs": [],
   "source": [
    "top_clusters = np.argsort(distances, axis=1)[:, :2]"
   ]
  },
  {
   "cell_type": "code",
   "execution_count": 65,
   "metadata": {},
   "outputs": [
    {
     "data": {
      "text/plain": [
       "array([[8, 0],\n",
       "       [2, 9],\n",
       "       [2, 9],\n",
       "       ...,\n",
       "       [2, 7],\n",
       "       [9, 2],\n",
       "       [9, 2]])"
      ]
     },
     "execution_count": 65,
     "metadata": {},
     "output_type": "execute_result"
    }
   ],
   "source": [
    "top_clusters"
   ]
  },
  {
   "cell_type": "code",
   "execution_count": 66,
   "metadata": {},
   "outputs": [],
   "source": [
    "# build the label_dict dictionary\n",
    "label_dict = {}\n",
    "for i, label in enumerate(label_):\n",
    "    label_dict[i] = label"
   ]
  },
  {
   "cell_type": "code",
   "execution_count": 67,
   "metadata": {},
   "outputs": [],
   "source": [
    "top_labels = np.vectorize(label_dict.get)(top_clusters)"
   ]
  },
  {
   "cell_type": "code",
   "execution_count": 68,
   "metadata": {},
   "outputs": [
    {
     "data": {
      "text/plain": [
       "array([[6, 0],\n",
       "       [9, 1],\n",
       "       [9, 1],\n",
       "       ...,\n",
       "       [9, 3],\n",
       "       [1, 9],\n",
       "       [1, 9]])"
      ]
     },
     "execution_count": 68,
     "metadata": {},
     "output_type": "execute_result"
    }
   ],
   "source": [
    "top_labels"
   ]
  },
  {
   "cell_type": "code",
   "execution_count": 70,
   "metadata": {},
   "outputs": [
    {
     "data": {
      "text/plain": [
       "array([[6, 3],\n",
       "       [9, 1],\n",
       "       [9, 0],\n",
       "       ...,\n",
       "       [9, 8],\n",
       "       [1, 8],\n",
       "       [1, 0]])"
      ]
     },
     "execution_count": 70,
     "metadata": {},
     "output_type": "execute_result"
    }
   ],
   "source": [
    "ref_top_classes"
   ]
  },
  {
   "cell_type": "code",
   "execution_count": 69,
   "metadata": {},
   "outputs": [
    {
     "data": {
      "text/plain": [
       "array([[6, 3],\n",
       "       [9, 0],\n",
       "       [9, 0],\n",
       "       ...,\n",
       "       [9, 1],\n",
       "       [1, 8],\n",
       "       [1, 0]])"
      ]
     },
     "execution_count": 69,
     "metadata": {},
     "output_type": "execute_result"
    }
   ],
   "source": [
    "tar_top_classes"
   ]
  },
  {
   "cell_type": "code",
   "execution_count": 46,
   "metadata": {},
   "outputs": [
    {
     "ename": "ValueError",
     "evalue": "Expected 2D array, got 1D array instead:\narray=[ 2.2736607 13.995105 ].\nReshape your data either using array.reshape(-1, 1) if your data has a single feature or array.reshape(1, -1) if it contains a single sample.",
     "output_type": "error",
     "traceback": [
      "\u001b[0;31m---------------------------------------------------------------------------\u001b[0m",
      "\u001b[0;31mValueError\u001b[0m                                Traceback (most recent call last)",
      "\u001b[0;32m/tmp/ipykernel_3956044/3264019377.py\u001b[0m in \u001b[0;36m<module>\u001b[0;34m\u001b[0m\n\u001b[1;32m      4\u001b[0m \u001b[0;34m\u001b[0m\u001b[0m\n\u001b[1;32m      5\u001b[0m \u001b[0;31m# compute the distances between the sample and each cluster\u001b[0m\u001b[0;34m\u001b[0m\u001b[0;34m\u001b[0m\u001b[0;34m\u001b[0m\u001b[0m\n\u001b[0;32m----> 6\u001b[0;31m \u001b[0mdistances\u001b[0m \u001b[0;34m=\u001b[0m \u001b[0mkmeans\u001b[0m\u001b[0;34m.\u001b[0m\u001b[0mtransform\u001b[0m\u001b[0;34m(\u001b[0m\u001b[0msample\u001b[0m\u001b[0;34m)\u001b[0m\u001b[0;34m\u001b[0m\u001b[0;34m\u001b[0m\u001b[0m\n\u001b[0m\u001b[1;32m      7\u001b[0m \u001b[0;34m\u001b[0m\u001b[0m\n\u001b[1;32m      8\u001b[0m \u001b[0;31m# compute the average distance to each cluster\u001b[0m\u001b[0;34m\u001b[0m\u001b[0;34m\u001b[0m\u001b[0;34m\u001b[0m\u001b[0m\n",
      "\u001b[0;32m~/miniconda3/envs/deepdebugger/lib/python3.7/site-packages/sklearn/cluster/_kmeans.py\u001b[0m in \u001b[0;36mtransform\u001b[0;34m(self, X)\u001b[0m\n\u001b[1;32m   1298\u001b[0m         \u001b[0mcheck_is_fitted\u001b[0m\u001b[0;34m(\u001b[0m\u001b[0mself\u001b[0m\u001b[0;34m)\u001b[0m\u001b[0;34m\u001b[0m\u001b[0;34m\u001b[0m\u001b[0m\n\u001b[1;32m   1299\u001b[0m \u001b[0;34m\u001b[0m\u001b[0m\n\u001b[0;32m-> 1300\u001b[0;31m         \u001b[0mX\u001b[0m \u001b[0;34m=\u001b[0m \u001b[0mself\u001b[0m\u001b[0;34m.\u001b[0m\u001b[0m_check_test_data\u001b[0m\u001b[0;34m(\u001b[0m\u001b[0mX\u001b[0m\u001b[0;34m)\u001b[0m\u001b[0;34m\u001b[0m\u001b[0;34m\u001b[0m\u001b[0m\n\u001b[0m\u001b[1;32m   1301\u001b[0m         \u001b[0;32mreturn\u001b[0m \u001b[0mself\u001b[0m\u001b[0;34m.\u001b[0m\u001b[0m_transform\u001b[0m\u001b[0;34m(\u001b[0m\u001b[0mX\u001b[0m\u001b[0;34m)\u001b[0m\u001b[0;34m\u001b[0m\u001b[0;34m\u001b[0m\u001b[0m\n\u001b[1;32m   1302\u001b[0m \u001b[0;34m\u001b[0m\u001b[0m\n",
      "\u001b[0;32m~/miniconda3/envs/deepdebugger/lib/python3.7/site-packages/sklearn/cluster/_kmeans.py\u001b[0m in \u001b[0;36m_check_test_data\u001b[0;34m(self, X)\u001b[0m\n\u001b[1;32m   1011\u001b[0m             \u001b[0mdtype\u001b[0m\u001b[0;34m=\u001b[0m\u001b[0;34m[\u001b[0m\u001b[0mnp\u001b[0m\u001b[0;34m.\u001b[0m\u001b[0mfloat64\u001b[0m\u001b[0;34m,\u001b[0m \u001b[0mnp\u001b[0m\u001b[0;34m.\u001b[0m\u001b[0mfloat32\u001b[0m\u001b[0;34m]\u001b[0m\u001b[0;34m,\u001b[0m\u001b[0;34m\u001b[0m\u001b[0;34m\u001b[0m\u001b[0m\n\u001b[1;32m   1012\u001b[0m             \u001b[0morder\u001b[0m\u001b[0;34m=\u001b[0m\u001b[0;34m\"C\"\u001b[0m\u001b[0;34m,\u001b[0m\u001b[0;34m\u001b[0m\u001b[0;34m\u001b[0m\u001b[0m\n\u001b[0;32m-> 1013\u001b[0;31m             \u001b[0maccept_large_sparse\u001b[0m\u001b[0;34m=\u001b[0m\u001b[0;32mFalse\u001b[0m\u001b[0;34m,\u001b[0m\u001b[0;34m\u001b[0m\u001b[0;34m\u001b[0m\u001b[0m\n\u001b[0m\u001b[1;32m   1014\u001b[0m         )\n\u001b[1;32m   1015\u001b[0m         \u001b[0;32mreturn\u001b[0m \u001b[0mX\u001b[0m\u001b[0;34m\u001b[0m\u001b[0;34m\u001b[0m\u001b[0m\n",
      "\u001b[0;32m~/miniconda3/envs/deepdebugger/lib/python3.7/site-packages/sklearn/base.py\u001b[0m in \u001b[0;36m_validate_data\u001b[0;34m(self, X, y, reset, validate_separately, **check_params)\u001b[0m\n\u001b[1;32m    564\u001b[0m             \u001b[0;32mraise\u001b[0m \u001b[0mValueError\u001b[0m\u001b[0;34m(\u001b[0m\u001b[0;34m\"Validation should be done on X, y or both.\"\u001b[0m\u001b[0;34m)\u001b[0m\u001b[0;34m\u001b[0m\u001b[0;34m\u001b[0m\u001b[0m\n\u001b[1;32m    565\u001b[0m         \u001b[0;32melif\u001b[0m \u001b[0;32mnot\u001b[0m \u001b[0mno_val_X\u001b[0m \u001b[0;32mand\u001b[0m \u001b[0mno_val_y\u001b[0m\u001b[0;34m:\u001b[0m\u001b[0;34m\u001b[0m\u001b[0;34m\u001b[0m\u001b[0m\n\u001b[0;32m--> 566\u001b[0;31m             \u001b[0mX\u001b[0m \u001b[0;34m=\u001b[0m \u001b[0mcheck_array\u001b[0m\u001b[0;34m(\u001b[0m\u001b[0mX\u001b[0m\u001b[0;34m,\u001b[0m \u001b[0;34m**\u001b[0m\u001b[0mcheck_params\u001b[0m\u001b[0;34m)\u001b[0m\u001b[0;34m\u001b[0m\u001b[0;34m\u001b[0m\u001b[0m\n\u001b[0m\u001b[1;32m    567\u001b[0m             \u001b[0mout\u001b[0m \u001b[0;34m=\u001b[0m \u001b[0mX\u001b[0m\u001b[0;34m\u001b[0m\u001b[0;34m\u001b[0m\u001b[0m\n\u001b[1;32m    568\u001b[0m         \u001b[0;32melif\u001b[0m \u001b[0mno_val_X\u001b[0m \u001b[0;32mand\u001b[0m \u001b[0;32mnot\u001b[0m \u001b[0mno_val_y\u001b[0m\u001b[0;34m:\u001b[0m\u001b[0;34m\u001b[0m\u001b[0;34m\u001b[0m\u001b[0m\n",
      "\u001b[0;32m~/miniconda3/envs/deepdebugger/lib/python3.7/site-packages/sklearn/utils/validation.py\u001b[0m in \u001b[0;36mcheck_array\u001b[0;34m(array, accept_sparse, accept_large_sparse, dtype, order, copy, force_all_finite, ensure_2d, allow_nd, ensure_min_samples, ensure_min_features, estimator)\u001b[0m\n\u001b[1;32m    771\u001b[0m                     \u001b[0;34m\"Reshape your data either using array.reshape(-1, 1) if \"\u001b[0m\u001b[0;34m\u001b[0m\u001b[0;34m\u001b[0m\u001b[0m\n\u001b[1;32m    772\u001b[0m                     \u001b[0;34m\"your data has a single feature or array.reshape(1, -1) \"\u001b[0m\u001b[0;34m\u001b[0m\u001b[0;34m\u001b[0m\u001b[0m\n\u001b[0;32m--> 773\u001b[0;31m                     \u001b[0;34m\"if it contains a single sample.\"\u001b[0m\u001b[0;34m.\u001b[0m\u001b[0mformat\u001b[0m\u001b[0;34m(\u001b[0m\u001b[0marray\u001b[0m\u001b[0;34m)\u001b[0m\u001b[0;34m\u001b[0m\u001b[0;34m\u001b[0m\u001b[0m\n\u001b[0m\u001b[1;32m    774\u001b[0m                 )\n\u001b[1;32m    775\u001b[0m \u001b[0;34m\u001b[0m\u001b[0m\n",
      "\u001b[0;31mValueError\u001b[0m: Expected 2D array, got 1D array instead:\narray=[ 2.2736607 13.995105 ].\nReshape your data either using array.reshape(-1, 1) if your data has a single feature or array.reshape(1, -1) if it contains a single sample."
     ]
    }
   ],
   "source": [
    "sample = ref_embedding[longDistanceMove[0]]\n",
    "\n",
    "kmeans = KMeans(n_clusters=n_clusters, random_state=0).fit(tar_embedding)\n",
    "\n",
    "# compute the distances between the sample and each cluster\n",
    "distances = kmeans.transform(sample)\n",
    "\n",
    "# compute the average distance to each cluster\n",
    "average_distances = np.mean(distances, axis=0)\n",
    "\n",
    "# print the average distance to each cluster\n",
    "for i in range(kmeans.n_clusters):\n",
    "    print(\"Cluster {}: {}\".format(i, average_distances[i]))"
   ]
  },
  {
   "cell_type": "code",
   "execution_count": 39,
   "metadata": {},
   "outputs": [
    {
     "data": {
      "text/plain": [
       "array([0, 0])"
      ]
     },
     "execution_count": 39,
     "metadata": {},
     "output_type": "execute_result"
    }
   ],
   "source": [
    "tar_prediction_res[[8660,650]]\n"
   ]
  },
  {
   "cell_type": "code",
   "execution_count": 40,
   "metadata": {},
   "outputs": [
    {
     "data": {
      "text/plain": [
       "array([5, 5])"
      ]
     },
     "execution_count": 40,
     "metadata": {},
     "output_type": "execute_result"
    }
   ],
   "source": [
    "tar_prediction_res[[18830,40555]]"
   ]
  }
 ],
 "metadata": {
  "kernelspec": {
   "display_name": "deepdebugger",
   "language": "python",
   "name": "deepdebugger"
  },
  "language_info": {
   "codemirror_mode": {
    "name": "ipython",
    "version": 3
   },
   "file_extension": ".py",
   "mimetype": "text/x-python",
   "name": "python",
   "nbconvert_exporter": "python",
   "pygments_lexer": "ipython3",
   "version": "3.7.15"
  },
  "orig_nbformat": 4
 },
 "nbformat": 4,
 "nbformat_minor": 2
}
