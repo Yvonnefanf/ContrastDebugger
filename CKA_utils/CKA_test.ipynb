{
 "cells": [
  {
   "cell_type": "code",
   "execution_count": 1,
   "metadata": {},
   "outputs": [
    {
     "name": "stderr",
     "output_type": "stream",
     "text": [
      "/home/yifan/miniconda3/envs/deepdebugger/lib/python3.7/site-packages/tqdm/auto.py:22: TqdmWarning: IProgress not found. Please update jupyter and ipywidgets. See https://ipywidgets.readthedocs.io/en/stable/user_install.html\n",
      "  from .autonotebook import tqdm as notebook_tqdm\n"
     ]
    }
   ],
   "source": [
    "import torch\n",
    "import numpy as np\n",
    "from CKA import CKA, CudaCKA"
   ]
  },
  {
   "cell_type": "code",
   "execution_count": null,
   "metadata": {},
   "outputs": [],
   "source": [
    "%%time\n",
    "\n",
    "np_cka = CKA()\n",
    "\n",
    "X = np.random.randn(10000, 100)\n",
    "Y = np.random.randn(10000, 100)\n",
    "\n",
    "print('Linear CKA, between X and Y: {}'.format(np_cka.linear_CKA(X, Y)))\n",
    "print('Linear CKA, between X and X: {}'.format(np_cka.linear_CKA(X, X)))\n",
    "\n",
    "print('RBF Kernel CKA, between X and Y: {}'.format(np_cka.kernel_CKA(X, Y)))\n",
    "print('RBF Kernel CKA, between X and X: {}'.format(np_cka.kernel_CKA(X, X)))"
   ]
  },
  {
   "cell_type": "code",
   "execution_count": 2,
   "metadata": {},
   "outputs": [
    {
     "name": "stdout",
     "output_type": "stream",
     "text": [
      "Linear CKA, between X and Y: 0.009933189488947392\n",
      "Linear CKA, between X and X: 1.0000001192092896\n",
      "RBF Kernel CKA, between X and Y: 0.016692789271473885\n",
      "RBF Kernel CKA, between X and X: 1.0000001192092896\n",
      "CPU times: user 11.4 s, sys: 380 ms, total: 11.7 s\n",
      "Wall time: 11.8 s\n"
     ]
    }
   ],
   "source": [
    "%%time\n",
    "\n",
    "device = torch.device('cuda:0')\n",
    "cuda_cka = CudaCKA(device)\n",
    "\n",
    "X = torch.randn(10000, 100, device=device)\n",
    "Y = torch.randn(10000, 100, device=device)\n",
    "\n",
    "print('Linear CKA, between X and Y: {}'.format(cuda_cka.linear_CKA(X, Y)))\n",
    "print('Linear CKA, between X and X: {}'.format(cuda_cka.linear_CKA(X, X)))\n",
    "\n",
    "print('RBF Kernel CKA, between X and Y: {}'.format(cuda_cka.kernel_CKA(X, Y)))\n",
    "print('RBF Kernel CKA, between X and X: {}'.format(cuda_cka.kernel_CKA(X, X)))"
   ]
  }
 ],
 "metadata": {
  "kernelspec": {
   "display_name": "deepdebugger",
   "language": "python",
   "name": "deepdebugger"
  },
  "orig_nbformat": 4
 },
 "nbformat": 4,
 "nbformat_minor": 2
}
