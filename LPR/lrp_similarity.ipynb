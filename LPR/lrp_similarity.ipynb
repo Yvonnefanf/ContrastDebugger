{
 "cells": [
  {
   "cell_type": "code",
   "execution_count": 118,
   "metadata": {},
   "outputs": [
    {
     "data": {
      "text/plain": [
       "<All keys matched successfully>"
      ]
     },
     "execution_count": 118,
     "metadata": {},
     "output_type": "execute_result"
    }
   ],
   "source": [
    "import sys\n",
    "import torch\n",
    "sys.path.append(\"..\")\n",
    "REF_PATH = \"/home/yifan/dataset/noisy/pairflip/cifar10/noisy0.001\"\n",
    "CLEAN_PATH = \"/home/yifan/dataset/confusion/pairflip/cifar10/0\"\n",
    "\n",
    "\n",
    "\n",
    "sys.path.append(REF_PATH)\n",
    "sys.path.append(CLEAN_PATH)\n",
    "\n",
    "from config import config\n",
    "CLASSES = config[\"CLASSES\"]\n",
    "GPU_ID = config[\"GPU\"]\n",
    "TRAINING_PARAMETER = config[\"TRAINING\"]\n",
    "\n",
    "\n",
    "NET = TRAINING_PARAMETER[\"NET\"]\n",
    "\n",
    "DEVICE = torch.device(\"cuda:{}\".format(GPU_ID) if torch.cuda.is_available() else \"cpu\")\n",
    "\n",
    "import Model.model as subject_model\n",
    "model = eval(\"subject_model.{}()\".format(NET))\n",
    "clean_model = eval(\"subject_model.{}()\".format(NET))\n",
    "\n",
    "\n",
    "model_location = os.path.join(REF_PATH,'Model', \"Epoch_{:d}\".format(200), \"subject_model.pth\")\n",
    "\n",
    "model.load_state_dict(torch.load(model_location, map_location=torch.device(\"cpu\")))\n",
    "\n",
    "clean_model_location = os.path.join(CLEAN_PATH, 'Model',  \"Epoch_{:d}\".format(200), \"subject_model.pth\")\n",
    "clean_model.load_state_dict(torch.load(clean_model_location, map_location=torch.device(\"cpu\")))\n"
   ]
  },
  {
   "cell_type": "code",
   "execution_count": 119,
   "metadata": {},
   "outputs": [
    {
     "name": "stdout",
     "output_type": "stream",
     "text": [
      "Finish initialization...\n",
      "Finish initialization...\n",
      "ref_provider Sequential(\n",
      "  (0): Linear(in_features=512, out_features=10, bias=True)\n",
      ")\n"
     ]
    }
   ],
   "source": [
    "from singleVis.data import NormalDataProvider\n",
    "EPOCH_START = config[\"EPOCH_START\"]\n",
    "EPOCH_END = config[\"EPOCH_END\"]\n",
    "EPOCH_PERIOD = config[\"EPOCH_PERIOD\"]\n",
    "ref_provider = NormalDataProvider(REF_PATH, model, EPOCH_START, EPOCH_END, EPOCH_PERIOD, split=-1, device=DEVICE, classes=CLASSES,verbose=1)\n",
    "data_provider = NormalDataProvider(CLEAN_PATH, model, EPOCH_START, EPOCH_END, EPOCH_PERIOD, split=-1, device=DEVICE, classes=CLASSES,verbose=1)\n",
    "\n",
    "print(\"ref_provider\",ref_provider.prediction_function(200))\n"
   ]
  },
  {
   "cell_type": "code",
   "execution_count": 165,
   "metadata": {},
   "outputs": [
    {
     "name": "stderr",
     "output_type": "stream",
     "text": [
      "100%|██████████| 250/250 [00:00<00:00, 9105.07it/s]\n",
      "100%|██████████| 250/250 [00:00<00:00, 9199.49it/s]\n",
      "100%|██████████| 250/250 [00:00<00:00, 8277.62it/s]\n",
      "100%|██████████| 250/250 [00:00<00:00, 8762.89it/s]"
     ]
    },
    {
     "name": "stdout",
     "output_type": "stream",
     "text": [
      "tensor(0.4228)\n",
      "tensor(0.2349)\n",
      "tensor(1.5428)\n",
      "tensor(0.3373)\n",
      "loss2 tensor(32.9107)\n"
     ]
    },
    {
     "name": "stderr",
     "output_type": "stream",
     "text": [
      "\n"
     ]
    }
   ],
   "source": [
    "i=0\n",
    "import numpy as np\n",
    "\n",
    "import json\n",
    "with open ('/home/yifan/projects/deepdebugertool/DLVisDebugger/reptransformationHelper/confusion.json', \"r\") as f:\n",
    "\tR = json.load(f)\n",
    "import numpy as np\n",
    "from sklearn.cross_decomposition import CCA\n",
    "import torch.nn.functional as F\n",
    "# for param_q, param_k in zip(model.parameters(), clean_model.parameters()):\n",
    "# \tprint(\"i\")\n",
    "# imgs = null\n",
    "# a = 1\n",
    "# for name, module in model._modules.items():\n",
    "# \timgs = module(a)\n",
    "# \tprint(\"name\",name,imgs)\n",
    "\n",
    "# for name, module in model._modules['body']._modules.items():\n",
    "# \tprint(\"name\",name,imgs)\n",
    "# print(model.fc.out_features)\n",
    "# list(model.parameters()) + list(clean_model.parameters())\n",
    "Xi_pred = ref_provider.get_pred(200, ref_provider.train_representation(200))\n",
    "Xj_pred = data_provider.get_pred(200, data_provider.train_representation(200))\n",
    "\n",
    "xjR__pred = ref_provider.get_pred(200, np.dot(data_provider.train_representation(200),R))\n",
    "\n",
    "xjjR__pred = data_provider.get_pred(200, np.dot(data_provider.train_representation(200),R))\n",
    "\n",
    "def regression_loss(x, y):\n",
    "    x = F.normalize(x, dim=1)\n",
    "    y = F.normalize(y, dim=1)\n",
    "    return 2 - 2 * (x * y).sum(dim=-1)\n",
    "\t\n",
    "print(regression_loss(torch.tensor(Xi_pred),torch.tensor(Xj_pred)).mean())\n",
    "print(regression_loss(torch.tensor(Xi_pred),torch.tensor(xjR__pred)).mean())\n",
    "\n",
    "print(regression_loss(torch.tensor(Xj_pred),torch.tensor(xjjR__pred)).mean())\n",
    "\n",
    "print(regression_loss(torch.tensor(Xj_pred),torch.tensor(xjR__pred)).mean())\n",
    "# print(regression_loss(torch.tensor(ref_pred),torch.tensor(xj_pred)).mean())\n",
    "# print(regression_loss(torch.tensor(con_pred),torch.tensor(xj_pred)).mean())\n",
    "# print(regression_loss(torch.tensor(con_pred),torch.tensor(xj_pred)).mean())\n",
    "loss2 = F.mse_loss(torch.tensor(Xj_pred),torch.tensor(xjR__pred))\n",
    "print(\"loss2\",loss2)\n",
    "# print(\"loss:\" F.mse_loss(torch.tensor(ref_pred),torch.tensor(con_pred)))\n"
   ]
  },
  {
   "cell_type": "code",
   "execution_count": 158,
   "metadata": {},
   "outputs": [
    {
     "name": "stdout",
     "output_type": "stream",
     "text": [
      "Xj vs XjR \n",
      "0.9767734778018012\n"
     ]
    }
   ],
   "source": [
    "import numpy as np\n",
    "from sklearn.cross_decomposition import CCA\n",
    "\n",
    "# 建立模型\n",
    "X = Xj_pred\n",
    "Y = xjR__pred\n",
    "cca = CCA(n_components=1)\n",
    "# 训练数据\n",
    "cca.fit(X, Y)\n",
    "# print(X)\n",
    "X_train_r, Y_train_r = cca.transform(X, Y)\n",
    "# print(X_train_r)\n",
    "print('Xj vs XjR ')\n",
    "print(np.corrcoef(X_train_r[:, 0], Y_train_r[:, 0])[0, 1]) #输出相关系数  "
   ]
  }
 ],
 "metadata": {
  "kernelspec": {
   "display_name": "deepdebugger",
   "language": "python",
   "name": "deepdebugger"
  },
  "language_info": {
   "codemirror_mode": {
    "name": "ipython",
    "version": 3
   },
   "file_extension": ".py",
   "mimetype": "text/x-python",
   "name": "python",
   "nbconvert_exporter": "python",
   "pygments_lexer": "ipython3",
   "version": "3.7.15"
  },
  "orig_nbformat": 4
 },
 "nbformat": 4,
 "nbformat_minor": 2
}
