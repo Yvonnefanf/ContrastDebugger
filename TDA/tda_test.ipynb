{
 "cells": [
  {
   "cell_type": "code",
   "execution_count": 14,
   "metadata": {},
   "outputs": [
    {
     "name": "stdout",
     "output_type": "stream",
     "text": [
      "no display found. Using non-interactive Agg backend\n"
     ]
    }
   ],
   "source": [
    "import kmapper as km\n",
    "from sklearn.datasets import make_circles\n",
    "\n",
    "# Define a function to project the data onto the first two dimensions\n",
    "def projection(X):\n",
    "    return X[:, :2]\n",
    "\n",
    "# Generate some high dimensional data\n",
    "X, y = make_circles(n_samples=500, noise=0.05, factor=0.3)\n",
    "\n",
    "# Define a mapper\n",
    "mapper = km.KeplerMapper(verbose=0)\n",
    "\n",
    "# Fit and transform the data using the mapper\n",
    "X_projected = projection(X)\n",
    "graph = mapper.map(X_projected, X, clusterer=km.cluster.DBSCAN(eps=0.3, min_samples=5))\n",
    "\n",
    "# Import the necessary libraries to display the plot in the notebook\n",
    "%matplotlib inline\n",
    "import matplotlib.pyplot as plt\n",
    "\n",
    "# Visualize the mapper graph using a web-based visualization tool\n",
    "km.draw_matplotlib(graph)\n",
    "plt.show()\n"
   ]
  }
 ],
 "metadata": {
  "kernelspec": {
   "display_name": "deepdebugger",
   "language": "python",
   "name": "python3"
  },
  "language_info": {
   "codemirror_mode": {
    "name": "ipython",
    "version": 3
   },
   "file_extension": ".py",
   "mimetype": "text/x-python",
   "name": "python",
   "nbconvert_exporter": "python",
   "pygments_lexer": "ipython3",
   "version": "3.7.15"
  },
  "orig_nbformat": 4,
  "vscode": {
   "interpreter": {
    "hash": "edebc873ae2d93bf61542579b755774a0fcf6e84a6839a73f5ee99d2371b4768"
   }
  }
 },
 "nbformat": 4,
 "nbformat_minor": 2
}
