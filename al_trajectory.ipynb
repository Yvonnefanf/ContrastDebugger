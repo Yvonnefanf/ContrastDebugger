{
 "cells": [
  {
   "cell_type": "code",
   "execution_count": 1,
   "metadata": {},
   "outputs": [
    {
     "name": "stderr",
     "output_type": "stream",
     "text": [
      "/home/xianglin/miniconda3/envs/timevis/lib/python3.7/site-packages/tqdm/auto.py:22: TqdmWarning: IProgress not found. Please update jupyter and ipywidgets. See https://ipywidgets.readthedocs.io/en/stable/user_install.html\n",
      "  from .autonotebook import tqdm as notebook_tqdm\n"
     ]
    }
   ],
   "source": [
    "import os, sys\n",
    "import numpy as np\n",
    "import torch\n",
    "import json\n",
    "\n",
    "sys.path.append(\"..\")\n",
    "from singleVis.SingleVisualizationModel import SingleVisualizationModel\n",
    "from singleVis.data import DenseActiveLearningDataProvider\n",
    "from singleVis.projector import DenseALProjector"
   ]
  },
  {
   "cell_type": "code",
   "execution_count": 2,
   "metadata": {},
   "outputs": [],
   "source": [
    "CONTENT_PATH = \"/home/xianglin/DVI_data/active_learning/random/resnet18/CIFAR10\"\n",
    "GPU_ID = \"1\"\n",
    "epoch_num = 200\n",
    "iteration = 1"
   ]
  },
  {
   "cell_type": "code",
   "execution_count": 3,
   "metadata": {},
   "outputs": [],
   "source": [
    "sys.path.append(CONTENT_PATH)\n",
    "from config import config"
   ]
  },
  {
   "cell_type": "code",
   "execution_count": 4,
   "metadata": {},
   "outputs": [
    {
     "name": "stdout",
     "output_type": "stream",
     "text": [
      "Finish initialization...\n"
     ]
    }
   ],
   "source": [
    "SETTING = config[\"SETTING\"]\n",
    "CLASSES = config[\"CLASSES\"]\n",
    "DATASET = config[\"DATASET\"]\n",
    "\n",
    "# Training parameter (subject model)\n",
    "TRAINING_PARAMETER = config[\"TRAINING\"]\n",
    "NET = TRAINING_PARAMETER[\"NET\"]\n",
    "BASE_ITERATION =config[\"BASE_ITERATION\"]\n",
    "\n",
    "# Training parameter (visualization model)\n",
    "VISUALIZATION_PARAMETER = config[\"VISUALIZATION\"]\n",
    "LAMBDA = VISUALIZATION_PARAMETER[\"LAMBDA\"]\n",
    "S_LAMBDA = VISUALIZATION_PARAMETER[\"S_LAMBDA\"]\n",
    "B_N_EPOCHS = VISUALIZATION_PARAMETER[\"BOUNDARY\"][\"B_N_EPOCHS\"]\n",
    "L_BOUND = VISUALIZATION_PARAMETER[\"BOUNDARY\"][\"L_BOUND\"]\n",
    "INIT_NUM = VISUALIZATION_PARAMETER[\"INIT_NUM\"]\n",
    "ALPHA = VISUALIZATION_PARAMETER[\"ALPHA\"]\n",
    "BETA = VISUALIZATION_PARAMETER[\"BETA\"]\n",
    "MAX_HAUSDORFF = VISUALIZATION_PARAMETER[\"MAX_HAUSDORFF\"]\n",
    "HIDDEN_LAYER = VISUALIZATION_PARAMETER[\"HIDDEN_LAYER\"]\n",
    "S_N_EPOCHS = VISUALIZATION_PARAMETER[\"S_N_EPOCHS\"]\n",
    "T_N_EPOCHS = VISUALIZATION_PARAMETER[\"T_N_EPOCHS\"]\n",
    "N_NEIGHBORS = VISUALIZATION_PARAMETER[\"N_NEIGHBORS\"]\n",
    "PATIENT = VISUALIZATION_PARAMETER[\"PATIENT\"]\n",
    "MAX_EPOCH = VISUALIZATION_PARAMETER[\"MAX_EPOCH\"]\n",
    "\n",
    "# define hyperparameters\n",
    "DEVICE = torch.device(\"cuda:{}\".format(GPU_ID) if torch.cuda.is_available() else \"cpu\")\n",
    "model = SingleVisualizationModel(input_dims=512, output_dims=2, units=256, hidden_layer=HIDDEN_LAYER)\n",
    "\n",
    "import Model.model as subject_model\n",
    "net = eval(\"subject_model.{}()\".format(NET))\n",
    "data_provider = DenseActiveLearningDataProvider(CONTENT_PATH, net, BASE_ITERATION, epoch_num, split=-1, device=DEVICE, classes=CLASSES,verbose=1)\n",
    "projector = DenseALProjector(vis_model=model, content_path=CONTENT_PATH, vis_model_name=\"al_hybrid\", device=DEVICE)\n"
   ]
  },
  {
   "cell_type": "code",
   "execution_count": null,
   "metadata": {},
   "outputs": [],
   "source": [
    "from singleVis.visualizer import DenseALvisualizer\n",
    "vis = DenseALvisualizer(data_provider, projector, 300)"
   ]
  },
  {
   "cell_type": "code",
   "execution_count": null,
   "metadata": {},
   "outputs": [],
   "source": [
    "epoch = 200\n",
    "data = data_provider.train_representation_lb(iteration, epoch)\n",
    "labels = data_provider.train_labels_lb(iteration)\n",
    "pred = data_provider.get_pred(iteration, epoch, data).argmax(1)\n",
    "vis.savefig_cus(iteration, epoch, data, pred, labels)\n",
    "# vis.savefig(1,200)"
   ]
  },
  {
   "cell_type": "code",
   "execution_count": 5,
   "metadata": {},
   "outputs": [],
   "source": [
    "samples = np.zeros((200, 50000, 512))\n",
    "for i in range(1, 201, 1):\n",
    "    samples[i-1] = data_provider.train_representation(iteration, i)"
   ]
  },
  {
   "cell_type": "code",
   "execution_count": 5,
   "metadata": {},
   "outputs": [],
   "source": [
    "samples = data_provider.train_representation(iteration, epoch_num)"
   ]
  },
  {
   "cell_type": "code",
   "execution_count": 6,
   "metadata": {},
   "outputs": [
    {
     "name": "stdout",
     "output_type": "stream",
     "text": [
      "Successfully load the visualization model in iteration 1 for range (1,2]...\n",
      "Same range as current visualization model...\n",
      "Successfully load the visualization model in iteration 1 for range (2,21]...\n",
      "Same range as current visualization model...\n",
      "Same range as current visualization model...\n",
      "Same range as current visualization model...\n",
      "Same range as current visualization model...\n",
      "Same range as current visualization model...\n",
      "Same range as current visualization model...\n",
      "Same range as current visualization model...\n",
      "Same range as current visualization model...\n",
      "Same range as current visualization model...\n",
      "Same range as current visualization model...\n",
      "Same range as current visualization model...\n",
      "Same range as current visualization model...\n",
      "Same range as current visualization model...\n",
      "Same range as current visualization model...\n",
      "Same range as current visualization model...\n",
      "Same range as current visualization model...\n",
      "Same range as current visualization model...\n",
      "Same range as current visualization model...\n",
      "Successfully load the visualization model in iteration 1 for range (21,52]...\n",
      "Same range as current visualization model...\n",
      "Same range as current visualization model...\n",
      "Same range as current visualization model...\n",
      "Same range as current visualization model...\n",
      "Same range as current visualization model...\n",
      "Same range as current visualization model...\n",
      "Same range as current visualization model...\n",
      "Same range as current visualization model...\n",
      "Same range as current visualization model...\n",
      "Same range as current visualization model...\n",
      "Same range as current visualization model...\n",
      "Same range as current visualization model...\n",
      "Same range as current visualization model...\n",
      "Same range as current visualization model...\n",
      "Same range as current visualization model...\n",
      "Same range as current visualization model...\n",
      "Same range as current visualization model...\n",
      "Same range as current visualization model...\n",
      "Same range as current visualization model...\n",
      "Same range as current visualization model...\n",
      "Same range as current visualization model...\n",
      "Same range as current visualization model...\n",
      "Same range as current visualization model...\n",
      "Same range as current visualization model...\n",
      "Same range as current visualization model...\n",
      "Same range as current visualization model...\n",
      "Same range as current visualization model...\n",
      "Same range as current visualization model...\n",
      "Same range as current visualization model...\n",
      "Same range as current visualization model...\n",
      "Successfully load the visualization model in iteration 1 for range (52,74]...\n",
      "Same range as current visualization model...\n",
      "Same range as current visualization model...\n",
      "Same range as current visualization model...\n",
      "Same range as current visualization model...\n",
      "Same range as current visualization model...\n",
      "Same range as current visualization model...\n",
      "Same range as current visualization model...\n",
      "Same range as current visualization model...\n",
      "Same range as current visualization model...\n",
      "Same range as current visualization model...\n",
      "Same range as current visualization model...\n",
      "Same range as current visualization model...\n",
      "Same range as current visualization model...\n",
      "Same range as current visualization model...\n",
      "Same range as current visualization model...\n",
      "Same range as current visualization model...\n",
      "Same range as current visualization model...\n",
      "Same range as current visualization model...\n",
      "Same range as current visualization model...\n",
      "Same range as current visualization model...\n",
      "Same range as current visualization model...\n",
      "Successfully load the visualization model in iteration 1 for range (74,95]...\n",
      "Same range as current visualization model...\n",
      "Same range as current visualization model...\n",
      "Same range as current visualization model...\n",
      "Same range as current visualization model...\n",
      "Same range as current visualization model...\n",
      "Same range as current visualization model...\n",
      "Same range as current visualization model...\n",
      "Same range as current visualization model...\n",
      "Same range as current visualization model...\n",
      "Same range as current visualization model...\n",
      "Same range as current visualization model...\n",
      "Same range as current visualization model...\n",
      "Same range as current visualization model...\n",
      "Same range as current visualization model...\n",
      "Same range as current visualization model...\n",
      "Same range as current visualization model...\n",
      "Same range as current visualization model...\n",
      "Same range as current visualization model...\n",
      "Same range as current visualization model...\n",
      "Same range as current visualization model...\n",
      "Successfully load the visualization model in iteration 1 for range (95,117]...\n",
      "Same range as current visualization model...\n",
      "Same range as current visualization model...\n",
      "Same range as current visualization model...\n",
      "Same range as current visualization model...\n",
      "Same range as current visualization model...\n",
      "Same range as current visualization model...\n",
      "Same range as current visualization model...\n",
      "Same range as current visualization model...\n",
      "Same range as current visualization model...\n",
      "Same range as current visualization model...\n",
      "Same range as current visualization model...\n",
      "Same range as current visualization model...\n",
      "Same range as current visualization model...\n",
      "Same range as current visualization model...\n",
      "Same range as current visualization model...\n",
      "Same range as current visualization model...\n",
      "Same range as current visualization model...\n",
      "Same range as current visualization model...\n",
      "Same range as current visualization model...\n",
      "Same range as current visualization model...\n",
      "Same range as current visualization model...\n",
      "Successfully load the visualization model in iteration 1 for range (117,200]...\n",
      "Same range as current visualization model...\n",
      "Same range as current visualization model...\n",
      "Same range as current visualization model...\n",
      "Same range as current visualization model...\n",
      "Same range as current visualization model...\n",
      "Same range as current visualization model...\n",
      "Same range as current visualization model...\n",
      "Same range as current visualization model...\n",
      "Same range as current visualization model...\n",
      "Same range as current visualization model...\n",
      "Same range as current visualization model...\n",
      "Same range as current visualization model...\n",
      "Same range as current visualization model...\n",
      "Same range as current visualization model...\n",
      "Same range as current visualization model...\n",
      "Same range as current visualization model...\n",
      "Same range as current visualization model...\n",
      "Same range as current visualization model...\n",
      "Same range as current visualization model...\n",
      "Same range as current visualization model...\n",
      "Same range as current visualization model...\n",
      "Same range as current visualization model...\n",
      "Same range as current visualization model...\n",
      "Same range as current visualization model...\n",
      "Same range as current visualization model...\n",
      "Same range as current visualization model...\n",
      "Same range as current visualization model...\n",
      "Same range as current visualization model...\n",
      "Same range as current visualization model...\n",
      "Same range as current visualization model...\n",
      "Same range as current visualization model...\n",
      "Same range as current visualization model...\n",
      "Same range as current visualization model...\n",
      "Same range as current visualization model...\n",
      "Same range as current visualization model...\n",
      "Same range as current visualization model...\n",
      "Same range as current visualization model...\n",
      "Same range as current visualization model...\n",
      "Same range as current visualization model...\n",
      "Same range as current visualization model...\n",
      "Same range as current visualization model...\n",
      "Same range as current visualization model...\n",
      "Same range as current visualization model...\n",
      "Same range as current visualization model...\n",
      "Same range as current visualization model...\n",
      "Same range as current visualization model...\n",
      "Same range as current visualization model...\n",
      "Same range as current visualization model...\n",
      "Same range as current visualization model...\n",
      "Same range as current visualization model...\n",
      "Same range as current visualization model...\n",
      "Same range as current visualization model...\n",
      "Same range as current visualization model...\n",
      "Same range as current visualization model...\n",
      "Same range as current visualization model...\n",
      "Same range as current visualization model...\n",
      "Same range as current visualization model...\n",
      "Same range as current visualization model...\n",
      "Same range as current visualization model...\n",
      "Same range as current visualization model...\n",
      "Same range as current visualization model...\n",
      "Same range as current visualization model...\n",
      "Same range as current visualization model...\n",
      "Same range as current visualization model...\n",
      "Same range as current visualization model...\n",
      "Same range as current visualization model...\n",
      "Same range as current visualization model...\n",
      "Same range as current visualization model...\n",
      "Same range as current visualization model...\n",
      "Same range as current visualization model...\n",
      "Same range as current visualization model...\n",
      "Same range as current visualization model...\n",
      "Same range as current visualization model...\n",
      "Same range as current visualization model...\n",
      "Same range as current visualization model...\n",
      "Same range as current visualization model...\n",
      "Same range as current visualization model...\n",
      "Same range as current visualization model...\n",
      "Same range as current visualization model...\n",
      "Same range as current visualization model...\n",
      "Same range as current visualization model...\n",
      "Same range as current visualization model...\n"
     ]
    }
   ],
   "source": [
    "embeddings_2d = np.zeros((200, 50000, 2))\n",
    "for e in range(1, 201, 1):\n",
    "    embeddings_2d[e-1] = projector.batch_project(iteration, e, samples[e-1])\n",
    "# embeddings_2d = np.transpose(embeddings_2d, [1,0,2])\n",
    "labels = data_provider.train_labels(iteration)"
   ]
  },
  {
   "cell_type": "code",
   "execution_count": 6,
   "metadata": {},
   "outputs": [],
   "source": [
    "path = os.path.join(CONTENT_PATH, \"Model\", \"Iteration_{}\".format(iteration),\"embeddings.npy\")\n",
    "embeddings_2d = np.load(path)"
   ]
  },
  {
   "cell_type": "code",
   "execution_count": 7,
   "metadata": {},
   "outputs": [],
   "source": [
    "embeddings_2d = np.transpose(embeddings_2d,[1,0,2])"
   ]
  },
  {
   "cell_type": "code",
   "execution_count": 8,
   "metadata": {},
   "outputs": [
    {
     "data": {
      "text/plain": [
       "((50000, 512), (50000, 200, 2))"
      ]
     },
     "execution_count": 8,
     "metadata": {},
     "output_type": "execute_result"
    }
   ],
   "source": [
    "samples.shape,embeddings_2d.shape"
   ]
  },
  {
   "cell_type": "code",
   "execution_count": null,
   "metadata": {},
   "outputs": [],
   "source": [
    "path = os.path.join(CONTENT_PATH, \"Model\", \"Iteration_{}\".format(iteration),\"embeddings.npy\")\n",
    "np.save(path,embeddings_2d)"
   ]
  },
  {
   "cell_type": "code",
   "execution_count": 9,
   "metadata": {},
   "outputs": [],
   "source": [
    "from trajectory_manager import TrajectoryManager, FeedbackTrajectoryManager\n",
    "tm = FeedbackTrajectoryManager(samples, embeddings_2d,30, period=100,metric=\"v\")"
   ]
  },
  {
   "cell_type": "code",
   "execution_count": 19,
   "metadata": {},
   "outputs": [],
   "source": [
    "tm.clustered()"
   ]
  },
  {
   "cell_type": "code",
   "execution_count": 15,
   "metadata": {},
   "outputs": [
    {
     "name": "stderr",
     "output_type": "stream",
     "text": [
      "100%|██████████| 250/250 [00:00<00:00, 9119.88it/s]\n"
     ]
    },
    {
     "data": {
      "text/plain": [
       "(18975,)"
      ]
     },
     "execution_count": 15,
     "metadata": {},
     "output_type": "execute_result"
    }
   ],
   "source": [
    "data = data_provider.train_representation(iteration, epoch_num)\n",
    "labels = data_provider.train_labels(iteration)\n",
    "pred = data_provider.get_pred(iteration, epoch_num, data).argmax(1)\n",
    "wrong_pred_idx = np.argwhere(pred!=labels).squeeze()\n",
    "wrong_pred_idx.shape"
   ]
  },
  {
   "cell_type": "code",
   "execution_count": 16,
   "metadata": {},
   "outputs": [],
   "source": [
    "lb_idx = data_provider.get_labeled_idx(iteration)\n",
    "ulb_idxs = data_provider.get_unlabeled_idx(50000,lb_idx)"
   ]
  },
  {
   "cell_type": "code",
   "execution_count": 20,
   "metadata": {},
   "outputs": [
    {
     "name": "stdout",
     "output_type": "stream",
     "text": [
      "52 100\n"
     ]
    }
   ],
   "source": [
    "selected = tm.sample_batch(100)\n",
    "print(len(np.intersect1d(np.intersect1d(selected, ulb_idxs), wrong_pred_idx)), len(np.intersect1d(selected, ulb_idxs)))\n",
    "correct = np.intersect1d(np.intersect1d(selected, ulb_idxs), wrong_pred_idx)"
   ]
  },
  {
   "cell_type": "code",
   "execution_count": 21,
   "metadata": {},
   "outputs": [
    {
     "name": "stdout",
     "output_type": "stream",
     "text": [
      "46 98\n",
      "52 99\n",
      "53 100\n",
      "51 99\n",
      "51 99\n",
      "52 100\n",
      "54 100\n",
      "59 100\n",
      "53 99\n",
      "50 99\n"
     ]
    }
   ],
   "source": [
    "# just sampling\n",
    "for _ in range(10):\n",
    "    selected = tm.sample_batch(100, correct)\n",
    "    print(len(np.intersect1d(np.intersect1d(selected, ulb_idxs), wrong_pred_idx)), len(np.intersect1d(selected, ulb_idxs)))\n",
    "    correct = np.intersect1d(np.intersect1d(selected, ulb_idxs), wrong_pred_idx)"
   ]
  },
  {
   "cell_type": "code",
   "execution_count": 16,
   "metadata": {},
   "outputs": [
    {
     "name": "stderr",
     "output_type": "stream",
     "text": [
      "OMP: Info #276: omp_set_nested routine deprecated, please use omp_set_max_active_levels instead.\n"
     ]
    },
    {
     "name": "stdout",
     "output_type": "stream",
     "text": [
      "42 97\n",
      "35 94\n",
      "36 97\n",
      "38 94\n",
      "42 96\n",
      "29 95\n",
      "42 99\n",
      "33 95\n",
      "38 98\n",
      "36 96\n"
     ]
    }
   ],
   "source": [
    "# sim score\n",
    "for _ in range(10):\n",
    "    tm.update_belief(correct)\n",
    "    selected = tm.sample_batch(100, correct)\n",
    "    print(len(np.intersect1d(np.intersect1d(selected, ulb_idxs), wrong_pred_idx)), len(np.intersect1d(selected, ulb_idxs)))\n",
    "    correct = np.intersect1d(np.intersect1d(selected, ulb_idxs), wrong_pred_idx)"
   ]
  },
  {
   "cell_type": "code",
   "execution_count": 15,
   "metadata": {},
   "outputs": [
    {
     "name": "stderr",
     "output_type": "stream",
     "text": [
      "OMP: Info #276: omp_set_nested routine deprecated, please use omp_set_max_active_levels instead.\n"
     ]
    },
    {
     "name": "stdout",
     "output_type": "stream",
     "text": [
      "53 99\n",
      "52 99\n",
      "56 100\n",
      "56 99\n",
      "56 100\n",
      "45 99\n",
      "51 100\n",
      "50 100\n",
      "55 100\n",
      "58 99\n"
     ]
    }
   ],
   "source": [
    "# success rate\n",
    "for _ in range(10):\n",
    "    tm.update_belief(correct)\n",
    "    selected = tm.sample_batch(100, correct)\n",
    "    print(len(np.intersect1d(np.intersect1d(selected, ulb_idxs), wrong_pred_idx)), len(np.intersect1d(selected, ulb_idxs)))\n",
    "    correct = np.intersect1d(np.intersect1d(selected, ulb_idxs), wrong_pred_idx)"
   ]
  },
  {
   "cell_type": "code",
   "execution_count": 18,
   "metadata": {},
   "outputs": [
    {
     "name": "stdout",
     "output_type": "stream",
     "text": [
      "59 99\n",
      "60 99\n",
      "46 99\n",
      "49 98\n",
      "54 99\n",
      "52 99\n",
      "54 99\n",
      "51 99\n",
      "52 100\n",
      "59 98\n"
     ]
    }
   ],
   "source": [
    "# hybrid\n",
    "for _ in range(10):\n",
    "    tm.update_belief(correct)\n",
    "    selected = tm.sample_batch(100, correct)\n",
    "    print(len(np.intersect1d(np.intersect1d(selected, ulb_idxs), wrong_pred_idx)), len(np.intersect1d(selected, ulb_idxs)))\n",
    "    correct = np.intersect1d(np.intersect1d(selected, ulb_idxs), wrong_pred_idx)"
   ]
  },
  {
   "cell_type": "code",
   "execution_count": 40,
   "metadata": {},
   "outputs": [],
   "source": [
    "s = np.random.choice(ulb_idxs,size=200,replace=False)"
   ]
  },
  {
   "cell_type": "code",
   "execution_count": 41,
   "metadata": {},
   "outputs": [
    {
     "data": {
      "text/plain": [
       "(79, 200)"
      ]
     },
     "execution_count": 41,
     "metadata": {},
     "output_type": "execute_result"
    }
   ],
   "source": [
    "# random\n",
    "s = np.random.choice(ulb_idxs,size=200,replace=False)\n",
    "len(np.intersect1d(s, wrong_pred_idx)), len(s)"
   ]
  }
 ],
 "metadata": {
  "kernelspec": {
   "display_name": "Python 3.7.13 ('timevis': conda)",
   "language": "python",
   "name": "python3"
  },
  "language_info": {
   "codemirror_mode": {
    "name": "ipython",
    "version": 3
   },
   "file_extension": ".py",
   "mimetype": "text/x-python",
   "name": "python",
   "nbconvert_exporter": "python",
   "pygments_lexer": "ipython3",
   "version": "3.7.13"
  },
  "orig_nbformat": 4,
  "vscode": {
   "interpreter": {
    "hash": "ee9d2b45af2f0386ad86dea8873e1fdf9843516f676ff1d447c55abb6a82f45d"
   }
  }
 },
 "nbformat": 4,
 "nbformat_minor": 2
}
