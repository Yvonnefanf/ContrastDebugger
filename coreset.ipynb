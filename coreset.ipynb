{
 "cells": [
  {
   "cell_type": "code",
   "execution_count": 1,
   "metadata": {},
   "outputs": [],
   "source": [
    "import numpy as np\n",
    "import scipy\n",
    "from sklearn.linear_model import LinearRegression\n",
    "import matplotlib.pyplot as plt\n",
    "from pynndescent import NNDescent\n",
    "\n",
    "import time\n",
    "import math\n",
    "from sklearn.metrics.pairwise import KERNEL_PARAMS\n",
    "import torch\n",
    "import sys\n",
    "import argparse\n",
    "from tqdm import tqdm\n",
    "\n",
    "from sklearn.metrics import pairwise_distances\n",
    "from singleVis.data import DataProvider\n",
    "from singleVis.backend import construct_spatial_temporal_complex, select_points_step\n",
    "import singleVis.config as config\n",
    "from singleVis.utils import hausdorff_dist_cus"
   ]
  },
  {
   "cell_type": "code",
   "execution_count": 2,
   "metadata": {},
   "outputs": [],
   "source": [
    "DATASET = \"cifar10\"\n",
    "CONTENT_PATH = \"/home/xianglin/projects/DVI_data/TemporalExp/resnet18_{}\".format(DATASET)"
   ]
  },
  {
   "cell_type": "code",
   "execution_count": 3,
   "metadata": {},
   "outputs": [
    {
     "name": "stdout",
     "output_type": "stream",
     "text": [
      "Finish initialization...\n"
     ]
    }
   ],
   "source": [
    "LEN = config.dataset_config[DATASET][\"TRAINING_LEN\"]\n",
    "LAMBDA = config.dataset_config[DATASET][\"LAMBDA\"]\n",
    "DOWNSAMPLING_RATE = config.dataset_config[DATASET][\"DOWNSAMPLING_RATE\"]\n",
    "L_BOUND = config.dataset_config[DATASET][\"L_BOUND\"]\n",
    "\n",
    "# define hyperparameters\n",
    "\n",
    "DEVICE = torch.device(\"cuda:2\")\n",
    "EPOCH_NUMS = config.dataset_config[DATASET][\"training_config\"][\"EPOCH_NUM\"]\n",
    "TIME_STEPS = config.dataset_config[DATASET][\"training_config\"][\"TIME_STEPS\"]\n",
    "TEMPORAL_PERSISTENT = config.dataset_config[DATASET][\"training_config\"][\"TEMPORAL_PERSISTENT\"]\n",
    "NUMS = config.dataset_config[DATASET][\"training_config\"][\"NUMS\"]    # how many epoch should we go through for one pass\n",
    "PATIENT = config.dataset_config[DATASET][\"training_config\"][\"PATIENT\"]\n",
    "TEMPORAL_EDGE_WEIGHT = config.dataset_config[DATASET][\"training_config\"][\"TEMPORAL_EDGE_WEIGHT\"]\n",
    "\n",
    "content_path = CONTENT_PATH\n",
    "sys.path.append(content_path)\n",
    "\n",
    "from Model.model import *\n",
    "net = resnet18()\n",
    "classes = (\"airplane\", \"car\", \"bird\", \"cat\", \"deer\", \"dog\", \"frog\", \"horse\", \"ship\", \"truck\")\n",
    "data_provider = DataProvider(content_path, net, 1, TIME_STEPS, 1, split=-1, device=DEVICE, verbose=1)"
   ]
  },
  {
   "cell_type": "code",
   "execution_count": 4,
   "metadata": {},
   "outputs": [],
   "source": [
    "data = data_provider.train_representation(2)"
   ]
  },
  {
   "cell_type": "code",
   "execution_count": 5,
   "metadata": {},
   "outputs": [
    {
     "name": "stdout",
     "output_type": "stream",
     "text": [
      "Calculating distances...\n",
      "calculating distances for 50 points within 0.10 seconds...\n",
      "Hausdorff distance is 1.56 with 1000 points\n"
     ]
    }
   ],
   "source": [
    "from singleVis.kcenter_greedy import kCenterGreedy\n",
    "from sklearn.metrics import pairwise_distances\n",
    "\n",
    "# pairwise_distances(data, data)\n",
    "\n",
    "idx = np.random.choice(np.arange(50000), 50, replace=False)\n",
    "kc = kCenterGreedy(data[:50000])\n",
    "_ = kc.select_batch_with_budgets(idx, 950)\n",
    "idx = kc.already_selected"
   ]
  },
  {
   "cell_type": "code",
   "execution_count": 5,
   "metadata": {},
   "outputs": [
    {
     "name": "stdout",
     "output_type": "stream",
     "text": [
      "Calculating distances...\n",
      "calculating distances for 50 points within 0.10 seconds...\n",
      "Hausdorff distance is 2.02 with 1000 points\n"
     ]
    }
   ],
   "source": [
    "from singleVis.kcenter_greedy import kCenterGreedy\n",
    "idx = np.random.choice(np.arange(50000), 50, replace=False)\n",
    "kc = kCenterGreedy(data[:50000])\n",
    "_ = kc.select_batch_with_budgets_s(idx, 950)\n",
    "idx = kc.already_selected"
   ]
  },
  {
   "cell_type": "code",
   "execution_count": 9,
   "metadata": {},
   "outputs": [],
   "source": [
    "from singleVis.apricot import FacilityLocationSelection\n",
    "# X_pairwise = pairwise_distances(data, metric=\"euclidean\", squared=True)\n",
    "model = FacilityLocationSelection(1000, verbose=True, optimizer=\"lazy\").fit(X_pairwise)"
   ]
  },
  {
   "cell_type": "code",
   "execution_count": 8,
   "metadata": {},
   "outputs": [
    {
     "name": "stdout",
     "output_type": "stream",
     "text": [
      "Hausdorff distance 2.42 for 1000/50000 in 0.666 seconds...\n"
     ]
    },
    {
     "data": {
      "text/plain": [
       "(2.4152624139439607, 0.666)"
      ]
     },
     "execution_count": 8,
     "metadata": {},
     "output_type": "execute_result"
    }
   ],
   "source": [
    "hausdorff_dist_cus(data, model.ranking)"
   ]
  },
  {
   "cell_type": "code",
   "execution_count": 5,
   "metadata": {},
   "outputs": [],
   "source": [
    "\n",
    "import matplotlib\n",
    "#matplotlib.use('TkAgg')\n",
    "\n",
    "import heapq\n",
    "import numpy as np\n",
    "import pandas as pd\n",
    "import scipy as sp\n",
    "import math\n",
    "from scipy import spatial\n",
    "import matplotlib.pyplot as plt\n",
    "\n",
    "\n",
    "class FacilityLocation:\n",
    "\n",
    "    def __init__(self, D, V, alpha=1.):\n",
    "        '''\n",
    "        Args\n",
    "        - D: np.array, shape [N, N], similarity matrix\n",
    "        - V: list of int, indices of columns of D\n",
    "        - alpha: float\n",
    "        '''\n",
    "        self.D = D\n",
    "        self.curVal = 0\n",
    "        self.curMax = np.zeros(len(D))\n",
    "        self.gains = []\n",
    "        self.alpha = alpha\n",
    "        self.f_norm = self.alpha / self.f_norm(V)\n",
    "        self.norm = 1. / self.inc(V, [])\n",
    "\n",
    "    def f_norm(self, sset):\n",
    "        return self.D[:, sset].max(axis=1).sum()\n",
    "\n",
    "    def inc(self, sset, ndx):\n",
    "        if len(sset + [ndx]) > 1:\n",
    "            if not ndx:  # normalization\n",
    "                return math.log(1 + self.alpha * 1)\n",
    "            return self.norm * math.log(1 + self.f_norm * np.maximum(self.curMax, self.D[:, ndx]).sum()) - self.curVal\n",
    "        else:\n",
    "            return self.norm * math.log(1 + self.f_norm * self.D[:, ndx].sum()) - self.curVal\n",
    "\n",
    "    def add(self, sset, ndx):\n",
    "        cur_old = self.curVal\n",
    "        if len(sset + [ndx]) > 1:\n",
    "            self.curMax = np.maximum(self.curMax, self.D[:, ndx])\n",
    "        else:\n",
    "            self.curMax = self.D[:, ndx]\n",
    "        self.curVal = self.norm * math.log(1 + self.f_norm * self.curMax.sum())\n",
    "        self.gains.extend([self.curVal - cur_old])\n",
    "        return self.curVal\n",
    "\n",
    "\n",
    "def _heappush_max(heap, item):\n",
    "    heap.append(item)\n",
    "    heapq._siftdown_max(heap, 0, len(heap)-1)\n",
    "\n",
    "\n",
    "def _heappop_max(heap):\n",
    "    \"\"\"Maxheap version of a heappop.\"\"\"\n",
    "    lastelt = heap.pop()  # raises appropriate IndexError if heap is empty\n",
    "    if heap:\n",
    "        returnitem = heap[0]\n",
    "        heap[0] = lastelt\n",
    "        heapq._siftup_max(heap, 0)\n",
    "        return returnitem\n",
    "    return lastelt\n",
    "\n",
    "\n",
    "def lazy_greedy_heap(F, V, B):\n",
    "    curVal = 0\n",
    "    sset = []\n",
    "    vals = []\n",
    "\n",
    "    order = []\n",
    "    heapq._heapify_max(order)\n",
    "    [_heappush_max(order, (F.inc(sset, index), index)) for index in V]\n",
    "\n",
    "    while order and len(sset) < B:\n",
    "        el = _heappop_max(order)\n",
    "        improv = F.inc(sset, el[1])\n",
    "\n",
    "        # check for uniques elements\n",
    "        if improv >= 0:\n",
    "            if not order:\n",
    "                curVal = F.add(sset, el[1])\n",
    "                sset.append(el[1])\n",
    "                vals.append(curVal)\n",
    "            else:\n",
    "                top = _heappop_max(order)\n",
    "                if improv >= top[0]:\n",
    "                    curVal = F.add(sset, el[1])\n",
    "                    sset.append(el[1])\n",
    "                    vals.append(curVal)\n",
    "                else:\n",
    "                    _heappush_max(order, (improv, el[1]))\n",
    "                _heappush_max(order, top)\n",
    "\n",
    "    return sset, vals\n",
    "\n",
    "\n",
    "def test():\n",
    "    n = 10\n",
    "    X = np.random.rand(n, n)\n",
    "    D = X * np.transpose(X)\n",
    "    F = FacilityLocation(D, range(0, n))\n",
    "    sset = lazy_greedy_heap(F, range(0, n), 15)\n",
    "    print(sset)\n"
   ]
  },
  {
   "cell_type": "code",
   "execution_count": 6,
   "metadata": {},
   "outputs": [],
   "source": [
    "X = pairwise_distances(data,data)"
   ]
  },
  {
   "cell_type": "code",
   "execution_count": 8,
   "metadata": {},
   "outputs": [
    {
     "name": "stdout",
     "output_type": "stream",
     "text": [
      "2000\n"
     ]
    }
   ],
   "source": [
    "V = [i for i in range(50000)]\n",
    "F = FacilityLocation(X, V)\n",
    "B = 2000\n",
    "sset, vals = lazy_greedy_heap(F, V, B)\n",
    "print(len(sset))"
   ]
  },
  {
   "cell_type": "code",
   "execution_count": 9,
   "metadata": {},
   "outputs": [
    {
     "name": "stdout",
     "output_type": "stream",
     "text": [
      "Hausdorff distance 2.79 for 2000/50000 in 1.127 seconds...\n"
     ]
    },
    {
     "data": {
      "text/plain": [
       "(2.7851256643713573, 1.127)"
      ]
     },
     "execution_count": 9,
     "metadata": {},
     "output_type": "execute_result"
    }
   ],
   "source": [
    "hausdorff_dist_cus(data, sset)"
   ]
  },
  {
   "cell_type": "code",
   "execution_count": 14,
   "metadata": {},
   "outputs": [
    {
     "data": {
      "text/plain": [
       "1000"
      ]
     },
     "execution_count": 14,
     "metadata": {},
     "output_type": "execute_result"
    }
   ],
   "source": [
    "len(sset)"
   ]
  }
 ],
 "metadata": {
  "interpreter": {
   "hash": "aa7a9f36e1a1e240450dbe9cc8f6d8df1d5301f36681fb271c44fdd883236b60"
  },
  "kernelspec": {
   "display_name": "Python 3.7.11 64-bit ('SV': conda)",
   "language": "python",
   "name": "python3"
  },
  "language_info": {
   "codemirror_mode": {
    "name": "ipython",
    "version": 3
   },
   "file_extension": ".py",
   "mimetype": "text/x-python",
   "name": "python",
   "nbconvert_exporter": "python",
   "pygments_lexer": "ipython3",
   "version": "3.7.11"
  },
  "orig_nbformat": 4
 },
 "nbformat": 4,
 "nbformat_minor": 2
}
