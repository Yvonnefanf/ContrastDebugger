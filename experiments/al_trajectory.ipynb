{
 "cells": [
  {
   "cell_type": "code",
   "execution_count": null,
   "metadata": {},
   "outputs": [],
   "source": [
    "import os, sys\n",
    "import numpy as np\n",
    "import torch\n",
    "import json\n",
    "from scipy.special import softmax\n",
    "\n",
    "sys.path.append(\"..\")\n",
    "from singleVis.SingleVisualizationModel import SingleVisualizationModel\n",
    "from singleVis.data import DenseActiveLearningDataProvider\n",
    "from singleVis.projector import DenseALProjector"
   ]
  },
  {
   "cell_type": "code",
   "execution_count": null,
   "metadata": {},
   "outputs": [],
   "source": [
    "CONTENT_PATH = \"/home/xianglin/DVI_data/active_learning/random/resnet18/CIFAR10\"\n",
    "GPU_ID = \"1\"\n",
    "epoch_num = 200\n",
    "iteration = 1"
   ]
  },
  {
   "cell_type": "code",
   "execution_count": null,
   "metadata": {},
   "outputs": [],
   "source": [
    "sys.path.append(CONTENT_PATH)\n",
    "from config import config"
   ]
  },
  {
   "cell_type": "code",
   "execution_count": null,
   "metadata": {},
   "outputs": [],
   "source": [
    "SETTING = config[\"SETTING\"]\n",
    "CLASSES = config[\"CLASSES\"]\n",
    "DATASET = config[\"DATASET\"]\n",
    "\n",
    "# Training parameter (subject model)\n",
    "TRAINING_PARAMETER = config[\"TRAINING\"]\n",
    "NET = TRAINING_PARAMETER[\"NET\"]\n",
    "BASE_ITERATION =config[\"BASE_ITERATION\"]\n",
    "\n",
    "# Training parameter (visualization model)\n",
    "VISUALIZATION_PARAMETER = config[\"VISUALIZATION\"]\n",
    "LAMBDA = VISUALIZATION_PARAMETER[\"LAMBDA\"]\n",
    "S_LAMBDA = VISUALIZATION_PARAMETER[\"S_LAMBDA\"]\n",
    "B_N_EPOCHS = VISUALIZATION_PARAMETER[\"BOUNDARY\"][\"B_N_EPOCHS\"]\n",
    "L_BOUND = VISUALIZATION_PARAMETER[\"BOUNDARY\"][\"L_BOUND\"]\n",
    "INIT_NUM = VISUALIZATION_PARAMETER[\"INIT_NUM\"]\n",
    "ALPHA = VISUALIZATION_PARAMETER[\"ALPHA\"]\n",
    "BETA = VISUALIZATION_PARAMETER[\"BETA\"]\n",
    "MAX_HAUSDORFF = VISUALIZATION_PARAMETER[\"MAX_HAUSDORFF\"]\n",
    "HIDDEN_LAYER = VISUALIZATION_PARAMETER[\"HIDDEN_LAYER\"]\n",
    "S_N_EPOCHS = VISUALIZATION_PARAMETER[\"S_N_EPOCHS\"]\n",
    "T_N_EPOCHS = VISUALIZATION_PARAMETER[\"T_N_EPOCHS\"]\n",
    "N_NEIGHBORS = VISUALIZATION_PARAMETER[\"N_NEIGHBORS\"]\n",
    "PATIENT = VISUALIZATION_PARAMETER[\"PATIENT\"]\n",
    "MAX_EPOCH = VISUALIZATION_PARAMETER[\"MAX_EPOCH\"]\n",
    "\n",
    "# define hyperparameters\n",
    "DEVICE = torch.device(\"cuda:{}\".format(GPU_ID) if torch.cuda.is_available() else \"cpu\")\n",
    "model = SingleVisualizationModel(input_dims=512, output_dims=2, units=256, hidden_layer=HIDDEN_LAYER)\n",
    "\n",
    "import Model.model as subject_model\n",
    "net = eval(\"subject_model.{}()\".format(NET))\n",
    "data_provider = DenseActiveLearningDataProvider(CONTENT_PATH, net, BASE_ITERATION, epoch_num, split=-1, device=DEVICE, classes=CLASSES,verbose=1)\n",
    "projector = DenseALProjector(vis_model=model, content_path=CONTENT_PATH, vis_model_name=\"al_hybrid\", device=DEVICE)\n"
   ]
  },
  {
   "cell_type": "code",
   "execution_count": null,
   "metadata": {},
   "outputs": [],
   "source": [
    "from singleVis.visualizer import DenseALvisualizer\n",
    "vis = DenseALvisualizer(data_provider, projector, 300)"
   ]
  },
  {
   "cell_type": "code",
   "execution_count": null,
   "metadata": {},
   "outputs": [],
   "source": [
    "epoch = 200\n",
    "data = data_provider.train_representation_lb(iteration, epoch)\n",
    "labels = data_provider.train_labels_lb(iteration)\n",
    "pred = data_provider.get_pred(iteration, epoch, data).argmax(1)\n",
    "vis.savefig_cus(iteration, epoch, data, pred, labels)\n",
    "# vis.savefig(1,200)"
   ]
  },
  {
   "cell_type": "code",
   "execution_count": null,
   "metadata": {},
   "outputs": [],
   "source": [
    "samples = data_provider.train_representation(iteration, epoch_num)\n",
    "pred = data_provider.get_pred(iteration, epoch_num, samples)\n",
    "confidence = np.amax(softmax(pred, axis=1), axis=1)\n",
    "uncertainty = 1-confidence"
   ]
  },
  {
   "cell_type": "code",
   "execution_count": null,
   "metadata": {},
   "outputs": [],
   "source": [
    "samples = np.zeros((200, 50000, 512))\n",
    "for i in range(1, 201, 1):\n",
    "    samples[i-1] = data_provider.train_representation(iteration, i)"
   ]
  },
  {
   "cell_type": "code",
   "execution_count": null,
   "metadata": {},
   "outputs": [],
   "source": [
    "embeddings_2d = np.zeros((200, 50000, 2))\n",
    "for e in range(1, 201, 1):\n",
    "    embeddings_2d[e-1] = projector.batch_project(iteration, e, samples[e-1])\n",
    "embeddings_2d = np.transpose(embeddings_2d, [1,0,2])\n",
    "labels = data_provider.train_labels(iteration)"
   ]
  },
  {
   "cell_type": "code",
   "execution_count": null,
   "metadata": {},
   "outputs": [],
   "source": [
    "path = os.path.join(CONTENT_PATH, \"Model\", \"Iteration_{}\".format(iteration),\"embeddings.npy\")\n",
    "embeddings_2d = np.load(path)"
   ]
  },
  {
   "cell_type": "code",
   "execution_count": null,
   "metadata": {},
   "outputs": [],
   "source": [
    "path = os.path.join(CONTENT_PATH, \"Model\", \"Iteration_{}\".format(iteration),\"embeddings.npy\")\n",
    "np.save(path,embeddings_2d)"
   ]
  },
  {
   "cell_type": "code",
   "execution_count": null,
   "metadata": {},
   "outputs": [],
   "source": [
    "# embeddings_2d = np.transpose(embeddings_2d, [1,0,2])\n",
    "samples.shape,embeddings_2d.shape"
   ]
  },
  {
   "cell_type": "code",
   "execution_count": null,
   "metadata": {},
   "outputs": [],
   "source": [
    "from singleVis.trajectory_manager import TrajectoryManager, FeedbackTrajectoryManager, Recommender\n",
    "# tm = FeedbackTrajectoryManager(samples, embeddings_2d,30, period=80,metric=\"a\")\n",
    "# tm = TrajectoryManager(samples, embeddings_2d, 30, period=80,metric=\"a\")\n",
    "tm = Recommender(uncertainty, embeddings_2d, 30, period=80,metric=\"a\")"
   ]
  },
  {
   "cell_type": "code",
   "execution_count": null,
   "metadata": {},
   "outputs": [],
   "source": [
    "tm.clustered()"
   ]
  },
  {
   "cell_type": "code",
   "execution_count": null,
   "metadata": {},
   "outputs": [],
   "source": [
    "data = data_provider.train_representation(iteration, epoch_num)\n",
    "labels = data_provider.train_labels(iteration)\n",
    "pred = data_provider.get_pred(iteration, epoch_num, data).argmax(1)\n",
    "wrong_pred_idx = np.argwhere(pred!=labels).squeeze()\n",
    "wrong_pred_idx.shape"
   ]
  },
  {
   "cell_type": "code",
   "execution_count": null,
   "metadata": {},
   "outputs": [],
   "source": [
    "lb_idx = data_provider.get_labeled_idx(iteration)\n",
    "ulb_idxs = data_provider.get_unlabeled_idx(50000,lb_idx)"
   ]
  },
  {
   "cell_type": "code",
   "execution_count": null,
   "metadata": {},
   "outputs": [],
   "source": [
    "ignore_rate = 0.1\n",
    "remain_rate = 1-ignore_rate"
   ]
  },
  {
   "cell_type": "code",
   "execution_count": null,
   "metadata": {},
   "outputs": [],
   "source": [
    "selected = tm.sample_batch(100)\n",
    "remain_selected = np.random.choice(selected, size=int(len(selected)*remain_rate))\n",
    "valid_selected = np.intersect1d(remain_selected, ulb_idxs)\n",
    "correct = np.intersect1d(valid_selected, wrong_pred_idx)\n",
    "wrong = np.setdiff1d(valid_selected, correct)\n",
    "print(len(correct), len(remain_selected))"
   ]
  },
  {
   "cell_type": "code",
   "execution_count": null,
   "metadata": {},
   "outputs": [],
   "source": [
    "# just sampling\n",
    "for _ in range(10):\n",
    "    tm.update_belief(selected)\n",
    "    selected = tm.sample_batch(100)\n",
    "    remain_selected = np.random.choice(selected, size=int(len(selected)*remain_rate))\n",
    "    valid_selected = np.intersect1d(remain_selected, ulb_idxs)\n",
    "    correct = np.intersect1d(valid_selected, wrong_pred_idx)\n",
    "    wrong = np.setdiff1d(valid_selected, correct)\n",
    "    print(len(correct), len(remain_selected))"
   ]
  },
  {
   "cell_type": "code",
   "execution_count": null,
   "metadata": {},
   "outputs": [],
   "source": [
    "selected = tm.sample_batch(100)\n",
    "correct = np.intersect1d(np.intersect1d(selected, ulb_idxs), wrong_pred_idx)\n",
    "wrong = np.setdiff1d(selected, correct)\n",
    "print(len(correct), 100)"
   ]
  },
  {
   "cell_type": "code",
   "execution_count": null,
   "metadata": {},
   "outputs": [],
   "source": [
    "# success rate\n",
    "for _ in range(10):\n",
    "    tm.update_belief(correct, wrong)\n",
    "    selected = tm.sample_batch(100)\n",
    "    correct = np.intersect1d(np.intersect1d(selected, ulb_idxs), wrong_pred_idx)\n",
    "    wrong = np.setdiff1d(selected, correct)\n",
    "    print(len(correct), 100)"
   ]
  },
  {
   "cell_type": "code",
   "execution_count": null,
   "metadata": {},
   "outputs": [],
   "source": [
    "s = np.random.choice(ulb_idxs,size=200,replace=False)"
   ]
  },
  {
   "cell_type": "code",
   "execution_count": null,
   "metadata": {},
   "outputs": [],
   "source": [
    "# random\n",
    "s = np.random.choice(ulb_idxs,size=200,replace=False)\n",
    "len(np.intersect1d(s, wrong_pred_idx)), len(s)"
   ]
  },
  {
   "cell_type": "code",
   "execution_count": null,
   "metadata": {},
   "outputs": [],
   "source": [
    "selected, _ = tm.sample_batch_init(10)\n",
    "correct = np.intersect1d(selected, wrong_pred_idx)\n",
    "wrong = np.setdiff1d(selected, correct)\n",
    "print(len(correct), 10)"
   ]
  },
  {
   "cell_type": "code",
   "execution_count": null,
   "metadata": {},
   "outputs": [],
   "source": [
    "# kernel regression\n",
    "for _ in range(10):\n",
    "    selected,_ = tm.sample_batch(correct, wrong, 10)\n",
    "    c = np.intersect1d(np.intersect1d(selected, ulb_idxs), wrong_pred_idx)\n",
    "    w = np.setdiff1d(selected, correct)\n",
    "    print(len(c), 10)\n",
    "    correct = np.concatenate((correct, c), axis=0)\n",
    "    wrong = np.concatenate((wrong, w), axis=0)"
   ]
  }
 ],
 "metadata": {
  "kernelspec": {
   "display_name": "Python 3.7.13 ('timevis': conda)",
   "language": "python",
   "name": "python3"
  },
  "language_info": {
   "codemirror_mode": {
    "name": "ipython",
    "version": 3
   },
   "file_extension": ".py",
   "mimetype": "text/x-python",
   "name": "python",
   "nbconvert_exporter": "python",
   "pygments_lexer": "ipython3",
   "version": "3.7.13"
  },
  "orig_nbformat": 4,
  "vscode": {
   "interpreter": {
    "hash": "ee9d2b45af2f0386ad86dea8873e1fdf9843516f676ff1d447c55abb6a82f45d"
   }
  }
 },
 "nbformat": 4,
 "nbformat_minor": 2
}
