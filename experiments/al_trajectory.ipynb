{
 "cells": [
  {
   "cell_type": "code",
   "execution_count": 1,
   "metadata": {},
   "outputs": [],
   "source": [
    "import os, sys\n",
    "import numpy as np\n",
    "import torch\n",
    "import json\n",
    "from scipy.special import softmax\n",
    "\n",
    "sys.path.append(\"..\")\n",
    "from singleVis.SingleVisualizationModel import SingleVisualizationModel\n",
    "from singleVis.data import DenseActiveLearningDataProvider\n",
    "from singleVis.projector import DenseALProjector"
   ]
  },
  {
   "cell_type": "code",
   "execution_count": 2,
   "metadata": {},
   "outputs": [],
   "source": [
    "CONTENT_PATH = \"/home/xianglin/DVI_data/active_learning/random/resnet18/CIFAR10\"\n",
    "CONTENT_PATH = \"/home/xianglin/projects/DVI_data/active_learning/random/resnet18/MNIST\"\n",
    "GPU_ID = \"1\"\n",
    "epoch_num = 20\n",
    "iteration = 0"
   ]
  },
  {
   "cell_type": "code",
   "execution_count": 3,
   "metadata": {},
   "outputs": [],
   "source": [
    "sys.path.append(CONTENT_PATH)\n",
    "from config import config"
   ]
  },
  {
   "cell_type": "code",
   "execution_count": 4,
   "metadata": {},
   "outputs": [
    {
     "name": "stdout",
     "output_type": "stream",
     "text": [
      "Finish initialization...\n"
     ]
    }
   ],
   "source": [
    "SETTING = config[\"SETTING\"]\n",
    "CLASSES = config[\"CLASSES\"]\n",
    "DATASET = config[\"DATASET\"]\n",
    "BASE_ITERATION =config[\"BASE_ITERATION\"]\n",
    "\n",
    "# Training parameter (subject model)\n",
    "TRAINING_PARAMETER = config[\"TRAINING\"]\n",
    "NET = TRAINING_PARAMETER[\"NET\"]\n",
    "LEN = TRAINING_PARAMETER[\"train_num\"]\n",
    "\n",
    "# Training parameter (visualization model)\n",
    "VISUALIZATION_PARAMETER = config[\"VISUALIZATION\"]\n",
    "LAMBDA = VISUALIZATION_PARAMETER[\"LAMBDA\"]\n",
    "S_LAMBDA = VISUALIZATION_PARAMETER[\"S_LAMBDA\"]\n",
    "B_N_EPOCHS = VISUALIZATION_PARAMETER[\"BOUNDARY\"][\"B_N_EPOCHS\"]\n",
    "L_BOUND = VISUALIZATION_PARAMETER[\"BOUNDARY\"][\"L_BOUND\"]\n",
    "INIT_NUM = VISUALIZATION_PARAMETER[\"INIT_NUM\"]\n",
    "ALPHA = VISUALIZATION_PARAMETER[\"ALPHA\"]\n",
    "BETA = VISUALIZATION_PARAMETER[\"BETA\"]\n",
    "MAX_HAUSDORFF = VISUALIZATION_PARAMETER[\"MAX_HAUSDORFF\"]\n",
    "HIDDEN_LAYER = VISUALIZATION_PARAMETER[\"HIDDEN_LAYER\"]\n",
    "S_N_EPOCHS = VISUALIZATION_PARAMETER[\"S_N_EPOCHS\"]\n",
    "T_N_EPOCHS = VISUALIZATION_PARAMETER[\"T_N_EPOCHS\"]\n",
    "N_NEIGHBORS = VISUALIZATION_PARAMETER[\"N_NEIGHBORS\"]\n",
    "PATIENT = VISUALIZATION_PARAMETER[\"PATIENT\"]\n",
    "MAX_EPOCH = VISUALIZATION_PARAMETER[\"MAX_EPOCH\"]\n",
    "\n",
    "# define hyperparameters\n",
    "DEVICE = torch.device(\"cuda:{}\".format(GPU_ID) if torch.cuda.is_available() else \"cpu\")\n",
    "model = SingleVisualizationModel(input_dims=512, output_dims=2, units=256, hidden_layer=HIDDEN_LAYER)\n",
    "\n",
    "import Model.model as subject_model\n",
    "net = eval(\"subject_model.{}()\".format(NET))\n",
    "data_provider = DenseActiveLearningDataProvider(CONTENT_PATH, net, BASE_ITERATION, epoch_num, split=-1, device=DEVICE, classes=CLASSES,verbose=1)\n",
    "projector = DenseALProjector(vis_model=model, content_path=CONTENT_PATH, vis_model_name=\"al_hybrid\", device=DEVICE)\n"
   ]
  },
  {
   "cell_type": "code",
   "execution_count": null,
   "metadata": {},
   "outputs": [],
   "source": [
    "from singleVis.visualizer import DenseALvisualizer\n",
    "vis = DenseALvisualizer(data_provider, projector, 300)"
   ]
  },
  {
   "cell_type": "code",
   "execution_count": null,
   "metadata": {},
   "outputs": [],
   "source": [
    "data = data_provider.train_representation_lb(iteration, epoch_num)\n",
    "labels = data_provider.train_labels_lb(iteration)\n",
    "pred = data_provider.get_pred(iteration, epoch_num, data).argmax(1)\n",
    "vis.savefig_cus(iteration, epoch_num, data, pred, labels)"
   ]
  },
  {
   "cell_type": "code",
   "execution_count": 5,
   "metadata": {},
   "outputs": [
    {
     "name": "stderr",
     "output_type": "stream",
     "text": [
      "100%|██████████| 300/300 [00:00<00:00, 7216.01it/s]\n"
     ]
    }
   ],
   "source": [
    "samples = data_provider.train_representation(iteration, epoch_num)\n",
    "pred = data_provider.get_pred(iteration, epoch_num, samples)\n",
    "confidence = np.amax(softmax(pred, axis=1), axis=1)\n",
    "uncertainty = 1-confidence"
   ]
  },
  {
   "cell_type": "code",
   "execution_count": 6,
   "metadata": {},
   "outputs": [],
   "source": [
    "samples = np.zeros((epoch_num, LEN, 512))\n",
    "for i in range(1, epoch_num+1, 1):\n",
    "    samples[i-1] = data_provider.train_representation(iteration, i)"
   ]
  },
  {
   "cell_type": "code",
   "execution_count": null,
   "metadata": {},
   "outputs": [],
   "source": [
    "embeddings_2d = np.zeros((epoch_num, LEN, 2))\n",
    "for e in range(1, epoch_num+1, 1):\n",
    "    embeddings_2d[e-1] = projector.batch_project(iteration, e, samples[e-1])\n",
    "embeddings_2d = np.transpose(embeddings_2d, [1,0,2])\n",
    "labels = data_provider.train_labels(iteration)"
   ]
  },
  {
   "cell_type": "code",
   "execution_count": null,
   "metadata": {},
   "outputs": [],
   "source": [
    "path = os.path.join(CONTENT_PATH, \"Model\", \"Iteration_{}\".format(iteration),\"trajectory_embeddings.npy\")\n",
    "np.save(path,embeddings_2d)"
   ]
  },
  {
   "cell_type": "code",
   "execution_count": 7,
   "metadata": {},
   "outputs": [],
   "source": [
    "path = os.path.join(CONTENT_PATH, \"Model\", \"Iteration_{}\".format(iteration),\"trajectory_embeddings.npy\")\n",
    "embeddings_2d = np.load(path)"
   ]
  },
  {
   "cell_type": "code",
   "execution_count": 8,
   "metadata": {},
   "outputs": [
    {
     "data": {
      "text/plain": [
       "((20, 60000, 512), (60000,), (60000, 20, 2))"
      ]
     },
     "execution_count": 8,
     "metadata": {},
     "output_type": "execute_result"
    }
   ],
   "source": [
    "samples.shape,uncertainty.shape, embeddings_2d.shape"
   ]
  },
  {
   "cell_type": "code",
   "execution_count": 9,
   "metadata": {},
   "outputs": [],
   "source": [
    "# remove label data\n",
    "lb_idxs = data_provider.get_labeled_idx(iteration)\n",
    "ulb_idxs = data_provider.get_unlabeled_idx(LEN, lb_idxs)\n",
    "\n",
    "ulb_uncertainty = uncertainty[ulb_idxs]\n",
    "ulb_trajectory = embeddings_2d[ulb_idxs]"
   ]
  },
  {
   "cell_type": "code",
   "execution_count": 10,
   "metadata": {},
   "outputs": [],
   "source": [
    "from singleVis.trajectory_manager import TrajectoryManager, FeedbackTrajectoryManager, Recommender\n",
    "import pickle\n",
    "# tm = FeedbackTrajectoryManager(samples, embeddings_2d,30, period=80,metric=\"a\")\n",
    "# tm = TrajectoryManager(samples, embeddings_2d, 30, period=80,metric=\"a\")\n",
    "tm = Recommender(ulb_uncertainty, ulb_trajectory, 30, period=20,metric=\"a\")\n",
    "tm.clustered()\n",
    "with open(os.path.join(CONTENT_PATH, \"Model\",\"Iteration_{}\".format(iteration), 'sample_recommender.pkl'), 'wb') as f:\n",
    "    pickle.dump(tm, f, pickle.HIGHEST_PROTOCOL)"
   ]
  },
  {
   "cell_type": "code",
   "execution_count": null,
   "metadata": {},
   "outputs": [],
   "source": [
    "with open(os.path.join(CONTENT_PATH, \"Model\",\"Iteration_{}\".format(iteration), 'sample_recommender.pkl'), 'rb') as f:\n",
    "    tm = pickle.load(f)"
   ]
  },
  {
   "cell_type": "code",
   "execution_count": 12,
   "metadata": {},
   "outputs": [
    {
     "name": "stderr",
     "output_type": "stream",
     "text": [
      "100%|██████████| 300/300 [00:00<00:00, 8664.07it/s]\n"
     ]
    }
   ],
   "source": [
    "data = data_provider.train_representation(iteration, epoch_num)\n",
    "labels = data_provider.train_labels(iteration)\n",
    "pred = data_provider.get_pred(iteration, epoch_num, data).argmax(1)\n",
    "wrong_pred_idx = np.argwhere(pred!=labels).squeeze()\n",
    "ulb_wrong = np.intersect1d(wrong_pred_idx, ulb_idxs)"
   ]
  },
  {
   "cell_type": "code",
   "execution_count": 13,
   "metadata": {},
   "outputs": [],
   "source": [
    "ignore_rate = 0.1\n",
    "remain_rate = 1-ignore_rate\n",
    "test_len = 50"
   ]
  },
  {
   "cell_type": "code",
   "execution_count": 14,
   "metadata": {},
   "outputs": [
    {
     "name": "stdout",
     "output_type": "stream",
     "text": [
      "Random sampling\n",
      "3 50\n",
      "3 50\n",
      "2 50\n",
      "1 50\n",
      "2 50\n",
      "4 50\n",
      "2 50\n",
      "2 50\n",
      "1 50\n",
      "4 50\n",
      "Success Rate:\t0.048\n"
     ]
    }
   ],
   "source": [
    "# random\n",
    "print(\"Random sampling\")\n",
    "s_rate = list()\n",
    "pool = np.array(ulb_idxs)\n",
    "for _ in range(10):\n",
    "    s_idxs = np.random.choice(pool,size=test_len,replace=False)\n",
    "    print(len(np.intersect1d(s_idxs, ulb_wrong)), len(s_idxs))\n",
    "    s_rate.append(len(np.intersect1d(s_idxs, ulb_wrong))/test_len)\n",
    "    pool = np.setdiff1d(pool, s_idxs)\n",
    "print(\"Success Rate:\\t{}\".format(sum(s_rate)/len(s_rate)))\n"
   ]
  },
  {
   "cell_type": "code",
   "execution_count": 25,
   "metadata": {},
   "outputs": [
    {
     "name": "stdout",
     "output_type": "stream",
     "text": [
      "TB sampling initialization:\n",
      "5 50\n",
      "3 50\n",
      "3 50\n",
      "4 50\n",
      "5 50\n",
      "3 50\n",
      "4 50\n",
      "4 50\n",
      "4 50\n",
      "3 50\n",
      "Init success Rate:\t0.08\n"
     ]
    }
   ],
   "source": [
    "print(\"TB sampling initialization:\")\n",
    "init_rate = list()\n",
    "for _ in range(10):\n",
    "    correct = np.array([]).astype(np.int32)\n",
    "    wrong = np.array([]).astype(np.int32)\n",
    "    map_ulb =ulb_idxs.tolist()\n",
    "\n",
    "    \n",
    "    map_acc_idxs = np.array([map_ulb.index(i) for i in correct]).astype(np.int32)\n",
    "    map_rej_idxs = np.array([map_ulb.index(i) for i in wrong]).astype(np.int32)\n",
    "\n",
    "    suggest_idxs, _ = tm.sample_batch_init(map_acc_idxs, map_rej_idxs, test_len)\n",
    "    suggest_idxs = ulb_idxs[suggest_idxs]\n",
    "\n",
    "    correct = np.intersect1d(suggest_idxs, ulb_wrong)\n",
    "    wrong = np.setdiff1d(suggest_idxs, correct)\n",
    "    init_rate.append(len(correct)/test_len)\n",
    "    print(len(correct),test_len)\n",
    "print(\"Init success Rate:\\t{:.2f}\".format(sum(init_rate)/len(init_rate)))\n"
   ]
  },
  {
   "cell_type": "code",
   "execution_count": 26,
   "metadata": {},
   "outputs": [
    {
     "name": "stdout",
     "output_type": "stream",
     "text": [
      "TB sampling:\n",
      "43 50\n",
      "35 50\n",
      "35 50\n",
      "31 50\n",
      "30 50\n",
      "25 50\n",
      "32 50\n",
      "27 50\n",
      "25 50\n",
      "29 50\n",
      "Success Rate:\t0.624\n"
     ]
    }
   ],
   "source": [
    "# kernel regression\n",
    "print(\"TB sampling:\")\n",
    "s_rate = list()\n",
    "for _ in range(10):\n",
    "    map_acc_idxs = np.array([map_ulb.index(i) for i in correct]).astype(np.int32)\n",
    "    map_rej_idxs = np.array([map_ulb.index(i) for i in wrong]).astype(np.int32)\n",
    "    suggest_idxs,_ = tm.sample_batch(map_acc_idxs, map_rej_idxs, test_len)\n",
    "    suggest_idxs = ulb_idxs[suggest_idxs]\n",
    "    c = np.intersect1d(np.intersect1d(suggest_idxs, ulb_idxs), ulb_wrong)\n",
    "    w = np.setdiff1d(suggest_idxs, c)\n",
    "    print(len(c), test_len)\n",
    "    s_rate.append(len(c) / test_len)\n",
    "    correct = np.concatenate((correct, c), axis=0)\n",
    "    wrong = np.concatenate((wrong, w), axis=0)\n",
    "print(\"Success Rate:\\t{}\".format(sum(s_rate)/len(s_rate)))"
   ]
  }
 ],
 "metadata": {
  "kernelspec": {
   "display_name": "Python 3.7.12 ('SV')",
   "language": "python",
   "name": "python3"
  },
  "language_info": {
   "codemirror_mode": {
    "name": "ipython",
    "version": 3
   },
   "file_extension": ".py",
   "mimetype": "text/x-python",
   "name": "python",
   "nbconvert_exporter": "python",
   "pygments_lexer": "ipython3",
   "version": "3.7.12"
  },
  "orig_nbformat": 4,
  "vscode": {
   "interpreter": {
    "hash": "aa7a9f36e1a1e240450dbe9cc8f6d8df1d5301f36681fb271c44fdd883236b60"
   }
  }
 },
 "nbformat": 4,
 "nbformat_minor": 2
}
