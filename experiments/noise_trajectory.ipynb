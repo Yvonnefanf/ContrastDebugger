{
 "cells": [
  {
   "cell_type": "code",
   "execution_count": 1,
   "metadata": {},
   "outputs": [],
   "source": [
    "import os, sys\n",
    "import numpy as np\n",
    "import torch\n",
    "import json\n",
    "\n",
    "sys.path.append(\"..\")\n",
    "from singleVis.SingleVisualizationModel import SingleVisualizationModel\n",
    "from singleVis.data import NormalDataProvider\n",
    "from singleVis.eval.evaluator import Evaluator\n",
    "from singleVis.projector import Projector"
   ]
  },
  {
   "cell_type": "code",
   "execution_count": 2,
   "metadata": {},
   "outputs": [],
   "source": [
    "dataset = \"fmnist\"\n",
    "noise_type = \"symmetric\"\n",
    "noise_rate = \"5\""
   ]
  },
  {
   "cell_type": "code",
   "execution_count": 3,
   "metadata": {},
   "outputs": [],
   "source": [
    "path = \"/home/xianglin/projects/DVI_data/noisy/{}/{}/{}/clean_label.json\".format(noise_type, dataset, noise_rate)\n",
    "with open(path, \"r\") as f:\n",
    "    clean_label = json.load(f)\n",
    "path = \"/home/xianglin/projects/DVI_data/noisy/{}/{}/{}/noisy_label.json\".format(noise_type, dataset, noise_rate)\n",
    "with open(path, \"r\") as f:\n",
    "    noisy_label = json.load(f)\n",
    "\n",
    "clean_label = np.array(clean_label)\n",
    "noisy_label = np.array(noisy_label)"
   ]
  },
  {
   "cell_type": "code",
   "execution_count": 4,
   "metadata": {},
   "outputs": [],
   "source": [
    "CONTENT_PATH = \"/home/xianglin/projects/DVI_data/noisy/{}/{}/{}/\".format(noise_type, dataset, noise_rate)\n",
    "sys.path.append(CONTENT_PATH)\n",
    "from config import config"
   ]
  },
  {
   "cell_type": "code",
   "execution_count": 5,
   "metadata": {},
   "outputs": [
    {
     "name": "stdout",
     "output_type": "stream",
     "text": [
      "Finish initialization...\n"
     ]
    }
   ],
   "source": [
    "GPU_ID = 1\n",
    "SETTING = config[\"SETTING\"]\n",
    "CLASSES = config[\"CLASSES\"]\n",
    "DATASET = config[\"DATASET\"]\n",
    "PREPROCESS = config[\"VISUALIZATION\"][\"PREPROCESS\"]\n",
    "EPOCH_START = config[\"EPOCH_START\"]\n",
    "EPOCH_END = config[\"EPOCH_END\"]\n",
    "EPOCH_PERIOD = config[\"EPOCH_PERIOD\"]\n",
    "TOTOAL_EPOCH = (EPOCH_END-EPOCH_START)//EPOCH_PERIOD+1\n",
    "\n",
    "# Training parameter (subject model)\n",
    "TRAINING_PARAMETER = config[\"TRAINING\"]\n",
    "NET = TRAINING_PARAMETER[\"NET\"]\n",
    "LEN = TRAINING_PARAMETER[\"train_num\"]\n",
    "\n",
    "# Training parameter (visualization model)\n",
    "VISUALIZATION_PARAMETER = config[\"VISUALIZATION\"]\n",
    "LAMBDA = VISUALIZATION_PARAMETER[\"LAMBDA\"]\n",
    "S_LAMBDA = VISUALIZATION_PARAMETER[\"S_LAMBDA\"]\n",
    "B_N_EPOCHS = VISUALIZATION_PARAMETER[\"BOUNDARY\"][\"B_N_EPOCHS\"]\n",
    "L_BOUND = VISUALIZATION_PARAMETER[\"BOUNDARY\"][\"L_BOUND\"]\n",
    "INIT_NUM = VISUALIZATION_PARAMETER[\"INIT_NUM\"]\n",
    "ALPHA = VISUALIZATION_PARAMETER[\"ALPHA\"]\n",
    "BETA = VISUALIZATION_PARAMETER[\"BETA\"]\n",
    "MAX_HAUSDORFF = VISUALIZATION_PARAMETER[\"MAX_HAUSDORFF\"]\n",
    "HIDDEN_LAYER = VISUALIZATION_PARAMETER[\"HIDDEN_LAYER\"]\n",
    "S_N_EPOCHS = VISUALIZATION_PARAMETER[\"S_N_EPOCHS\"]\n",
    "T_N_EPOCHS = VISUALIZATION_PARAMETER[\"T_N_EPOCHS\"]\n",
    "N_NEIGHBORS = VISUALIZATION_PARAMETER[\"N_NEIGHBORS\"]\n",
    "PATIENT = VISUALIZATION_PARAMETER[\"PATIENT\"]\n",
    "MAX_EPOCH = VISUALIZATION_PARAMETER[\"MAX_EPOCH\"]\n",
    "SEGMENTS = VISUALIZATION_PARAMETER[\"SEGMENTS\"]\n",
    "RESUME_SEG = VISUALIZATION_PARAMETER[\"RESUME_SEG\"]\n",
    "# define hyperparameters\n",
    "DEVICE = torch.device(\"cuda:{}\".format(GPU_ID) if torch.cuda.is_available() else \"cpu\")\n",
    "\n",
    "content_path = CONTENT_PATH\n",
    "sys.path.append(content_path)\n",
    "\n",
    "import Model.model as subject_model\n",
    "# net = resnet18()\n",
    "net = eval(\"subject_model.{}()\".format(NET))\n",
    "classes = (\"airplane\", \"car\", \"bird\", \"cat\", \"deer\", \"dog\", \"frog\", \"horse\", \"ship\", \"truck\")\n",
    "data_provider = NormalDataProvider(CONTENT_PATH, net, EPOCH_START, EPOCH_END, EPOCH_PERIOD, split=-1, device=DEVICE, classes=CLASSES,verbose=1)\n",
    "if PREPROCESS:\n",
    "    data_provider.initialize(LEN//10, l_bound=L_BOUND)\n",
    "\n",
    "model = SingleVisualizationModel(input_dims=512, output_dims=2, units=256, hidden_layer=HIDDEN_LAYER)\n",
    "projector = Projector(vis_model=model, content_path=CONTENT_PATH, segments=SEGMENTS, device=DEVICE)"
   ]
  },
  {
   "cell_type": "code",
   "execution_count": 6,
   "metadata": {},
   "outputs": [],
   "source": [
    "samples = np.zeros((TOTOAL_EPOCH, LEN, 512))\n",
    "for i in range(1, TOTOAL_EPOCH+1, 1):\n",
    "    samples[i-1] = data_provider.train_representation(i)"
   ]
  },
  {
   "cell_type": "code",
   "execution_count": 7,
   "metadata": {},
   "outputs": [
    {
     "name": "stdout",
     "output_type": "stream",
     "text": [
      "Successfully load the visualization model for range (1,4)...\n",
      "Same range as current visualization model...\n",
      "Same range as current visualization model...\n",
      "Successfully load the visualization model for range (4,8)...\n",
      "Same range as current visualization model...\n",
      "Same range as current visualization model...\n",
      "Same range as current visualization model...\n",
      "Successfully load the visualization model for range (8,50)...\n",
      "Same range as current visualization model...\n",
      "Same range as current visualization model...\n",
      "Same range as current visualization model...\n",
      "Same range as current visualization model...\n",
      "Same range as current visualization model...\n",
      "Same range as current visualization model...\n",
      "Same range as current visualization model...\n",
      "Same range as current visualization model...\n",
      "Same range as current visualization model...\n",
      "Same range as current visualization model...\n",
      "Same range as current visualization model...\n",
      "Same range as current visualization model...\n",
      "Same range as current visualization model...\n",
      "Same range as current visualization model...\n",
      "Same range as current visualization model...\n",
      "Same range as current visualization model...\n",
      "Same range as current visualization model...\n",
      "Same range as current visualization model...\n",
      "Same range as current visualization model...\n",
      "Same range as current visualization model...\n",
      "Same range as current visualization model...\n",
      "Same range as current visualization model...\n",
      "Same range as current visualization model...\n",
      "Same range as current visualization model...\n",
      "Same range as current visualization model...\n",
      "Same range as current visualization model...\n",
      "Same range as current visualization model...\n",
      "Same range as current visualization model...\n",
      "Same range as current visualization model...\n",
      "Same range as current visualization model...\n",
      "Same range as current visualization model...\n",
      "Same range as current visualization model...\n",
      "Same range as current visualization model...\n",
      "Same range as current visualization model...\n",
      "Same range as current visualization model...\n",
      "Same range as current visualization model...\n",
      "Same range as current visualization model...\n",
      "Same range as current visualization model...\n",
      "Same range as current visualization model...\n",
      "Same range as current visualization model...\n",
      "Same range as current visualization model...\n",
      "Same range as current visualization model...\n"
     ]
    }
   ],
   "source": [
    "embeddings_2d = np.zeros((TOTOAL_EPOCH, LEN, 2))\n",
    "for e in range(1, TOTOAL_EPOCH+1, 1):\n",
    "    embeddings_2d[e-1] = projector.batch_project(e, samples[e-1])\n",
    "embeddings_2d = np.transpose(embeddings_2d, [1,0,2])"
   ]
  },
  {
   "cell_type": "code",
   "execution_count": 8,
   "metadata": {},
   "outputs": [],
   "source": [
    "path = os.path.join(CONTENT_PATH, \"Model\",\"trajectory_embeddings.npy\")\n",
    "np.save(path,embeddings_2d)"
   ]
  },
  {
   "cell_type": "code",
   "execution_count": 9,
   "metadata": {},
   "outputs": [],
   "source": [
    "samples = data_provider.train_representation(TOTOAL_EPOCH)\n",
    "path = os.path.join(CONTENT_PATH, \"Model\",\"trajectory_embeddings.npy\")\n",
    "embeddings_2d = np.load(path)"
   ]
  },
  {
   "cell_type": "code",
   "execution_count": 10,
   "metadata": {},
   "outputs": [
    {
     "data": {
      "text/plain": [
       "((60000, 512), (60000, 50, 2))"
      ]
     },
     "execution_count": 10,
     "metadata": {},
     "output_type": "execute_result"
    }
   ],
   "source": [
    "samples.shape, embeddings_2d.shape"
   ]
  },
  {
   "cell_type": "code",
   "execution_count": 11,
   "metadata": {},
   "outputs": [
    {
     "name": "stderr",
     "output_type": "stream",
     "text": [
      "100%|██████████| 300/300 [00:00<00:00, 8437.15it/s]\n"
     ]
    }
   ],
   "source": [
    "from scipy.special import softmax\n",
    "samples = data_provider.train_representation(TOTOAL_EPOCH)\n",
    "pred = data_provider.get_pred(TOTOAL_EPOCH, samples)\n",
    "confidence = np.amax(softmax(pred, axis=1), axis=1)\n",
    "uncertainty = 1-confidence"
   ]
  },
  {
   "cell_type": "code",
   "execution_count": 12,
   "metadata": {},
   "outputs": [
    {
     "data": {
      "text/plain": [
       "(3003,)"
      ]
     },
     "execution_count": 12,
     "metadata": {},
     "output_type": "execute_result"
    }
   ],
   "source": [
    "noise_idxs = np.argwhere(clean_label!=noisy_label).squeeze()\n",
    "noise_idxs.shape"
   ]
  },
  {
   "cell_type": "code",
   "execution_count": 13,
   "metadata": {},
   "outputs": [],
   "source": [
    "from singleVis.trajectory_manager import TrajectoryManager, FeedbackTrajectoryManager, Recommender\n",
    "# tm = TrajectoryManager(samples, embeddings_2d,30, period=100,metric=\"a\")\n",
    "# tm = FeedbackTrajectoryManager(samples, embeddings_2d,30, period=100,metric=\"a\")\n",
    "tm = Recommender(uncertainty, embeddings_2d, 30, period=50, metric=\"a\")#20 period"
   ]
  },
  {
   "cell_type": "code",
   "execution_count": 14,
   "metadata": {},
   "outputs": [],
   "source": [
    "tm.clustered()"
   ]
  },
  {
   "cell_type": "code",
   "execution_count": 15,
   "metadata": {},
   "outputs": [],
   "source": [
    "test_len = 50"
   ]
  },
  {
   "cell_type": "code",
   "execution_count": 16,
   "metadata": {},
   "outputs": [
    {
     "name": "stdout",
     "output_type": "stream",
     "text": [
      "3 50\n"
     ]
    }
   ],
   "source": [
    "correct = np.array([]).astype(np.int32)\n",
    "wrong = np.array([]).astype(np.int32)\n",
    "selected,_ = tm.sample_batch_init(correct, wrong, test_len)\n",
    "c = np.intersect1d(selected, noise_idxs)\n",
    "w = np.setdiff1d(selected, c)\n",
    "print(len(c), test_len)\n",
    "correct = np.concatenate((correct, c), axis=0)\n",
    "wrong = np.concatenate((wrong, w), axis=0)"
   ]
  },
  {
   "cell_type": "code",
   "execution_count": 17,
   "metadata": {},
   "outputs": [
    {
     "name": "stdout",
     "output_type": "stream",
     "text": [
      "50 50\n",
      "50 50\n",
      "49 50\n",
      "50 50\n",
      "50 50\n",
      "49 50\n",
      "48 50\n",
      "48 50\n",
      "50 50\n",
      "48 50\n"
     ]
    }
   ],
   "source": [
    "# kernel regression\n",
    "for _ in range(10):\n",
    "    selected,_ = tm.sample_batch(correct, wrong, test_len)\n",
    "    c = np.intersect1d(selected, noise_idxs)\n",
    "    w = np.setdiff1d(selected, c)\n",
    "    print(len(c), test_len)\n",
    "    correct = np.concatenate((correct, c), axis=0)\n",
    "    wrong = np.concatenate((wrong, w), axis=0)"
   ]
  },
  {
   "cell_type": "code",
   "execution_count": 18,
   "metadata": {},
   "outputs": [
    {
     "name": "stdout",
     "output_type": "stream",
     "text": [
      "2 50\n",
      "2 50\n",
      "5 50\n",
      "2 50\n",
      "1 50\n",
      "4 50\n",
      "4 50\n",
      "4 50\n",
      "2 50\n",
      "3 50\n"
     ]
    }
   ],
   "source": [
    "# random\n",
    "pool = np.arange(LEN)\n",
    "for _ in range(10):\n",
    "    selected = np.random.choice(pool, size=test_len, replace=False)\n",
    "    c = np.intersect1d(selected, noise_idxs)\n",
    "    w = np.setdiff1d(selected, c)\n",
    "    print(len(c), test_len)\n",
    "    pool = np.setdiff1d(pool, selected)\n"
   ]
  }
 ],
 "metadata": {
  "kernelspec": {
   "display_name": "Python 3.7.12 ('SV')",
   "language": "python",
   "name": "python3"
  },
  "language_info": {
   "codemirror_mode": {
    "name": "ipython",
    "version": 3
   },
   "file_extension": ".py",
   "mimetype": "text/x-python",
   "name": "python",
   "nbconvert_exporter": "python",
   "pygments_lexer": "ipython3",
   "version": "3.7.12"
  },
  "orig_nbformat": 4,
  "vscode": {
   "interpreter": {
    "hash": "aa7a9f36e1a1e240450dbe9cc8f6d8df1d5301f36681fb271c44fdd883236b60"
   }
  }
 },
 "nbformat": 4,
 "nbformat_minor": 2
}
