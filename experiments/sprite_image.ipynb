{
 "cells": [
  {
   "cell_type": "code",
   "execution_count": 1,
   "metadata": {},
   "outputs": [
    {
     "name": "stderr",
     "output_type": "stream",
     "text": [
      "/home/yifan/miniconda3/lib/python3.9/site-packages/tqdm/auto.py:22: TqdmWarning: IProgress not found. Please update jupyter and ipywidgets. See https://ipywidgets.readthedocs.io/en/stable/user_install.html\n",
      "  from .autonotebook import tqdm as notebook_tqdm\n"
     ]
    }
   ],
   "source": [
    "import numpy as np\n",
    "import os\n",
    "from PIL import Image\n",
    "from torchvision.datasets import CIFAR10, MNIST"
   ]
  },
  {
   "cell_type": "code",
   "execution_count": 2,
   "metadata": {},
   "outputs": [],
   "source": [
    "def convert_to_rgb(images: np.ndarray) -> np.ndarray:\n",
    "    \"\"\"\n",
    "    Converts grayscale images to RGB. It changes NxHxWx1 to a NxHxWx3 array, where N is the number of figures,\n",
    "    H is the high and W the width.\n",
    "    :param images: Grayscale images of shape (NxHxWx1).\n",
    "    :return: Images in RGB format of shape (NxHxWx3).\n",
    "    \"\"\"\n",
    "    dims = np.shape(images)\n",
    "    if not ((len(dims) == 4 and dims[-1] == 1) or len(dims) == 3):\n",
    "        raise ValueError(\"Unexpected shape for grayscale images:\" + str(dims))\n",
    "\n",
    "    if dims[-1] == 1:\n",
    "        # Squeeze channel axis if it exists\n",
    "        rgb_images = np.squeeze(images, axis=-1)\n",
    "    else:\n",
    "        rgb_images = images\n",
    "    rgb_images = np.stack((rgb_images,) * 3, axis=-1)\n",
    "\n",
    "    return rgb_images\n",
    "    \n",
    "def create_sprite(images: np.ndarray) -> np.ndarray:\n",
    "    \"\"\"\n",
    "    Creates a sprite of provided images.\n",
    "    :param images: Images to construct the sprite.\n",
    "    :return: An image array containing the sprite.\n",
    "    \"\"\"\n",
    "    shape = np.shape(images)\n",
    "\n",
    "    if len(shape) < 3 or len(shape) > 4:\n",
    "        raise ValueError(\"Images provided for sprite have wrong dimensions \" + str(len(shape)))\n",
    "\n",
    "    if len(shape) == 3:\n",
    "        # Check to see if it's MNIST type of images and add axis to show image is gray-scale\n",
    "        images = np.expand_dims(images, axis=3)\n",
    "        shape = np.shape(images)\n",
    "\n",
    "    # Change black and white images to RGB\n",
    "    if shape[3] == 1:\n",
    "        images = convert_to_rgb(images)\n",
    "\n",
    "    n = int(np.ceil(np.sqrt(images.shape[0])))\n",
    "    padding = ((0, n ** 2 - images.shape[0]), (0, 0), (0, 0)) + ((0, 0),) * (images.ndim - 3)\n",
    "    images = np.pad(images, padding, mode=\"constant\", constant_values=0)\n",
    "\n",
    "    # Tile the individual thumbnails into an image\n",
    "    images = images.reshape((n, n) + images.shape[1:]).transpose((0, 2, 1, 3) + tuple(range(4, images.ndim + 1)))\n",
    "    images = images.reshape((n * images.shape[1], n * images.shape[3]) + images.shape[4:])\n",
    "    sprite = (images * 255).astype(np.uint8)\n",
    "\n",
    "    return sprite"
   ]
  },
  {
   "cell_type": "code",
   "execution_count": 9,
   "metadata": {},
   "outputs": [
    {
     "name": "stdout",
     "output_type": "stream",
     "text": [
      "Files already downloaded and verified\n",
      "Files already downloaded and verified\n"
     ]
    }
   ],
   "source": [
    "train_dataset = CIFAR10(root=\"data\", train=True, download=True)\n",
    "test_dataset = CIFAR10(root=\"data\", train=False, download=True)\n",
    "data = np.concatenate((train_dataset.data, test_dataset.data), axis=0)"
   ]
  },
  {
   "cell_type": "code",
   "execution_count": 6,
   "metadata": {},
   "outputs": [],
   "source": [
    "train_dataset = MNIST(root=\"data\", train=True, download=True)\n",
    "test_dataset = MNIST(root=\"data\", train=False, download=True)\n",
    "all_data = np.concatenate((train_dataset.data, test_dataset.data), axis=0)"
   ]
  },
  {
   "cell_type": "code",
   "execution_count": 5,
   "metadata": {},
   "outputs": [],
   "source": [
    "sprite = create_sprite(data) "
   ]
  },
  {
   "cell_type": "code",
   "execution_count": 6,
   "metadata": {},
   "outputs": [],
   "source": [
    "file_name = \"mnist.png\"\n",
    "image = Image.fromarray(sprite)\n",
    "image.save(file_name)"
   ]
  },
  {
   "cell_type": "code",
   "execution_count": 8,
   "metadata": {},
   "outputs": [
    {
     "ename": "NameError",
     "evalue": "name 'all_data' is not defined",
     "output_type": "error",
     "traceback": [
      "\u001b[0;31m---------------------------------------------------------------------------\u001b[0m",
      "\u001b[0;31mNameError\u001b[0m                                 Traceback (most recent call last)",
      "Cell \u001b[0;32mIn [8], line 4\u001b[0m\n\u001b[1;32m      2\u001b[0m os\u001b[39m.\u001b[39mmakedirs(path, exist_ok\u001b[39m=\u001b[39m\u001b[39mTrue\u001b[39;00m)\n\u001b[1;32m      3\u001b[0m \u001b[39mfor\u001b[39;00m i \u001b[39min\u001b[39;00m \u001b[39mrange\u001b[39m(\u001b[39m70000\u001b[39m):\n\u001b[0;32m----> 4\u001b[0m     image \u001b[39m=\u001b[39m Image\u001b[39m.\u001b[39mfromarray(all_data[i])\n\u001b[1;32m      5\u001b[0m     image\u001b[39m.\u001b[39msave(os\u001b[39m.\u001b[39mpath\u001b[39m.\u001b[39mjoin(path, \u001b[39m\"\u001b[39m\u001b[39m{}\u001b[39;00m\u001b[39m.png\u001b[39m\u001b[39m\"\u001b[39m\u001b[39m.\u001b[39mformat(i)))\n",
      "\u001b[0;31mNameError\u001b[0m: name 'all_data' is not defined"
     ]
    }
   ],
   "source": [
    "path = \"/home/yifan/dataset/sprites\"\n",
    "os.makedirs(path, exist_ok=True)\n",
    "for i in range(70000):\n",
    "    image = Image.fromarray(data[i])\n",
    "    image.save(os.path.join(path, \"{}.png\".format(i)))\n"
   ]
  }
 ],
 "metadata": {
  "interpreter": {
   "hash": "aa7a9f36e1a1e240450dbe9cc8f6d8df1d5301f36681fb271c44fdd883236b60"
  },
  "kernelspec": {
   "display_name": "Python 2",
   "language": "python",
   "name": "python2"
  },
  "language_info": {
   "codemirror_mode": {
    "name": "ipython",
    "version": 3
   },
   "file_extension": ".py",
   "mimetype": "text/x-python",
   "name": "python",
   "nbconvert_exporter": "python",
   "pygments_lexer": "ipython3",
   "version": "3.9.12"
  },
  "orig_nbformat": 4
 },
 "nbformat": 4,
 "nbformat_minor": 2
}
