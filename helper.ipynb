{
 "cells": [
  {
   "cell_type": "code",
   "execution_count": 1,
   "metadata": {},
   "outputs": [],
   "source": [
    "import torch\n",
    "import sys\n",
    "import os\n",
    "import json\n",
    "import time\n",
    "import numpy as np\n",
    "import argparse\n",
    "\n",
    "from torch.utils.data import DataLoader\n",
    "from torch.utils.data import WeightedRandomSampler\n",
    "from umap.umap_ import find_ab_params\n",
    "\n",
    "from singleVis.custom_weighted_random_sampler import CustomWeightedRandomSampler\n",
    "from singleVis.SingleVisualizationModel import SingleVisualizationModel\n",
    "from singleVis.losses import SingleVisLoss, UmapLoss, ReconstructionLoss\n",
    "from singleVis.edge_dataset import DataHandler\n",
    "from singleVis.trainer import SingleVisTrainer\n",
    "from singleVis.data import NormalDataProvider\n",
    "import singleVis.config as config\n",
    "from singleVis.eval.evaluator import Evaluator\n",
    "from singleVis.spatial_edge_constructor import kcSpatialEdgeConstructor\n",
    "from singleVis.temporal_edge_constructor import GlobalTemporalEdgeConstructor\n",
    "from singleVis.trajectory import draw_trajectory, draw_two_trajectories"
   ]
  },
  {
   "cell_type": "code",
   "execution_count": 2,
   "metadata": {},
   "outputs": [],
   "source": [
    "dataset = \"symmetric\"\n",
    "DATASET = \"cifar10\"\n",
    "CONTENT_PATH =\"/home/xianglin/projects/DVI_data/noisy/{}/cifar10/\".format(dataset)\n",
    "DATASET = \"cifar10_n\""
   ]
  },
  {
   "cell_type": "code",
   "execution_count": 2,
   "metadata": {},
   "outputs": [],
   "source": [
    "DATASET = \"cifar10\"\n",
    "CONTENT_PATH =\"/home/xianglin/projects/DVI_data/resnet18_cifar10\"\n",
    "DATASET = \"cifar10_full\""
   ]
  },
  {
   "cell_type": "code",
   "execution_count": 3,
   "metadata": {},
   "outputs": [],
   "source": [
    "LEN = config.dataset_config[DATASET][\"TRAINING_LEN\"]\n",
    "LAMBDA = config.dataset_config[DATASET][\"LAMBDA\"]\n",
    "L_BOUND = config.dataset_config[DATASET][\"L_BOUND\"]\n",
    "MAX_HAUSDORFF = config.dataset_config[DATASET][\"MAX_HAUSDORFF\"]\n",
    "ALPHA = config.dataset_config[DATASET][\"ALPHA\"]\n",
    "BETA = config.dataset_config[DATASET][\"BETA\"]\n",
    "INIT_NUM = config.dataset_config[DATASET][\"INIT_NUM\"]\n",
    "EPOCH_START = config.dataset_config[DATASET][\"EPOCH_START\"]\n",
    "EPOCH_END = config.dataset_config[DATASET][\"EPOCH_END\"]\n",
    "EPOCH_PERIOD = config.dataset_config[DATASET][\"EPOCH_PERIOD\"]\n",
    "HIDDEN_LAYER = config.dataset_config[DATASET][\"HIDDEN_LAYER\"]\n",
    "\n",
    "# define hyperparameters\n",
    "DEVICE = torch.device(\"cuda:{:d}\".format(0) if torch.cuda.is_available() else \"cpu\")\n",
    "S_N_EPOCHS = config.dataset_config[DATASET][\"training_config\"][\"S_N_EPOCHS\"]\n",
    "B_N_EPOCHS = config.dataset_config[DATASET][\"training_config\"][\"B_N_EPOCHS\"]\n",
    "T_N_EPOCHS = config.dataset_config[DATASET][\"training_config\"][\"T_N_EPOCHS\"]\n",
    "N_NEIGHBORS = config.dataset_config[DATASET][\"training_config\"][\"N_NEIGHBORS\"]\n",
    "PATIENT = config.dataset_config[DATASET][\"training_config\"][\"PATIENT\"]\n",
    "MAX_EPOCH = config.dataset_config[DATASET][\"training_config\"][\"MAX_EPOCH\"]\n",
    "\n",
    "content_path = CONTENT_PATH\n",
    "sys.path.append(content_path)\n",
    "\n",
    "from Model.model import *\n",
    "net = resnet18()\n",
    "classes = (\"airplane\", \"car\", \"bird\", \"cat\", \"deer\", \"dog\", \"frog\", \"horse\", \"ship\", \"truck\")"
   ]
  },
  {
   "cell_type": "code",
   "execution_count": 4,
   "metadata": {},
   "outputs": [
    {
     "name": "stdout",
     "output_type": "stream",
     "text": [
      "Finish initialization...\n"
     ]
    },
    {
     "data": {
      "text/plain": [
       "SingleVisualizationModel(\n",
       "  (encoder): Sequential(\n",
       "    (0): Linear(in_features=512, out_features=256, bias=True)\n",
       "    (1): ReLU(inplace=True)\n",
       "    (2): Linear(in_features=256, out_features=256, bias=True)\n",
       "    (3): ReLU(inplace=True)\n",
       "    (4): Linear(in_features=256, out_features=256, bias=True)\n",
       "    (5): ReLU(inplace=True)\n",
       "    (6): Linear(in_features=256, out_features=256, bias=True)\n",
       "    (7): ReLU(inplace=True)\n",
       "    (8): Linear(in_features=256, out_features=256, bias=True)\n",
       "    (9): ReLU(inplace=True)\n",
       "    (10): Linear(in_features=256, out_features=2, bias=True)\n",
       "  )\n",
       "  (decoder): Sequential(\n",
       "    (0): Linear(in_features=2, out_features=256, bias=True)\n",
       "    (1): ReLU(inplace=True)\n",
       "    (2): Linear(in_features=256, out_features=256, bias=True)\n",
       "    (3): ReLU(inplace=True)\n",
       "    (4): Linear(in_features=256, out_features=256, bias=True)\n",
       "    (5): ReLU(inplace=True)\n",
       "    (6): Linear(in_features=256, out_features=256, bias=True)\n",
       "    (7): ReLU(inplace=True)\n",
       "    (8): Linear(in_features=256, out_features=256, bias=True)\n",
       "    (9): ReLU(inplace=True)\n",
       "    (10): Linear(in_features=256, out_features=512, bias=True)\n",
       "  )\n",
       ")"
      ]
     },
     "execution_count": 4,
     "metadata": {},
     "output_type": "execute_result"
    }
   ],
   "source": [
    "data_provider = NormalDataProvider(content_path, net, EPOCH_START, EPOCH_END, EPOCH_PERIOD, split=-1, device=DEVICE, verbose=1)\n",
    "model = SingleVisualizationModel(input_dims=512, output_dims=2, units=256, hidden_layer=HIDDEN_LAYER)\n",
    "negative_sample_rate = 5\n",
    "min_dist = .1\n",
    "_a, _b = find_ab_params(1.0, min_dist)\n",
    "umap_loss_fn = UmapLoss(negative_sample_rate, DEVICE, _a, _b, repulsion_strength=1.0)\n",
    "recon_loss_fn = ReconstructionLoss(beta=1.0)\n",
    "criterion = SingleVisLoss(umap_loss_fn, recon_loss_fn, lambd=LAMBDA)\n",
    "optimizer = torch.optim.Adam(model.parameters(), lr=.01, weight_decay=1e-5)\n",
    "lr_scheduler = torch.optim.lr_scheduler.StepLR(optimizer, step_size=4, gamma=.1)\n",
    "edge_loader = None\n",
    "trainer = SingleVisTrainer(model, criterion, optimizer, lr_scheduler,edge_loader=edge_loader, DEVICE=DEVICE)\n",
    "trainer.model.to(DEVICE)\n",
    "trainer.model.eval()"
   ]
  },
  {
   "cell_type": "code",
   "execution_count": 5,
   "metadata": {},
   "outputs": [],
   "source": [
    "samples = np.zeros((161, 50000, 512))\n",
    "for i in range(0, 161, 1):\n",
    "    samples[i] = data_provider.train_representation(i+40)"
   ]
  },
  {
   "cell_type": "code",
   "execution_count": 6,
   "metadata": {},
   "outputs": [],
   "source": [
    "import json\n",
    "path = \"/home/xianglin/projects/DVI_data/noisy/{}/cifar10/clean_label.json\".format(dataset)\n",
    "with open(path, \"r\") as f:\n",
    "    clean_label = json.load(f)\n",
    "path = \"/home/xianglin/projects/DVI_data/noisy/{}/cifar10/noisy_label.json\".format(dataset)\n",
    "with open(path, \"r\") as f:\n",
    "    noisy_label = json.load(f)"
   ]
  },
  {
   "cell_type": "code",
   "execution_count": 7,
   "metadata": {},
   "outputs": [],
   "source": [
    "import numpy as np\n",
    "# noisy_ones = np.array(clean_label) != np.array(noisy_label)\n",
    "train_labels = data_provider.train_labels(40)"
   ]
  },
  {
   "cell_type": "code",
   "execution_count": 7,
   "metadata": {},
   "outputs": [],
   "source": [
    "embeddings_2d = np.zeros((50000, 161, 2))\n",
    "for i in range(50000):\n",
    "    embedding_2d = trainer.model.encoder(torch.from_numpy(samples[:,i,:]).to(device=DEVICE, dtype=torch.float)).cpu().detach().numpy()\n",
    "    embeddings_2d[i] = embedding_2d"
   ]
  },
  {
   "cell_type": "code",
   "execution_count": 9,
   "metadata": {},
   "outputs": [],
   "source": [
    "directions = np.zeros((50000, 160,2))\n",
    "for i in range(50000):\n",
    "    directions[i] = embeddings_2d[i,1:,:]-embeddings_2d[i, :-1,:]"
   ]
  },
  {
   "cell_type": "code",
   "execution_count": 20,
   "metadata": {},
   "outputs": [],
   "source": [
    "# cls = np.argwhere(train_labels==9).squeeze()\n",
    "cls = np.argwhere(np.array(noisy_label)==9).squeeze()"
   ]
  },
  {
   "cell_type": "code",
   "execution_count": 21,
   "metadata": {},
   "outputs": [
    {
     "data": {
      "text/plain": [
       "(4015, 961)"
      ]
     },
     "execution_count": 21,
     "metadata": {},
     "output_type": "execute_result"
    }
   ],
   "source": [
    "np.sum(np.array(clean_label)[cls]==9), len(cls)-np.sum(np.array(clean_label)[cls]==9)"
   ]
  },
  {
   "cell_type": "code",
   "execution_count": 22,
   "metadata": {},
   "outputs": [
    {
     "data": {
      "text/plain": [
       "(4976, 2)"
      ]
     },
     "execution_count": 22,
     "metadata": {},
     "output_type": "execute_result"
    }
   ],
   "source": [
    "import umap.umap_ as umap\n",
    "\n",
    "reducer = umap.UMAP()\n",
    "embedding = reducer.fit_transform(directions[cls].reshape(len(cls), -1))\n",
    "# embedding = reducer.fit_transform(directions.reshape(50000, -1))\n",
    "embedding.shape"
   ]
  },
  {
   "cell_type": "code",
   "execution_count": 23,
   "metadata": {},
   "outputs": [
    {
     "data": {
      "text/plain": [
       "Text(0.5, 1.0, 'UMAP projection')"
      ]
     },
     "execution_count": 23,
     "metadata": {},
     "output_type": "execute_result"
    },
    {
     "data": {
      "image/png": "[encoded data removed]",
      "text/plain": [
       "<Figure size 432x288 with 1 Axes>"
      ]
     },
     "metadata": {
      "needs_background": "light"
     },
     "output_type": "display_data"
    }
   ],
   "source": [
    "import matplotlib.pyplot as plt\n",
    "plt.scatter(\n",
    "    embedding[:, 0],\n",
    "    embedding[:, 1],)\n",
    "plt.title('UMAP projection', fontsize=24)"
   ]
  },
  {
   "cell_type": "code",
   "execution_count": 25,
   "metadata": {},
   "outputs": [
    {
     "data": {
      "text/plain": [
       "513"
      ]
     },
     "execution_count": 25,
     "metadata": {},
     "output_type": "execute_result"
    }
   ],
   "source": [
    "np.sum(embedding[:,1]>-3)"
   ]
  }
 ],
 "metadata": {
  "interpreter": {
   "hash": "aa7a9f36e1a1e240450dbe9cc8f6d8df1d5301f36681fb271c44fdd883236b60"
  },
  "kernelspec": {
   "display_name": "Python 3.7.11 ('SV': conda)",
   "language": "python",
   "name": "python3"
  },
  "language_info": {
   "codemirror_mode": {
    "name": "ipython",
    "version": 3
   },
   "file_extension": ".py",
   "mimetype": "text/x-python",
   "name": "python",
   "nbconvert_exporter": "python",
   "pygments_lexer": "ipython3",
   "version": "3.7.12"
  },
  "orig_nbformat": 4
 },
 "nbformat": 4,
 "nbformat_minor": 2
}
