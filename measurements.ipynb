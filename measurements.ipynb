{
 "cells": [
  {
   "cell_type": "code",
   "execution_count": 1,
   "metadata": {},
   "outputs": [],
   "source": [
    "import torch\n",
    "import sys\n",
    "import os\n",
    "import numpy as np\n",
    "from umap.umap_ import find_ab_params\n",
    "\n",
    "from singleVis.SingleVisualizationModel import SingleVisualizationModel\n",
    "from singleVis.losses import SingleVisLoss, UmapLoss, ReconstructionLoss\n",
    "from singleVis.trainer import SingleVisTrainer\n",
    "from singleVis.data import DataProvider\n",
    "from singleVis.visualizer import visualizer\n",
    "import singleVis.config as config"
   ]
  },
  {
   "cell_type": "code",
   "execution_count": 2,
   "metadata": {},
   "outputs": [],
   "source": [
    "DATASET = \"fmnist\"\n",
    "# CONTENT_PATH = \"/home/xianglin/projects/DVI_data/TemporalExp/resnet18_{}\".format(DATASET)\n",
    "CONTENT_PATH = \"/home/xianglin/projects/DVI_data/resnet18_{}\".format(DATASET)\n",
    "DATASET = \"fmnist_full\""
   ]
  },
  {
   "cell_type": "code",
   "execution_count": 3,
   "metadata": {},
   "outputs": [],
   "source": [
    "content_path = CONTENT_PATH\n",
    "sys.path.append(content_path)"
   ]
  },
  {
   "cell_type": "code",
   "execution_count": 4,
   "metadata": {},
   "outputs": [],
   "source": [
    "from Model.model import *\n",
    "net = resnet18()\n",
    "classes = (\"airplane\", \"car\", \"bird\", \"cat\", \"deer\", \"dog\", \"frog\", \"horse\", \"ship\", \"truck\")"
   ]
  },
  {
   "cell_type": "code",
   "execution_count": 5,
   "metadata": {},
   "outputs": [
    {
     "name": "stdout",
     "output_type": "stream",
     "text": [
      "Finish initialization...\n",
      "Successfully load visualization model...\n"
     ]
    }
   ],
   "source": [
    "GPU_ID = 0\n",
    "LEN = config.dataset_config[DATASET][\"TRAINING_LEN\"]\n",
    "LAMBDA = config.dataset_config[DATASET][\"LAMBDA\"]\n",
    "L_BOUND = config.dataset_config[DATASET][\"L_BOUND\"]\n",
    "MAX_HAUSDORFF = config.dataset_config[DATASET][\"MAX_HAUSDORFF\"]\n",
    "ALPHA = config.dataset_config[DATASET][\"ALPHA\"]\n",
    "BETA = config.dataset_config[DATASET][\"BETA\"]\n",
    "INIT_NUM = config.dataset_config[DATASET][\"INIT_NUM\"]\n",
    "EPOCH_START = config.dataset_config[DATASET][\"EPOCH_START\"]\n",
    "EPOCH_END = config.dataset_config[DATASET][\"EPOCH_END\"]\n",
    "EPOCH_PERIOD = config.dataset_config[DATASET][\"EPOCH_PERIOD\"]\n",
    "\n",
    "# define hyperparameters\n",
    "DEVICE = torch.device(\"cuda:{:d}\".format(GPU_ID) if torch.cuda.is_available() else \"cpu\")\n",
    "S_N_EPOCHS = config.dataset_config[DATASET][\"training_config\"][\"S_N_EPOCHS\"]\n",
    "B_N_EPOCHS = config.dataset_config[DATASET][\"training_config\"][\"B_N_EPOCHS\"]\n",
    "T_N_EPOCHS = config.dataset_config[DATASET][\"training_config\"][\"T_N_EPOCHS\"]\n",
    "N_NEIGHBORS = config.dataset_config[DATASET][\"training_config\"][\"N_NEIGHBORS\"]\n",
    "PATIENT = config.dataset_config[DATASET][\"training_config\"][\"PATIENT\"]\n",
    "MAX_EPOCH = config.dataset_config[DATASET][\"training_config\"][\"MAX_EPOCH\"]\n",
    "\n",
    "\n",
    "data_provider = DataProvider(content_path, net, EPOCH_START, EPOCH_END, EPOCH_PERIOD, split=-1, device=DEVICE, verbose=1)\n",
    "model = SingleVisualizationModel(input_dims=512, output_dims=2, units=256)\n",
    "negative_sample_rate = 5\n",
    "min_dist = .1\n",
    "_a, _b = find_ab_params(1.0, min_dist)\n",
    "umap_loss_fn = UmapLoss(negative_sample_rate, DEVICE, _a, _b, repulsion_strength=1.0)\n",
    "recon_loss_fn = ReconstructionLoss(beta=1.0)\n",
    "criterion = SingleVisLoss(umap_loss_fn, recon_loss_fn, lambd=LAMBDA)\n",
    "\n",
    "optimizer = torch.optim.Adam(model.parameters(), lr=.01, weight_decay=1e-5)\n",
    "lr_scheduler = torch.optim.lr_scheduler.StepLR(optimizer, step_size=4, gamma=.1)\n",
    "\n",
    "trainer = SingleVisTrainer(model, criterion, optimizer, lr_scheduler, edge_loader=None, DEVICE=DEVICE)\n",
    "trainer.load(file_path=os.path.join(data_provider.model_path,\"tnn.pth\"))"
   ]
  },
  {
   "cell_type": "markdown",
   "metadata": {},
   "source": [
    "# temporal nn spearman ranking test"
   ]
  },
  {
   "cell_type": "code",
   "execution_count": 14,
   "metadata": {},
   "outputs": [],
   "source": [
    "EPOCH = 200"
   ]
  },
  {
   "cell_type": "code",
   "execution_count": 27,
   "metadata": {},
   "outputs": [],
   "source": [
    "all_train_repr = np.zeros((EPOCH,LEN,512))\n",
    "for i in range(1,201, 1):\n",
    "    all_train_repr[i-1] = data_provider.train_representation(i)\n",
    "\n",
    "model = trainer.model"
   ]
  },
  {
   "cell_type": "code",
   "execution_count": 28,
   "metadata": {},
   "outputs": [],
   "source": [
    "low_repr = np.zeros((EPOCH,LEN,2))\n",
    "for e in range(EPOCH):\n",
    "    low_repr[e] = model.encoder(torch.from_numpy(all_train_repr[e]).to(device=DEVICE).float()).detach().cpu().numpy()"
   ]
  },
  {
   "cell_type": "code",
   "execution_count": 10,
   "metadata": {},
   "outputs": [],
   "source": [
    "from scipy import stats"
   ]
  },
  {
   "cell_type": "code",
   "execution_count": 29,
   "metadata": {},
   "outputs": [],
   "source": [
    "# shape (200, 50000, 512)\n",
    "epochs = [i for i in range(EPOCH)]\n",
    "corrs = np.zeros((EPOCH,500))\n",
    "ps = np.zeros((EPOCH,500))\n",
    "for i in range(500):\n",
    "    high_embeddings = all_train_repr[:,i,:].squeeze()\n",
    "    low_embeddings = low_repr[:,i,:].squeeze()\n",
    "\n",
    "    for e in epochs:\n",
    "        high_dists = np.linalg.norm(high_embeddings - high_embeddings[e], axis=1)\n",
    "        low_dists = np.linalg.norm(low_embeddings - low_embeddings[e], axis=1)\n",
    "        corr, p = stats.spearmanr(high_dists, low_dists)\n",
    "        corrs[e][i] = corr\n",
    "        ps[e][i] = p\n"
   ]
  },
  {
   "cell_type": "code",
   "execution_count": null,
   "metadata": {},
   "outputs": [
    {
     "data": {
      "text/plain": [
       "<function matplotlib.pyplot.show(close=None, block=None)>"
      ]
     },
     "execution_count": 11,
     "metadata": {},
     "output_type": "execute_result"
    },
    {
     "data": {
      "image/png": "[encoded data removed]",
      "text/plain": [
       "<Figure size 432x288 with 1 Axes>"
      ]
     },
     "metadata": {
      "needs_background": "light"
     },
     "output_type": "display_data"
    }
   ],
   "source": [
    "import matplotlib.pyplot as plt\n",
    "mean_corr = np.mean(corrs, axis=1)\n",
    "var_corr = np.var(corrs, axis=1)\n",
    "\n",
    "mean_p = np.mean(ps, axis=1)\n",
    "var_p = np.var(ps, axis=1)\n",
    "\n",
    "\n",
    "p1 = plt.plot(epochs, mean_corr, \"b.-\", epochs, mean_p, \"r+-\")\n",
    "p2 = plt.fill_between(epochs, mean_corr-var_corr, mean_corr+var_corr)\n",
    "p3 = plt.fill_between(epochs, mean_p-var_p, mean_p+var_p)\n",
    "plt.show"
   ]
  },
  {
   "cell_type": "code",
   "execution_count": null,
   "metadata": {},
   "outputs": [
    {
     "data": {
      "text/plain": [
       "<function matplotlib.pyplot.show(close=None, block=None)>"
      ]
     },
     "execution_count": 12,
     "metadata": {},
     "output_type": "execute_result"
    },
    {
     "data": {
      "image/png": "[encoded data removed]",
      "text/plain": [
       "<Figure size 432x288 with 1 Axes>"
      ]
     },
     "metadata": {
      "needs_background": "light"
     },
     "output_type": "display_data"
    }
   ],
   "source": [
    "import matplotlib.pyplot as plt\n",
    "mean_corr = np.mean(corrs, axis=1)\n",
    "var_corr = np.var(corrs, axis=1)\n",
    "\n",
    "mean_p = np.mean(ps, axis=1)\n",
    "var_p = np.var(ps, axis=1)\n",
    "\n",
    "\n",
    "p1 = plt.plot(epochs, mean_corr, \"b.-\", epochs, mean_p, \"r+-\")\n",
    "p2 = plt.fill_between(epochs, mean_corr-var_corr, mean_corr+var_corr)\n",
    "p3 = plt.fill_between(epochs, mean_p-var_p, mean_p+var_p)\n",
    "plt.show"
   ]
  },
  {
   "cell_type": "code",
   "execution_count": 30,
   "metadata": {},
   "outputs": [
    {
     "data": {
      "text/plain": [
       "<function matplotlib.pyplot.show(close=None, block=None)>"
      ]
     },
     "execution_count": 30,
     "metadata": {},
     "output_type": "execute_result"
    },
    {
     "data": {
      "image/png": "[encoded data removed]",
      "text/plain": [
       "<Figure size 432x288 with 1 Axes>"
      ]
     },
     "metadata": {
      "needs_background": "light"
     },
     "output_type": "display_data"
    }
   ],
   "source": [
    "import matplotlib.pyplot as plt\n",
    "mean_corr = np.mean(corrs, axis=1)\n",
    "var_corr = np.var(corrs, axis=1)\n",
    "\n",
    "mean_p = np.mean(ps, axis=1)\n",
    "var_p = np.var(ps, axis=1)\n",
    "\n",
    "\n",
    "p1 = plt.plot(epochs, mean_corr, \"b-\", epochs, mean_p, \"r-\")\n",
    "p2 = plt.fill_between(epochs, mean_corr-var_corr, mean_corr+var_corr)\n",
    "p3 = plt.fill_between(epochs, mean_p-var_p, mean_p+var_p)\n",
    "plt.show"
   ]
  },
  {
   "cell_type": "markdown",
   "metadata": {},
   "source": [
    "# fixing invarient and Moving invarient"
   ]
  },
  {
   "cell_type": "code",
   "execution_count": 6,
   "metadata": {},
   "outputs": [],
   "source": [
    "from scipy.special import softmax\n",
    "from scipy import stats\n",
    "from scipy.spatial.distance import cosine"
   ]
  },
  {
   "cell_type": "code",
   "execution_count": 13,
   "metadata": {},
   "outputs": [],
   "source": [
    "e_s = 20\n",
    "e_t = 40"
   ]
  },
  {
   "cell_type": "code",
   "execution_count": 14,
   "metadata": {},
   "outputs": [
    {
     "name": "stderr",
     "output_type": "stream",
     "text": [
      "100%|██████████| 300/300 [00:00<00:00, 11258.26it/s]\n",
      "100%|██████████| 300/300 [00:00<00:00, 11153.28it/s]\n"
     ]
    }
   ],
   "source": [
    "train_data_s = data_provider.train_representation(e_s)\n",
    "train_data_t = data_provider.train_representation(e_t)\n",
    "pred_s = data_provider.get_pred(e_s, train_data_s)\n",
    "pred_t = data_provider.get_pred(e_t, train_data_t)\n",
    "\n",
    "labels = data_provider.train_labels(20)\n",
    "\n",
    "model = trainer.model\n",
    "\n",
    "low_s = model.encoder(torch.from_numpy(train_data_s).to(device=DEVICE).float()).detach().cpu().numpy()\n",
    "low_t = model.encoder(torch.from_numpy(train_data_t).to(device=DEVICE).float()).detach().cpu().numpy()\n"
   ]
  },
  {
   "cell_type": "markdown",
   "metadata": {},
   "source": [
    "## correlation between (kl div/js div/loss) and dists"
   ]
  },
  {
   "cell_type": "code",
   "execution_count": 9,
   "metadata": {},
   "outputs": [],
   "source": [
    "def kl_div(p, q):\n",
    "    return stats.entropy(p, q, base=2)\n",
    "\n",
    "\n",
    "def js_div(p, q):\n",
    "    M = (p+q)/2\n",
    "    return .5*kl_div(p, M)+.5*kl_div(q, M)"
   ]
  },
  {
   "cell_type": "code",
   "execution_count": 15,
   "metadata": {},
   "outputs": [
    {
     "data": {
      "text/plain": [
       "(0.5488607797007168, 0.0)"
      ]
     },
     "execution_count": 15,
     "metadata": {},
     "output_type": "execute_result"
    }
   ],
   "source": [
    "# kl\n",
    "softmax_s = softmax(pred_s, axis=1)\n",
    "softmax_t = softmax(pred_t, axis=1)\n",
    "kl_lists = [kl_div(softmax_s[i], softmax_t[i]) for i in range(len(softmax_t))]\n",
    "dists = [cosine(low_t[i], low_s[i]) for i in range(len(low_s))]\n",
    "corr, p = stats.spearmanr(kl_lists, dists)\n",
    "corr, p"
   ]
  },
  {
   "cell_type": "code",
   "execution_count": 11,
   "metadata": {},
   "outputs": [
    {
     "data": {
      "text/plain": [
       "(0.4541439913698421, 0.0)"
      ]
     },
     "execution_count": 11,
     "metadata": {},
     "output_type": "execute_result"
    }
   ],
   "source": [
    "# js\n",
    "js_lists = [js_div(softmax_s[i], softmax_t[i]) for i in range(len(softmax_t))]\n",
    "dists = [cosine(low_t[i], low_s[i]) for i in range(len(low_s))]\n",
    "corr, p = stats.spearmanr(js_lists, dists)\n",
    "corr, p"
   ]
  },
  {
   "cell_type": "code",
   "execution_count": 12,
   "metadata": {},
   "outputs": [
    {
     "data": {
      "text/plain": [
       "(0.4541439913698421, 0.0)"
      ]
     },
     "execution_count": 12,
     "metadata": {},
     "output_type": "execute_result"
    }
   ],
   "source": [
    "# loss\n",
    "loss_s = softmax_s[range(LEN), labels]\n",
    "loss_t = softmax_t[range(LEN), labels]\n",
    "loss_diff = np.abs(loss_s-loss_t)\n",
    "\n",
    "dists = [cosine(low_t[i], low_s[i]) for i in range(len(low_s))]\n",
    "corr, p = stats.spearmanr(js_lists, dists)\n",
    "corr, p"
   ]
  },
  {
   "cell_type": "markdown",
   "metadata": {},
   "source": [
    "## fixing and moving comparison"
   ]
  },
  {
   "cell_type": "code",
   "execution_count": 30,
   "metadata": {},
   "outputs": [],
   "source": [
    "# normalize low dimension distance\n",
    "mean_x = np.mean(low_t[:, 0])\n",
    "mean_y = np.mean(low_t[:, 1])\n",
    "low_t = low_t - [mean_x, mean_y]\n",
    "low_s = low_s - [mean_x, mean_y]\n",
    "\n",
    "max_n = np.linalg.norm(low_t)\n",
    "low_t = low_t/max_n*100\n",
    "low_s = low_s/max_n*100\n"
   ]
  },
  {
   "cell_type": "code",
   "execution_count": 31,
   "metadata": {},
   "outputs": [
    {
     "data": {
      "text/plain": [
       "(16.255549191454307, 0.050163385)"
      ]
     },
     "execution_count": 31,
     "metadata": {},
     "output_type": "execute_result"
    }
   ],
   "source": [
    "np.linalg.norm((train_data_s-train_data_t),axis=1).mean(), np.linalg.norm((low_s-low_t),axis=1).mean()"
   ]
  },
  {
   "cell_type": "code",
   "execution_count": 32,
   "metadata": {},
   "outputs": [
    {
     "name": "stdout",
     "output_type": "stream",
     "text": [
      "kl div\n",
      "fixing\t 15.75666724388946 0.041344266\n",
      "moving\t 19.623843760000035 0.3032372\n"
     ]
    }
   ],
   "source": [
    "selected = np.argsort(kl_lists)\n",
    "print(\"kl div\")\n",
    "print(\"fixing\\t\", np.linalg.norm((train_data_s-train_data_t)[selected[:100]],axis=1).mean(), np.linalg.norm((low_s-low_t)[selected[:100]],axis=1).mean())\n",
    "print(\"moving\\t\", np.linalg.norm((train_data_s-train_data_t)[selected[-100:]],axis=1).mean(), np.linalg.norm((low_s-low_t)[selected[-100:]],axis=1).mean())"
   ]
  },
  {
   "cell_type": "code",
   "execution_count": 47,
   "metadata": {},
   "outputs": [
    {
     "name": "stdout",
     "output_type": "stream",
     "text": [
      "js div\n",
      "fixing\t 0.2784126328281036 0.03147343\n",
      "moving\t 7.4485370476654165 0.4833563\n"
     ]
    }
   ],
   "source": [
    "selected = np.argsort(js_lists)\n",
    "print(\"js div\")\n",
    "print(\"fixing\\t\", np.linalg.norm((train_data_s-train_data_t)[selected[:100]],axis=1).mean(), np.linalg.norm((low_s-low_t)[selected[:100]],axis=1).mean())\n",
    "print(\"moving\\t\", np.linalg.norm((train_data_s-train_data_t)[selected[-100:]],axis=1).mean(), np.linalg.norm((low_s-low_t)[selected[-100:]],axis=1).mean())"
   ]
  },
  {
   "cell_type": "code",
   "execution_count": 48,
   "metadata": {},
   "outputs": [
    {
     "name": "stdout",
     "output_type": "stream",
     "text": [
      "loss diff\n",
      "fixing\t 0.46239914135667326 0.056479488\n",
      "moving\t 7.489972076625427 0.5053706\n"
     ]
    }
   ],
   "source": [
    "selected = np.argsort(loss_diff)\n",
    "print(\"loss diff\")\n",
    "print(\"fixing\\t\", np.linalg.norm((train_data_s-train_data_t)[selected[:100]],axis=1).mean(), np.linalg.norm((low_s-low_t)[selected[:100]],axis=1).mean())\n",
    "print(\"moving\\t\", np.linalg.norm((train_data_s-train_data_t)[selected[-100:]],axis=1).mean(), np.linalg.norm((low_s-low_t)[selected[-100:]],axis=1).mean())"
   ]
  },
  {
   "cell_type": "markdown",
   "metadata": {},
   "source": [
    "## inside(outside)-class moving dists"
   ]
  },
  {
   "cell_type": "code",
   "execution_count": 28,
   "metadata": {},
   "outputs": [
    {
     "name": "stdout",
     "output_type": "stream",
     "text": [
      "0 2.242571759038472 0.2807122\n",
      "1 1.9868760818159548 0.28744134\n",
      "2 2.234642765342308 0.06597897\n",
      "3 2.8872040254482236 0.27273202\n",
      "4 2.044586344685677 0.32637545\n",
      "5 2.11392919954649 0.12015249\n",
      "6 2.0157244661746603 0.16108343\n",
      "7 2.2055391471862493 0.1335515\n",
      "8 1.936219060649511 0.25233826\n",
      "9 1.9095602665506444 0.24290018\n"
     ]
    }
   ],
   "source": [
    "p_s = pred_s.argmax(axis=1)\n",
    "p_t = pred_t.argmax(axis=1)\n",
    "for i in range(10):\n",
    "    selected = np.logical_and(p_s==i, p_s==p_t)\n",
    "    print(i, np.linalg.norm((train_data_s-train_data_t)[selected],axis=1).mean(), np.linalg.norm((low_s-low_t)[selected],axis=1).mean())"
   ]
  },
  {
   "cell_type": "code",
   "execution_count": 29,
   "metadata": {},
   "outputs": [
    {
     "name": "stdout",
     "output_type": "stream",
     "text": [
      "0 5.213860885361575 0.4695684\n",
      "1 4.616854768709955 0.50073403\n",
      "2 4.994951531264888 0.32757828\n",
      "3 4.98905760160238 0.2608999\n",
      "4 5.323860879365539 0.35342965\n",
      "5 5.189055546448453 0.30009905\n",
      "6 5.12417897006201 0.23139767\n",
      "7 5.079772257519198 0.3576349\n",
      "8 5.080165057823443 0.28915018\n",
      "9 4.828743283767612 0.3504236\n"
     ]
    }
   ],
   "source": [
    "for i in range(10):\n",
    "    selected = np.logical_and(p_s==i, p_s!=p_t)\n",
    "    print(i, np.linalg.norm((train_data_s-train_data_t)[selected],axis=1).mean(), np.linalg.norm((low_s-low_t)[selected],axis=1).mean())"
   ]
  },
  {
   "cell_type": "markdown",
   "metadata": {},
   "source": [
    "## npr and prediction based measurements"
   ]
  },
  {
   "cell_type": "code",
   "execution_count": 32,
   "metadata": {},
   "outputs": [
    {
     "name": "stdout",
     "output_type": "stream",
     "text": [
      "0 2.176139782249106 0.29397196\n",
      "1 2.074862558706502 0.30089507\n",
      "2 2.1669348852993267 0.06359337\n",
      "3 2.573793916028262 0.27241808\n",
      "4 1.8849163680567051 0.28098086\n",
      "5 1.9835538611280263 0.11856113\n",
      "6 1.9314286626546866 0.1589594\n",
      "7 2.2124167143457223 0.1432588\n",
      "8 1.9322340303954333 0.2479699\n",
      "9 1.9192794587049762 0.25507292\n"
     ]
    }
   ],
   "source": [
    "from singleVis.backend import find_neighbor_preserving_rate\n",
    "\n",
    "npr = find_neighbor_preserving_rate(train_data_s, train_data_t, 15)\n",
    "selected_fix = np.logical_and(npr>0.1, p_s==p_t)\n",
    "for i in range(10):\n",
    "    selected = np.logical_and(selected_fix, p_s==i)\n",
    "    print(i, np.linalg.norm((train_data_s-train_data_t)[selected],axis=1).mean(), np.linalg.norm((low_s-low_t)[selected],axis=1).mean())"
   ]
  }
 ],
 "metadata": {
  "interpreter": {
   "hash": "aa7a9f36e1a1e240450dbe9cc8f6d8df1d5301f36681fb271c44fdd883236b60"
  },
  "kernelspec": {
   "display_name": "Python 3.7.11 ('SV': conda)",
   "language": "python",
   "name": "python3"
  },
  "language_info": {
   "codemirror_mode": {
    "name": "ipython",
    "version": 3
   },
   "file_extension": ".py",
   "mimetype": "text/x-python",
   "name": "python",
   "nbconvert_exporter": "python",
   "pygments_lexer": "ipython3",
   "version": "3.7.11"
  },
  "orig_nbformat": 4
 },
 "nbformat": 4,
 "nbformat_minor": 2
}
