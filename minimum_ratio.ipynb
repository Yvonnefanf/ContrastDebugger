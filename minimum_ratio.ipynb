{
 "cells": [
  {
   "cell_type": "markdown",
   "metadata": {},
   "source": [
    "# Investigate how many samples are enough for a epoch?"
   ]
  },
  {
   "cell_type": "code",
   "execution_count": 1,
   "metadata": {},
   "outputs": [],
   "source": [
    "from tkinter import NE\n",
    "from matplotlib.pyplot import axis\n",
    "import torch\n",
    "import sys\n",
    "import os\n",
    "import json\n",
    "import time\n",
    "import numpy as np\n",
    "import argparse\n",
    "import multiprocessing as mp\n",
    "import matplotlib.pyplot as plt\n",
    "\n",
    "from torch.utils.data import DataLoader\n",
    "from torch.utils.data import WeightedRandomSampler\n",
    "from umap.umap_ import find_ab_params\n",
    "\n",
    "from singleVis.custom_weighted_random_sampler import CustomWeightedRandomSampler\n",
    "from singleVis.SingleVisualizationModel import SingleVisualizationModel\n",
    "from singleVis.losses import SingleVisLoss, UmapLoss, ReconstructionLoss\n",
    "from singleVis.edge_dataset import DataHandler\n",
    "from singleVis.trainer import SingleVisTrainer\n",
    "from singleVis.data import DataProvider\n",
    "import singleVis.config as config\n",
    "from singleVis.eval.evaluator import Evaluator\n",
    "from singleVis.spatial_edge_constructor import kcParallelSpatialEdgeConstructor\n",
    "from singleVis.temporal_edge_constructor import GlobalParallelTemporalEdgeConstructor"
   ]
  },
  {
   "cell_type": "code",
   "execution_count": 2,
   "metadata": {},
   "outputs": [],
   "source": [
    "CONTENT_PATH = \"/home/xianglin/projects/DVI_data/resnet18_cifar10\"\n",
    "DATASET = \"cifar10_full\"\n",
    "PREPROCESS = 0\n",
    "GPU_ID = 2"
   ]
  },
  {
   "cell_type": "code",
   "execution_count": 3,
   "metadata": {},
   "outputs": [],
   "source": [
    "NET = config.dataset_config[DATASET][\"NET\"]\n",
    "LEN = config.dataset_config[DATASET][\"TRAINING_LEN\"]\n",
    "LAMBDA = config.dataset_config[DATASET][\"LAMBDA\"]\n",
    "L_BOUND = config.dataset_config[DATASET][\"L_BOUND\"]\n",
    "MAX_HAUSDORFF = config.dataset_config[DATASET][\"MAX_HAUSDORFF\"]\n",
    "ALPHA = config.dataset_config[DATASET][\"ALPHA\"]\n",
    "BETA = config.dataset_config[DATASET][\"BETA\"]\n",
    "INIT_NUM = config.dataset_config[DATASET][\"INIT_NUM\"]\n",
    "EPOCH_START = config.dataset_config[DATASET][\"EPOCH_START\"]\n",
    "EPOCH_END = config.dataset_config[DATASET][\"EPOCH_END\"]\n",
    "EPOCH_PERIOD = config.dataset_config[DATASET][\"EPOCH_PERIOD\"]\n",
    "\n",
    "# define hyperparameters\n",
    "DEVICE = torch.device(\"cuda:{:d}\".format(GPU_ID) if torch.cuda.is_available() else \"cpu\")\n",
    "S_N_EPOCHS = config.dataset_config[DATASET][\"training_config\"][\"S_N_EPOCHS\"]\n",
    "B_N_EPOCHS = config.dataset_config[DATASET][\"training_config\"][\"B_N_EPOCHS\"]\n",
    "T_N_EPOCHS = config.dataset_config[DATASET][\"training_config\"][\"T_N_EPOCHS\"]\n",
    "N_NEIGHBORS = config.dataset_config[DATASET][\"training_config\"][\"N_NEIGHBORS\"]\n",
    "PATIENT = config.dataset_config[DATASET][\"training_config\"][\"PATIENT\"]\n",
    "MAX_EPOCH = config.dataset_config[DATASET][\"training_config\"][\"MAX_EPOCH\"]"
   ]
  },
  {
   "cell_type": "code",
   "execution_count": 4,
   "metadata": {},
   "outputs": [],
   "source": [
    "content_path = CONTENT_PATH\n",
    "sys.path.append(content_path)\n",
    "\n",
    "# from Model.model import *\n",
    "import Model.model as subject_model\n",
    "# net = resnet18()\n",
    "net = eval(\"subject_model.{}()\".format(NET))\n",
    "classes = (\"airplane\", \"car\", \"bird\", \"cat\", \"deer\", \"dog\", \"frog\", \"horse\", \"ship\", \"truck\")"
   ]
  },
  {
   "cell_type": "code",
   "execution_count": 5,
   "metadata": {},
   "outputs": [],
   "source": [
    "save_dir = os.path.join(content_path, \"minimum_r\")\n",
    "if not os.path.exists(save_dir):\n",
    "    os.mkdir(save_dir)"
   ]
  },
  {
   "cell_type": "code",
   "execution_count": 6,
   "metadata": {},
   "outputs": [
    {
     "name": "stdout",
     "output_type": "stream",
     "text": [
      "Finish initialization...\n",
      "Calculating distances...\n",
      "calculating distances for 300 points within 0.34 seconds...\n",
      "Hausdorff distance is 0.25 with 400 points\n",
      "=================+++=1=+++================\n",
      "Calculating distances...\n",
      "calculating distances for 300 points within 0.36 seconds...\n",
      "Hausdorff distance is 0.25 with 400 points\n",
      "Finish calculating normaling factor\n",
      "Calculating distances...\n",
      "calculating distances for 300 points within 0.38 seconds...\n",
      "Hausdorff distance is 0.40 with 303 points\n",
      "select 303 points\n",
      "Mon Apr  4 20:58:31 2022 Building RP forest with 6 trees\n",
      "Mon Apr  4 20:58:31 2022 NN descent for 8 iterations\n",
      "\t 1  /  8\n",
      "\t 2  /  8\n",
      "\t 3  /  8\n",
      "\tStopping threshold met -- exiting after 3 iterations\n",
      "Gradients calculation: 3.00 seconds\tsoftmax with temperature: 0.00 seconds\n",
      "====================\n",
      "epoch:1\n",
      "===================\n"
     ]
    },
    {
     "name": "stderr",
     "output_type": "stream",
     "text": [
      "100%|██████████| 178/178 [00:03<00:00, 50.62it/s]\n"
     ]
    },
    {
     "name": "stdout",
     "output_type": "stream",
     "text": [
      "umap:0.6224\trecon_l:0.2622\tloss:3.2446\n",
      "====================\n",
      "epoch:2\n",
      "===================\n"
     ]
    },
    {
     "name": "stderr",
     "output_type": "stream",
     "text": [
      "100%|██████████| 178/178 [00:03<00:00, 49.62it/s]\n"
     ]
    },
    {
     "name": "stdout",
     "output_type": "stream",
     "text": [
      "umap:0.3563\trecon_l:0.1477\tloss:1.8332\n",
      "====================\n",
      "epoch:3\n",
      "===================\n"
     ]
    },
    {
     "name": "stderr",
     "output_type": "stream",
     "text": [
      "100%|██████████| 178/178 [00:03<00:00, 48.80it/s]\n"
     ]
    },
    {
     "name": "stdout",
     "output_type": "stream",
     "text": [
      "umap:0.3488\trecon_l:0.1457\tloss:1.8054\n",
      "====================\n",
      "epoch:4\n",
      "===================\n"
     ]
    },
    {
     "name": "stderr",
     "output_type": "stream",
     "text": [
      "100%|██████████| 178/178 [00:03<00:00, 48.56it/s]\n"
     ]
    },
    {
     "name": "stdout",
     "output_type": "stream",
     "text": [
      "umap:0.3437\trecon_l:0.1444\tloss:1.7872\n",
      "====================\n",
      "epoch:5\n",
      "===================\n"
     ]
    },
    {
     "name": "stderr",
     "output_type": "stream",
     "text": [
      "100%|██████████| 178/178 [00:03<00:00, 49.00it/s]\n"
     ]
    },
    {
     "name": "stdout",
     "output_type": "stream",
     "text": [
      "umap:0.3415\trecon_l:0.1434\tloss:1.7753\n",
      "====================\n",
      "epoch:6\n",
      "===================\n"
     ]
    },
    {
     "name": "stderr",
     "output_type": "stream",
     "text": [
      "100%|██████████| 178/178 [00:03<00:00, 49.90it/s]\n"
     ]
    },
    {
     "name": "stdout",
     "output_type": "stream",
     "text": [
      "umap:0.3400\trecon_l:0.1433\tloss:1.7727\n",
      "====================\n",
      "epoch:7\n",
      "===================\n"
     ]
    },
    {
     "name": "stderr",
     "output_type": "stream",
     "text": [
      "100%|██████████| 178/178 [00:03<00:00, 48.28it/s]\n"
     ]
    },
    {
     "name": "stdout",
     "output_type": "stream",
     "text": [
      "umap:0.3399\trecon_l:0.1429\tloss:1.7691\n",
      "====================\n",
      "epoch:8\n",
      "===================\n"
     ]
    },
    {
     "name": "stderr",
     "output_type": "stream",
     "text": [
      "100%|██████████| 178/178 [00:03<00:00, 47.78it/s]\n"
     ]
    },
    {
     "name": "stdout",
     "output_type": "stream",
     "text": [
      "umap:0.3386\trecon_l:0.1428\tloss:1.7670\n",
      "====================\n",
      "epoch:9\n",
      "===================\n"
     ]
    },
    {
     "name": "stderr",
     "output_type": "stream",
     "text": [
      "100%|██████████| 178/178 [00:03<00:00, 47.95it/s]\n"
     ]
    },
    {
     "name": "stdout",
     "output_type": "stream",
     "text": [
      "umap:0.3389\trecon_l:0.1429\tloss:1.7679\n",
      "Time spend: 32.76 for training vis model...\n",
      "Mon Apr  4 20:59:10 2022 Building RP forest with 16 trees\n",
      "Mon Apr  4 20:59:10 2022 NN descent for 16 iterations\n",
      "\t 1  /  16\n",
      "\t 2  /  16\n",
      "\t 3  /  16\n",
      "\t 4  /  16\n",
      "\t 5  /  16\n",
      "\t 6  /  16\n",
      "\t 7  /  16\n",
      "\t 8  /  16\n",
      "\t 9  /  16\n",
      "\tStopping threshold met -- exiting after 9 iterations\n",
      "Mon Apr  4 20:59:13 2022 Building RP forest with 16 trees\n",
      "Mon Apr  4 20:59:13 2022 NN descent for 16 iterations\n",
      "\t 1  /  16\n",
      "\t 2  /  16\n",
      "\tStopping threshold met -- exiting after 2 iterations\n",
      "#train# nn preserving: 1.08/15 in epoch 1\n",
      "Mon Apr  4 20:59:16 2022 Building RP forest with 17 trees\n",
      "Mon Apr  4 20:59:17 2022 NN descent for 16 iterations\n",
      "\t 1  /  16\n",
      "\t 2  /  16\n",
      "\t 3  /  16\n",
      "\t 4  /  16\n",
      "\t 5  /  16\n",
      "\t 6  /  16\n",
      "\t 7  /  16\n",
      "\t 8  /  16\n",
      "\t 9  /  16\n",
      "\tStopping threshold met -- exiting after 9 iterations\n",
      "Mon Apr  4 20:59:20 2022 Building RP forest with 17 trees\n",
      "Mon Apr  4 20:59:20 2022 NN descent for 16 iterations\n",
      "\t 1  /  16\n",
      "\t 2  /  16\n",
      "\tStopping threshold met -- exiting after 2 iterations\n",
      "#test# nn preserving : 1.07/15 in epoch 1\n",
      "#train# boundary preserving: 1.43/15 in epoch 1\n",
      "#test# boundary preserving: 1.46/15 in epoch 1\n"
     ]
    },
    {
     "name": "stderr",
     "output_type": "stream",
     "text": [
      "100%|██████████| 250/250 [00:00<00:00, 11727.20it/s]\n",
      "100%|██████████| 250/250 [00:00<00:00, 11651.10it/s]\n"
     ]
    },
    {
     "name": "stdout",
     "output_type": "stream",
     "text": [
      "#train# PPR: 0.35 in epoch 1\n"
     ]
    },
    {
     "name": "stderr",
     "output_type": "stream",
     "text": [
      "100%|██████████| 50/50 [00:00<00:00, 12439.36it/s]\n",
      "100%|██████████| 50/50 [00:00<00:00, 12641.06it/s]\n"
     ]
    },
    {
     "name": "stdout",
     "output_type": "stream",
     "text": [
      "#test# PPR: 0.35 in epoch 1\n",
      "Finish initialization...\n",
      "Calculating distances...\n",
      "calculating distances for 300 points within 0.35 seconds...\n",
      "Hausdorff distance is 0.25 with 400 points\n",
      "=================+++=1=+++================\n",
      "Calculating distances...\n",
      "calculating distances for 300 points within 0.36 seconds...\n",
      "Hausdorff distance is 0.25 with 400 points\n",
      "Finish calculating normaling factor\n",
      "Calculating distances...\n",
      "calculating distances for 300 points within 0.37 seconds...\n",
      "Hausdorff distance is 0.30 with 319 points\n",
      "select 319 points\n",
      "Mon Apr  4 20:59:42 2022 Building RP forest with 6 trees\n",
      "Mon Apr  4 20:59:42 2022 NN descent for 8 iterations\n",
      "\t 1  /  8\n",
      "\t 2  /  8\n",
      "\t 3  /  8\n",
      "\tStopping threshold met -- exiting after 3 iterations\n",
      "Gradients calculation: 3.00 seconds\tsoftmax with temperature: 0.00 seconds\n",
      "====================\n",
      "epoch:1\n",
      "===================\n"
     ]
    },
    {
     "name": "stderr",
     "output_type": "stream",
     "text": [
      "100%|██████████| 179/179 [00:03<00:00, 48.23it/s]\n"
     ]
    },
    {
     "name": "stdout",
     "output_type": "stream",
     "text": [
      "umap:0.6506\trecon_l:0.3073\tloss:3.7231\n",
      "====================\n",
      "epoch:2\n",
      "===================\n"
     ]
    },
    {
     "name": "stderr",
     "output_type": "stream",
     "text": [
      "100%|██████████| 179/179 [00:03<00:00, 50.43it/s]\n"
     ]
    },
    {
     "name": "stdout",
     "output_type": "stream",
     "text": [
      "umap:0.3566\trecon_l:0.1543\tloss:1.8991\n",
      "====================\n",
      "epoch:3\n",
      "===================\n"
     ]
    },
    {
     "name": "stderr",
     "output_type": "stream",
     "text": [
      "100%|██████████| 179/179 [00:03<00:00, 48.96it/s]\n"
     ]
    },
    {
     "name": "stdout",
     "output_type": "stream",
     "text": [
      "umap:0.3503\trecon_l:0.1520\tloss:1.8701\n",
      "====================\n",
      "epoch:4\n",
      "===================\n"
     ]
    },
    {
     "name": "stderr",
     "output_type": "stream",
     "text": [
      "100%|██████████| 179/179 [00:03<00:00, 51.70it/s]\n"
     ]
    },
    {
     "name": "stdout",
     "output_type": "stream",
     "text": [
      "umap:0.3462\trecon_l:0.1510\tloss:1.8566\n",
      "====================\n",
      "epoch:5\n",
      "===================\n"
     ]
    },
    {
     "name": "stderr",
     "output_type": "stream",
     "text": [
      "100%|██████████| 179/179 [00:03<00:00, 51.35it/s]\n"
     ]
    },
    {
     "name": "stdout",
     "output_type": "stream",
     "text": [
      "umap:0.3418\trecon_l:0.1489\tloss:1.8304\n",
      "====================\n",
      "epoch:6\n",
      "===================\n"
     ]
    },
    {
     "name": "stderr",
     "output_type": "stream",
     "text": [
      "100%|██████████| 179/179 [00:03<00:00, 51.05it/s]\n"
     ]
    },
    {
     "name": "stdout",
     "output_type": "stream",
     "text": [
      "umap:0.3414\trecon_l:0.1485\tloss:1.8269\n",
      "====================\n",
      "epoch:7\n",
      "===================\n"
     ]
    },
    {
     "name": "stderr",
     "output_type": "stream",
     "text": [
      "100%|██████████| 179/179 [00:03<00:00, 50.29it/s]\n"
     ]
    },
    {
     "name": "stdout",
     "output_type": "stream",
     "text": [
      "umap:0.3408\trecon_l:0.1479\tloss:1.8193\n",
      "====================\n",
      "epoch:8\n",
      "===================\n"
     ]
    },
    {
     "name": "stderr",
     "output_type": "stream",
     "text": [
      "100%|██████████| 179/179 [00:03<00:00, 51.83it/s]\n"
     ]
    },
    {
     "name": "stdout",
     "output_type": "stream",
     "text": [
      "umap:0.3400\trecon_l:0.1483\tloss:1.8226\n",
      "====================\n",
      "epoch:9\n",
      "===================\n"
     ]
    },
    {
     "name": "stderr",
     "output_type": "stream",
     "text": [
      "100%|██████████| 179/179 [00:03<00:00, 49.56it/s]\n"
     ]
    },
    {
     "name": "stdout",
     "output_type": "stream",
     "text": [
      "umap:0.3391\trecon_l:0.1479\tloss:1.8183\n",
      "Time spend: 32.01 for training vis model...\n",
      "Mon Apr  4 21:00:18 2022 Building RP forest with 16 trees\n",
      "Mon Apr  4 21:00:19 2022 NN descent for 16 iterations\n",
      "\t 1  /  16\n",
      "\t 2  /  16\n",
      "\t 3  /  16\n",
      "\t 4  /  16\n",
      "\t 5  /  16\n",
      "\t 6  /  16\n",
      "\t 7  /  16\n",
      "\t 8  /  16\n",
      "\t 9  /  16\n",
      "\tStopping threshold met -- exiting after 9 iterations\n",
      "Mon Apr  4 21:00:22 2022 Building RP forest with 16 trees\n",
      "Mon Apr  4 21:00:22 2022 NN descent for 16 iterations\n",
      "\t 1  /  16\n",
      "\t 2  /  16\n",
      "\tStopping threshold met -- exiting after 2 iterations\n",
      "#train# nn preserving: 1.08/15 in epoch 1\n",
      "Mon Apr  4 21:00:24 2022 Building RP forest with 17 trees\n",
      "Mon Apr  4 21:00:25 2022 NN descent for 16 iterations\n",
      "\t 1  /  16\n",
      "\t 2  /  16\n",
      "\t 3  /  16\n",
      "\t 4  /  16\n",
      "\t 5  /  16\n",
      "\t 6  /  16\n",
      "\t 7  /  16\n",
      "\t 8  /  16\n",
      "\t 9  /  16\n",
      "\tStopping threshold met -- exiting after 9 iterations\n",
      "Mon Apr  4 21:00:28 2022 Building RP forest with 17 trees\n",
      "Mon Apr  4 21:00:29 2022 NN descent for 16 iterations\n",
      "\t 1  /  16\n",
      "\t 2  /  16\n",
      "\tStopping threshold met -- exiting after 2 iterations\n",
      "#test# nn preserving : 1.07/15 in epoch 1\n",
      "#train# boundary preserving: 1.37/15 in epoch 1\n",
      "#test# boundary preserving: 1.38/15 in epoch 1\n"
     ]
    },
    {
     "name": "stderr",
     "output_type": "stream",
     "text": [
      "100%|██████████| 250/250 [00:00<00:00, 11745.59it/s]\n",
      "100%|██████████| 250/250 [00:00<00:00, 11741.52it/s]\n"
     ]
    },
    {
     "name": "stdout",
     "output_type": "stream",
     "text": [
      "#train# PPR: 0.36 in epoch 1\n"
     ]
    },
    {
     "name": "stderr",
     "output_type": "stream",
     "text": [
      "100%|██████████| 50/50 [00:00<00:00, 12234.71it/s]\n",
      "100%|██████████| 50/50 [00:00<00:00, 12094.30it/s]\n"
     ]
    },
    {
     "name": "stdout",
     "output_type": "stream",
     "text": [
      "#test# PPR: 0.35 in epoch 1\n",
      "Finish initialization...\n",
      "Calculating distances...\n",
      "calculating distances for 300 points within 0.34 seconds...\n",
      "Hausdorff distance is 0.25 with 400 points\n",
      "=================+++=1=+++================\n",
      "Calculating distances...\n",
      "calculating distances for 300 points within 0.37 seconds...\n",
      "Hausdorff distance is 0.25 with 400 points\n",
      "Finish calculating normaling factor\n",
      "Calculating distances...\n",
      "calculating distances for 300 points within 0.37 seconds...\n",
      "Hausdorff distance is 0.28 with 336 points\n",
      "select 336 points\n",
      "Mon Apr  4 21:00:50 2022 Building RP forest with 6 trees\n",
      "Mon Apr  4 21:00:51 2022 NN descent for 8 iterations\n",
      "\t 1  /  8\n",
      "\t 2  /  8\n",
      "\t 3  /  8\n",
      "\tStopping threshold met -- exiting after 3 iterations\n",
      "Gradients calculation: 3.00 seconds\tsoftmax with temperature: 0.00 seconds\n",
      "====================\n",
      "epoch:1\n",
      "===================\n"
     ]
    },
    {
     "name": "stderr",
     "output_type": "stream",
     "text": [
      "100%|██████████| 180/180 [00:03<00:00, 48.59it/s]\n"
     ]
    },
    {
     "name": "stdout",
     "output_type": "stream",
     "text": [
      "umap:0.6501\trecon_l:0.2725\tloss:3.3749\n",
      "====================\n",
      "epoch:2\n",
      "===================\n"
     ]
    },
    {
     "name": "stderr",
     "output_type": "stream",
     "text": [
      "100%|██████████| 180/180 [00:03<00:00, 49.49it/s]\n"
     ]
    },
    {
     "name": "stdout",
     "output_type": "stream",
     "text": [
      "umap:0.3987\trecon_l:0.1702\tloss:2.1012\n",
      "====================\n",
      "epoch:3\n",
      "===================\n"
     ]
    },
    {
     "name": "stderr",
     "output_type": "stream",
     "text": [
      "100%|██████████| 180/180 [00:03<00:00, 48.29it/s]\n"
     ]
    },
    {
     "name": "stdout",
     "output_type": "stream",
     "text": [
      "umap:0.3685\trecon_l:0.1647\tloss:2.0156\n",
      "====================\n",
      "epoch:4\n",
      "===================\n"
     ]
    },
    {
     "name": "stderr",
     "output_type": "stream",
     "text": [
      "100%|██████████| 180/180 [00:03<00:00, 48.86it/s]\n"
     ]
    },
    {
     "name": "stdout",
     "output_type": "stream",
     "text": [
      "umap:0.3559\trecon_l:0.1633\tloss:1.9891\n",
      "====================\n",
      "epoch:5\n",
      "===================\n"
     ]
    },
    {
     "name": "stderr",
     "output_type": "stream",
     "text": [
      "100%|██████████| 180/180 [00:03<00:00, 47.61it/s]\n"
     ]
    },
    {
     "name": "stdout",
     "output_type": "stream",
     "text": [
      "umap:0.3509\trecon_l:0.1611\tloss:1.9619\n",
      "====================\n",
      "epoch:6\n",
      "===================\n"
     ]
    },
    {
     "name": "stderr",
     "output_type": "stream",
     "text": [
      "100%|██████████| 180/180 [00:03<00:00, 47.59it/s]\n"
     ]
    },
    {
     "name": "stdout",
     "output_type": "stream",
     "text": [
      "umap:0.3493\trecon_l:0.1611\tloss:1.9604\n",
      "====================\n",
      "epoch:7\n",
      "===================\n"
     ]
    },
    {
     "name": "stderr",
     "output_type": "stream",
     "text": [
      "100%|██████████| 180/180 [00:03<00:00, 48.32it/s]\n"
     ]
    },
    {
     "name": "stdout",
     "output_type": "stream",
     "text": [
      "umap:0.3483\trecon_l:0.1605\tloss:1.9531\n",
      "====================\n",
      "epoch:8\n",
      "===================\n"
     ]
    },
    {
     "name": "stderr",
     "output_type": "stream",
     "text": [
      "100%|██████████| 180/180 [00:03<00:00, 50.19it/s]\n"
     ]
    },
    {
     "name": "stdout",
     "output_type": "stream",
     "text": [
      "umap:0.3479\trecon_l:0.1598\tloss:1.9463\n",
      "====================\n",
      "epoch:9\n",
      "===================\n"
     ]
    },
    {
     "name": "stderr",
     "output_type": "stream",
     "text": [
      "100%|██████████| 180/180 [00:03<00:00, 49.61it/s]\n"
     ]
    },
    {
     "name": "stdout",
     "output_type": "stream",
     "text": [
      "umap:0.3460\trecon_l:0.1601\tloss:1.9467\n",
      "Time spend: 33.27 for training vis model...\n",
      "Mon Apr  4 21:01:28 2022 Building RP forest with 16 trees\n",
      "Mon Apr  4 21:01:28 2022 NN descent for 16 iterations\n",
      "\t 1  /  16\n",
      "\t 2  /  16\n",
      "\t 3  /  16\n",
      "\t 4  /  16\n",
      "\t 5  /  16\n",
      "\t 6  /  16\n",
      "\t 7  /  16\n",
      "\t 8  /  16\n",
      "\tStopping threshold met -- exiting after 8 iterations\n",
      "Mon Apr  4 21:01:31 2022 Building RP forest with 16 trees\n",
      "Mon Apr  4 21:01:31 2022 NN descent for 16 iterations\n",
      "\t 1  /  16\n",
      "\t 2  /  16\n",
      "\tStopping threshold met -- exiting after 2 iterations\n",
      "#train# nn preserving: 1.06/15 in epoch 1\n",
      "Mon Apr  4 21:01:34 2022 Building RP forest with 17 trees\n",
      "Mon Apr  4 21:01:34 2022 NN descent for 16 iterations\n",
      "\t 1  /  16\n",
      "\t 2  /  16\n",
      "\t 3  /  16\n",
      "\t 4  /  16\n",
      "\t 5  /  16\n",
      "\t 6  /  16\n",
      "\t 7  /  16\n",
      "\t 8  /  16\n",
      "\t 9  /  16\n",
      "\tStopping threshold met -- exiting after 9 iterations\n",
      "Mon Apr  4 21:01:38 2022 Building RP forest with 17 trees\n",
      "Mon Apr  4 21:01:38 2022 NN descent for 16 iterations\n",
      "\t 1  /  16\n",
      "\t 2  /  16\n",
      "\tStopping threshold met -- exiting after 2 iterations\n",
      "#test# nn preserving : 1.05/15 in epoch 1\n",
      "#train# boundary preserving: 1.34/15 in epoch 1\n",
      "#test# boundary preserving: 1.34/15 in epoch 1\n"
     ]
    },
    {
     "name": "stderr",
     "output_type": "stream",
     "text": [
      "100%|██████████| 250/250 [00:00<00:00, 11476.15it/s]\n",
      "100%|██████████| 250/250 [00:00<00:00, 11488.73it/s]"
     ]
    },
    {
     "name": "stdout",
     "output_type": "stream",
     "text": [
      "#train# PPR: 0.35 in epoch 1\n"
     ]
    },
    {
     "name": "stderr",
     "output_type": "stream",
     "text": [
      "\n",
      "100%|██████████| 50/50 [00:00<00:00, 12104.77it/s]\n",
      "100%|██████████| 50/50 [00:00<00:00, 12115.26it/s]\n"
     ]
    },
    {
     "name": "stdout",
     "output_type": "stream",
     "text": [
      "#test# PPR: 0.35 in epoch 1\n",
      "Finish initialization...\n",
      "Calculating distances...\n",
      "calculating distances for 300 points within 0.34 seconds...\n",
      "Hausdorff distance is 0.25 with 400 points\n",
      "=================+++=1=+++================\n",
      "Calculating distances...\n",
      "calculating distances for 300 points within 0.34 seconds...\n",
      "Hausdorff distance is 0.25 with 400 points\n",
      "Finish calculating normaling factor\n",
      "Calculating distances...\n",
      "calculating distances for 300 points within 0.35 seconds...\n",
      "Hausdorff distance is 0.26 with 383 points\n",
      "select 383 points\n",
      "Mon Apr  4 21:02:01 2022 Building RP forest with 6 trees\n",
      "Mon Apr  4 21:02:02 2022 NN descent for 9 iterations\n",
      "\t 1  /  9\n",
      "\t 2  /  9\n",
      "\t 3  /  9\n",
      "\t 4  /  9\n",
      "\tStopping threshold met -- exiting after 4 iterations\n",
      "Gradients calculation: 4.00 seconds\tsoftmax with temperature: 0.00 seconds\n",
      "====================\n",
      "epoch:1\n",
      "===================\n"
     ]
    },
    {
     "name": "stderr",
     "output_type": "stream",
     "text": [
      "100%|██████████| 183/183 [00:03<00:00, 47.44it/s]\n"
     ]
    },
    {
     "name": "stdout",
     "output_type": "stream",
     "text": [
      "umap:0.8335\trecon_l:0.8264\tloss:9.0971\n",
      "====================\n",
      "epoch:2\n",
      "===================\n"
     ]
    },
    {
     "name": "stderr",
     "output_type": "stream",
     "text": [
      "100%|██████████| 183/183 [00:03<00:00, 47.43it/s]\n"
     ]
    },
    {
     "name": "stdout",
     "output_type": "stream",
     "text": [
      "umap:0.4251\trecon_l:0.1804\tloss:2.2295\n",
      "====================\n",
      "epoch:3\n",
      "===================\n"
     ]
    },
    {
     "name": "stderr",
     "output_type": "stream",
     "text": [
      "100%|██████████| 183/183 [00:03<00:00, 48.15it/s]\n"
     ]
    },
    {
     "name": "stdout",
     "output_type": "stream",
     "text": [
      "umap:0.3869\trecon_l:0.1768\tloss:2.1550\n",
      "====================\n",
      "epoch:4\n",
      "===================\n"
     ]
    },
    {
     "name": "stderr",
     "output_type": "stream",
     "text": [
      "100%|██████████| 183/183 [00:03<00:00, 47.55it/s]\n"
     ]
    },
    {
     "name": "stdout",
     "output_type": "stream",
     "text": [
      "umap:0.3686\trecon_l:0.1756\tloss:2.1242\n",
      "====================\n",
      "epoch:5\n",
      "===================\n"
     ]
    },
    {
     "name": "stderr",
     "output_type": "stream",
     "text": [
      "100%|██████████| 183/183 [00:03<00:00, 47.84it/s]\n"
     ]
    },
    {
     "name": "stdout",
     "output_type": "stream",
     "text": [
      "umap:0.3647\trecon_l:0.1720\tloss:2.0848\n",
      "====================\n",
      "epoch:6\n",
      "===================\n"
     ]
    },
    {
     "name": "stderr",
     "output_type": "stream",
     "text": [
      "100%|██████████| 183/183 [00:03<00:00, 49.15it/s]\n"
     ]
    },
    {
     "name": "stdout",
     "output_type": "stream",
     "text": [
      "umap:0.3654\trecon_l:0.1696\tloss:2.0612\n",
      "====================\n",
      "epoch:7\n",
      "===================\n"
     ]
    },
    {
     "name": "stderr",
     "output_type": "stream",
     "text": [
      "100%|██████████| 183/183 [00:03<00:00, 47.61it/s]\n"
     ]
    },
    {
     "name": "stdout",
     "output_type": "stream",
     "text": [
      "umap:0.3650\trecon_l:0.1682\tloss:2.0470\n",
      "====================\n",
      "epoch:8\n",
      "===================\n"
     ]
    },
    {
     "name": "stderr",
     "output_type": "stream",
     "text": [
      "100%|██████████| 183/183 [00:03<00:00, 47.16it/s]\n"
     ]
    },
    {
     "name": "stdout",
     "output_type": "stream",
     "text": [
      "umap:0.3636\trecon_l:0.1681\tloss:2.0443\n",
      "====================\n",
      "epoch:9\n",
      "===================\n"
     ]
    },
    {
     "name": "stderr",
     "output_type": "stream",
     "text": [
      "100%|██████████| 183/183 [00:03<00:00, 47.43it/s]\n"
     ]
    },
    {
     "name": "stdout",
     "output_type": "stream",
     "text": [
      "umap:0.3631\trecon_l:0.1676\tloss:2.0392\n",
      "====================\n",
      "epoch:10\n",
      "===================\n"
     ]
    },
    {
     "name": "stderr",
     "output_type": "stream",
     "text": [
      "100%|██████████| 183/183 [00:03<00:00, 47.41it/s]\n"
     ]
    },
    {
     "name": "stdout",
     "output_type": "stream",
     "text": [
      "umap:0.3623\trecon_l:0.1679\tloss:2.0409\n",
      "====================\n",
      "epoch:11\n",
      "===================\n"
     ]
    },
    {
     "name": "stderr",
     "output_type": "stream",
     "text": [
      "100%|██████████| 183/183 [00:03<00:00, 47.76it/s]\n"
     ]
    },
    {
     "name": "stdout",
     "output_type": "stream",
     "text": [
      "umap:0.3621\trecon_l:0.1680\tloss:2.0420\n",
      "Time spend: 42.21 for training vis model...\n",
      "Mon Apr  4 21:02:48 2022 Building RP forest with 16 trees\n",
      "Mon Apr  4 21:02:49 2022 NN descent for 16 iterations\n",
      "\t 1  /  16\n",
      "\t 2  /  16\n",
      "\t 3  /  16\n",
      "\t 4  /  16\n",
      "\t 5  /  16\n",
      "\t 6  /  16\n",
      "\t 7  /  16\n",
      "\t 8  /  16\n",
      "\t 9  /  16\n",
      "\tStopping threshold met -- exiting after 9 iterations\n",
      "Mon Apr  4 21:02:52 2022 Building RP forest with 16 trees\n",
      "Mon Apr  4 21:02:52 2022 NN descent for 16 iterations\n",
      "\t 1  /  16\n",
      "\t 2  /  16\n",
      "\tStopping threshold met -- exiting after 2 iterations\n",
      "#train# nn preserving: 1.06/15 in epoch 1\n",
      "Mon Apr  4 21:02:54 2022 Building RP forest with 17 trees\n",
      "Mon Apr  4 21:02:55 2022 NN descent for 16 iterations\n",
      "\t 1  /  16\n",
      "\t 2  /  16\n",
      "\t 3  /  16\n",
      "\t 4  /  16\n",
      "\t 5  /  16\n",
      "\t 6  /  16\n",
      "\t 7  /  16\n",
      "\t 8  /  16\n",
      "\t 9  /  16\n",
      "\tStopping threshold met -- exiting after 9 iterations\n",
      "Mon Apr  4 21:02:58 2022 Building RP forest with 17 trees\n",
      "Mon Apr  4 21:02:59 2022 NN descent for 16 iterations\n",
      "\t 1  /  16\n",
      "\t 2  /  16\n",
      "\tStopping threshold met -- exiting after 2 iterations\n",
      "#test# nn preserving : 1.05/15 in epoch 1\n",
      "#train# boundary preserving: 1.25/15 in epoch 1\n",
      "#test# boundary preserving: 1.26/15 in epoch 1\n"
     ]
    },
    {
     "name": "stderr",
     "output_type": "stream",
     "text": [
      "100%|██████████| 250/250 [00:00<00:00, 11487.59it/s]\n",
      "100%|██████████| 250/250 [00:00<00:00, 11331.67it/s]\n"
     ]
    },
    {
     "name": "stdout",
     "output_type": "stream",
     "text": [
      "#train# PPR: 0.35 in epoch 1\n"
     ]
    },
    {
     "name": "stderr",
     "output_type": "stream",
     "text": [
      "100%|██████████| 50/50 [00:00<00:00, 12077.59it/s]\n",
      "100%|██████████| 50/50 [00:00<00:00, 11644.38it/s]\n"
     ]
    },
    {
     "name": "stdout",
     "output_type": "stream",
     "text": [
      "#test# PPR: 0.36 in epoch 1\n",
      "Finish initialization...\n",
      "Calculating distances...\n",
      "calculating distances for 300 points within 0.34 seconds...\n",
      "Hausdorff distance is 0.25 with 400 points\n",
      "=================+++=1=+++================\n",
      "Calculating distances...\n",
      "calculating distances for 300 points within 0.34 seconds...\n",
      "Hausdorff distance is 0.25 with 400 points\n",
      "Finish calculating normaling factor\n",
      "Calculating distances...\n",
      "calculating distances for 300 points within 0.36 seconds...\n",
      "Hausdorff distance is 0.24 with 474 points\n",
      "select 474 points\n",
      "Mon Apr  4 21:03:25 2022 Building RP forest with 6 trees\n",
      "Mon Apr  4 21:03:25 2022 NN descent for 9 iterations\n",
      "\t 1  /  9\n",
      "\t 2  /  9\n",
      "\t 3  /  9\n",
      "\tStopping threshold met -- exiting after 3 iterations\n",
      "Gradients calculation: 3.00 seconds\tsoftmax with temperature: 0.00 seconds\n",
      "====================\n",
      "epoch:1\n",
      "===================\n"
     ]
    },
    {
     "name": "stderr",
     "output_type": "stream",
     "text": [
      "100%|██████████| 189/189 [00:03<00:00, 48.12it/s]\n"
     ]
    },
    {
     "name": "stdout",
     "output_type": "stream",
     "text": [
      "umap:0.5975\trecon_l:0.3203\tloss:3.8004\n",
      "====================\n",
      "epoch:2\n",
      "===================\n"
     ]
    },
    {
     "name": "stderr",
     "output_type": "stream",
     "text": [
      "100%|██████████| 189/189 [00:03<00:00, 49.10it/s]\n"
     ]
    },
    {
     "name": "stdout",
     "output_type": "stream",
     "text": [
      "umap:0.3526\trecon_l:0.1988\tloss:2.3408\n",
      "====================\n",
      "epoch:3\n",
      "===================\n"
     ]
    },
    {
     "name": "stderr",
     "output_type": "stream",
     "text": [
      "100%|██████████| 189/189 [00:03<00:00, 50.29it/s]\n"
     ]
    },
    {
     "name": "stdout",
     "output_type": "stream",
     "text": [
      "umap:0.3389\trecon_l:0.1914\tloss:2.2528\n",
      "====================\n",
      "epoch:4\n",
      "===================\n"
     ]
    },
    {
     "name": "stderr",
     "output_type": "stream",
     "text": [
      "100%|██████████| 189/189 [00:03<00:00, 49.78it/s]\n"
     ]
    },
    {
     "name": "stdout",
     "output_type": "stream",
     "text": [
      "umap:0.3503\trecon_l:0.1973\tloss:2.3236\n",
      "====================\n",
      "epoch:5\n",
      "===================\n"
     ]
    },
    {
     "name": "stderr",
     "output_type": "stream",
     "text": [
      "100%|██████████| 189/189 [00:03<00:00, 48.26it/s]\n"
     ]
    },
    {
     "name": "stdout",
     "output_type": "stream",
     "text": [
      "umap:0.3434\trecon_l:0.1893\tloss:2.2366\n",
      "====================\n",
      "epoch:6\n",
      "===================\n"
     ]
    },
    {
     "name": "stderr",
     "output_type": "stream",
     "text": [
      "100%|██████████| 189/189 [00:03<00:00, 47.95it/s]\n"
     ]
    },
    {
     "name": "stdout",
     "output_type": "stream",
     "text": [
      "umap:0.3425\trecon_l:0.1881\tloss:2.2231\n",
      "====================\n",
      "epoch:7\n",
      "===================\n"
     ]
    },
    {
     "name": "stderr",
     "output_type": "stream",
     "text": [
      "100%|██████████| 189/189 [00:03<00:00, 48.77it/s]\n"
     ]
    },
    {
     "name": "stdout",
     "output_type": "stream",
     "text": [
      "umap:0.3402\trecon_l:0.1871\tloss:2.2114\n",
      "====================\n",
      "epoch:8\n",
      "===================\n"
     ]
    },
    {
     "name": "stderr",
     "output_type": "stream",
     "text": [
      "100%|██████████| 189/189 [00:03<00:00, 48.38it/s]\n"
     ]
    },
    {
     "name": "stdout",
     "output_type": "stream",
     "text": [
      "umap:0.3392\trecon_l:0.1861\tloss:2.1999\n",
      "====================\n",
      "epoch:9\n",
      "===================\n"
     ]
    },
    {
     "name": "stderr",
     "output_type": "stream",
     "text": [
      "100%|██████████| 189/189 [00:03<00:00, 49.35it/s]\n"
     ]
    },
    {
     "name": "stdout",
     "output_type": "stream",
     "text": [
      "umap:0.3371\trecon_l:0.1860\tloss:2.1969\n",
      "====================\n",
      "epoch:10\n",
      "===================\n"
     ]
    },
    {
     "name": "stderr",
     "output_type": "stream",
     "text": [
      "100%|██████████| 189/189 [00:03<00:00, 49.14it/s]\n"
     ]
    },
    {
     "name": "stdout",
     "output_type": "stream",
     "text": [
      "umap:0.3360\trecon_l:0.1861\tloss:2.1968\n",
      "====================\n",
      "epoch:11\n",
      "===================\n"
     ]
    },
    {
     "name": "stderr",
     "output_type": "stream",
     "text": [
      "100%|██████████| 189/189 [00:03<00:00, 49.54it/s]\n"
     ]
    },
    {
     "name": "stdout",
     "output_type": "stream",
     "text": [
      "umap:0.3364\trecon_l:0.1862\tloss:2.1989\n",
      "====================\n",
      "epoch:12\n",
      "===================\n"
     ]
    },
    {
     "name": "stderr",
     "output_type": "stream",
     "text": [
      "100%|██████████| 189/189 [00:03<00:00, 48.72it/s]\n"
     ]
    },
    {
     "name": "stdout",
     "output_type": "stream",
     "text": [
      "umap:0.3363\trecon_l:0.1855\tloss:2.1915\n",
      "Time spend: 46.37 for training vis model...\n",
      "Mon Apr  4 21:04:15 2022 Building RP forest with 16 trees\n",
      "Mon Apr  4 21:04:16 2022 NN descent for 16 iterations\n",
      "\t 1  /  16\n",
      "\t 2  /  16\n",
      "\t 3  /  16\n",
      "\t 4  /  16\n",
      "\t 5  /  16\n",
      "\t 6  /  16\n",
      "\t 7  /  16\n",
      "\t 8  /  16\n",
      "\t 9  /  16\n",
      "\tStopping threshold met -- exiting after 9 iterations\n",
      "Mon Apr  4 21:04:19 2022 Building RP forest with 16 trees\n",
      "Mon Apr  4 21:04:19 2022 NN descent for 16 iterations\n",
      "\t 1  /  16\n",
      "\t 2  /  16\n",
      "\tStopping threshold met -- exiting after 2 iterations\n",
      "#train# nn preserving: 1.07/15 in epoch 1\n",
      "Mon Apr  4 21:04:22 2022 Building RP forest with 17 trees\n",
      "Mon Apr  4 21:04:22 2022 NN descent for 16 iterations\n",
      "\t 1  /  16\n",
      "\t 2  /  16\n",
      "\t 3  /  16\n",
      "\t 4  /  16\n",
      "\t 5  /  16\n",
      "\t 6  /  16\n",
      "\t 7  /  16\n",
      "\t 8  /  16\n",
      "\t 9  /  16\n",
      "\tStopping threshold met -- exiting after 9 iterations\n",
      "Mon Apr  4 21:04:26 2022 Building RP forest with 17 trees\n",
      "Mon Apr  4 21:04:26 2022 NN descent for 16 iterations\n",
      "\t 1  /  16\n",
      "\t 2  /  16\n",
      "\tStopping threshold met -- exiting after 2 iterations\n",
      "#test# nn preserving : 1.06/15 in epoch 1\n",
      "#train# boundary preserving: 1.19/15 in epoch 1\n",
      "#test# boundary preserving: 1.08/15 in epoch 1\n"
     ]
    },
    {
     "name": "stderr",
     "output_type": "stream",
     "text": [
      "100%|██████████| 250/250 [00:00<00:00, 11445.96it/s]\n",
      "100%|██████████| 250/250 [00:00<00:00, 11391.37it/s]\n"
     ]
    },
    {
     "name": "stdout",
     "output_type": "stream",
     "text": [
      "#train# PPR: 0.35 in epoch 1\n"
     ]
    },
    {
     "name": "stderr",
     "output_type": "stream",
     "text": [
      "100%|██████████| 50/50 [00:00<00:00, 12033.23it/s]\n",
      "100%|██████████| 50/50 [00:00<00:00, 12118.76it/s]\n"
     ]
    },
    {
     "name": "stdout",
     "output_type": "stream",
     "text": [
      "#test# PPR: 0.35 in epoch 1\n",
      "Finish initialization...\n",
      "Calculating distances...\n",
      "calculating distances for 300 points within 0.35 seconds...\n",
      "Hausdorff distance is 0.25 with 400 points\n",
      "=================+++=1=+++================\n",
      "Calculating distances...\n",
      "calculating distances for 300 points within 0.36 seconds...\n",
      "Hausdorff distance is 0.25 with 400 points\n",
      "Finish calculating normaling factor\n",
      "Calculating distances...\n",
      "calculating distances for 300 points within 0.36 seconds...\n",
      "Hausdorff distance is 0.21 with 918 points\n",
      "select 918 points\n",
      "Mon Apr  4 21:05:05 2022 Building RP forest with 7 trees\n",
      "Mon Apr  4 21:05:06 2022 NN descent for 10 iterations\n",
      "\t 1  /  10\n",
      "\t 2  /  10\n",
      "\t 3  /  10\n",
      "\t 4  /  10\n",
      "\tStopping threshold met -- exiting after 4 iterations\n",
      "Gradients calculation: 4.00 seconds\tsoftmax with temperature: 0.00 seconds\n",
      "====================\n",
      "epoch:1\n",
      "===================\n"
     ]
    },
    {
     "name": "stderr",
     "output_type": "stream",
     "text": [
      "100%|██████████| 221/221 [00:04<00:00, 48.49it/s]\n"
     ]
    },
    {
     "name": "stdout",
     "output_type": "stream",
     "text": [
      "umap:0.5882\trecon_l:0.5058\tloss:5.6459\n",
      "====================\n",
      "epoch:2\n",
      "===================\n"
     ]
    },
    {
     "name": "stderr",
     "output_type": "stream",
     "text": [
      "100%|██████████| 221/221 [00:04<00:00, 49.08it/s]\n"
     ]
    },
    {
     "name": "stdout",
     "output_type": "stream",
     "text": [
      "umap:0.3905\trecon_l:0.3031\tloss:3.4211\n",
      "====================\n",
      "epoch:3\n",
      "===================\n"
     ]
    },
    {
     "name": "stderr",
     "output_type": "stream",
     "text": [
      "100%|██████████| 221/221 [00:04<00:00, 48.67it/s]\n"
     ]
    },
    {
     "name": "stdout",
     "output_type": "stream",
     "text": [
      "umap:0.5138\trecon_l:0.3615\tloss:4.1289\n",
      "====================\n",
      "epoch:4\n",
      "===================\n"
     ]
    },
    {
     "name": "stderr",
     "output_type": "stream",
     "text": [
      "100%|██████████| 221/221 [00:04<00:00, 48.08it/s]\n"
     ]
    },
    {
     "name": "stdout",
     "output_type": "stream",
     "text": [
      "umap:0.4244\trecon_l:0.2695\tloss:3.1193\n",
      "====================\n",
      "epoch:5\n",
      "===================\n"
     ]
    },
    {
     "name": "stderr",
     "output_type": "stream",
     "text": [
      "100%|██████████| 221/221 [00:04<00:00, 48.54it/s]\n"
     ]
    },
    {
     "name": "stdout",
     "output_type": "stream",
     "text": [
      "umap:0.3798\trecon_l:0.2649\tloss:3.0292\n",
      "====================\n",
      "epoch:6\n",
      "===================\n"
     ]
    },
    {
     "name": "stderr",
     "output_type": "stream",
     "text": [
      "100%|██████████| 221/221 [00:04<00:00, 48.32it/s]\n"
     ]
    },
    {
     "name": "stdout",
     "output_type": "stream",
     "text": [
      "umap:0.3781\trecon_l:0.2632\tloss:3.0105\n",
      "====================\n",
      "epoch:7\n",
      "===================\n"
     ]
    },
    {
     "name": "stderr",
     "output_type": "stream",
     "text": [
      "100%|██████████| 221/221 [00:04<00:00, 48.78it/s]\n"
     ]
    },
    {
     "name": "stdout",
     "output_type": "stream",
     "text": [
      "umap:0.3773\trecon_l:0.2598\tloss:2.9756\n",
      "====================\n",
      "epoch:8\n",
      "===================\n"
     ]
    },
    {
     "name": "stderr",
     "output_type": "stream",
     "text": [
      "100%|██████████| 221/221 [00:04<00:00, 49.55it/s]\n"
     ]
    },
    {
     "name": "stdout",
     "output_type": "stream",
     "text": [
      "umap:0.3771\trecon_l:0.2585\tloss:2.9621\n",
      "====================\n",
      "epoch:9\n",
      "===================\n"
     ]
    },
    {
     "name": "stderr",
     "output_type": "stream",
     "text": [
      "100%|██████████| 221/221 [00:04<00:00, 49.37it/s]\n"
     ]
    },
    {
     "name": "stdout",
     "output_type": "stream",
     "text": [
      "umap:0.3758\trecon_l:0.2549\tloss:2.9244\n",
      "====================\n",
      "epoch:10\n",
      "===================\n"
     ]
    },
    {
     "name": "stderr",
     "output_type": "stream",
     "text": [
      "100%|██████████| 221/221 [00:04<00:00, 50.92it/s]\n"
     ]
    },
    {
     "name": "stdout",
     "output_type": "stream",
     "text": [
      "umap:0.3749\trecon_l:0.2560\tloss:2.9350\n",
      "====================\n",
      "epoch:11\n",
      "===================\n"
     ]
    },
    {
     "name": "stderr",
     "output_type": "stream",
     "text": [
      "100%|██████████| 221/221 [00:04<00:00, 47.22it/s]\n"
     ]
    },
    {
     "name": "stdout",
     "output_type": "stream",
     "text": [
      "umap:0.3742\trecon_l:0.2566\tloss:2.9399\n",
      "====================\n",
      "epoch:12\n",
      "===================\n"
     ]
    },
    {
     "name": "stderr",
     "output_type": "stream",
     "text": [
      "100%|██████████| 221/221 [00:04<00:00, 48.18it/s]\n"
     ]
    },
    {
     "name": "stdout",
     "output_type": "stream",
     "text": [
      "umap:0.3742\trecon_l:0.2556\tloss:2.9297\n",
      "====================\n",
      "epoch:13\n",
      "===================\n"
     ]
    },
    {
     "name": "stderr",
     "output_type": "stream",
     "text": [
      "100%|██████████| 221/221 [00:04<00:00, 48.85it/s]\n"
     ]
    },
    {
     "name": "stdout",
     "output_type": "stream",
     "text": [
      "umap:0.3734\trecon_l:0.2551\tloss:2.9240\n",
      "====================\n",
      "epoch:14\n",
      "===================\n"
     ]
    },
    {
     "name": "stderr",
     "output_type": "stream",
     "text": [
      "100%|██████████| 221/221 [00:04<00:00, 48.89it/s]\n"
     ]
    },
    {
     "name": "stdout",
     "output_type": "stream",
     "text": [
      "umap:0.3732\trecon_l:0.2554\tloss:2.9268\n",
      "====================\n",
      "epoch:15\n",
      "===================\n"
     ]
    },
    {
     "name": "stderr",
     "output_type": "stream",
     "text": [
      "100%|██████████| 221/221 [00:04<00:00, 50.29it/s]\n"
     ]
    },
    {
     "name": "stdout",
     "output_type": "stream",
     "text": [
      "umap:0.3742\trecon_l:0.2552\tloss:2.9260\n",
      "====================\n",
      "epoch:16\n",
      "===================\n"
     ]
    },
    {
     "name": "stderr",
     "output_type": "stream",
     "text": [
      "100%|██████████| 221/221 [00:04<00:00, 47.10it/s]\n"
     ]
    },
    {
     "name": "stdout",
     "output_type": "stream",
     "text": [
      "umap:0.3729\trecon_l:0.2556\tloss:2.9292\n",
      "Time spend: 72.56 for training vis model...\n",
      "Mon Apr  4 21:06:23 2022 Building RP forest with 16 trees\n",
      "Mon Apr  4 21:06:24 2022 NN descent for 16 iterations\n",
      "\t 1  /  16\n",
      "\t 2  /  16\n",
      "\t 3  /  16\n",
      "\t 4  /  16\n",
      "\t 5  /  16\n",
      "\t 6  /  16\n",
      "\t 7  /  16\n",
      "\t 8  /  16\n",
      "\t 9  /  16\n",
      "\tStopping threshold met -- exiting after 9 iterations\n",
      "Mon Apr  4 21:06:26 2022 Building RP forest with 16 trees\n",
      "Mon Apr  4 21:06:27 2022 NN descent for 16 iterations\n",
      "\t 1  /  16\n",
      "\t 2  /  16\n",
      "\tStopping threshold met -- exiting after 2 iterations\n",
      "#train# nn preserving: 0.88/15 in epoch 1\n",
      "Mon Apr  4 21:06:29 2022 Building RP forest with 17 trees\n",
      "Mon Apr  4 21:06:30 2022 NN descent for 16 iterations\n",
      "\t 1  /  16\n",
      "\t 2  /  16\n",
      "\t 3  /  16\n",
      "\t 4  /  16\n",
      "\t 5  /  16\n",
      "\t 6  /  16\n",
      "\t 7  /  16\n",
      "\t 8  /  16\n",
      "\t 9  /  16\n",
      "\tStopping threshold met -- exiting after 9 iterations\n",
      "Mon Apr  4 21:06:33 2022 Building RP forest with 17 trees\n",
      "Mon Apr  4 21:06:34 2022 NN descent for 16 iterations\n",
      "\t 1  /  16\n",
      "\t 2  /  16\n",
      "\tStopping threshold met -- exiting after 2 iterations\n",
      "#test# nn preserving : 0.80/15 in epoch 1\n",
      "#train# boundary preserving: 0.95/15 in epoch 1\n",
      "#test# boundary preserving: 1.02/15 in epoch 1\n"
     ]
    },
    {
     "name": "stderr",
     "output_type": "stream",
     "text": [
      "100%|██████████| 250/250 [00:00<00:00, 11482.94it/s]\n",
      "100%|██████████| 250/250 [00:00<00:00, 11452.59it/s]\n"
     ]
    },
    {
     "name": "stdout",
     "output_type": "stream",
     "text": [
      "#train# PPR: 0.33 in epoch 1\n"
     ]
    },
    {
     "name": "stderr",
     "output_type": "stream",
     "text": [
      "100%|██████████| 50/50 [00:00<00:00, 12029.78it/s]\n",
      "100%|██████████| 50/50 [00:00<00:00, 11777.12it/s]\n"
     ]
    },
    {
     "name": "stdout",
     "output_type": "stream",
     "text": [
      "#test# PPR: 0.33 in epoch 1\n",
      "Finish initialization...\n",
      "Calculating distances...\n",
      "calculating distances for 300 points within 0.34 seconds...\n",
      "Hausdorff distance is 0.26 with 400 points\n",
      "=================+++=1=+++================\n",
      "Calculating distances...\n",
      "calculating distances for 300 points within 0.35 seconds...\n",
      "Hausdorff distance is 0.25 with 400 points\n",
      "Finish calculating normaling factor\n",
      "Calculating distances...\n",
      "calculating distances for 300 points within 0.37 seconds...\n",
      "Hausdorff distance is 0.18 with 2571 points\n",
      "select 2571 points\n",
      "Mon Apr  4 21:08:04 2022 Building RP forest with 8 trees\n",
      "Mon Apr  4 21:08:04 2022 NN descent for 11 iterations\n",
      "\t 1  /  11\n",
      "\t 2  /  11\n",
      "\t 3  /  11\n",
      "\t 4  /  11\n",
      "\t 5  /  11\n",
      "\tStopping threshold met -- exiting after 5 iterations\n",
      "Gradients calculation: 5.00 seconds\tsoftmax with temperature: 0.00 seconds\n",
      "====================\n",
      "epoch:1\n",
      "===================\n"
     ]
    },
    {
     "name": "stderr",
     "output_type": "stream",
     "text": [
      "100%|██████████| 335/335 [00:06<00:00, 48.33it/s]\n"
     ]
    },
    {
     "name": "stdout",
     "output_type": "stream",
     "text": [
      "umap:0.4488\trecon_l:0.5154\tloss:5.6031\n",
      "====================\n",
      "epoch:2\n",
      "===================\n"
     ]
    },
    {
     "name": "stderr",
     "output_type": "stream",
     "text": [
      "100%|██████████| 335/335 [00:06<00:00, 48.15it/s]\n"
     ]
    },
    {
     "name": "stdout",
     "output_type": "stream",
     "text": [
      "umap:0.6198\trecon_l:79.8919\tloss:799.5387\n",
      "====================\n",
      "epoch:3\n",
      "===================\n"
     ]
    },
    {
     "name": "stderr",
     "output_type": "stream",
     "text": [
      "100%|██████████| 335/335 [00:07<00:00, 47.35it/s]\n"
     ]
    },
    {
     "name": "stdout",
     "output_type": "stream",
     "text": [
      "umap:0.6050\trecon_l:0.4114\tloss:4.7186\n",
      "====================\n",
      "epoch:4\n",
      "===================\n"
     ]
    },
    {
     "name": "stderr",
     "output_type": "stream",
     "text": [
      "100%|██████████| 335/335 [00:07<00:00, 47.17it/s]\n"
     ]
    },
    {
     "name": "stdout",
     "output_type": "stream",
     "text": [
      "umap:0.5618\trecon_l:0.4044\tloss:4.6062\n",
      "====================\n",
      "epoch:5\n",
      "===================\n"
     ]
    },
    {
     "name": "stderr",
     "output_type": "stream",
     "text": [
      "100%|██████████| 335/335 [00:06<00:00, 48.85it/s]\n"
     ]
    },
    {
     "name": "stdout",
     "output_type": "stream",
     "text": [
      "umap:0.4392\trecon_l:0.3899\tloss:4.3387\n",
      "====================\n",
      "epoch:6\n",
      "===================\n"
     ]
    },
    {
     "name": "stderr",
     "output_type": "stream",
     "text": [
      "100%|██████████| 335/335 [00:06<00:00, 48.41it/s]\n"
     ]
    },
    {
     "name": "stdout",
     "output_type": "stream",
     "text": [
      "umap:0.4188\trecon_l:0.3876\tloss:4.2946\n",
      "====================\n",
      "epoch:7\n",
      "===================\n"
     ]
    },
    {
     "name": "stderr",
     "output_type": "stream",
     "text": [
      "100%|██████████| 335/335 [00:06<00:00, 49.21it/s]\n"
     ]
    },
    {
     "name": "stdout",
     "output_type": "stream",
     "text": [
      "umap:0.4032\trecon_l:0.3878\tloss:4.2815\n",
      "====================\n",
      "epoch:8\n",
      "===================\n"
     ]
    },
    {
     "name": "stderr",
     "output_type": "stream",
     "text": [
      "100%|██████████| 335/335 [00:07<00:00, 47.38it/s]\n"
     ]
    },
    {
     "name": "stdout",
     "output_type": "stream",
     "text": [
      "umap:0.3927\trecon_l:0.3873\tloss:4.2657\n",
      "====================\n",
      "epoch:9\n",
      "===================\n"
     ]
    },
    {
     "name": "stderr",
     "output_type": "stream",
     "text": [
      "100%|██████████| 335/335 [00:07<00:00, 47.66it/s]\n"
     ]
    },
    {
     "name": "stdout",
     "output_type": "stream",
     "text": [
      "umap:0.3875\trecon_l:0.3871\tloss:4.2586\n",
      "====================\n",
      "epoch:10\n",
      "===================\n"
     ]
    },
    {
     "name": "stderr",
     "output_type": "stream",
     "text": [
      "100%|██████████| 335/335 [00:07<00:00, 47.52it/s]\n"
     ]
    },
    {
     "name": "stdout",
     "output_type": "stream",
     "text": [
      "umap:0.3861\trecon_l:0.3868\tloss:4.2545\n",
      "====================\n",
      "epoch:11\n",
      "===================\n"
     ]
    },
    {
     "name": "stderr",
     "output_type": "stream",
     "text": [
      "100%|██████████| 335/335 [00:06<00:00, 48.93it/s]\n"
     ]
    },
    {
     "name": "stdout",
     "output_type": "stream",
     "text": [
      "umap:0.3848\trecon_l:0.3873\tloss:4.2581\n",
      "====================\n",
      "epoch:12\n",
      "===================\n"
     ]
    },
    {
     "name": "stderr",
     "output_type": "stream",
     "text": [
      "100%|██████████| 335/335 [00:06<00:00, 50.28it/s]\n"
     ]
    },
    {
     "name": "stdout",
     "output_type": "stream",
     "text": [
      "umap:0.3846\trecon_l:0.3878\tloss:4.2625\n",
      "Time spend: 83.33 for training vis model...\n",
      "Mon Apr  4 21:09:33 2022 Building RP forest with 16 trees\n",
      "Mon Apr  4 21:09:34 2022 NN descent for 16 iterations\n",
      "\t 1  /  16\n",
      "\t 2  /  16\n",
      "\t 3  /  16\n",
      "\t 4  /  16\n",
      "\t 5  /  16\n",
      "\t 6  /  16\n",
      "\t 7  /  16\n",
      "\t 8  /  16\n",
      "\t 9  /  16\n",
      "\tStopping threshold met -- exiting after 9 iterations\n",
      "Mon Apr  4 21:09:37 2022 Building RP forest with 16 trees\n",
      "Mon Apr  4 21:09:37 2022 NN descent for 16 iterations\n",
      "\t 1  /  16\n",
      "\t 2  /  16\n",
      "\tStopping threshold met -- exiting after 2 iterations\n",
      "#train# nn preserving: 1.04/15 in epoch 1\n",
      "Mon Apr  4 21:09:39 2022 Building RP forest with 17 trees\n",
      "Mon Apr  4 21:09:40 2022 NN descent for 16 iterations\n",
      "\t 1  /  16\n",
      "\t 2  /  16\n",
      "\t 3  /  16\n",
      "\t 4  /  16\n",
      "\t 5  /  16\n",
      "\t 6  /  16\n",
      "\t 7  /  16\n",
      "\t 8  /  16\n",
      "\t 9  /  16\n",
      "\tStopping threshold met -- exiting after 9 iterations\n",
      "Mon Apr  4 21:09:44 2022 Building RP forest with 17 trees\n",
      "Mon Apr  4 21:09:44 2022 NN descent for 16 iterations\n",
      "\t 1  /  16\n",
      "\t 2  /  16\n",
      "\tStopping threshold met -- exiting after 2 iterations\n",
      "#test# nn preserving : 1.04/15 in epoch 1\n",
      "#train# boundary preserving: 1.05/15 in epoch 1\n",
      "#test# boundary preserving: 1.08/15 in epoch 1\n"
     ]
    },
    {
     "name": "stderr",
     "output_type": "stream",
     "text": [
      "100%|██████████| 250/250 [00:00<00:00, 11507.26it/s]\n",
      "100%|██████████| 250/250 [00:00<00:00, 11374.32it/s]\n"
     ]
    },
    {
     "name": "stdout",
     "output_type": "stream",
     "text": [
      "#train# PPR: 0.34 in epoch 1\n"
     ]
    },
    {
     "name": "stderr",
     "output_type": "stream",
     "text": [
      "100%|██████████| 50/50 [00:00<00:00, 12192.74it/s]\n",
      "100%|██████████| 50/50 [00:00<00:00, 12032.54it/s]\n"
     ]
    },
    {
     "name": "stdout",
     "output_type": "stream",
     "text": [
      "#test# PPR: 0.34 in epoch 1\n",
      "Finish initialization...\n",
      "Calculating distances...\n",
      "calculating distances for 300 points within 0.34 seconds...\n",
      "Hausdorff distance is 0.25 with 400 points\n",
      "=================+++=1=+++================\n",
      "Calculating distances...\n",
      "calculating distances for 300 points within 0.37 seconds...\n",
      "Hausdorff distance is 0.25 with 400 points\n",
      "Finish calculating normaling factor\n",
      "Calculating distances...\n",
      "calculating distances for 300 points within 0.36 seconds...\n",
      "Hausdorff distance is 0.15 with 7812 points\n",
      "select 7812 points\n",
      "Mon Apr  4 21:13:57 2022 Building RP forest with 9 trees\n",
      "Mon Apr  4 21:13:57 2022 NN descent for 13 iterations\n",
      "\t 1  /  13\n",
      "\t 2  /  13\n",
      "\t 3  /  13\n",
      "\t 4  /  13\n",
      "\t 5  /  13\n",
      "\t 6  /  13\n",
      "\t 7  /  13\n",
      "\tStopping threshold met -- exiting after 7 iterations\n",
      "Gradients calculation: 8.00 seconds\tsoftmax with temperature: 0.00 seconds\n",
      "====================\n",
      "epoch:1\n",
      "===================\n"
     ]
    },
    {
     "name": "stderr",
     "output_type": "stream",
     "text": [
      "100%|██████████| 698/698 [00:14<00:00, 49.67it/s]\n"
     ]
    },
    {
     "name": "stdout",
     "output_type": "stream",
     "text": [
      "umap:0.4495\trecon_l:0.5509\tloss:5.9584\n",
      "====================\n",
      "epoch:2\n",
      "===================\n"
     ]
    },
    {
     "name": "stderr",
     "output_type": "stream",
     "text": [
      "100%|██████████| 698/698 [00:14<00:00, 49.08it/s]\n"
     ]
    },
    {
     "name": "stdout",
     "output_type": "stream",
     "text": [
      "umap:0.3483\trecon_l:0.3923\tloss:4.2714\n",
      "====================\n",
      "epoch:3\n",
      "===================\n"
     ]
    },
    {
     "name": "stderr",
     "output_type": "stream",
     "text": [
      "100%|██████████| 698/698 [00:14<00:00, 48.77it/s]\n"
     ]
    },
    {
     "name": "stdout",
     "output_type": "stream",
     "text": [
      "umap:0.3455\trecon_l:0.3891\tloss:4.2361\n",
      "====================\n",
      "epoch:4\n",
      "===================\n"
     ]
    },
    {
     "name": "stderr",
     "output_type": "stream",
     "text": [
      "100%|██████████| 698/698 [00:14<00:00, 48.53it/s]\n"
     ]
    },
    {
     "name": "stdout",
     "output_type": "stream",
     "text": [
      "umap:0.4656\trecon_l:0.7283\tloss:7.7484\n",
      "====================\n",
      "epoch:5\n",
      "===================\n"
     ]
    },
    {
     "name": "stderr",
     "output_type": "stream",
     "text": [
      "100%|██████████| 698/698 [00:14<00:00, 48.94it/s]\n"
     ]
    },
    {
     "name": "stdout",
     "output_type": "stream",
     "text": [
      "umap:0.4206\trecon_l:0.6947\tloss:7.3674\n",
      "====================\n",
      "epoch:6\n",
      "===================\n"
     ]
    },
    {
     "name": "stderr",
     "output_type": "stream",
     "text": [
      "100%|██████████| 698/698 [00:14<00:00, 47.79it/s]\n"
     ]
    },
    {
     "name": "stdout",
     "output_type": "stream",
     "text": [
      "umap:0.4140\trecon_l:0.6962\tloss:7.3760\n",
      "====================\n",
      "epoch:7\n",
      "===================\n"
     ]
    },
    {
     "name": "stderr",
     "output_type": "stream",
     "text": [
      "100%|██████████| 698/698 [00:14<00:00, 48.54it/s]\n"
     ]
    },
    {
     "name": "stdout",
     "output_type": "stream",
     "text": [
      "umap:0.4101\trecon_l:0.6960\tloss:7.3705\n",
      "====================\n",
      "epoch:8\n",
      "===================\n"
     ]
    },
    {
     "name": "stderr",
     "output_type": "stream",
     "text": [
      "100%|██████████| 698/698 [00:14<00:00, 49.46it/s]\n"
     ]
    },
    {
     "name": "stdout",
     "output_type": "stream",
     "text": [
      "umap:0.4074\trecon_l:0.6957\tloss:7.3647\n",
      "====================\n",
      "epoch:9\n",
      "===================\n"
     ]
    },
    {
     "name": "stderr",
     "output_type": "stream",
     "text": [
      "100%|██████████| 698/698 [00:14<00:00, 49.16it/s]\n"
     ]
    },
    {
     "name": "stdout",
     "output_type": "stream",
     "text": [
      "umap:0.4062\trecon_l:0.6955\tloss:7.3614\n",
      "Time spend: 128.54 for training vis model...\n",
      "Mon Apr  4 21:16:16 2022 Building RP forest with 16 trees\n",
      "Mon Apr  4 21:16:17 2022 NN descent for 16 iterations\n",
      "\t 1  /  16\n",
      "\t 2  /  16\n",
      "\t 3  /  16\n",
      "\t 4  /  16\n",
      "\t 5  /  16\n",
      "\t 6  /  16\n",
      "\t 7  /  16\n",
      "\t 8  /  16\n",
      "\t 9  /  16\n",
      "\tStopping threshold met -- exiting after 9 iterations\n",
      "Mon Apr  4 21:16:19 2022 Building RP forest with 16 trees\n",
      "Mon Apr  4 21:16:20 2022 NN descent for 16 iterations\n",
      "\t 1  /  16\n",
      "\t 2  /  16\n",
      "\tStopping threshold met -- exiting after 2 iterations\n",
      "#train# nn preserving: 0.61/15 in epoch 1\n",
      "Mon Apr  4 21:16:22 2022 Building RP forest with 17 trees\n",
      "Mon Apr  4 21:16:23 2022 NN descent for 16 iterations\n",
      "\t 1  /  16\n",
      "\t 2  /  16\n",
      "\t 3  /  16\n",
      "\t 4  /  16\n",
      "\t 5  /  16\n",
      "\t 6  /  16\n",
      "\t 7  /  16\n",
      "\t 8  /  16\n",
      "\t 9  /  16\n",
      "\tStopping threshold met -- exiting after 9 iterations\n",
      "Mon Apr  4 21:16:26 2022 Building RP forest with 17 trees\n",
      "Mon Apr  4 21:16:27 2022 NN descent for 16 iterations\n",
      "\t 1  /  16\n",
      "\t 2  /  16\n",
      "\tStopping threshold met -- exiting after 2 iterations\n",
      "#test# nn preserving : 0.46/15 in epoch 1\n",
      "#train# boundary preserving: 1.16/15 in epoch 1\n",
      "#test# boundary preserving: 1.17/15 in epoch 1\n"
     ]
    },
    {
     "name": "stderr",
     "output_type": "stream",
     "text": [
      "100%|██████████| 250/250 [00:00<00:00, 11506.50it/s]\n",
      "100%|██████████| 250/250 [00:00<00:00, 11436.22it/s]\n"
     ]
    },
    {
     "name": "stdout",
     "output_type": "stream",
     "text": [
      "#train# PPR: 0.29 in epoch 1\n"
     ]
    },
    {
     "name": "stderr",
     "output_type": "stream",
     "text": [
      "100%|██████████| 50/50 [00:00<00:00, 12145.43it/s]\n",
      "100%|██████████| 50/50 [00:00<00:00, 12192.04it/s]\n"
     ]
    },
    {
     "name": "stdout",
     "output_type": "stream",
     "text": [
      "#test# PPR: 0.29 in epoch 1\n",
      "Finish initialization...\n",
      "Calculating distances...\n",
      "calculating distances for 300 points within 0.35 seconds...\n",
      "Hausdorff distance is 0.25 with 400 points\n",
      "=================+++=1=+++================\n",
      "Calculating distances...\n",
      "calculating distances for 300 points within 0.36 seconds...\n",
      "Hausdorff distance is 0.25 with 400 points\n",
      "Finish calculating normaling factor\n",
      "Calculating distances...\n",
      "calculating distances for 300 points within 0.35 seconds...\n",
      "Hausdorff distance is 0.10 with 35964 points\n",
      "select 35964 points\n",
      "Mon Apr  4 21:35:08 2022 Building RP forest with 14 trees\n",
      "Mon Apr  4 21:35:09 2022 NN descent for 15 iterations\n",
      "\t 1  /  15\n",
      "\t 2  /  15\n",
      "\t 3  /  15\n",
      "\t 4  /  15\n",
      "\t 5  /  15\n",
      "\t 6  /  15\n",
      "\t 7  /  15\n",
      "\t 8  /  15\n",
      "\tStopping threshold met -- exiting after 8 iterations\n",
      "Gradients calculation: 25.00 seconds\tsoftmax with temperature: 0.00 seconds\n",
      "====================\n",
      "epoch:1\n",
      "===================\n"
     ]
    },
    {
     "name": "stderr",
     "output_type": "stream",
     "text": [
      "100%|██████████| 2681/2681 [00:55<00:00, 48.60it/s]\n"
     ]
    },
    {
     "name": "stdout",
     "output_type": "stream",
     "text": [
      "umap:0.4000\trecon_l:0.3112\tloss:3.5121\n",
      "====================\n",
      "epoch:2\n",
      "===================\n"
     ]
    },
    {
     "name": "stderr",
     "output_type": "stream",
     "text": [
      "100%|██████████| 2681/2681 [00:54<00:00, 48.93it/s]\n"
     ]
    },
    {
     "name": "stdout",
     "output_type": "stream",
     "text": [
      "umap:0.3294\trecon_l:0.2672\tloss:3.0015\n",
      "====================\n",
      "epoch:3\n",
      "===================\n"
     ]
    },
    {
     "name": "stderr",
     "output_type": "stream",
     "text": [
      "100%|██████████| 2681/2681 [00:55<00:00, 48.02it/s]\n"
     ]
    },
    {
     "name": "stdout",
     "output_type": "stream",
     "text": [
      "umap:5.8757\trecon_l:0.4225\tloss:10.1012\n",
      "====================\n",
      "epoch:4\n",
      "===================\n"
     ]
    },
    {
     "name": "stderr",
     "output_type": "stream",
     "text": [
      "100%|██████████| 2681/2681 [00:54<00:00, 48.99it/s]\n"
     ]
    },
    {
     "name": "stdout",
     "output_type": "stream",
     "text": [
      "umap:1.2010\trecon_l:0.3211\tloss:4.4124\n",
      "====================\n",
      "epoch:5\n",
      "===================\n"
     ]
    },
    {
     "name": "stderr",
     "output_type": "stream",
     "text": [
      "100%|██████████| 2681/2681 [00:56<00:00, 47.46it/s]\n"
     ]
    },
    {
     "name": "stdout",
     "output_type": "stream",
     "text": [
      "umap:0.3311\trecon_l:0.2830\tloss:3.1609\n",
      "====================\n",
      "epoch:6\n",
      "===================\n"
     ]
    },
    {
     "name": "stderr",
     "output_type": "stream",
     "text": [
      "100%|██████████| 2681/2681 [00:54<00:00, 48.91it/s]\n"
     ]
    },
    {
     "name": "stdout",
     "output_type": "stream",
     "text": [
      "umap:0.3245\trecon_l:0.2799\tloss:3.1236\n",
      "====================\n",
      "epoch:7\n",
      "===================\n"
     ]
    },
    {
     "name": "stderr",
     "output_type": "stream",
     "text": [
      "100%|██████████| 2681/2681 [00:55<00:00, 47.97it/s]\n"
     ]
    },
    {
     "name": "stdout",
     "output_type": "stream",
     "text": [
      "umap:0.3224\trecon_l:0.2649\tloss:2.9710\n",
      "====================\n",
      "epoch:8\n",
      "===================\n"
     ]
    },
    {
     "name": "stderr",
     "output_type": "stream",
     "text": [
      "100%|██████████| 2681/2681 [00:55<00:00, 48.42it/s]\n"
     ]
    },
    {
     "name": "stdout",
     "output_type": "stream",
     "text": [
      "umap:0.3209\trecon_l:0.2622\tloss:2.9430\n",
      "====================\n",
      "epoch:9\n",
      "===================\n"
     ]
    },
    {
     "name": "stderr",
     "output_type": "stream",
     "text": [
      "100%|██████████| 2681/2681 [00:55<00:00, 48.06it/s]\n"
     ]
    },
    {
     "name": "stdout",
     "output_type": "stream",
     "text": [
      "umap:0.3194\trecon_l:0.2608\tloss:2.9275\n",
      "====================\n",
      "epoch:10\n",
      "===================\n"
     ]
    },
    {
     "name": "stderr",
     "output_type": "stream",
     "text": [
      "100%|██████████| 2681/2681 [00:54<00:00, 49.03it/s]\n"
     ]
    },
    {
     "name": "stdout",
     "output_type": "stream",
     "text": [
      "umap:0.3188\trecon_l:0.2606\tloss:2.9244\n",
      "====================\n",
      "epoch:11\n",
      "===================\n"
     ]
    },
    {
     "name": "stderr",
     "output_type": "stream",
     "text": [
      "100%|██████████| 2681/2681 [00:55<00:00, 47.92it/s]\n"
     ]
    },
    {
     "name": "stdout",
     "output_type": "stream",
     "text": [
      "umap:0.3186\trecon_l:0.2599\tloss:2.9175\n",
      "====================\n",
      "epoch:12\n",
      "===================\n"
     ]
    },
    {
     "name": "stderr",
     "output_type": "stream",
     "text": [
      "100%|██████████| 2681/2681 [00:55<00:00, 48.70it/s]\n"
     ]
    },
    {
     "name": "stdout",
     "output_type": "stream",
     "text": [
      "umap:0.3180\trecon_l:0.2589\tloss:2.9073\n",
      "====================\n",
      "epoch:13\n",
      "===================\n"
     ]
    },
    {
     "name": "stderr",
     "output_type": "stream",
     "text": [
      "100%|██████████| 2681/2681 [00:55<00:00, 48.72it/s]\n"
     ]
    },
    {
     "name": "stdout",
     "output_type": "stream",
     "text": [
      "umap:0.3178\trecon_l:0.2584\tloss:2.9021\n",
      "====================\n",
      "epoch:14\n",
      "===================\n"
     ]
    },
    {
     "name": "stderr",
     "output_type": "stream",
     "text": [
      "100%|██████████| 2681/2681 [00:55<00:00, 48.58it/s]\n"
     ]
    },
    {
     "name": "stdout",
     "output_type": "stream",
     "text": [
      "umap:0.3178\trecon_l:0.2586\tloss:2.9035\n",
      "====================\n",
      "epoch:15\n",
      "===================\n"
     ]
    },
    {
     "name": "stderr",
     "output_type": "stream",
     "text": [
      "100%|██████████| 2681/2681 [00:55<00:00, 48.43it/s]\n"
     ]
    },
    {
     "name": "stdout",
     "output_type": "stream",
     "text": [
      "umap:0.3178\trecon_l:0.2582\tloss:2.9003\n",
      "====================\n",
      "epoch:16\n",
      "===================\n"
     ]
    },
    {
     "name": "stderr",
     "output_type": "stream",
     "text": [
      "100%|██████████| 2681/2681 [00:55<00:00, 48.40it/s]\n"
     ]
    },
    {
     "name": "stdout",
     "output_type": "stream",
     "text": [
      "umap:0.3175\trecon_l:0.2583\tloss:2.9005\n",
      "Time spend: 885.52 for training vis model...\n",
      "Mon Apr  4 21:50:30 2022 Building RP forest with 16 trees\n",
      "Mon Apr  4 21:50:30 2022 NN descent for 16 iterations\n",
      "\t 1  /  16\n",
      "\t 2  /  16\n",
      "\t 3  /  16\n",
      "\t 4  /  16\n",
      "\t 5  /  16\n",
      "\t 6  /  16\n",
      "\t 7  /  16\n",
      "\t 8  /  16\n",
      "\t 9  /  16\n",
      "\tStopping threshold met -- exiting after 9 iterations\n",
      "Mon Apr  4 21:50:33 2022 Building RP forest with 16 trees\n",
      "Mon Apr  4 21:50:34 2022 NN descent for 16 iterations\n",
      "\t 1  /  16\n",
      "\t 2  /  16\n",
      "\tStopping threshold met -- exiting after 2 iterations\n",
      "#train# nn preserving: 1.09/15 in epoch 1\n",
      "Mon Apr  4 21:50:36 2022 Building RP forest with 17 trees\n",
      "Mon Apr  4 21:50:37 2022 NN descent for 16 iterations\n",
      "\t 1  /  16\n",
      "\t 2  /  16\n",
      "\t 3  /  16\n",
      "\t 4  /  16\n",
      "\t 5  /  16\n",
      "\t 6  /  16\n",
      "\t 7  /  16\n",
      "\t 8  /  16\n",
      "\t 9  /  16\n",
      "\tStopping threshold met -- exiting after 9 iterations\n",
      "Mon Apr  4 21:50:40 2022 Building RP forest with 17 trees\n",
      "Mon Apr  4 21:50:40 2022 NN descent for 16 iterations\n",
      "\t 1  /  16\n",
      "\t 2  /  16\n",
      "\tStopping threshold met -- exiting after 2 iterations\n",
      "#test# nn preserving : 1.08/15 in epoch 1\n",
      "#train# boundary preserving: 1.61/15 in epoch 1\n",
      "#test# boundary preserving: 1.53/15 in epoch 1\n"
     ]
    },
    {
     "name": "stderr",
     "output_type": "stream",
     "text": [
      "100%|██████████| 250/250 [00:00<00:00, 11348.59it/s]\n",
      "100%|██████████| 250/250 [00:00<00:00, 11338.41it/s]\n"
     ]
    },
    {
     "name": "stdout",
     "output_type": "stream",
     "text": [
      "#train# PPR: 0.37 in epoch 1\n"
     ]
    },
    {
     "name": "stderr",
     "output_type": "stream",
     "text": [
      "100%|██████████| 50/50 [00:00<00:00, 12011.87it/s]\n",
      "100%|██████████| 50/50 [00:00<00:00, 12072.02it/s]\n"
     ]
    },
    {
     "name": "stdout",
     "output_type": "stream",
     "text": [
      "#test# PPR: 0.37 in epoch 1\n",
      "Finish initialization...\n",
      "Calculating distances...\n",
      "calculating distances for 300 points within 0.34 seconds...\n",
      "Hausdorff distance is 0.28 with 400 points\n",
      "=================+++=5=+++================\n",
      "Calculating distances...\n",
      "calculating distances for 300 points within 0.34 seconds...\n",
      "Hausdorff distance is 0.27 with 400 points\n",
      "Finish calculating normaling factor\n",
      "Calculating distances...\n",
      "calculating distances for 300 points within 0.35 seconds...\n",
      "Hausdorff distance is 0.40 with 302 points\n",
      "select 302 points\n",
      "Mon Apr  4 21:51:01 2022 Building RP forest with 6 trees\n",
      "Mon Apr  4 21:51:01 2022 NN descent for 8 iterations\n",
      "\t 1  /  8\n",
      "\t 2  /  8\n",
      "\t 3  /  8\n",
      "\tStopping threshold met -- exiting after 3 iterations\n",
      "Gradients calculation: 3.00 seconds\tsoftmax with temperature: 0.00 seconds\n",
      "====================\n",
      "epoch:1\n",
      "===================\n"
     ]
    },
    {
     "name": "stderr",
     "output_type": "stream",
     "text": [
      "100%|██████████| 176/176 [00:03<00:00, 51.18it/s]\n"
     ]
    },
    {
     "name": "stdout",
     "output_type": "stream",
     "text": [
      "umap:0.3837\trecon_l:0.2340\tloss:2.7232\n",
      "====================\n",
      "epoch:2\n",
      "===================\n"
     ]
    },
    {
     "name": "stderr",
     "output_type": "stream",
     "text": [
      "100%|██████████| 176/176 [00:03<00:00, 47.04it/s]\n"
     ]
    },
    {
     "name": "stdout",
     "output_type": "stream",
     "text": [
      "umap:0.2393\trecon_l:0.1456\tloss:1.6955\n",
      "====================\n",
      "epoch:3\n",
      "===================\n"
     ]
    },
    {
     "name": "stderr",
     "output_type": "stream",
     "text": [
      "100%|██████████| 176/176 [00:03<00:00, 47.49it/s]\n"
     ]
    },
    {
     "name": "stdout",
     "output_type": "stream",
     "text": [
      "umap:0.2299\trecon_l:0.1388\tloss:1.6175\n",
      "====================\n",
      "epoch:4\n",
      "===================\n"
     ]
    },
    {
     "name": "stderr",
     "output_type": "stream",
     "text": [
      "100%|██████████| 176/176 [00:03<00:00, 47.71it/s]\n"
     ]
    },
    {
     "name": "stdout",
     "output_type": "stream",
     "text": [
      "umap:0.2269\trecon_l:0.1362\tloss:1.5890\n",
      "====================\n",
      "epoch:5\n",
      "===================\n"
     ]
    },
    {
     "name": "stderr",
     "output_type": "stream",
     "text": [
      "100%|██████████| 176/176 [00:03<00:00, 48.59it/s]\n"
     ]
    },
    {
     "name": "stdout",
     "output_type": "stream",
     "text": [
      "umap:0.2246\trecon_l:0.1343\tloss:1.5673\n",
      "====================\n",
      "epoch:6\n",
      "===================\n"
     ]
    },
    {
     "name": "stderr",
     "output_type": "stream",
     "text": [
      "100%|██████████| 176/176 [00:03<00:00, 48.05it/s]\n"
     ]
    },
    {
     "name": "stdout",
     "output_type": "stream",
     "text": [
      "umap:0.2232\trecon_l:0.1343\tloss:1.5664\n",
      "====================\n",
      "epoch:7\n",
      "===================\n"
     ]
    },
    {
     "name": "stderr",
     "output_type": "stream",
     "text": [
      "100%|██████████| 176/176 [00:03<00:00, 48.79it/s]\n"
     ]
    },
    {
     "name": "stdout",
     "output_type": "stream",
     "text": [
      "umap:0.2244\trecon_l:0.1339\tloss:1.5634\n",
      "====================\n",
      "epoch:8\n",
      "===================\n"
     ]
    },
    {
     "name": "stderr",
     "output_type": "stream",
     "text": [
      "100%|██████████| 176/176 [00:03<00:00, 47.02it/s]\n"
     ]
    },
    {
     "name": "stdout",
     "output_type": "stream",
     "text": [
      "umap:0.2230\trecon_l:0.1336\tloss:1.5586\n",
      "====================\n",
      "epoch:9\n",
      "===================\n"
     ]
    },
    {
     "name": "stderr",
     "output_type": "stream",
     "text": [
      "100%|██████████| 176/176 [00:03<00:00, 47.85it/s]\n"
     ]
    },
    {
     "name": "stdout",
     "output_type": "stream",
     "text": [
      "umap:0.2229\trecon_l:0.1333\tloss:1.5556\n",
      "Time spend: 32.91 for training vis model...\n",
      "Mon Apr  4 21:51:38 2022 Building RP forest with 16 trees\n",
      "Mon Apr  4 21:51:38 2022 NN descent for 16 iterations\n",
      "\t 1  /  16\n",
      "\t 2  /  16\n",
      "\t 3  /  16\n",
      "\t 4  /  16\n",
      "\t 5  /  16\n",
      "\t 6  /  16\n",
      "\tStopping threshold met -- exiting after 6 iterations\n",
      "Mon Apr  4 21:51:41 2022 Building RP forest with 16 trees\n",
      "Mon Apr  4 21:51:41 2022 NN descent for 16 iterations\n",
      "\t 1  /  16\n",
      "\t 2  /  16\n",
      "\tStopping threshold met -- exiting after 2 iterations\n",
      "#train# nn preserving: 1.20/15 in epoch 5\n",
      "Mon Apr  4 21:51:43 2022 Building RP forest with 17 trees\n",
      "Mon Apr  4 21:51:44 2022 NN descent for 16 iterations\n",
      "\t 1  /  16\n",
      "\t 2  /  16\n",
      "\t 3  /  16\n",
      "\t 4  /  16\n",
      "\t 5  /  16\n",
      "\t 6  /  16\n",
      "\tStopping threshold met -- exiting after 6 iterations\n",
      "Mon Apr  4 21:51:47 2022 Building RP forest with 17 trees\n",
      "Mon Apr  4 21:51:47 2022 NN descent for 16 iterations\n",
      "\t 1  /  16\n",
      "\t 2  /  16\n",
      "\tStopping threshold met -- exiting after 2 iterations\n",
      "#test# nn preserving : 1.18/15 in epoch 5\n",
      "#train# boundary preserving: 1.65/15 in epoch 5\n",
      "#test# boundary preserving: 1.61/15 in epoch 5\n"
     ]
    },
    {
     "name": "stderr",
     "output_type": "stream",
     "text": [
      "100%|██████████| 250/250 [00:00<00:00, 11432.11it/s]\n",
      "100%|██████████| 250/250 [00:00<00:00, 11499.31it/s]\n"
     ]
    },
    {
     "name": "stdout",
     "output_type": "stream",
     "text": [
      "#train# PPR: 0.45 in epoch 5\n"
     ]
    },
    {
     "name": "stderr",
     "output_type": "stream",
     "text": [
      "100%|██████████| 50/50 [00:00<00:00, 12272.66it/s]\n",
      "100%|██████████| 50/50 [00:00<00:00, 12355.08it/s]\n"
     ]
    },
    {
     "name": "stdout",
     "output_type": "stream",
     "text": [
      "#test# PPR: 0.44 in epoch 5\n",
      "Finish initialization...\n",
      "Calculating distances...\n",
      "calculating distances for 300 points within 0.35 seconds...\n",
      "Hausdorff distance is 0.27 with 400 points\n",
      "=================+++=5=+++================\n",
      "Calculating distances...\n",
      "calculating distances for 300 points within 0.34 seconds...\n",
      "Hausdorff distance is 0.27 with 400 points\n",
      "Finish calculating normaling factor\n",
      "Calculating distances...\n",
      "calculating distances for 300 points within 0.34 seconds...\n",
      "Hausdorff distance is 0.30 with 333 points\n",
      "select 333 points\n",
      "Mon Apr  4 21:52:08 2022 Building RP forest with 6 trees\n",
      "Mon Apr  4 21:52:08 2022 NN descent for 8 iterations\n",
      "\t 1  /  8\n",
      "\t 2  /  8\n",
      "\t 3  /  8\n",
      "\tStopping threshold met -- exiting after 3 iterations\n",
      "Gradients calculation: 3.00 seconds\tsoftmax with temperature: 0.00 seconds\n",
      "====================\n",
      "epoch:1\n",
      "===================\n"
     ]
    },
    {
     "name": "stderr",
     "output_type": "stream",
     "text": [
      "100%|██████████| 178/178 [00:03<00:00, 50.89it/s]\n"
     ]
    },
    {
     "name": "stdout",
     "output_type": "stream",
     "text": [
      "umap:0.5076\trecon_l:0.4067\tloss:4.5750\n",
      "====================\n",
      "epoch:2\n",
      "===================\n"
     ]
    },
    {
     "name": "stderr",
     "output_type": "stream",
     "text": [
      "100%|██████████| 178/178 [00:03<00:00, 51.01it/s]\n"
     ]
    },
    {
     "name": "stdout",
     "output_type": "stream",
     "text": [
      "umap:0.2618\trecon_l:0.1636\tloss:1.8980\n",
      "====================\n",
      "epoch:3\n",
      "===================\n"
     ]
    },
    {
     "name": "stderr",
     "output_type": "stream",
     "text": [
      "100%|██████████| 178/178 [00:03<00:00, 49.15it/s]\n"
     ]
    },
    {
     "name": "stdout",
     "output_type": "stream",
     "text": [
      "umap:0.2446\trecon_l:0.1527\tloss:1.7715\n",
      "====================\n",
      "epoch:4\n",
      "===================\n"
     ]
    },
    {
     "name": "stderr",
     "output_type": "stream",
     "text": [
      "100%|██████████| 178/178 [00:03<00:00, 48.52it/s]\n"
     ]
    },
    {
     "name": "stdout",
     "output_type": "stream",
     "text": [
      "umap:0.2354\trecon_l:0.1460\tloss:1.6958\n",
      "====================\n",
      "epoch:5\n",
      "===================\n"
     ]
    },
    {
     "name": "stderr",
     "output_type": "stream",
     "text": [
      "100%|██████████| 178/178 [00:03<00:00, 47.69it/s]\n"
     ]
    },
    {
     "name": "stdout",
     "output_type": "stream",
     "text": [
      "umap:0.2337\trecon_l:0.1437\tloss:1.6704\n",
      "====================\n",
      "epoch:6\n",
      "===================\n"
     ]
    },
    {
     "name": "stderr",
     "output_type": "stream",
     "text": [
      "100%|██████████| 178/178 [00:03<00:00, 47.20it/s]\n"
     ]
    },
    {
     "name": "stdout",
     "output_type": "stream",
     "text": [
      "umap:0.2321\trecon_l:0.1433\tloss:1.6651\n",
      "====================\n",
      "epoch:7\n",
      "===================\n"
     ]
    },
    {
     "name": "stderr",
     "output_type": "stream",
     "text": [
      "100%|██████████| 178/178 [00:03<00:00, 47.42it/s]\n"
     ]
    },
    {
     "name": "stdout",
     "output_type": "stream",
     "text": [
      "umap:0.2317\trecon_l:0.1431\tloss:1.6624\n",
      "====================\n",
      "epoch:8\n",
      "===================\n"
     ]
    },
    {
     "name": "stderr",
     "output_type": "stream",
     "text": [
      "100%|██████████| 178/178 [00:03<00:00, 47.03it/s]\n"
     ]
    },
    {
     "name": "stdout",
     "output_type": "stream",
     "text": [
      "umap:0.2306\trecon_l:0.1426\tloss:1.6569\n",
      "====================\n",
      "epoch:9\n",
      "===================\n"
     ]
    },
    {
     "name": "stderr",
     "output_type": "stream",
     "text": [
      "100%|██████████| 178/178 [00:03<00:00, 47.47it/s]\n"
     ]
    },
    {
     "name": "stdout",
     "output_type": "stream",
     "text": [
      "umap:0.2306\trecon_l:0.1421\tloss:1.6515\n",
      "Time spend: 33.09 for training vis model...\n",
      "Mon Apr  4 21:52:46 2022 Building RP forest with 16 trees\n",
      "Mon Apr  4 21:52:46 2022 NN descent for 16 iterations\n",
      "\t 1  /  16\n",
      "\t 2  /  16\n",
      "\t 3  /  16\n",
      "\t 4  /  16\n",
      "\t 5  /  16\n",
      "\t 6  /  16\n",
      "\tStopping threshold met -- exiting after 6 iterations\n",
      "Mon Apr  4 21:52:49 2022 Building RP forest with 16 trees\n",
      "Mon Apr  4 21:52:49 2022 NN descent for 16 iterations\n",
      "\t 1  /  16\n",
      "\t 2  /  16\n",
      "\tStopping threshold met -- exiting after 2 iterations\n",
      "#train# nn preserving: 1.19/15 in epoch 5\n",
      "Mon Apr  4 21:52:51 2022 Building RP forest with 17 trees\n",
      "Mon Apr  4 21:52:52 2022 NN descent for 16 iterations\n",
      "\t 1  /  16\n",
      "\t 2  /  16\n",
      "\t 3  /  16\n",
      "\t 4  /  16\n",
      "\t 5  /  16\n",
      "\t 6  /  16\n",
      "\tStopping threshold met -- exiting after 6 iterations\n",
      "Mon Apr  4 21:52:55 2022 Building RP forest with 17 trees\n",
      "Mon Apr  4 21:52:55 2022 NN descent for 16 iterations\n",
      "\t 1  /  16\n",
      "\t 2  /  16\n",
      "\tStopping threshold met -- exiting after 2 iterations\n",
      "#test# nn preserving : 1.16/15 in epoch 5\n",
      "#train# boundary preserving: 1.54/15 in epoch 5\n",
      "#test# boundary preserving: 1.48/15 in epoch 5\n"
     ]
    },
    {
     "name": "stderr",
     "output_type": "stream",
     "text": [
      "100%|██████████| 250/250 [00:00<00:00, 11461.73it/s]\n",
      "100%|██████████| 250/250 [00:00<00:00, 11535.87it/s]\n"
     ]
    },
    {
     "name": "stdout",
     "output_type": "stream",
     "text": [
      "#train# PPR: 0.41 in epoch 5\n"
     ]
    },
    {
     "name": "stderr",
     "output_type": "stream",
     "text": [
      "100%|██████████| 50/50 [00:00<00:00, 11738.89it/s]\n",
      "100%|██████████| 50/50 [00:00<00:00, 12040.83it/s]\n"
     ]
    },
    {
     "name": "stdout",
     "output_type": "stream",
     "text": [
      "#test# PPR: 0.41 in epoch 5\n",
      "Finish initialization...\n",
      "Calculating distances...\n",
      "calculating distances for 300 points within 0.34 seconds...\n",
      "Hausdorff distance is 0.27 with 400 points\n",
      "=================+++=5=+++================\n",
      "Calculating distances...\n",
      "calculating distances for 300 points within 0.35 seconds...\n",
      "Hausdorff distance is 0.27 with 400 points\n",
      "Finish calculating normaling factor\n",
      "Calculating distances...\n",
      "calculating distances for 300 points within 0.33 seconds...\n",
      "Hausdorff distance is 0.28 with 384 points\n",
      "select 384 points\n",
      "Mon Apr  4 21:53:17 2022 Building RP forest with 6 trees\n",
      "Mon Apr  4 21:53:18 2022 NN descent for 9 iterations\n",
      "\t 1  /  9\n",
      "\t 2  /  9\n",
      "\t 3  /  9\n",
      "\tStopping threshold met -- exiting after 3 iterations\n",
      "Gradients calculation: 3.00 seconds\tsoftmax with temperature: 0.00 seconds\n",
      "====================\n",
      "epoch:1\n",
      "===================\n"
     ]
    },
    {
     "name": "stderr",
     "output_type": "stream",
     "text": [
      "100%|██████████| 182/182 [00:03<00:00, 48.20it/s]\n"
     ]
    },
    {
     "name": "stdout",
     "output_type": "stream",
     "text": [
      "umap:0.4852\trecon_l:0.2853\tloss:3.3383\n",
      "====================\n",
      "epoch:2\n",
      "===================\n"
     ]
    },
    {
     "name": "stderr",
     "output_type": "stream",
     "text": [
      "100%|██████████| 182/182 [00:03<00:00, 49.49it/s]\n"
     ]
    },
    {
     "name": "stdout",
     "output_type": "stream",
     "text": [
      "umap:0.2450\trecon_l:0.1616\tloss:1.8608\n",
      "====================\n",
      "epoch:3\n",
      "===================\n"
     ]
    },
    {
     "name": "stderr",
     "output_type": "stream",
     "text": [
      "100%|██████████| 182/182 [00:03<00:00, 47.96it/s]\n"
     ]
    },
    {
     "name": "stdout",
     "output_type": "stream",
     "text": [
      "umap:0.2350\trecon_l:0.1506\tloss:1.7412\n",
      "====================\n",
      "epoch:4\n",
      "===================\n"
     ]
    },
    {
     "name": "stderr",
     "output_type": "stream",
     "text": [
      "100%|██████████| 182/182 [00:03<00:00, 48.12it/s]\n"
     ]
    },
    {
     "name": "stdout",
     "output_type": "stream",
     "text": [
      "umap:0.2327\trecon_l:0.1489\tloss:1.7212\n",
      "====================\n",
      "epoch:5\n",
      "===================\n"
     ]
    },
    {
     "name": "stderr",
     "output_type": "stream",
     "text": [
      "100%|██████████| 182/182 [00:03<00:00, 46.55it/s]\n"
     ]
    },
    {
     "name": "stdout",
     "output_type": "stream",
     "text": [
      "umap:0.2299\trecon_l:0.1467\tloss:1.6966\n",
      "====================\n",
      "epoch:6\n",
      "===================\n"
     ]
    },
    {
     "name": "stderr",
     "output_type": "stream",
     "text": [
      "100%|██████████| 182/182 [00:03<00:00, 46.94it/s]\n"
     ]
    },
    {
     "name": "stdout",
     "output_type": "stream",
     "text": [
      "umap:0.2291\trecon_l:0.1461\tloss:1.6903\n",
      "====================\n",
      "epoch:7\n",
      "===================\n"
     ]
    },
    {
     "name": "stderr",
     "output_type": "stream",
     "text": [
      "100%|██████████| 182/182 [00:03<00:00, 47.70it/s]\n"
     ]
    },
    {
     "name": "stdout",
     "output_type": "stream",
     "text": [
      "umap:0.2278\trecon_l:0.1458\tloss:1.6859\n",
      "====================\n",
      "epoch:8\n",
      "===================\n"
     ]
    },
    {
     "name": "stderr",
     "output_type": "stream",
     "text": [
      "100%|██████████| 182/182 [00:03<00:00, 48.85it/s]\n"
     ]
    },
    {
     "name": "stdout",
     "output_type": "stream",
     "text": [
      "umap:0.2276\trecon_l:0.1453\tloss:1.6805\n",
      "====================\n",
      "epoch:9\n",
      "===================\n"
     ]
    },
    {
     "name": "stderr",
     "output_type": "stream",
     "text": [
      "100%|██████████| 182/182 [00:03<00:00, 49.26it/s]\n"
     ]
    },
    {
     "name": "stdout",
     "output_type": "stream",
     "text": [
      "umap:0.2277\trecon_l:0.1453\tloss:1.6811\n",
      "Time spend: 34.07 for training vis model...\n",
      "Mon Apr  4 21:53:56 2022 Building RP forest with 16 trees\n",
      "Mon Apr  4 21:53:56 2022 NN descent for 16 iterations\n",
      "\t 1  /  16\n",
      "\t 2  /  16\n",
      "\t 3  /  16\n",
      "\t 4  /  16\n",
      "\t 5  /  16\n",
      "\t 6  /  16\n",
      "\tStopping threshold met -- exiting after 6 iterations\n",
      "Mon Apr  4 21:53:59 2022 Building RP forest with 16 trees\n",
      "Mon Apr  4 21:53:59 2022 NN descent for 16 iterations\n",
      "\t 1  /  16\n",
      "\t 2  /  16\n",
      "\tStopping threshold met -- exiting after 2 iterations\n",
      "#train# nn preserving: 1.19/15 in epoch 5\n",
      "Mon Apr  4 21:54:01 2022 Building RP forest with 17 trees\n",
      "Mon Apr  4 21:54:02 2022 NN descent for 16 iterations\n",
      "\t 1  /  16\n",
      "\t 2  /  16\n",
      "\t 3  /  16\n",
      "\t 4  /  16\n",
      "\t 5  /  16\n",
      "\t 6  /  16\n",
      "\tStopping threshold met -- exiting after 6 iterations\n",
      "Mon Apr  4 21:54:05 2022 Building RP forest with 17 trees\n",
      "Mon Apr  4 21:54:05 2022 NN descent for 16 iterations\n",
      "\t 1  /  16\n",
      "\t 2  /  16\n",
      "\tStopping threshold met -- exiting after 2 iterations\n",
      "#test# nn preserving : 1.16/15 in epoch 5\n",
      "#train# boundary preserving: 1.51/15 in epoch 5\n",
      "#test# boundary preserving: 1.46/15 in epoch 5\n"
     ]
    },
    {
     "name": "stderr",
     "output_type": "stream",
     "text": [
      "100%|██████████| 250/250 [00:00<00:00, 11520.03it/s]\n",
      "100%|██████████| 250/250 [00:00<00:00, 11486.96it/s]\n"
     ]
    },
    {
     "name": "stdout",
     "output_type": "stream",
     "text": [
      "#train# PPR: 0.45 in epoch 5\n"
     ]
    },
    {
     "name": "stderr",
     "output_type": "stream",
     "text": [
      "100%|██████████| 50/50 [00:00<00:00, 11315.77it/s]\n",
      "100%|██████████| 50/50 [00:00<00:00, 11260.48it/s]\n"
     ]
    },
    {
     "name": "stdout",
     "output_type": "stream",
     "text": [
      "#test# PPR: 0.45 in epoch 5\n",
      "Finish initialization...\n",
      "Calculating distances...\n",
      "calculating distances for 300 points within 0.35 seconds...\n",
      "Hausdorff distance is 0.27 with 400 points\n",
      "=================+++=5=+++================\n",
      "Calculating distances...\n",
      "calculating distances for 300 points within 0.34 seconds...\n",
      "Hausdorff distance is 0.27 with 400 points\n",
      "Finish calculating normaling factor\n",
      "Calculating distances...\n",
      "calculating distances for 300 points within 0.35 seconds...\n",
      "Hausdorff distance is 0.26 with 475 points\n",
      "select 475 points\n",
      "Mon Apr  4 21:54:30 2022 Building RP forest with 6 trees\n",
      "Mon Apr  4 21:54:31 2022 NN descent for 9 iterations\n",
      "\t 1  /  9\n",
      "\t 2  /  9\n",
      "\t 3  /  9\n",
      "\tStopping threshold met -- exiting after 3 iterations\n",
      "Gradients calculation: 4.00 seconds\tsoftmax with temperature: 0.00 seconds\n",
      "====================\n",
      "epoch:1\n",
      "===================\n"
     ]
    },
    {
     "name": "stderr",
     "output_type": "stream",
     "text": [
      "100%|██████████| 188/188 [00:03<00:00, 47.42it/s]\n"
     ]
    },
    {
     "name": "stdout",
     "output_type": "stream",
     "text": [
      "umap:0.4908\trecon_l:0.3785\tloss:4.2756\n",
      "====================\n",
      "epoch:2\n",
      "===================\n"
     ]
    },
    {
     "name": "stderr",
     "output_type": "stream",
     "text": [
      "100%|██████████| 188/188 [00:03<00:00, 47.27it/s]\n"
     ]
    },
    {
     "name": "stdout",
     "output_type": "stream",
     "text": [
      "umap:0.2404\trecon_l:0.1610\tloss:1.8505\n",
      "====================\n",
      "epoch:3\n",
      "===================\n"
     ]
    },
    {
     "name": "stderr",
     "output_type": "stream",
     "text": [
      "100%|██████████| 188/188 [00:03<00:00, 49.81it/s]\n"
     ]
    },
    {
     "name": "stdout",
     "output_type": "stream",
     "text": [
      "umap:0.2327\trecon_l:0.1578\tloss:1.8105\n",
      "====================\n",
      "epoch:4\n",
      "===================\n"
     ]
    },
    {
     "name": "stderr",
     "output_type": "stream",
     "text": [
      "100%|██████████| 188/188 [00:03<00:00, 50.48it/s]\n"
     ]
    },
    {
     "name": "stdout",
     "output_type": "stream",
     "text": [
      "umap:0.2290\trecon_l:0.1562\tloss:1.7909\n",
      "====================\n",
      "epoch:5\n",
      "===================\n"
     ]
    },
    {
     "name": "stderr",
     "output_type": "stream",
     "text": [
      "100%|██████████| 188/188 [00:03<00:00, 50.99it/s]\n"
     ]
    },
    {
     "name": "stdout",
     "output_type": "stream",
     "text": [
      "umap:0.2273\trecon_l:0.1531\tloss:1.7581\n",
      "====================\n",
      "epoch:6\n",
      "===================\n"
     ]
    },
    {
     "name": "stderr",
     "output_type": "stream",
     "text": [
      "100%|██████████| 188/188 [00:03<00:00, 51.10it/s]\n"
     ]
    },
    {
     "name": "stdout",
     "output_type": "stream",
     "text": [
      "umap:0.2263\trecon_l:0.1528\tloss:1.7544\n",
      "====================\n",
      "epoch:7\n",
      "===================\n"
     ]
    },
    {
     "name": "stderr",
     "output_type": "stream",
     "text": [
      "100%|██████████| 188/188 [00:03<00:00, 51.06it/s]\n"
     ]
    },
    {
     "name": "stdout",
     "output_type": "stream",
     "text": [
      "umap:0.2262\trecon_l:0.1531\tloss:1.7571\n",
      "====================\n",
      "epoch:8\n",
      "===================\n"
     ]
    },
    {
     "name": "stderr",
     "output_type": "stream",
     "text": [
      "100%|██████████| 188/188 [00:03<00:00, 51.10it/s]\n"
     ]
    },
    {
     "name": "stdout",
     "output_type": "stream",
     "text": [
      "umap:0.2258\trecon_l:0.1521\tloss:1.7467\n",
      "====================\n",
      "epoch:9\n",
      "===================\n"
     ]
    },
    {
     "name": "stderr",
     "output_type": "stream",
     "text": [
      "100%|██████████| 188/188 [00:03<00:00, 51.13it/s]\n"
     ]
    },
    {
     "name": "stdout",
     "output_type": "stream",
     "text": [
      "umap:0.2251\trecon_l:0.1518\tloss:1.7434\n",
      "====================\n",
      "epoch:10\n",
      "===================\n"
     ]
    },
    {
     "name": "stderr",
     "output_type": "stream",
     "text": [
      "100%|██████████| 188/188 [00:03<00:00, 50.76it/s]\n"
     ]
    },
    {
     "name": "stdout",
     "output_type": "stream",
     "text": [
      "umap:0.2258\trecon_l:0.1524\tloss:1.7495\n",
      "====================\n",
      "epoch:11\n",
      "===================\n"
     ]
    },
    {
     "name": "stderr",
     "output_type": "stream",
     "text": [
      "100%|██████████| 188/188 [00:03<00:00, 48.87it/s]\n"
     ]
    },
    {
     "name": "stdout",
     "output_type": "stream",
     "text": [
      "umap:0.2252\trecon_l:0.1522\tloss:1.7476\n",
      "====================\n",
      "epoch:12\n",
      "===================\n"
     ]
    },
    {
     "name": "stderr",
     "output_type": "stream",
     "text": [
      "100%|██████████| 188/188 [00:03<00:00, 50.94it/s]\n"
     ]
    },
    {
     "name": "stdout",
     "output_type": "stream",
     "text": [
      "umap:0.2260\trecon_l:0.1520\tloss:1.7462\n",
      "Time spend: 45.11 for training vis model...\n",
      "Mon Apr  4 21:55:20 2022 Building RP forest with 16 trees\n",
      "Mon Apr  4 21:55:21 2022 NN descent for 16 iterations\n",
      "\t 1  /  16\n",
      "\t 2  /  16\n",
      "\t 3  /  16\n",
      "\t 4  /  16\n",
      "\t 5  /  16\n",
      "\t 6  /  16\n",
      "\tStopping threshold met -- exiting after 6 iterations\n",
      "Mon Apr  4 21:55:23 2022 Building RP forest with 16 trees\n",
      "Mon Apr  4 21:55:23 2022 NN descent for 16 iterations\n",
      "\t 1  /  16\n",
      "\t 2  /  16\n",
      "\tStopping threshold met -- exiting after 2 iterations\n",
      "#train# nn preserving: 1.20/15 in epoch 5\n",
      "Mon Apr  4 21:55:26 2022 Building RP forest with 17 trees\n",
      "Mon Apr  4 21:55:26 2022 NN descent for 16 iterations\n",
      "\t 1  /  16\n",
      "\t 2  /  16\n",
      "\t 3  /  16\n",
      "\t 4  /  16\n",
      "\t 5  /  16\n",
      "\t 6  /  16\n",
      "\tStopping threshold met -- exiting after 6 iterations\n",
      "Mon Apr  4 21:55:29 2022 Building RP forest with 17 trees\n",
      "Mon Apr  4 21:55:29 2022 NN descent for 16 iterations\n",
      "\t 1  /  16\n",
      "\t 2  /  16\n",
      "\tStopping threshold met -- exiting after 2 iterations\n",
      "#test# nn preserving : 1.17/15 in epoch 5\n",
      "#train# boundary preserving: 1.59/15 in epoch 5\n",
      "#test# boundary preserving: 1.60/15 in epoch 5\n"
     ]
    },
    {
     "name": "stderr",
     "output_type": "stream",
     "text": [
      "100%|██████████| 250/250 [00:00<00:00, 11554.81it/s]\n",
      "100%|██████████| 250/250 [00:00<00:00, 11491.75it/s]\n"
     ]
    },
    {
     "name": "stdout",
     "output_type": "stream",
     "text": [
      "#train# PPR: 0.45 in epoch 5\n"
     ]
    },
    {
     "name": "stderr",
     "output_type": "stream",
     "text": [
      "100%|██████████| 50/50 [00:00<00:00, 12024.95it/s]\n",
      "100%|██████████| 50/50 [00:00<00:00, 12108.97it/s]\n"
     ]
    },
    {
     "name": "stdout",
     "output_type": "stream",
     "text": [
      "#test# PPR: 0.46 in epoch 5\n",
      "Finish initialization...\n",
      "Calculating distances...\n",
      "calculating distances for 300 points within 0.33 seconds...\n",
      "Hausdorff distance is 0.27 with 400 points\n",
      "=================+++=5=+++================\n",
      "Calculating distances...\n",
      "calculating distances for 300 points within 0.33 seconds...\n",
      "Hausdorff distance is 0.28 with 400 points\n",
      "Finish calculating normaling factor\n",
      "Calculating distances...\n",
      "calculating distances for 300 points within 0.35 seconds...\n",
      "Hausdorff distance is 0.24 with 818 points\n",
      "select 818 points\n",
      "Mon Apr  4 21:56:05 2022 Building RP forest with 6 trees\n",
      "Mon Apr  4 21:56:05 2022 NN descent for 10 iterations\n",
      "\t 1  /  10\n",
      "\t 2  /  10\n",
      "\t 3  /  10\n",
      "\t 4  /  10\n",
      "\tStopping threshold met -- exiting after 4 iterations\n",
      "Gradients calculation: 4.00 seconds\tsoftmax with temperature: 0.00 seconds\n",
      "====================\n",
      "epoch:1\n",
      "===================\n"
     ]
    },
    {
     "name": "stderr",
     "output_type": "stream",
     "text": [
      "100%|██████████| 211/211 [00:04<00:00, 47.37it/s]\n"
     ]
    },
    {
     "name": "stdout",
     "output_type": "stream",
     "text": [
      "umap:0.4767\trecon_l:0.3819\tloss:4.2961\n",
      "====================\n",
      "epoch:2\n",
      "===================\n"
     ]
    },
    {
     "name": "stderr",
     "output_type": "stream",
     "text": [
      "100%|██████████| 211/211 [00:04<00:00, 47.28it/s]\n"
     ]
    },
    {
     "name": "stdout",
     "output_type": "stream",
     "text": [
      "umap:0.2367\trecon_l:0.1958\tloss:2.1945\n",
      "====================\n",
      "epoch:3\n",
      "===================\n"
     ]
    },
    {
     "name": "stderr",
     "output_type": "stream",
     "text": [
      "100%|██████████| 211/211 [00:04<00:00, 47.65it/s]\n"
     ]
    },
    {
     "name": "stdout",
     "output_type": "stream",
     "text": [
      "umap:0.2290\trecon_l:0.1854\tloss:2.0829\n",
      "====================\n",
      "epoch:4\n",
      "===================\n"
     ]
    },
    {
     "name": "stderr",
     "output_type": "stream",
     "text": [
      "100%|██████████| 211/211 [00:04<00:00, 48.11it/s]\n"
     ]
    },
    {
     "name": "stdout",
     "output_type": "stream",
     "text": [
      "umap:0.2276\trecon_l:0.1847\tloss:2.0746\n",
      "====================\n",
      "epoch:5\n",
      "===================\n"
     ]
    },
    {
     "name": "stderr",
     "output_type": "stream",
     "text": [
      "100%|██████████| 211/211 [00:04<00:00, 47.58it/s]\n"
     ]
    },
    {
     "name": "stdout",
     "output_type": "stream",
     "text": [
      "umap:0.2282\trecon_l:0.1820\tloss:2.0484\n",
      "====================\n",
      "epoch:6\n",
      "===================\n"
     ]
    },
    {
     "name": "stderr",
     "output_type": "stream",
     "text": [
      "100%|██████████| 211/211 [00:04<00:00, 48.40it/s]\n"
     ]
    },
    {
     "name": "stdout",
     "output_type": "stream",
     "text": [
      "umap:0.2271\trecon_l:0.1813\tloss:2.0404\n",
      "====================\n",
      "epoch:7\n",
      "===================\n"
     ]
    },
    {
     "name": "stderr",
     "output_type": "stream",
     "text": [
      "100%|██████████| 211/211 [00:04<00:00, 49.08it/s]\n"
     ]
    },
    {
     "name": "stdout",
     "output_type": "stream",
     "text": [
      "umap:0.2271\trecon_l:0.1809\tloss:2.0365\n",
      "====================\n",
      "epoch:8\n",
      "===================\n"
     ]
    },
    {
     "name": "stderr",
     "output_type": "stream",
     "text": [
      "100%|██████████| 211/211 [00:04<00:00, 49.61it/s]\n"
     ]
    },
    {
     "name": "stdout",
     "output_type": "stream",
     "text": [
      "umap:0.2263\trecon_l:0.1809\tloss:2.0354\n",
      "====================\n",
      "epoch:9\n",
      "===================\n"
     ]
    },
    {
     "name": "stderr",
     "output_type": "stream",
     "text": [
      "100%|██████████| 211/211 [00:04<00:00, 50.91it/s]\n"
     ]
    },
    {
     "name": "stdout",
     "output_type": "stream",
     "text": [
      "umap:0.2258\trecon_l:0.1804\tloss:2.0298\n",
      "Time spend: 39.24 for training vis model...\n",
      "Mon Apr  4 21:56:49 2022 Building RP forest with 16 trees\n",
      "Mon Apr  4 21:56:49 2022 NN descent for 16 iterations\n",
      "\t 1  /  16\n",
      "\t 2  /  16\n",
      "\t 3  /  16\n",
      "\t 4  /  16\n",
      "\t 5  /  16\n",
      "\t 6  /  16\n",
      "\tStopping threshold met -- exiting after 6 iterations\n",
      "Mon Apr  4 21:56:52 2022 Building RP forest with 16 trees\n",
      "Mon Apr  4 21:56:52 2022 NN descent for 16 iterations\n",
      "\t 1  /  16\n",
      "\t 2  /  16\n",
      "\tStopping threshold met -- exiting after 2 iterations\n",
      "#train# nn preserving: 1.17/15 in epoch 5\n",
      "Mon Apr  4 21:56:54 2022 Building RP forest with 17 trees\n",
      "Mon Apr  4 21:56:55 2022 NN descent for 16 iterations\n",
      "\t 1  /  16\n",
      "\t 2  /  16\n",
      "\t 3  /  16\n",
      "\t 4  /  16\n",
      "\t 5  /  16\n",
      "\t 6  /  16\n",
      "\tStopping threshold met -- exiting after 6 iterations\n",
      "Mon Apr  4 21:56:58 2022 Building RP forest with 17 trees\n",
      "Mon Apr  4 21:56:58 2022 NN descent for 16 iterations\n",
      "\t 1  /  16\n",
      "\t 2  /  16\n",
      "\tStopping threshold met -- exiting after 2 iterations\n",
      "#test# nn preserving : 1.15/15 in epoch 5\n",
      "#train# boundary preserving: 1.42/15 in epoch 5\n",
      "#test# boundary preserving: 1.40/15 in epoch 5\n"
     ]
    },
    {
     "name": "stderr",
     "output_type": "stream",
     "text": [
      "100%|██████████| 250/250 [00:00<00:00, 11519.78it/s]\n",
      "100%|██████████| 250/250 [00:00<00:00, 11476.40it/s]\n"
     ]
    },
    {
     "name": "stdout",
     "output_type": "stream",
     "text": [
      "#train# PPR: 0.42 in epoch 5\n"
     ]
    },
    {
     "name": "stderr",
     "output_type": "stream",
     "text": [
      "100%|██████████| 50/50 [00:00<00:00, 11581.36it/s]\n",
      "100%|██████████| 50/50 [00:00<00:00, 11207.52it/s]\n"
     ]
    },
    {
     "name": "stdout",
     "output_type": "stream",
     "text": [
      "#test# PPR: 0.42 in epoch 5\n",
      "Finish initialization...\n",
      "Calculating distances...\n",
      "calculating distances for 300 points within 0.32 seconds...\n",
      "Hausdorff distance is 0.27 with 400 points\n",
      "=================+++=5=+++================\n",
      "Calculating distances...\n",
      "calculating distances for 300 points within 0.34 seconds...\n",
      "Hausdorff distance is 0.27 with 400 points\n",
      "Finish calculating normaling factor\n",
      "Calculating distances...\n",
      "calculating distances for 300 points within 0.35 seconds...\n",
      "Hausdorff distance is 0.21 with 2599 points\n",
      "select 2599 points\n",
      "Mon Apr  4 21:58:29 2022 Building RP forest with 8 trees\n",
      "Mon Apr  4 21:58:29 2022 NN descent for 11 iterations\n",
      "\t 1  /  11\n",
      "\t 2  /  11\n",
      "\t 3  /  11\n",
      "\t 4  /  11\n",
      "\tStopping threshold met -- exiting after 4 iterations\n",
      "Gradients calculation: 5.00 seconds\tsoftmax with temperature: 0.00 seconds\n",
      "====================\n",
      "epoch:1\n",
      "===================\n"
     ]
    },
    {
     "name": "stderr",
     "output_type": "stream",
     "text": [
      "100%|██████████| 333/333 [00:06<00:00, 48.90it/s]\n"
     ]
    },
    {
     "name": "stdout",
     "output_type": "stream",
     "text": [
      "umap:0.3276\trecon_l:0.3772\tloss:4.0997\n",
      "====================\n",
      "epoch:2\n",
      "===================\n"
     ]
    },
    {
     "name": "stderr",
     "output_type": "stream",
     "text": [
      "100%|██████████| 333/333 [00:06<00:00, 48.90it/s]\n"
     ]
    },
    {
     "name": "stdout",
     "output_type": "stream",
     "text": [
      "umap:0.2408\trecon_l:0.2439\tloss:2.6796\n",
      "====================\n",
      "epoch:3\n",
      "===================\n"
     ]
    },
    {
     "name": "stderr",
     "output_type": "stream",
     "text": [
      "100%|██████████| 333/333 [00:06<00:00, 48.84it/s]\n"
     ]
    },
    {
     "name": "stdout",
     "output_type": "stream",
     "text": [
      "umap:0.2361\trecon_l:0.2363\tloss:2.5994\n",
      "====================\n",
      "epoch:4\n",
      "===================\n"
     ]
    },
    {
     "name": "stderr",
     "output_type": "stream",
     "text": [
      "100%|██████████| 333/333 [00:06<00:00, 47.79it/s]\n"
     ]
    },
    {
     "name": "stdout",
     "output_type": "stream",
     "text": [
      "umap:0.2463\trecon_l:0.2517\tloss:2.7632\n",
      "====================\n",
      "epoch:5\n",
      "===================\n"
     ]
    },
    {
     "name": "stderr",
     "output_type": "stream",
     "text": [
      "100%|██████████| 333/333 [00:07<00:00, 47.47it/s]\n"
     ]
    },
    {
     "name": "stdout",
     "output_type": "stream",
     "text": [
      "umap:0.2320\trecon_l:0.2326\tloss:2.5580\n",
      "====================\n",
      "epoch:6\n",
      "===================\n"
     ]
    },
    {
     "name": "stderr",
     "output_type": "stream",
     "text": [
      "100%|██████████| 333/333 [00:06<00:00, 47.94it/s]\n"
     ]
    },
    {
     "name": "stdout",
     "output_type": "stream",
     "text": [
      "umap:0.2310\trecon_l:0.2309\tloss:2.5397\n",
      "====================\n",
      "epoch:7\n",
      "===================\n"
     ]
    },
    {
     "name": "stderr",
     "output_type": "stream",
     "text": [
      "100%|██████████| 333/333 [00:07<00:00, 47.52it/s]\n"
     ]
    },
    {
     "name": "stdout",
     "output_type": "stream",
     "text": [
      "umap:0.2302\trecon_l:0.2297\tloss:2.5270\n",
      "====================\n",
      "epoch:8\n",
      "===================\n"
     ]
    },
    {
     "name": "stderr",
     "output_type": "stream",
     "text": [
      "100%|██████████| 333/333 [00:06<00:00, 48.51it/s]\n"
     ]
    },
    {
     "name": "stdout",
     "output_type": "stream",
     "text": [
      "umap:0.2297\trecon_l:0.2289\tloss:2.5190\n",
      "====================\n",
      "epoch:9\n",
      "===================\n"
     ]
    },
    {
     "name": "stderr",
     "output_type": "stream",
     "text": [
      "100%|██████████| 333/333 [00:06<00:00, 49.77it/s]\n"
     ]
    },
    {
     "name": "stdout",
     "output_type": "stream",
     "text": [
      "umap:0.2294\trecon_l:0.2282\tloss:2.5117\n",
      "====================\n",
      "epoch:10\n",
      "===================\n"
     ]
    },
    {
     "name": "stderr",
     "output_type": "stream",
     "text": [
      "100%|██████████| 333/333 [00:06<00:00, 49.29it/s]\n"
     ]
    },
    {
     "name": "stdout",
     "output_type": "stream",
     "text": [
      "umap:0.2291\trecon_l:0.2283\tloss:2.5120\n",
      "====================\n",
      "epoch:11\n",
      "===================\n"
     ]
    },
    {
     "name": "stderr",
     "output_type": "stream",
     "text": [
      "100%|██████████| 333/333 [00:06<00:00, 50.14it/s]\n"
     ]
    },
    {
     "name": "stdout",
     "output_type": "stream",
     "text": [
      "umap:0.2291\trecon_l:0.2280\tloss:2.5090\n",
      "Time spend: 75.35 for training vis model...\n",
      "Mon Apr  4 21:59:50 2022 Building RP forest with 16 trees\n",
      "Mon Apr  4 21:59:51 2022 NN descent for 16 iterations\n",
      "\t 1  /  16\n",
      "\t 2  /  16\n",
      "\t 3  /  16\n",
      "\t 4  /  16\n",
      "\t 5  /  16\n",
      "\t 6  /  16\n",
      "\tStopping threshold met -- exiting after 6 iterations\n",
      "Mon Apr  4 21:59:53 2022 Building RP forest with 16 trees\n",
      "Mon Apr  4 21:59:53 2022 NN descent for 16 iterations\n",
      "\t 1  /  16\n",
      "\t 2  /  16\n",
      "\tStopping threshold met -- exiting after 2 iterations\n",
      "#train# nn preserving: 1.20/15 in epoch 5\n",
      "Mon Apr  4 21:59:56 2022 Building RP forest with 17 trees\n",
      "Mon Apr  4 21:59:56 2022 NN descent for 16 iterations\n",
      "\t 1  /  16\n",
      "\t 2  /  16\n",
      "\t 3  /  16\n",
      "\t 4  /  16\n",
      "\t 5  /  16\n",
      "\t 6  /  16\n",
      "\tStopping threshold met -- exiting after 6 iterations\n",
      "Mon Apr  4 21:59:59 2022 Building RP forest with 17 trees\n",
      "Mon Apr  4 21:59:59 2022 NN descent for 16 iterations\n",
      "\t 1  /  16\n",
      "\t 2  /  16\n",
      "\tStopping threshold met -- exiting after 2 iterations\n",
      "#test# nn preserving : 1.18/15 in epoch 5\n",
      "#train# boundary preserving: 1.67/15 in epoch 5\n",
      "#test# boundary preserving: 1.62/15 in epoch 5\n"
     ]
    },
    {
     "name": "stderr",
     "output_type": "stream",
     "text": [
      "100%|██████████| 250/250 [00:00<00:00, 11430.24it/s]\n",
      "100%|██████████| 250/250 [00:00<00:00, 11486.33it/s]\n"
     ]
    },
    {
     "name": "stdout",
     "output_type": "stream",
     "text": [
      "#train# PPR: 0.48 in epoch 5\n"
     ]
    },
    {
     "name": "stderr",
     "output_type": "stream",
     "text": [
      "100%|██████████| 50/50 [00:00<00:00, 11921.73it/s]\n",
      "100%|██████████| 50/50 [00:00<00:00, 11910.90it/s]\n"
     ]
    },
    {
     "name": "stdout",
     "output_type": "stream",
     "text": [
      "#test# PPR: 0.48 in epoch 5\n",
      "Finish initialization...\n",
      "Calculating distances...\n",
      "calculating distances for 300 points within 0.31 seconds...\n",
      "Hausdorff distance is 0.27 with 400 points\n",
      "=================+++=5=+++================\n",
      "Calculating distances...\n",
      "calculating distances for 300 points within 0.34 seconds...\n",
      "Hausdorff distance is 0.27 with 400 points\n",
      "Finish calculating normaling factor\n",
      "Calculating distances...\n",
      "calculating distances for 300 points within 0.34 seconds...\n",
      "Hausdorff distance is 0.18 with 9857 points\n",
      "select 9857 points\n",
      "Mon Apr  4 22:05:14 2022 Building RP forest with 10 trees\n",
      "Mon Apr  4 22:05:14 2022 NN descent for 13 iterations\n",
      "\t 1  /  13\n",
      "\t 2  /  13\n",
      "\t 3  /  13\n",
      "\t 4  /  13\n",
      "\t 5  /  13\n",
      "\t 6  /  13\n",
      "\tStopping threshold met -- exiting after 6 iterations\n",
      "Gradients calculation: 10.00 seconds\tsoftmax with temperature: 0.00 seconds\n",
      "====================\n",
      "epoch:1\n",
      "===================\n"
     ]
    },
    {
     "name": "stderr",
     "output_type": "stream",
     "text": [
      "100%|██████████| 834/834 [00:16<00:00, 50.75it/s]\n"
     ]
    },
    {
     "name": "stdout",
     "output_type": "stream",
     "text": [
      "umap:0.2988\trecon_l:0.2962\tloss:3.2605\n",
      "====================\n",
      "epoch:2\n",
      "===================\n"
     ]
    },
    {
     "name": "stderr",
     "output_type": "stream",
     "text": [
      "100%|██████████| 834/834 [00:17<00:00, 48.64it/s]\n"
     ]
    },
    {
     "name": "stdout",
     "output_type": "stream",
     "text": [
      "umap:0.2810\trecon_l:0.2559\tloss:2.8396\n",
      "====================\n",
      "epoch:3\n",
      "===================\n"
     ]
    },
    {
     "name": "stderr",
     "output_type": "stream",
     "text": [
      "100%|██████████| 834/834 [00:16<00:00, 49.47it/s]\n"
     ]
    },
    {
     "name": "stdout",
     "output_type": "stream",
     "text": [
      "umap:0.2605\trecon_l:0.2441\tloss:2.7017\n",
      "====================\n",
      "epoch:4\n",
      "===================\n"
     ]
    },
    {
     "name": "stderr",
     "output_type": "stream",
     "text": [
      "100%|██████████| 834/834 [00:17<00:00, 48.70it/s]\n"
     ]
    },
    {
     "name": "stdout",
     "output_type": "stream",
     "text": [
      "umap:0.3337\trecon_l:0.2759\tloss:3.0929\n",
      "====================\n",
      "epoch:5\n",
      "===================\n"
     ]
    },
    {
     "name": "stderr",
     "output_type": "stream",
     "text": [
      "100%|██████████| 834/834 [00:16<00:00, 49.28it/s]\n"
     ]
    },
    {
     "name": "stdout",
     "output_type": "stream",
     "text": [
      "umap:0.3662\trecon_l:0.2806\tloss:3.1722\n",
      "====================\n",
      "epoch:6\n",
      "===================\n"
     ]
    },
    {
     "name": "stderr",
     "output_type": "stream",
     "text": [
      "100%|██████████| 834/834 [00:17<00:00, 47.72it/s]\n"
     ]
    },
    {
     "name": "stdout",
     "output_type": "stream",
     "text": [
      "umap:0.3651\trecon_l:0.2805\tloss:3.1698\n",
      "====================\n",
      "epoch:7\n",
      "===================\n"
     ]
    },
    {
     "name": "stderr",
     "output_type": "stream",
     "text": [
      "100%|██████████| 834/834 [00:17<00:00, 47.71it/s]\n"
     ]
    },
    {
     "name": "stdout",
     "output_type": "stream",
     "text": [
      "umap:0.3630\trecon_l:0.2802\tloss:3.1647\n",
      "Time spend: 119.46 for training vis model...\n",
      "Mon Apr  4 22:07:26 2022 Building RP forest with 16 trees\n",
      "Mon Apr  4 22:07:26 2022 NN descent for 16 iterations\n",
      "\t 1  /  16\n",
      "\t 2  /  16\n",
      "\t 3  /  16\n",
      "\t 4  /  16\n",
      "\t 5  /  16\n",
      "\t 6  /  16\n",
      "\tStopping threshold met -- exiting after 6 iterations\n",
      "Mon Apr  4 22:07:29 2022 Building RP forest with 16 trees\n",
      "Mon Apr  4 22:07:29 2022 NN descent for 16 iterations\n",
      "\t 1  /  16\n",
      "\t 2  /  16\n",
      "\tStopping threshold met -- exiting after 2 iterations\n",
      "#train# nn preserving: 0.70/15 in epoch 5\n",
      "Mon Apr  4 22:07:31 2022 Building RP forest with 17 trees\n",
      "Mon Apr  4 22:07:32 2022 NN descent for 16 iterations\n",
      "\t 1  /  16\n",
      "\t 2  /  16\n",
      "\t 3  /  16\n",
      "\t 4  /  16\n",
      "\t 5  /  16\n",
      "\t 6  /  16\n",
      "\tStopping threshold met -- exiting after 6 iterations\n",
      "Mon Apr  4 22:07:35 2022 Building RP forest with 17 trees\n",
      "Mon Apr  4 22:07:35 2022 NN descent for 16 iterations\n",
      "\t 1  /  16\n",
      "\t 2  /  16\n",
      "\tStopping threshold met -- exiting after 2 iterations\n",
      "#test# nn preserving : 0.55/15 in epoch 5\n",
      "#train# boundary preserving: 0.53/15 in epoch 5\n",
      "#test# boundary preserving: 0.50/15 in epoch 5\n"
     ]
    },
    {
     "name": "stderr",
     "output_type": "stream",
     "text": [
      "100%|██████████| 250/250 [00:00<00:00, 11382.59it/s]\n",
      "100%|██████████| 250/250 [00:00<00:00, 11394.10it/s]"
     ]
    },
    {
     "name": "stdout",
     "output_type": "stream",
     "text": [
      "#train# PPR: 0.25 in epoch 5\n"
     ]
    },
    {
     "name": "stderr",
     "output_type": "stream",
     "text": [
      "\n",
      "100%|██████████| 50/50 [00:00<00:00, 12085.24it/s]\n",
      "100%|██████████| 50/50 [00:00<00:00, 12007.74it/s]\n"
     ]
    },
    {
     "name": "stdout",
     "output_type": "stream",
     "text": [
      "#test# PPR: 0.25 in epoch 5\n",
      "Finish initialization...\n",
      "Calculating distances...\n",
      "calculating distances for 300 points within 0.25 seconds...\n",
      "Hausdorff distance is 0.27 with 400 points\n",
      "=================+++=5=+++================\n",
      "Calculating distances...\n",
      "calculating distances for 300 points within 0.26 seconds...\n",
      "Hausdorff distance is 0.27 with 400 points\n",
      "Finish calculating normaling factor\n",
      "Calculating distances...\n",
      "calculating distances for 300 points within 0.26 seconds...\n"
     ]
    }
   ],
   "source": [
    "epoch_list = [1,5,10,20,30,40,60,80,100, 120, 140,160,180,200]\n",
    "max_haus_list = [0.4, 0.3, 0.28,0.26,0.24,0.21,0.18,0.15,0.1]\n",
    "# epoch_list=[180,200]\n",
    "# max_haus_list = [0.3,0.25]\n",
    "for epoch in epoch_list:\n",
    "    nums = list()\n",
    "    nn_train_15 = list()\n",
    "    nn_test_15 = list()\n",
    "    b_train_15 = list()\n",
    "    b_test_15 = list()\n",
    "    ppr_train = list()\n",
    "    ppr_test = list()\n",
    "    for max_haus in max_haus_list:\n",
    "\n",
    "        ########################################################################################################################\n",
    "        #                                                    TRAINING SETTING                                                  #\n",
    "        ########################################################################################################################\n",
    "        data_provider = DataProvider(content_path, net, epoch, epoch, EPOCH_PERIOD, split=-1, device=DEVICE, verbose=1)\n",
    "\n",
    "        model = SingleVisualizationModel(input_dims=512, output_dims=2, units=256)\n",
    "        negative_sample_rate = 5\n",
    "        min_dist = .1\n",
    "        _a, _b = find_ab_params(1.0, min_dist)\n",
    "        umap_loss_fn = UmapLoss(negative_sample_rate, DEVICE, _a, _b, repulsion_strength=1.0)\n",
    "        recon_loss_fn = ReconstructionLoss(beta=1.0)\n",
    "        criterion = SingleVisLoss(umap_loss_fn, recon_loss_fn, lambd=LAMBDA)\n",
    "\n",
    "        optimizer = torch.optim.Adam(model.parameters(), lr=.01, weight_decay=1e-5)\n",
    "        lr_scheduler = torch.optim.lr_scheduler.StepLR(optimizer, step_size=4, gamma=.1)\n",
    "\n",
    "\n",
    "        t0 = time.time()\n",
    "        spatial_cons = kcParallelSpatialEdgeConstructor(data_provider=data_provider, init_num=INIT_NUM, s_n_epochs=S_N_EPOCHS, b_n_epochs=B_N_EPOCHS, n_neighbors=N_NEIGHBORS, MAX_HAUSDORFF=max_haus, ALPHA=ALPHA, BETA=BETA)\n",
    "        s_edge_to, s_edge_from, s_probs, feature_vectors, time_step_nums, selected_idxs_list, knn_indices, sigmas, rhos, attention = spatial_cons.construct()\n",
    "\n",
    "        temporal_cons = GlobalParallelTemporalEdgeConstructor(X=feature_vectors, time_step_nums=time_step_nums, sigmas=sigmas, rhos=rhos, n_neighbors=N_NEIGHBORS, n_epochs=T_N_EPOCHS, selected_idxs_lists=selected_idxs_list)\n",
    "        t_edge_to, t_edge_from, t_probs = temporal_cons.construct()\n",
    "        t1 = time.time()\n",
    "\n",
    "        edge_to = np.concatenate((s_edge_to, t_edge_to),axis=0)\n",
    "        edge_from = np.concatenate((s_edge_from, t_edge_from), axis=0)\n",
    "        probs = np.concatenate((s_probs, t_probs), axis=0)\n",
    "        probs = probs / (probs.max()+1e-3)\n",
    "        eliminate_zeros = probs>1e-3\n",
    "        edge_to = edge_to[eliminate_zeros]\n",
    "        edge_from = edge_from[eliminate_zeros]\n",
    "        probs = probs[eliminate_zeros]\n",
    "\n",
    "        dataset = DataHandler(edge_to, edge_from, feature_vectors, attention)\n",
    "        n_samples = int(np.sum(S_N_EPOCHS * probs) // 1)\n",
    "        # chosse sampler based on the number of dataset\n",
    "        if len(edge_to) > 2^24:\n",
    "            sampler = CustomWeightedRandomSampler(probs, n_samples, replacement=True)\n",
    "        else:\n",
    "            sampler = WeightedRandomSampler(probs, n_samples, replacement=True)\n",
    "        edge_loader = DataLoader(dataset, batch_size=1000, sampler=sampler)\n",
    "        trainer = SingleVisTrainer(model, criterion, optimizer, lr_scheduler,edge_loader=edge_loader, DEVICE=DEVICE)\n",
    "        trainer.train(PATIENT, MAX_EPOCH)\n",
    "        evaluator = Evaluator(data_provider, trainer)\n",
    "\n",
    "        nums.append(len(selected_idxs_list))\n",
    "        nn_train_15.append(evaluator.eval_nn_train(epoch,15))\n",
    "        nn_test_15.append(evaluator.eval_nn_test(epoch, 15))\n",
    "        b_train_15.append(evaluator.eval_b_train(epoch,15))\n",
    "        b_test_15.append(evaluator.eval_b_test(epoch, 15))\n",
    "        ppr_train.append(evaluator.eval_inv_train(epoch))\n",
    "        ppr_test.append(evaluator.eval_inv_test(epoch))\n",
    "    \n",
    "    # draw plot\n",
    "    l1 = plt.plot(nums, nn_train_15, \"ro-\", label=\"nn_train\")\n",
    "    l2 = plt.plot(nums, nn_test_15, \"r+-\", label=\"nn_test\")\n",
    "    l3 = plt.plot(nums, ppr_train, \"bo-\", label=\"ppr_train\")\n",
    "    l4 = plt.plot(nums, ppr_test, \"b+-\", label=\"ppr_test\")\n",
    "    l5 = plt.plot(nums, b_train_15, \"go-\", label=\"b_train\")\n",
    "    l6 = plt.plot(nums, b_test_15, \"g+-\", label=\"b_test\")\n",
    "    plt.savefig(os.path.join(save_dir, \"{}_nums\".format(epoch)))\n",
    "    plt.clf()\n",
    "    l1 = plt.plot(max_haus_list, nn_train_15, \"ro-\", label=\"nn_train\")\n",
    "    l2 = plt.plot(max_haus_list, nn_test_15, \"r+-\", label=\"nn_test\")\n",
    "    l3 = plt.plot(max_haus_list, ppr_train, \"bo-\", label=\"ppr_train\")\n",
    "    l4 = plt.plot(max_haus_list, ppr_test, \"b+-\", label=\"ppr_test\")\n",
    "    l5 = plt.plot(max_haus_list, b_train_15, \"go-\", label=\"b_train\")\n",
    "    l6 = plt.plot(max_haus_list, b_test_15, \"g+-\", label=\"b_test\")\n",
    "    plt.savefig(os.path.join(save_dir, \"{}_max_haus\".format(epoch)))\n",
    "    plt.clf()\n"
   ]
  }
 ],
 "metadata": {
  "interpreter": {
   "hash": "aa7a9f36e1a1e240450dbe9cc8f6d8df1d5301f36681fb271c44fdd883236b60"
  },
  "kernelspec": {
   "display_name": "Python 3.7.11 ('SV': conda)",
   "language": "python",
   "name": "python3"
  },
  "language_info": {
   "codemirror_mode": {
    "name": "ipython",
    "version": 3
   },
   "file_extension": ".py",
   "mimetype": "text/x-python",
   "name": "python",
   "nbconvert_exporter": "python",
   "pygments_lexer": "ipython3",
   "version": "3.7.11"
  },
  "orig_nbformat": 4
 },
 "nbformat": 4,
 "nbformat_minor": 2
}
