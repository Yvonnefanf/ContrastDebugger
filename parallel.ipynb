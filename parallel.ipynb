{
 "cells": [
  {
   "cell_type": "code",
   "execution_count": 1,
   "metadata": {},
   "outputs": [],
   "source": [
    "import torch\n",
    "import sys\n",
    "import os\n",
    "import numpy as np\n",
    "from umap.umap_ import find_ab_params\n",
    "\n",
    "from singleVis.SingleVisualizationModel import SingleVisualizationModel\n",
    "from singleVis.losses import SingleVisLoss, UmapLoss, ReconstructionLoss\n",
    "from singleVis.trainer import SingleVisTrainer\n",
    "from singleVis.data import DataProvider\n",
    "from singleVis.visualizer import visualizer\n",
    "import singleVis.config as config\n",
    "\n",
    "DATASET = \"cifar10\"\n",
    "CONTENT_PATH = \"/home/xianglin/projects/DVI_data/TemporalExp/resnet18_{}\".format(DATASET)\n",
    "\n",
    "LEN = config.dataset_config[DATASET][\"TRAINING_LEN\"]\n",
    "LAMBDA = config.dataset_config[DATASET][\"LAMBDA\"]\n",
    "\n",
    "# define hyperparameters\n",
    "\n",
    "DEVICE = torch.device(\"cuda:0\" if torch.cuda.is_available() else \"cpu\")\n",
    "EPOCH_NUMS = config.dataset_config[DATASET][\"training_config\"][\"EPOCH_NUM\"]\n",
    "TIME_STEPS = config.dataset_config[DATASET][\"training_config\"][\"TIME_STEPS\"]\n",
    "TEMPORAL_PERSISTENT = config.dataset_config[DATASET][\"training_config\"][\"TEMPORAL_PERSISTENT\"]\n",
    "NUMS = config.dataset_config[DATASET][\"training_config\"][\"NUMS\"]    # how many epoch should we go through for one pass\n",
    "PATIENT = config.dataset_config[DATASET][\"training_config\"][\"PATIENT\"]\n",
    "\n",
    "content_path = CONTENT_PATH\n",
    "sys.path.append(content_path)\n",
    "\n",
    "from Model.model import *\n",
    "net = resnet18()\n",
    "model = SingleVisualizationModel(input_dims=512, output_dims=2, units=256)"
   ]
  },
  {
   "cell_type": "code",
   "execution_count": 10,
   "metadata": {},
   "outputs": [],
   "source": [
    "import torch.nn as nn\n",
    "\n",
    "devices_ids = [1,2,3]\n",
    "net = torch.nn.DataParallel(model, device_ids=devices_ids)\n",
    "\n",
    "state_dict = net.state_dict()"
   ]
  },
  {
   "cell_type": "code",
   "execution_count": 11,
   "metadata": {},
   "outputs": [
    {
     "data": {
      "text/plain": [
       "<All keys matched successfully>"
      ]
     },
     "execution_count": 11,
     "metadata": {},
     "output_type": "execute_result"
    }
   ],
   "source": [
    "model = SingleVisualizationModel(input_dims=512, output_dims=2, units=256)\n",
    "devices_ids = [0,1,2,3]\n",
    "net = torch.nn.DataParallel(model, device_ids=devices_ids)\n",
    "net.load_state_dict(state_dict)"
   ]
  },
  {
   "cell_type": "code",
   "execution_count": null,
   "metadata": {},
   "outputs": [],
   "source": []
  }
 ],
 "metadata": {
  "interpreter": {
   "hash": "aa7a9f36e1a1e240450dbe9cc8f6d8df1d5301f36681fb271c44fdd883236b60"
  },
  "kernelspec": {
   "display_name": "Python 3.7.11 64-bit ('SV': conda)",
   "language": "python",
   "name": "python3"
  },
  "language_info": {
   "codemirror_mode": {
    "name": "ipython",
    "version": 3
   },
   "file_extension": ".py",
   "mimetype": "text/x-python",
   "name": "python",
   "nbconvert_exporter": "python",
   "pygments_lexer": "ipython3",
   "version": "3.7.11"
  },
  "orig_nbformat": 4
 },
 "nbformat": 4,
 "nbformat_minor": 2
}
