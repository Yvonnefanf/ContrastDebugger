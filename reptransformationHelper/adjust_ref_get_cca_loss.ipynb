{
 "cells": [
  {
   "cell_type": "code",
   "execution_count": 3,
   "metadata": {},
   "outputs": [
    {
     "name": "stdout",
     "output_type": "stream",
     "text": [
      "Finish initialization...\n",
      "Finish initialization...\n"
     ]
    },
    {
     "name": "stderr",
     "output_type": "stream",
     "text": [
      "100%|██████████| 250/250 [00:00<00:00, 6364.07it/s]\n",
      "100%|██████████| 250/250 [00:00<00:00, 6123.00it/s]\n"
     ]
    },
    {
     "name": "stdout",
     "output_type": "stream",
     "text": [
      "predict diff sample number: 89 absolute align sample number: 88\n",
      "RBF Kernel CKA, between same subset: 0.9637494155627727\n",
      "RBF Kernel CKA, between diff subset: 0.830499269046473\n",
      "RBF Kernel CKA, between same+diff subset: 0.9103170375141223\n"
     ]
    }
   ],
   "source": [
    "#### \n",
    "\n",
    "import torch\n",
    "import sys\n",
    "sys.path.append(\"..\")\n",
    "from singleVis.data import NormalDataProvider\n",
    "REF_PATH = \"/home/yifan/dataset/clean/pairflip/cifar10/0\"\n",
    "\n",
    "CLEAN_PATH = \"/home/yifan/dataset/clean_ref/pairflip/cifar10/0\"\n",
    "sys.path.append(REF_PATH)\n",
    "\n",
    "\n",
    "from config import config\n",
    "\n",
    "SETTING = config[\"SETTING\"]\n",
    "CLASSES = config[\"CLASSES\"]\n",
    "DATASET = config[\"DATASET\"]\n",
    "GPU_ID = config[\"GPU\"]\n",
    "EPOCH_START = config[\"EPOCH_START\"]\n",
    "EPOCH_END = config[\"EPOCH_END\"]\n",
    "EPOCH_PERIOD = config[\"EPOCH_PERIOD\"]\n",
    "\n",
    "# Training parameter (subject model)\n",
    "TRAINING_PARAMETER = config[\"TRAINING\"]\n",
    "NET = TRAINING_PARAMETER[\"NET\"]\n",
    "LEN = TRAINING_PARAMETER[\"train_num\"]\n",
    "\n",
    "# Training parameter (visualization model)\n",
    "VISUALIZATION_PARAMETER = config[\"VISUALIZATION\"]\n",
    "PREPROCESS = VISUALIZATION_PARAMETER[\"PREPROCESS\"]\n",
    "LAMBDA = VISUALIZATION_PARAMETER[\"LAMBDA\"]\n",
    "B_N_EPOCHS = VISUALIZATION_PARAMETER[\"BOUNDARY\"][\"B_N_EPOCHS\"]\n",
    "L_BOUND = VISUALIZATION_PARAMETER[\"BOUNDARY\"][\"L_BOUND\"]\n",
    "INIT_NUM = VISUALIZATION_PARAMETER[\"INIT_NUM\"]\n",
    "ALPHA = VISUALIZATION_PARAMETER[\"ALPHA\"]\n",
    "BETA = VISUALIZATION_PARAMETER[\"BETA\"]\n",
    "MAX_HAUSDORFF = VISUALIZATION_PARAMETER[\"MAX_HAUSDORFF\"]\n",
    "# HIDDEN_LAYER = VISUALIZATION_PARAMETER[\"HIDDEN_LAYER\"]\n",
    "ENCODER_DIMS = VISUALIZATION_PARAMETER[\"ENCODER_DIMS\"]\n",
    "DECODER_DIMS = VISUALIZATION_PARAMETER[\"DECODER_DIMS\"]\n",
    "S_N_EPOCHS = VISUALIZATION_PARAMETER[\"S_N_EPOCHS\"]\n",
    "T_N_EPOCHS = VISUALIZATION_PARAMETER[\"T_N_EPOCHS\"]\n",
    "N_NEIGHBORS = VISUALIZATION_PARAMETER[\"N_NEIGHBORS\"]\n",
    "PATIENT = VISUALIZATION_PARAMETER[\"PATIENT\"]\n",
    "MAX_EPOCH = VISUALIZATION_PARAMETER[\"MAX_EPOCH\"]\n",
    "\n",
    "VIS_MODEL_NAME = 'vis'\n",
    "EVALUATION_NAME = VISUALIZATION_PARAMETER[\"EVALUATION_NAME\"]\n",
    "\n",
    "SEGMENTS = [(EPOCH_START, EPOCH_END)]\n",
    "# define hyperparameters\n",
    "DEVICE = torch.device(\"cuda:{}\".format(GPU_ID) if torch.cuda.is_available() else \"cpu\")\n",
    "\n",
    "import Model.model as subject_model\n",
    "net = eval(\"subject_model.{}()\".format(NET))\n",
    "\n",
    "\n",
    "ref_provider = NormalDataProvider(REF_PATH, net, EPOCH_START, EPOCH_END, EPOCH_PERIOD, split=-1, device=DEVICE, classes=CLASSES,verbose=1)\n",
    "tar_provider = NormalDataProvider(CLEAN_PATH, net, EPOCH_START, EPOCH_END, EPOCH_PERIOD, split=-1, device=DEVICE, classes=CLASSES,verbose=1)\n",
    "ref_train_data = ref_provider.train_representation(200).squeeze()\n",
    "tar_train_data = tar_provider.train_representation(200).squeeze()\n",
    "ref_prediction = ref_provider.get_pred(200, ref_train_data)\n",
    "tar_prediction = tar_provider.get_pred(200, tar_train_data)\n",
    "ref_prediction_res = ref_prediction.argmax(axis=1)\n",
    "tar_prediction_res = tar_prediction.argmax(axis=1)\n",
    "### get confidence scores result\n",
    "from scipy.special import softmax\n",
    "import numpy as np\n",
    "def get_conf(pred):\n",
    "    scores = np.amax(softmax(pred, axis=1), axis=1)\n",
    "    return scores\n",
    "ref_scores = get_conf(ref_prediction)\n",
    "tar_scores =  get_conf(tar_prediction)\n",
    "\n",
    "import math\n",
    "distance_high_indicates = []\n",
    "same_set_indicates = []\n",
    "def EMAE(Y, y, a=1.5):\n",
    "    \"\"\"\n",
    "    param：\n",
    "        Y: 原始序列（假定波动较大）\n",
    "        y: 拟合序列（假定波动较小）\n",
    "        a: 指数的自变量，≥1，该值越大，则两序列间的残差（特别是残差的离群值）对EMAE返回值影响的强化作用越明显；\n",
    "        当a=1时，EMAE化简为MAE。\n",
    "    return：\n",
    "        指数MAE值，该值的大小与两条序列间平均偏差程度成正比，该值越大，平均偏差程度越大；\n",
    "        且两序列间的残差（特别是残差的离群值）对EMAE的影响比MAE大。\n",
    "    \"\"\"\n",
    "\n",
    "    Y, y = np.array(Y), np.array(y)\n",
    "    Y[Y < 0] = 0  # 使指数的底数≥1，则所有指数均为递增函数\n",
    "    y[y < 0] = 0\n",
    "    emae = sum(abs((Y+1)**a - (y+1)**a)) / len(Y)\n",
    "\n",
    "    return emae\n",
    "\n",
    "for i in range(len(ref_prediction)):\n",
    "    mes_val = EMAE(ref_prediction[i], tar_prediction[i])\n",
    "    if mes_val > 25:\n",
    "        distance_high_indicates.append(i)\n",
    "    elif mes_val < 0.6:\n",
    "        same_set_indicates.append(i)\n",
    "#### \n",
    "diff_indicates = []\n",
    "same_indicates = []\n",
    "for i in range(len(ref_prediction)):\n",
    "    # if tar_prediction_res[i] == ref_prediction_res[i] and ref_scores[i] == tar_scores[i] and  (i in same_set_indicates): \n",
    "    if tar_prediction_res[i] == ref_prediction_res[i] and math.fabs(ref_scores[i] - tar_scores[i]) < 0.1 and  (i in same_set_indicates):     \n",
    "        same_indicates.append(i)\n",
    "    else:\n",
    "        diff_indicates.append(i)\n",
    "\n",
    "# need_adjust_indicates = []\n",
    "# for i in range(len(ref_prediction)):\n",
    "#     if tar_prediction_res[i] == ref_prediction_res[i] and ref_scores[i] == tar_scores[i] and  (i in same_set_indicates):     \n",
    "#         same_indicates.append(i)\n",
    "#     else:\n",
    "#         diff_indicates.append(i)\n",
    "pred_diff_list = []\n",
    "for i in range(len(ref_prediction)):\n",
    "    # if tar_prediction_res[i] == ref_prediction_res[i] and ref_scores[i] == tar_scores[i] and  (i in same_set_indicates): \n",
    "    if tar_prediction_res[i] != ref_prediction_res[i] or math.fabs(ref_scores[i] - tar_scores[i]) > 0.1:     \n",
    "        pred_diff_list.append(i)\n",
    "\n",
    "print('predict diff sample number:',len(pred_diff_list),'absolute align sample number:',len(same_indicates))\n",
    "\n",
    "diff_combine_same = np.concatenate((same_indicates, pred_diff_list), axis=0)\n",
    "# diff_combine_same.sort()\n",
    "import os\n",
    "import sys\n",
    "sys.path.append(\"..\")\n",
    "from CKA_utils.CKA import CKA, CudaCKA\n",
    "np_cka = CKA()\n",
    "print('RBF Kernel CKA, between same subset: {}'.format(np_cka.kernel_CKA(ref_train_data[same_indicates], tar_train_data[same_indicates])))\n",
    "print('RBF Kernel CKA, between diff subset: {}'.format(np_cka.kernel_CKA(ref_train_data[pred_diff_list], tar_train_data[pred_diff_list])))\n",
    "print('RBF Kernel CKA, between same+diff subset: {}'.format(np_cka.kernel_CKA(ref_train_data[diff_combine_same], tar_train_data[diff_combine_same])))"
   ]
  },
  {
   "cell_type": "code",
   "execution_count": 4,
   "metadata": {},
   "outputs": [],
   "source": [
    "import numpy as np\n",
    " \n",
    "class CCovariance(object):\n",
    "    '''计算X,Y这俩维度的协方差\n",
    "    '''\n",
    "    def __init__(self, X, Y):\n",
    "        self.X = X\n",
    "        self.Y = Y\n",
    "        \n",
    "        self.Covariance_way1()\n",
    "        self.Covariance_way2()\n",
    "        self.Covariance_way3()\n",
    "        \n",
    "    def Covariance_way1(self):\n",
    "        '''\n",
    "        协方差公式法计算两个等长向量的协方差convariance\n",
    "        '''\n",
    "        X,Y = np.array(self.X), np.array(self.Y)\n",
    "        meanX, meanY = np.mean(X), np.mean(Y)\n",
    "        n = np.shape(X)[0]\n",
    "        #按照协方差公式计算协方差，Note:分母一定是n-1\n",
    "        covariance = sum(np.multiply(X-meanX, Y-meanY))/(n-1)\n",
    "        # print('协方差公式法求得的协方差:', covariance)\n",
    "        return covariance\n",
    "        \n",
    "    def Covariance_way2(self):\n",
    "        '''\n",
    "        向量中心化方法计算两个等长向量的协方差convariance\n",
    "        '''\n",
    "        X,Y = np.array(self.X),np.array(self.Y)\n",
    "        n = np.shape(X)[0]\n",
    "        centrX = X-np.mean(X)\n",
    "        centrY = Y-np.mean(Y)\n",
    "        convariance = sum(np.multiply(centrX, centrY))/(n-1)\n",
    "        # print('向量中心化方法求得协方差:', convariance)\n",
    "        return convariance\n",
    "        \n",
    "    def Covariance_way3(self):\n",
    "        '''\n",
    "        numpy.conv(X,Y)提供的协方差函数求协方差\n",
    "        '''\n",
    "        conv = np.cov(self.X, self.Y)\n",
    "        print('np.cov(X,Y)求得的X的方差:', conv[0,0])\n",
    "        print('np.cov(X,Y)求得的Y的方差:', conv[1,1])\n"
   ]
  },
  {
   "cell_type": "code",
   "execution_count": 5,
   "metadata": {},
   "outputs": [
    {
     "name": "stdout",
     "output_type": "stream",
     "text": [
      "np.cov(X,Y)求得的X的方差: 0.8581355549751079\n",
      "np.cov(X,Y)求得的Y的方差: 0.7118051868825289\n"
     ]
    }
   ],
   "source": [
    "c = CCovariance(ref_train_data[same_indicates],tar_train_data[same_indicates])"
   ]
  },
  {
   "cell_type": "code",
   "execution_count": 6,
   "metadata": {},
   "outputs": [
    {
     "name": "stdout",
     "output_type": "stream",
     "text": [
      "np.cov(X,Y)求得的X的方差: 0.24359991975688516\n",
      "np.cov(X,Y)求得的Y的方差: 0.2403041130370333\n"
     ]
    }
   ],
   "source": [
    "c = CCovariance(ref_train_data[pred_diff_list],tar_train_data[pred_diff_list])"
   ]
  },
  {
   "cell_type": "code",
   "execution_count": 7,
   "metadata": {},
   "outputs": [
    {
     "name": "stdout",
     "output_type": "stream",
     "text": [
      "np.cov(X,Y)求得的X的方差: 0.8581355549751079\n",
      "np.cov(X,Y)求得的Y的方差: 0.7118051868825289\n"
     ]
    }
   ],
   "source": [
    "c = CCovariance(ref_train_data[diff_combine_same],tar_train_data[diff_combine_same])"
   ]
  },
  {
   "cell_type": "code",
   "execution_count": 8,
   "metadata": {},
   "outputs": [
    {
     "data": {
      "text/plain": [
       "(512,)"
      ]
     },
     "execution_count": 8,
     "metadata": {},
     "output_type": "execute_result"
    }
   ],
   "source": [
    "tar_train_data[pred_diff_list][0].shape"
   ]
  },
  {
   "cell_type": "code",
   "execution_count": 29,
   "metadata": {},
   "outputs": [],
   "source": [
    "import torch.nn as nn\n",
    "import numpy as np\n",
    "import os\n",
    "\n",
    "os.environ[\"KMP_DUPLICATE_LIB_OK\"] = \"TRUE\"\n",
    "\n",
    "\n",
    "def get_x_y():\n",
    "    np.random.seed(0)\n",
    "    x = tar_train_data[pred_diff_list]\n",
    "    # y_values = 2 * x + 21\n",
    "    y = tar_train_data[pred_diff_list]\n",
    "    x = np.array(x, dtype=np.float32)\n",
    "    y = np.array(y, dtype=np.float32)\n",
    "    x = x.reshape(-1, 1)\n",
    "    y = y.reshape(-1, 1)\n",
    "    return x, y\n",
    "\n",
    "\n",
    "class LinearRegressionModel(nn.Module):\n",
    "    def __init__(self, input_dim, output_dim):\n",
    "        super(LinearRegressionModel, self).__init__()\n",
    "        self.linear = nn.Linear(input_dim, output_dim)  # 输入的个数，输出的个数\n",
    "\n",
    "    def forward(self, x):\n",
    "        out = self.linear(x)\n",
    "        return out\n",
    "    "
   ]
  },
  {
   "cell_type": "code",
   "execution_count": 30,
   "metadata": {},
   "outputs": [
    {
     "name": "stdout",
     "output_type": "stream",
     "text": [
      "epoch 10, loss 2.132901668548584\n",
      "epoch 20, loss 2.0097317695617676\n",
      "epoch 30, loss 1.8939064741134644\n",
      "epoch 40, loss 1.7849849462509155\n",
      "epoch 50, loss 1.6825541257858276\n",
      "epoch 60, loss 1.5862247943878174\n",
      "epoch 70, loss 1.4956318140029907\n",
      "epoch 80, loss 1.4104313850402832\n",
      "epoch 90, loss 1.330300211906433\n",
      "epoch 100, loss 1.2549350261688232\n",
      "epoch 110, loss 1.184050440788269\n",
      "epoch 120, loss 1.1173778772354126\n",
      "epoch 130, loss 1.0546653270721436\n",
      "epoch 140, loss 0.9956753253936768\n",
      "epoch 150, loss 0.9401853680610657\n",
      "epoch 160, loss 0.8879854679107666\n",
      "epoch 170, loss 0.8388791680335999\n",
      "epoch 180, loss 0.7926807999610901\n",
      "epoch 190, loss 0.7492165565490723\n",
      "epoch 200, loss 0.7083227634429932\n",
      "epoch 210, loss 0.6698456406593323\n",
      "epoch 220, loss 0.6336404085159302\n",
      "epoch 230, loss 0.5995714068412781\n",
      "epoch 240, loss 0.5675106048583984\n",
      "epoch 250, loss 0.5373380184173584\n",
      "epoch 260, loss 0.5089408159255981\n",
      "epoch 270, loss 0.482212632894516\n",
      "epoch 280, loss 0.4570537805557251\n",
      "epoch 290, loss 0.4333704710006714\n",
      "epoch 300, loss 0.41107451915740967\n",
      "epoch 310, loss 0.3900828957557678\n",
      "epoch 320, loss 0.3703177273273468\n",
      "epoch 330, loss 0.3517056703567505\n",
      "epoch 340, loss 0.3341778814792633\n",
      "epoch 350, loss 0.31766974925994873\n",
      "epoch 360, loss 0.302120566368103\n",
      "epoch 370, loss 0.2874728739261627\n",
      "epoch 380, loss 0.27367275953292847\n",
      "epoch 390, loss 0.2606698274612427\n",
      "epoch 400, loss 0.24841676652431488\n",
      "epoch 410, loss 0.23686844110488892\n",
      "epoch 420, loss 0.22598309814929962\n",
      "epoch 430, loss 0.2157212644815445\n",
      "epoch 440, loss 0.2060457468032837\n",
      "epoch 450, loss 0.1969216763973236\n",
      "epoch 460, loss 0.18831613659858704\n",
      "epoch 470, loss 0.18019841611385345\n",
      "epoch 480, loss 0.1725393533706665\n",
      "epoch 490, loss 0.16531187295913696\n",
      "epoch 500, loss 0.15849024057388306\n",
      "epoch 510, loss 0.15205036103725433\n",
      "epoch 520, loss 0.14596959948539734\n",
      "epoch 530, loss 0.14022667706012726\n",
      "epoch 540, loss 0.13480158150196075\n",
      "epoch 550, loss 0.12967543303966522\n",
      "epoch 560, loss 0.12483056634664536\n",
      "epoch 570, loss 0.12025035917758942\n",
      "epoch 580, loss 0.11591915786266327\n",
      "epoch 590, loss 0.1118222326040268\n",
      "epoch 600, loss 0.10794580727815628\n",
      "epoch 610, loss 0.10427680611610413\n",
      "epoch 620, loss 0.10080309957265854\n",
      "epoch 630, loss 0.09751314669847488\n",
      "epoch 640, loss 0.09439615160226822\n",
      "epoch 650, loss 0.09144196659326553\n",
      "epoch 660, loss 0.08864104747772217\n",
      "epoch 670, loss 0.08598438650369644\n",
      "epoch 680, loss 0.08346356451511383\n",
      "epoch 690, loss 0.08107065409421921\n",
      "epoch 700, loss 0.07879815250635147\n",
      "epoch 710, loss 0.0766391009092331\n",
      "epoch 720, loss 0.07458686083555222\n",
      "epoch 730, loss 0.0726352259516716\n",
      "epoch 740, loss 0.07077837735414505\n",
      "epoch 750, loss 0.06901077926158905\n",
      "epoch 760, loss 0.0673273503780365\n",
      "epoch 770, loss 0.06572315096855164\n",
      "epoch 780, loss 0.06419365853071213\n",
      "epoch 790, loss 0.06273462623357773\n",
      "epoch 800, loss 0.06134194880723953\n",
      "epoch 810, loss 0.06001187488436699\n",
      "epoch 820, loss 0.0587407648563385\n",
      "epoch 830, loss 0.05752541124820709\n",
      "epoch 840, loss 0.05636255815625191\n",
      "epoch 850, loss 0.05524921417236328\n",
      "epoch 860, loss 0.054182637482881546\n",
      "epoch 870, loss 0.0531601682305336\n",
      "epoch 880, loss 0.05217936262488365\n",
      "epoch 890, loss 0.051237910985946655\n",
      "epoch 900, loss 0.05033358559012413\n",
      "epoch 910, loss 0.04946434497833252\n",
      "epoch 920, loss 0.04862825572490692\n",
      "epoch 930, loss 0.04782348871231079\n",
      "epoch 940, loss 0.04704836383461952\n",
      "epoch 950, loss 0.04630121961236\n",
      "epoch 960, loss 0.04558056220412254\n",
      "epoch 970, loss 0.04488496854901314\n",
      "epoch 980, loss 0.04421311616897583\n",
      "epoch 990, loss 0.043563712388277054\n",
      "epoch 1000, loss 0.0429355651140213\n"
     ]
    }
   ],
   "source": [
    "\n",
    "input_dim = 1\n",
    "output_dim = 1\n",
    "x_train, y_train = get_x_y()\n",
    "\n",
    "model = LinearRegressionModel(input_dim, output_dim)\n",
    "epochs = 1000  # 迭代次数\n",
    "optimizer = torch.optim.SGD(model.parameters(), lr=0.001)\n",
    "model_loss = nn.MSELoss() # 使用MSE作为loss\n",
    "# 开始训练模型\n",
    "for epoch in range(epochs):\n",
    "    epoch += 1\n",
    "    # 注意转行成tensor\n",
    "    inputs = torch.from_numpy(x_train)\n",
    "    inputs.requires_grad = True\n",
    "    labels = torch.from_numpy(y_train)\n",
    "    # 梯度要清零每一次迭代\n",
    "    optimizer.zero_grad()\n",
    "    # 前向传播\n",
    "    outputs: torch.Tensor = model(inputs)\n",
    "        # 计算损失\n",
    "    # loss = torch.Tensor(np.cov(outputs.detach().numpy(), labels.detach().numpy()))\n",
    "    loss = model_loss (inputs, outputs)\n",
    "    # 返向传播\n",
    "    loss.backward()\n",
    "    # 更新权重参数\n",
    "    optimizer.step()\n",
    "    if epoch % 10 == 0:\n",
    "        print('epoch {}, loss {}'.format(epoch, loss.item()))"
   ]
  },
  {
   "cell_type": "code",
   "execution_count": 31,
   "metadata": {},
   "outputs": [],
   "source": [
    "y_pred = model(torch.from_numpy(ref_train_data[pred_diff_list]).reshape(-1, 1))"
   ]
  },
  {
   "cell_type": "code",
   "execution_count": 32,
   "metadata": {},
   "outputs": [
    {
     "name": "stdout",
     "output_type": "stream",
     "text": [
      "RBF Kernel CKA, between diff subset: 0.830499269046473\n"
     ]
    }
   ],
   "source": [
    "print('RBF Kernel CKA, between diff subset: {}'.format(np_cka.kernel_CKA(ref_train_data[pred_diff_list], tar_train_data[pred_diff_list])))"
   ]
  },
  {
   "cell_type": "code",
   "execution_count": 33,
   "metadata": {},
   "outputs": [
    {
     "name": "stdout",
     "output_type": "stream",
     "text": [
      "RBF Kernel CKA, between diff subset: 0.8304992657820649\n"
     ]
    }
   ],
   "source": [
    "print('RBF Kernel CKA, between diff subset: {}'.format(np_cka.kernel_CKA(y_pred.reshape(89,512).detach().numpy(), tar_train_data[pred_diff_list])))"
   ]
  },
  {
   "cell_type": "code",
   "execution_count": 34,
   "metadata": {},
   "outputs": [
    {
     "name": "stdout",
     "output_type": "stream",
     "text": [
      "RBF Kernel CKA, between diff subset: 0.9999999999986106\n"
     ]
    }
   ],
   "source": [
    "print('RBF Kernel CKA, between diff subset: {}'.format(np_cka.kernel_CKA(y_pred.reshape(89,512).detach().numpy(), ref_train_data[pred_diff_list])))"
   ]
  },
  {
   "cell_type": "code",
   "execution_count": 36,
   "metadata": {},
   "outputs": [
    {
     "name": "stdout",
     "output_type": "stream",
     "text": [
      "RBF Kernel CKA, between diff subset: 1.0\n"
     ]
    }
   ],
   "source": [
    "print('RBF Kernel CKA, between diff subset: {}'.format(np_cka.kernel_CKA(ref_train_data[pred_diff_list], ref_train_data[pred_diff_list])))"
   ]
  },
  {
   "cell_type": "code",
   "execution_count": 37,
   "metadata": {},
   "outputs": [
    {
     "name": "stdout",
     "output_type": "stream",
     "text": [
      "CKA: 0.9103170375141223\n",
      "CKA: 0.9040079259725285\n"
     ]
    }
   ],
   "source": [
    "print('CKA: {}'.format(np_cka.kernel_CKA(np.concatenate((ref_train_data[same_indicates],ref_train_data[pred_diff_list]),axis=0), np.concatenate((tar_train_data[same_indicates],tar_train_data[pred_diff_list]),axis=0))))\n",
    "print('CKA: {}'.format(np_cka.kernel_CKA(np.concatenate((ref_train_data[same_indicates],y_pred.reshape(89,512).detach().numpy()),axis=0), np.concatenate((tar_train_data[same_indicates],tar_train_data[pred_diff_list]),axis=0))))\n",
    "# print('CKA: {}'.format(np_cka.kernel_CKA(np.concatenate(ref_train_data[same_indicates],y_pred.reshape(89,512).detach().numpy()), np.concatenate(tar_train_data[same_indicates],tar_train_data[pred_diff_list]))))"
   ]
  }
 ],
 "metadata": {
  "kernelspec": {
   "display_name": "silas",
   "language": "python",
   "name": "python3"
  },
  "language_info": {
   "codemirror_mode": {
    "name": "ipython",
    "version": 3
   },
   "file_extension": ".py",
   "mimetype": "text/x-python",
   "name": "python",
   "nbconvert_exporter": "python",
   "pygments_lexer": "ipython3",
   "version": "3.10.6"
  },
  "orig_nbformat": 4,
  "vscode": {
   "interpreter": {
    "hash": "17919d5c0b172391cf0bcba82899defbc129b2be6f3a3e170a58c1f395bbd487"
   }
  }
 },
 "nbformat": 4,
 "nbformat_minor": 2
}
