{
 "cells": [
  {
   "cell_type": "code",
   "execution_count": null,
   "metadata": {},
   "outputs": [],
   "source": [
    "### Xi -> reference representation  Xj -> target representation\n",
    "## adjust reference Xi  to  Xi' => CKA(Xi', Xj) ----> 1\n",
    "# R -> min ||XjR - Xi'||\n",
    "\n",
    "##### adjust : keep similar samples and highlight the diff samples' difference \n",
    "# step1: find diff samples and same samples\n",
    "# step2: adjust diff samples "
   ]
  },
  {
   "cell_type": "code",
   "execution_count": 1,
   "metadata": {},
   "outputs": [
    {
     "name": "stderr",
     "output_type": "stream",
     "text": [
      "/home/yifan/miniconda3/envs/deepdebugger/lib/python3.7/site-packages/tqdm/auto.py:22: TqdmWarning: IProgress not found. Please update jupyter and ipywidgets. See https://ipywidgets.readthedocs.io/en/stable/user_install.html\n",
      "  from .autonotebook import tqdm as notebook_tqdm\n"
     ]
    },
    {
     "name": "stdout",
     "output_type": "stream",
     "text": [
      "Finish initialization...\n",
      "Finish initialization...\n"
     ]
    }
   ],
   "source": [
    "#### \n",
    "\n",
    "# REF_PATH : reference dataset path\n",
    "# CONFUSION_PATH : benchmark1\n",
    "# EXCHANGE_PATH : benchmark2\n",
    "\n",
    "import torch\n",
    "import sys\n",
    "sys.path.append(\"..\")\n",
    "from singleVis.data import NormalDataProvider\n",
    "\n",
    "\n",
    "\n",
    "REF_PATH = \"/home/yifan/dataset/clean_ref/pairflip/cifar10/0\"\n",
    "\n",
    "\n",
    "CLEAN_PATH = \"/home/yifan/dataset/clean/pairflip/cifar10/0\"\n",
    "\n",
    "sys.path.append(REF_PATH)\n",
    "\n",
    "\n",
    "from config import config\n",
    "\n",
    "SETTING = config[\"SETTING\"]\n",
    "CLASSES = config[\"CLASSES\"]\n",
    "DATASET = config[\"DATASET\"]\n",
    "GPU_ID = config[\"GPU\"]\n",
    "EPOCH_START = config[\"EPOCH_START\"]\n",
    "EPOCH_END = config[\"EPOCH_END\"]\n",
    "EPOCH_PERIOD = config[\"EPOCH_PERIOD\"]\n",
    "\n",
    "# Training parameter (subject model)\n",
    "TRAINING_PARAMETER = config[\"TRAINING\"]\n",
    "NET = TRAINING_PARAMETER[\"NET\"]\n",
    "LEN = TRAINING_PARAMETER[\"train_num\"]\n",
    "\n",
    "# Training parameter (visualization model)\n",
    "VISUALIZATION_PARAMETER = config[\"VISUALIZATION\"]\n",
    "PREPROCESS = VISUALIZATION_PARAMETER[\"PREPROCESS\"]\n",
    "LAMBDA = VISUALIZATION_PARAMETER[\"LAMBDA\"]\n",
    "B_N_EPOCHS = VISUALIZATION_PARAMETER[\"BOUNDARY\"][\"B_N_EPOCHS\"]\n",
    "L_BOUND = VISUALIZATION_PARAMETER[\"BOUNDARY\"][\"L_BOUND\"]\n",
    "INIT_NUM = VISUALIZATION_PARAMETER[\"INIT_NUM\"]\n",
    "ALPHA = VISUALIZATION_PARAMETER[\"ALPHA\"]\n",
    "BETA = VISUALIZATION_PARAMETER[\"BETA\"]\n",
    "MAX_HAUSDORFF = VISUALIZATION_PARAMETER[\"MAX_HAUSDORFF\"]\n",
    "# HIDDEN_LAYER = VISUALIZATION_PARAMETER[\"HIDDEN_LAYER\"]\n",
    "ENCODER_DIMS = VISUALIZATION_PARAMETER[\"ENCODER_DIMS\"]\n",
    "DECODER_DIMS = VISUALIZATION_PARAMETER[\"DECODER_DIMS\"]\n",
    "S_N_EPOCHS = VISUALIZATION_PARAMETER[\"S_N_EPOCHS\"]\n",
    "T_N_EPOCHS = VISUALIZATION_PARAMETER[\"T_N_EPOCHS\"]\n",
    "N_NEIGHBORS = VISUALIZATION_PARAMETER[\"N_NEIGHBORS\"]\n",
    "PATIENT = VISUALIZATION_PARAMETER[\"PATIENT\"]\n",
    "MAX_EPOCH = VISUALIZATION_PARAMETER[\"MAX_EPOCH\"]\n",
    "\n",
    "VIS_MODEL_NAME = 'vis'\n",
    "EVALUATION_NAME = VISUALIZATION_PARAMETER[\"EVALUATION_NAME\"]\n",
    "\n",
    "SEGMENTS = [(EPOCH_START, EPOCH_END)]\n",
    "# define hyperparameters\n",
    "DEVICE = torch.device(\"cuda:{}\".format(GPU_ID) if torch.cuda.is_available() else \"cpu\")\n",
    "\n",
    "import Model.model as subject_model\n",
    "net = eval(\"subject_model.{}()\".format(NET))\n",
    "\n",
    "\n",
    "ref_provider = NormalDataProvider(REF_PATH, net, EPOCH_START, EPOCH_END, EPOCH_PERIOD, split=-1, device=DEVICE, classes=CLASSES,verbose=1)\n",
    "\n",
    "\n",
    "clean_provider = NormalDataProvider(CLEAN_PATH, net, EPOCH_START, EPOCH_END, EPOCH_PERIOD, split=-1, device=DEVICE, classes=CLASSES,verbose=1)\n"
   ]
  },
  {
   "cell_type": "code",
   "execution_count": 2,
   "metadata": {},
   "outputs": [],
   "source": [
    "ref_train_data = ref_provider.train_representation(200).squeeze()\n",
    "clean_train_data = clean_provider.train_representation(200).squeeze()"
   ]
  },
  {
   "cell_type": "code",
   "execution_count": 4,
   "metadata": {},
   "outputs": [
    {
     "name": "stderr",
     "output_type": "stream",
     "text": [
      "100%|██████████| 250/250 [00:00<00:00, 9640.31it/s]\n",
      "100%|██████████| 250/250 [00:00<00:00, 9434.90it/s]\n"
     ]
    }
   ],
   "source": [
    "ref_prediction = ref_provider.get_pred(200, ref_provider.train_representation(200))\n",
    "clean_prediction = clean_provider.get_pred(200, clean_provider.train_representation(200))"
   ]
  },
  {
   "cell_type": "code",
   "execution_count": 15,
   "metadata": {},
   "outputs": [
    {
     "name": "stderr",
     "output_type": "stream",
     "text": [
      "100%|██████████| 250/250 [00:00<00:00, 9354.43it/s]\n",
      "100%|██████████| 250/250 [00:00<00:00, 9293.74it/s]"
     ]
    },
    {
     "name": "stdout",
     "output_type": "stream",
     "text": [
      "diff distance: diff_num/ total_num: 0.00034\n"
     ]
    },
    {
     "name": "stderr",
     "output_type": "stream",
     "text": [
      "\n"
     ]
    }
   ],
   "source": [
    "ref_prediction_res = ref_provider.get_pred(200, ref_provider.train_representation(200)).argmax(1)\n",
    "\n",
    "clean_prediction_res = clean_provider.get_pred(200, clean_provider.train_representation(200)).argmax(1)\n",
    "\n",
    "diff_indicates = []\n",
    "same_indicates = []\n",
    "pairs = []\n",
    "for i in range(len(ref_prediction)):\n",
    "    if clean_prediction_res[i] != ref_prediction_res[i]:\n",
    "        \n",
    "        diff_indicates.append(i)\n",
    "        pairs.append({\"ref predict\": ref_prediction_res[i], \"target prediction\": clean_prediction_res[i]})\n",
    "    else:\n",
    "        same_indicates.append(i)\n",
    "print('diff distance: diff_num/ total_num:',len(diff_indicates)/50000)\n",
    "# print('diff_indicated:',diff_indicates, pairs)"
   ]
  },
  {
   "cell_type": "code",
   "execution_count": null,
   "metadata": {},
   "outputs": [],
   "source": []
  },
  {
   "cell_type": "code",
   "execution_count": 21,
   "metadata": {},
   "outputs": [],
   "source": [
    "from scipy.special import softmax\n",
    "import numpy as np\n",
    "def get_conf(pred):\n",
    "    scores = np.amax(softmax(pred, axis=1), axis=1)\n",
    "    return scores\n",
    "# def filter_conf(pred, index):\n",
    "#     scores = np.amax(softmax(pred, axis=1), axis=1)\n",
    "#     res = np.argwhere(np.logical_and(scores<=1, scores>=0)).squeeze().tolist()\n",
    "#     return res[index]"
   ]
  },
  {
   "cell_type": "code",
   "execution_count": 22,
   "metadata": {},
   "outputs": [],
   "source": [
    "ref_scores = get_conf(ref_prediction)\n",
    "clean_scores =  get_conf(clean_prediction)"
   ]
  },
  {
   "cell_type": "code",
   "execution_count": 23,
   "metadata": {},
   "outputs": [
    {
     "data": {
      "text/plain": [
       "array([0.9999695, 1.       , 1.       , ..., 1.       , 1.       ,\n",
       "       0.9999543], dtype=float32)"
      ]
     },
     "execution_count": 23,
     "metadata": {},
     "output_type": "execute_result"
    }
   ],
   "source": [
    "ref_scores"
   ]
  },
  {
   "cell_type": "code",
   "execution_count": 24,
   "metadata": {},
   "outputs": [
    {
     "data": {
      "text/plain": [
       "array([1.        , 1.        , 1.        , ..., 1.        , 1.        ,\n",
       "       0.99967575], dtype=float32)"
      ]
     },
     "execution_count": 24,
     "metadata": {},
     "output_type": "execute_result"
    }
   ],
   "source": [
    "clean_scores"
   ]
  },
  {
   "cell_type": "code",
   "execution_count": 30,
   "metadata": {},
   "outputs": [],
   "source": [
    "diff_indicates = []\n",
    "same_indicates = []\n",
    "for i in range(len(ref_prediction)):\n",
    "    if clean_prediction_res[i] == ref_prediction_res[i] and ref_scores[i] == clean_scores[i]:\n",
    "        \n",
    "        same_indicates.append(i)\n",
    "        pairs.append({\"ref predict\": ref_prediction_res[i], \"target prediction\": clean_prediction_res[i]})\n",
    "    else:\n",
    "        diff_indicates.append(i)"
   ]
  },
  {
   "cell_type": "code",
   "execution_count": 31,
   "metadata": {},
   "outputs": [
    {
     "data": {
      "text/plain": [
       "22283"
      ]
     },
     "execution_count": 31,
     "metadata": {},
     "output_type": "execute_result"
    }
   ],
   "source": [
    "len(diff_indicates)"
   ]
  },
  {
   "cell_type": "code",
   "execution_count": 32,
   "metadata": {},
   "outputs": [
    {
     "name": "stdout",
     "output_type": "stream",
     "text": [
      "referece epoch 200 vs current epoch 200\n",
      "0.9604035124077683\n"
     ]
    }
   ],
   "source": [
    "import numpy as np\n",
    "from sklearn.cross_decomposition import CCA\n",
    "# 建立模型\n",
    "X = ref_prediction[same_indicates]\n",
    "Y = clean_prediction[same_indicates]\n",
    "cca = CCA(n_components=1)\n",
    "# 训练数据\n",
    "cca.fit(X, Y)\n",
    "# print(X)\n",
    "X_train_r, Y_train_r = cca.transform(X, Y)\n",
    "# print(X_train_r)\n",
    "print('referece epoch 200 vs current epoch 200')\n",
    "print(np.corrcoef(X_train_r[:, 0], Y_train_r[:, 0])[0, 1]) #输出相关系数"
   ]
  },
  {
   "cell_type": "code",
   "execution_count": 18,
   "metadata": {},
   "outputs": [
    {
     "name": "stdout",
     "output_type": "stream",
     "text": [
      "referece epoch 200 vs current epoch 200\n",
      "0.9576635042671429\n"
     ]
    }
   ],
   "source": [
    "import numpy as np\n",
    "from sklearn.cross_decomposition import CCA\n",
    "# 建立模型\n",
    "X = ref_prediction\n",
    "Y = clean_prediction\n",
    "cca = CCA(n_components=1)\n",
    "# 训练数据\n",
    "cca.fit(X, Y)\n",
    "# print(X)\n",
    "X_train_r, Y_train_r = cca.transform(X, Y)\n",
    "# print(X_train_r)\n",
    "print('referece epoch 200 vs current epoch 200')\n",
    "print(np.corrcoef(X_train_r[:, 0], Y_train_r[:, 0])[0, 1]) #输出相关系数"
   ]
  }
 ],
 "metadata": {
  "kernelspec": {
   "display_name": "deepdebugger",
   "language": "python",
   "name": "python3"
  },
  "language_info": {
   "codemirror_mode": {
    "name": "ipython",
    "version": 3
   },
   "file_extension": ".py",
   "mimetype": "text/x-python",
   "name": "python",
   "nbconvert_exporter": "python",
   "pygments_lexer": "ipython3",
   "version": "3.7.15"
  },
  "orig_nbformat": 4,
  "vscode": {
   "interpreter": {
    "hash": "edebc873ae2d93bf61542579b755774a0fcf6e84a6839a73f5ee99d2371b4768"
   }
  }
 },
 "nbformat": 4,
 "nbformat_minor": 2
}
