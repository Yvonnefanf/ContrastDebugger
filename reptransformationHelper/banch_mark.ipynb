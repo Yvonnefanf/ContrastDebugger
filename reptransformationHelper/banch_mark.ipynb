{
 "cells": [
  {
   "cell_type": "code",
   "execution_count": 6,
   "metadata": {},
   "outputs": [],
   "source": [
    "CONTENT_PATH = \"/home/yifan/dataset/clean/pairflip/cifar10/0\"\n",
    "REF_PATH = \"/home/yifan/dataset/noisy/pairflip/cifar10/reference/\"\n",
    "NOISY500_PATH = \"/home/yifan/dataset/noisy/pairflip/cifar10/noisy500\"\n",
    "NOISY2500_PATH = \"/home/yifan/dataset/noisy/pairflip/cifar10/0\""
   ]
  },
  {
   "cell_type": "code",
   "execution_count": 7,
   "metadata": {},
   "outputs": [
    {
     "name": "stdout",
     "output_type": "stream",
     "text": [
      "(0, [])\n"
     ]
    }
   ],
   "source": [
    "import json\n",
    "import os\n",
    "import numpy as np\n",
    "clean_path = os.path.join(NOISY2500_PATH, 'clean_label.json')\n",
    "with open(clean_path, \"r\") as f:\n",
    "    clean_labels = np.array(json.load(f))\n",
    "noisy_path = os.path.join(NOISY2500_PATH, 'noisy_label.json')\n",
    "with open(noisy_path, \"r\") as f:\n",
    "    noisy_labels = np.array(json.load(f))\n",
    "noisy_indicates = []\n",
    "pairs = []\n",
    "for i in range(len(clean_labels)):\n",
    "    if clean_labels[i] != noisy_labels[i]:\n",
    "        noisy_indicates.append(i)\n",
    "        pairs.append({\"clean\":clean_labels[i],\"noisy:\": noisy_labels[i]})\n",
    "print(len(noisy_indicates),pairs)"
   ]
  }
 ],
 "metadata": {
  "kernelspec": {
   "display_name": "Python 2",
   "language": "python",
   "name": "python2"
  },
  "language_info": {
   "codemirror_mode": {
    "name": "ipython",
    "version": 2
   },
   "file_extension": ".py",
   "mimetype": "text/x-python",
   "name": "python",
   "nbconvert_exporter": "python",
   "pygments_lexer": "ipython2",
   "version": "2.7.18"
  },
  "orig_nbformat": 4,
  "vscode": {
   "interpreter": {
    "hash": "edebc873ae2d93bf61542579b755774a0fcf6e84a6839a73f5ee99d2371b4768"
   }
  }
 },
 "nbformat": 4,
 "nbformat_minor": 2
}
