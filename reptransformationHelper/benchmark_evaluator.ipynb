{
 "cells": [
  {
   "cell_type": "code",
   "execution_count": 2,
   "metadata": {},
   "outputs": [
    {
     "name": "stdout",
     "output_type": "stream",
     "text": [
      "Finish initialization...\n",
      "Finish initialization...\n",
      "Finish initialization...\n",
      "Finish initialization...\n"
     ]
    }
   ],
   "source": [
    "import torch\n",
    "import sys\n",
    "import os\n",
    "import time\n",
    "import numpy as np\n",
    "import argparse\n",
    "sys.path.append(\"..\")\n",
    "\n",
    "from torch.utils.data import DataLoader\n",
    "from torch.utils.data import WeightedRandomSampler\n",
    "from umap.umap_ import find_ab_params\n",
    "\n",
    "from singleVis.custom_weighted_random_sampler import CustomWeightedRandomSampler\n",
    "from singleVis.SingleVisualizationModel import VisModel\n",
    "from singleVis.losses import UmapLoss, ReconstructionLoss, SingleVisLoss\n",
    "from singleVis.edge_dataset import DataHandler\n",
    "from singleVis.trainer import SingleVisTrainer\n",
    "from singleVis.data import NormalDataProvider\n",
    "from singleVis.spatial_edge_constructor import kcSpatialAlignmentEdgeConstructor\n",
    "# from singleVis.temporal_edge_constructor import GlobalTemporalEdgeConstructor\n",
    "from singleVis.alignment_edge_constructor import LocalAlignmentEdgeConstructor\n",
    "from singleVis.projector import TimeVisProjector\n",
    "from singleVis.eval.evaluator import Evaluator\n",
    "\n",
    "\n",
    "import torch\n",
    "import numpy as np\n",
    "\n",
    "# REF_PATH : reference dataset path\n",
    "# CONFUSION_PATH : benchmark1\n",
    "# EXCHANGE_PATH : benchmark2\n",
    "\n",
    "REF_PATH = \"/home/yifan/dataset/noisy/pairflip/cifar10/noisy0.001\"\n",
    "CLEAN_PATH = \"/home/yifan/dataset/clean/pairflip/cifar10/0\"\n",
    "\n",
    "CONFUSION_PATH = \"/home/yifan/dataset/confusion/pairflip/cifar10/0\"\n",
    "EXCHANGE_PATH = \"/home/yifan/dataset/exchange/pairflip/cifar10/0\"\n",
    "\n",
    "sys.path.append(REF_PATH)\n",
    "\n",
    "\n",
    "from config import config\n",
    "\n",
    "SETTING = config[\"SETTING\"]\n",
    "CLASSES = config[\"CLASSES\"]\n",
    "DATASET = config[\"DATASET\"]\n",
    "GPU_ID = config[\"GPU\"]\n",
    "EPOCH_START = config[\"EPOCH_START\"]\n",
    "EPOCH_END = config[\"EPOCH_END\"]\n",
    "EPOCH_PERIOD = config[\"EPOCH_PERIOD\"]\n",
    "\n",
    "# Training parameter (subject model)\n",
    "TRAINING_PARAMETER = config[\"TRAINING\"]\n",
    "NET = TRAINING_PARAMETER[\"NET\"]\n",
    "LEN = TRAINING_PARAMETER[\"train_num\"]\n",
    "\n",
    "# Training parameter (visualization model)\n",
    "VISUALIZATION_PARAMETER = config[\"VISUALIZATION\"]\n",
    "PREPROCESS = VISUALIZATION_PARAMETER[\"PREPROCESS\"]\n",
    "LAMBDA = VISUALIZATION_PARAMETER[\"LAMBDA\"]\n",
    "B_N_EPOCHS = VISUALIZATION_PARAMETER[\"BOUNDARY\"][\"B_N_EPOCHS\"]\n",
    "L_BOUND = VISUALIZATION_PARAMETER[\"BOUNDARY\"][\"L_BOUND\"]\n",
    "INIT_NUM = VISUALIZATION_PARAMETER[\"INIT_NUM\"]\n",
    "ALPHA = VISUALIZATION_PARAMETER[\"ALPHA\"]\n",
    "BETA = VISUALIZATION_PARAMETER[\"BETA\"]\n",
    "MAX_HAUSDORFF = VISUALIZATION_PARAMETER[\"MAX_HAUSDORFF\"]\n",
    "# HIDDEN_LAYER = VISUALIZATION_PARAMETER[\"HIDDEN_LAYER\"]\n",
    "ENCODER_DIMS = VISUALIZATION_PARAMETER[\"ENCODER_DIMS\"]\n",
    "DECODER_DIMS = VISUALIZATION_PARAMETER[\"DECODER_DIMS\"]\n",
    "S_N_EPOCHS = VISUALIZATION_PARAMETER[\"S_N_EPOCHS\"]\n",
    "T_N_EPOCHS = VISUALIZATION_PARAMETER[\"T_N_EPOCHS\"]\n",
    "N_NEIGHBORS = VISUALIZATION_PARAMETER[\"N_NEIGHBORS\"]\n",
    "PATIENT = VISUALIZATION_PARAMETER[\"PATIENT\"]\n",
    "MAX_EPOCH = VISUALIZATION_PARAMETER[\"MAX_EPOCH\"]\n",
    "\n",
    "VIS_MODEL_NAME = 'vis'\n",
    "EVALUATION_NAME = VISUALIZATION_PARAMETER[\"EVALUATION_NAME\"]\n",
    "\n",
    "SEGMENTS = [(EPOCH_START, EPOCH_END)]\n",
    "# define hyperparameters\n",
    "DEVICE = torch.device(\"cuda:{}\".format(GPU_ID) if torch.cuda.is_available() else \"cpu\")\n",
    "\n",
    "import Model.model as subject_model\n",
    "net = eval(\"subject_model.{}()\".format(NET))\n",
    "\n",
    "\n",
    "ref_provider = NormalDataProvider(REF_PATH, net, EPOCH_START, EPOCH_END, EPOCH_PERIOD, split=-1, device=DEVICE, classes=CLASSES,verbose=1)\n",
    "clean_provider = NormalDataProvider(CLEAN_PATH, net, EPOCH_START, EPOCH_END, EPOCH_PERIOD, split=-1, device=DEVICE, classes=CLASSES,verbose=1)\n",
    "\n",
    "confusion_provider = NormalDataProvider(CONFUSION_PATH, net, EPOCH_START, EPOCH_END, EPOCH_PERIOD, split=-1, device=DEVICE, classes=CLASSES,verbose=1)\n",
    "\n",
    "exchange_provider = NormalDataProvider(EXCHANGE_PATH, net, EPOCH_START, EPOCH_END, EPOCH_PERIOD, split=-1, device=DEVICE, classes=CLASSES,verbose=1)\n",
    "\n",
    "\n",
    "ref_train_data = ref_provider.train_representation(200).squeeze()\n",
    "\n",
    "confusion_data = confusion_provider.train_representation(200).squeeze()\n",
    "\n",
    "exchange_data = exchange_provider.train_representation(200).squeeze()\n",
    "\n",
    "clean_data = clean_provider.train_representation(200).squeeze()"
   ]
  },
  {
   "cell_type": "code",
   "execution_count": 3,
   "metadata": {},
   "outputs": [],
   "source": [
    "import json\n",
    "model = VisModel(ENCODER_DIMS, DECODER_DIMS)\n",
    "#=====benchmark1=========  ref: ref target: clean\n",
    "with open('benchmark1_R_ref_ref_tar_clean.json', 'r', encoding='utf-8') as file_obj:\n",
    "    R = json.load(file_obj)\n",
    "with open('benchmark1_RT_ref_ref_tar_clean.json', 'r', encoding='utf-8') as file_obj:\n",
    "    RT = json.load(file_obj)\n",
    "I = np.eye(512)\n",
    "projector = TimeVisProjector(vis_model=model, content_path=REF_PATH, vis_model_name=VIS_MODEL_NAME, device=\"cpu\")"
   ]
  },
  {
   "cell_type": "code",
   "execution_count": null,
   "metadata": {},
   "outputs": [],
   "source": [
    "from representationTrans.trans_visualizer import visualizer\n",
    "# from representationTrans.visualizer import visualizer\n",
    "vis = visualizer(clean_provider, RT,I, np.dot(clean_provider.train_representation(200),R), projector, 200,[],'tab10')\n",
    "save_dir = os.path.join('/home/yifan/projects' , \"imgcontrast\")\n",
    "# os.makedirs(save_dir)\n",
    "\n",
    "vis.savefig(200, path=os.path.join(save_dir, \"origin_contrast\"))"
   ]
  },
  {
   "cell_type": "code",
   "execution_count": 5,
   "metadata": {},
   "outputs": [
    {
     "name": "stderr",
     "output_type": "stream",
     "text": [
      "100%|██████████| 250/250 [00:00<00:00, 9646.69it/s]\n",
      "100%|██████████| 250/250 [00:00<00:00, 9592.24it/s]"
     ]
    },
    {
     "name": "stdout",
     "output_type": "stream",
     "text": [
      "diff 23.191408\n"
     ]
    },
    {
     "name": "stderr",
     "output_type": "stream",
     "text": [
      "\n"
     ]
    }
   ],
   "source": [
    "from representationTrans.eval.evaluator import Evaluator\n",
    "pred_before = clean_provider.get_pred(200, ref_provider.train_representation(200))\n",
    "pred_after = clean_provider.get_pred(200, np.dot(ref_provider.train_representation(200),RT))\n",
    "eval = Evaluator(clean_provider, projector, pred_after)\n",
    "diff = eval.evaluate_confidence(clean_provider.train_labels(200), pred_before, pred_after)\n",
    "print('diff',diff)"
   ]
  },
  {
   "cell_type": "code",
   "execution_count": 4,
   "metadata": {},
   "outputs": [
    {
     "name": "stderr",
     "output_type": "stream",
     "text": [
      "100%|██████████| 250/250 [00:00<00:00, 9381.55it/s]\n",
      "100%|██████████| 250/250 [00:00<00:00, 9512.27it/s]"
     ]
    },
    {
     "name": "stdout",
     "output_type": "stream",
     "text": [
      "diff 0.0\n"
     ]
    },
    {
     "name": "stderr",
     "output_type": "stream",
     "text": [
      "\n"
     ]
    }
   ],
   "source": [
    "from representationTrans.eval.evaluator import Evaluator\n",
    "pred_before = ref_provider.get_pred(200, ref_provider.train_representation(200))\n",
    "pred_after = ref_provider.get_pred(200, ref_provider.train_representation(200))\n",
    "eval = Evaluator(clean_provider, projector, pred_after)\n",
    "diff = eval.evaluate_confidence(clean_provider.train_labels(200), pred_before, pred_after)\n",
    "print('diff',diff)"
   ]
  },
  {
   "cell_type": "code",
   "execution_count": 4,
   "metadata": {},
   "outputs": [
    {
     "name": "stderr",
     "output_type": "stream",
     "text": [
      "100%|██████████| 250/250 [00:00<00:00, 598.79it/s]\n",
      "100%|██████████| 250/250 [00:00<00:00, 9319.60it/s]"
     ]
    },
    {
     "name": "stdout",
     "output_type": "stream",
     "text": [
      "diff 4.185748\n"
     ]
    },
    {
     "name": "stderr",
     "output_type": "stream",
     "text": [
      "\n"
     ]
    }
   ],
   "source": [
    "from representationTrans.eval.evaluator import Evaluator\n",
    "pred_before = ref_provider.get_pred(200, ref_provider.train_representation(200))\n",
    "pred_after = ref_provider.get_pred(200, np.dot(clean_provider.train_representation(200),R))\n",
    "eval = Evaluator(clean_provider, projector, pred_after)\n",
    "diff = eval.evaluate_confidence(clean_provider.train_labels(200), pred_before, pred_after)\n",
    "print('diff',diff)"
   ]
  },
  {
   "cell_type": "code",
   "execution_count": 6,
   "metadata": {},
   "outputs": [
    {
     "name": "stderr",
     "output_type": "stream",
     "text": [
      "100%|██████████| 250/250 [00:00<00:00, 9558.14it/s]\n",
      "100%|██████████| 250/250 [00:00<00:00, 8742.65it/s]"
     ]
    },
    {
     "name": "stdout",
     "output_type": "stream",
     "text": [
      "diff 4.3085093\n"
     ]
    },
    {
     "name": "stderr",
     "output_type": "stream",
     "text": [
      "\n"
     ]
    }
   ],
   "source": [
    "import json\n",
    "model = VisModel(ENCODER_DIMS, DECODER_DIMS)\n",
    "#=====benchmark1=========  ref: ref target: clean\n",
    "with open('benchmark2_RT_ref_clean_tar_ref_use_trans.json', 'r', encoding='utf-8') as file_obj:\n",
    "    RV = json.load(file_obj)\n",
    "from representationTrans.eval.evaluator import Evaluator\n",
    "pred_before = ref_provider.get_pred(200, ref_provider.train_representation(200))\n",
    "pred_after = ref_provider.get_pred(200, np.dot(clean_provider.train_representation(200),RV))\n",
    "eval = Evaluator(clean_provider, projector, pred_after)\n",
    "diff = eval.evaluate_confidence(clean_provider.train_labels(200), pred_before, pred_after)\n",
    "print('diff',diff)"
   ]
  },
  {
   "cell_type": "code",
   "execution_count": 14,
   "metadata": {},
   "outputs": [
    {
     "name": "stderr",
     "output_type": "stream",
     "text": [
      "100%|██████████| 250/250 [00:00<00:00, 9605.69it/s]\n",
      "100%|██████████| 250/250 [00:00<00:00, 8705.05it/s]"
     ]
    },
    {
     "name": "stdout",
     "output_type": "stream",
     "text": [
      "diff 4.38124\n"
     ]
    },
    {
     "name": "stderr",
     "output_type": "stream",
     "text": [
      "\n"
     ]
    }
   ],
   "source": [
    "import json\n",
    "model = VisModel(ENCODER_DIMS, DECODER_DIMS)\n",
    "#=====benchmark1=========  ref: ref target: clean\n",
    "with open('benchmark2_RT_ref_clean_tar_ref_use_trans.json', 'r', encoding='utf-8') as file_obj:\n",
    "    RV = json.load(file_obj)\n",
    "from representationTrans.eval.evaluator import Evaluator\n",
    "pred_before = ref_provider.get_pred(200, ref_provider.train_representation(200))\n",
    "embed = projector.batch_project(200, ref_provider.train_representation(200))\n",
    "grid_samples = projector.batch_inverse(200, embed)\n",
    "\n",
    "pred_after = ref_provider.get_pred(200, grid_samples)\n",
    "eval = Evaluator(clean_provider, projector, pred_after)\n",
    "diff = eval.evaluate_confidence(clean_provider.train_labels(200), pred_before, pred_after)\n",
    "print('diff',diff)"
   ]
  },
  {
   "cell_type": "code",
   "execution_count": 9,
   "metadata": {},
   "outputs": [
    {
     "name": "stdout",
     "output_type": "stream",
     "text": [
      "Fri Jan  6 20:33:13 2023 Building RP forest with 16 trees\n",
      "Fri Jan  6 20:33:13 2023 NN descent for 16 iterations\n",
      "\t 1  /  16\n",
      "\t 2  /  16\n",
      "\t 3  /  16\n",
      "\t 4  /  16\n",
      "\t 5  /  16\n",
      "\t 6  /  16\n",
      "\t 7  /  16\n",
      "\t 8  /  16\n",
      "\t 9  /  16\n",
      "\tStopping threshold met -- exiting after 9 iterations\n",
      "Fri Jan  6 20:33:15 2023 Building RP forest with 16 trees\n",
      "Fri Jan  6 20:33:15 2023 NN descent for 16 iterations\n",
      "\t 1  /  16\n",
      "\t 2  /  16\n",
      "\tStopping threshold met -- exiting after 2 iterations\n",
      "#test# nn preserving : 1.02/10 in epoch 200\n"
     ]
    }
   ],
   "source": [
    "emb = projector.batch_project(200, np.dot(clean_provider.train_representation(200),R))\n",
    "diff = eval.eval_nn_test(200, np.dot(clean_provider.train_representation(200),R), emb, 10)"
   ]
  },
  {
   "cell_type": "code",
   "execution_count": 11,
   "metadata": {},
   "outputs": [
    {
     "name": "stdout",
     "output_type": "stream",
     "text": [
      "Fri Jan  6 20:33:45 2023 Building RP forest with 16 trees\n",
      "Fri Jan  6 20:33:45 2023 NN descent for 16 iterations\n",
      "\t 1  /  16\n",
      "\t 2  /  16\n",
      "\t 3  /  16\n",
      "\t 4  /  16\n",
      "\tStopping threshold met -- exiting after 4 iterations\n",
      "Fri Jan  6 20:33:46 2023 Building RP forest with 16 trees\n",
      "Fri Jan  6 20:33:47 2023 NN descent for 16 iterations\n",
      "\t 1  /  16\n",
      "\t 2  /  16\n",
      "\tStopping threshold met -- exiting after 2 iterations\n",
      "#test# nn preserving : 1.26/15 in epoch 200\n"
     ]
    }
   ],
   "source": [
    "emb = projector.batch_project(200, ref_provider.train_representation(200))\n",
    "diff = eval.eval_nn_test(200, ref_provider.train_representation(200), emb, 15)"
   ]
  },
  {
   "cell_type": "code",
   "execution_count": 13,
   "metadata": {},
   "outputs": [
    {
     "name": "stdout",
     "output_type": "stream",
     "text": [
      "Fri Jan  6 20:36:44 2023 Building RP forest with 16 trees\n",
      "Fri Jan  6 20:36:45 2023 NN descent for 16 iterations\n",
      "\t 1  /  16\n",
      "\t 2  /  16\n",
      "\t 3  /  16\n",
      "\t 4  /  16\n",
      "\tStopping threshold met -- exiting after 4 iterations\n",
      "Fri Jan  6 20:36:46 2023 Building RP forest with 16 trees\n",
      "Fri Jan  6 20:36:46 2023 NN descent for 16 iterations\n",
      "\t 1  /  16\n",
      "\t 2  /  16\n",
      "\tStopping threshold met -- exiting after 2 iterations\n",
      "#test# nn preserving : 1.05/15 in epoch 200\n"
     ]
    }
   ],
   "source": [
    "emb = projector.batch_project(200, np.dot(clean_provider.train_representation(200),R))\n",
    "diff = eval.eval_nn_test(200, clean_provider.train_representation(200), emb, 15)"
   ]
  },
  {
   "cell_type": "code",
   "execution_count": 15,
   "metadata": {},
   "outputs": [
    {
     "name": "stdout",
     "output_type": "stream",
     "text": [
      "Fri Jan  6 20:37:21 2023 Building RP forest with 16 trees\n",
      "Fri Jan  6 20:37:21 2023 NN descent for 16 iterations\n",
      "\t 1  /  16\n",
      "\t 2  /  16\n",
      "\t 3  /  16\n",
      "\t 4  /  16\n",
      "\tStopping threshold met -- exiting after 4 iterations\n",
      "Fri Jan  6 20:37:23 2023 Building RP forest with 16 trees\n",
      "Fri Jan  6 20:37:23 2023 NN descent for 16 iterations\n",
      "\t 1  /  16\n",
      "\t 2  /  16\n",
      "\tStopping threshold met -- exiting after 2 iterations\n",
      "#test# nn preserving : 1.04/15 in epoch 200\n"
     ]
    }
   ],
   "source": [
    "emb = projector.batch_project(200, np.dot(clean_provider.train_representation(200),RV))\n",
    "diff = eval.eval_nn_test(200, clean_provider.train_representation(200), emb, 15)"
   ]
  },
  {
   "cell_type": "code",
   "execution_count": 16,
   "metadata": {},
   "outputs": [
    {
     "name": "stderr",
     "output_type": "stream",
     "text": [
      "100%|██████████| 250/250 [00:00<00:00, 9217.52it/s]\n",
      "100%|██████████| 250/250 [00:00<00:00, 8952.16it/s]"
     ]
    },
    {
     "name": "stdout",
     "output_type": "stream",
     "text": [
      "71\n"
     ]
    },
    {
     "name": "stderr",
     "output_type": "stream",
     "text": [
      "\n"
     ]
    }
   ],
   "source": [
    "ref_pred = ref_provider.get_pred(200,  ref_provider.train_representation(200))\n",
    "clean_pred = clean_provider.get_pred(200,  clean_provider.train_representation(200))\n",
    "ref_pred = ref_pred.argmax(axis=1)\n",
    "clean_pred = clean_pred.argmax(axis=1)\n",
    "diff_list = []\n",
    "for i in range(len(ref_pred)):\n",
    "    if ref_pred[i] != clean_pred[i]:\n",
    "        diff_list.append(i)\n",
    "print(len(diff_list))\n"
   ]
  },
  {
   "cell_type": "code",
   "execution_count": 21,
   "metadata": {},
   "outputs": [
    {
     "name": "stderr",
     "output_type": "stream",
     "text": [
      "100%|██████████| 250/250 [00:00<00:00, 8196.87it/s]\n",
      "100%|██████████| 250/250 [00:00<00:00, 7808.06it/s]"
     ]
    },
    {
     "name": "stdout",
     "output_type": "stream",
     "text": [
      "1047\n"
     ]
    },
    {
     "name": "stderr",
     "output_type": "stream",
     "text": [
      "\n"
     ]
    }
   ],
   "source": [
    "before = ref_provider.get_pred(200,  ref_provider.train_representation(200))\n",
    "after = ref_provider.get_pred(200,  np.dot(clean_provider.train_representation(200), R))\n",
    "ref_pred = before.argmax(axis=1)\n",
    "clean_pred = after.argmax(axis=1)\n",
    "diff_list = []\n",
    "for i in range(len(ref_pred)):\n",
    "    if ref_pred[i] != clean_pred[i]:\n",
    "        diff_list.append(i)\n",
    "print(len(diff_list))"
   ]
  },
  {
   "cell_type": "code",
   "execution_count": 22,
   "metadata": {},
   "outputs": [
    {
     "name": "stderr",
     "output_type": "stream",
     "text": [
      "100%|██████████| 250/250 [00:00<00:00, 8347.27it/s]\n",
      "100%|██████████| 250/250 [00:00<00:00, 7769.70it/s]"
     ]
    },
    {
     "name": "stdout",
     "output_type": "stream",
     "text": [
      "1369\n"
     ]
    },
    {
     "name": "stderr",
     "output_type": "stream",
     "text": [
      "\n"
     ]
    }
   ],
   "source": [
    "before = ref_provider.get_pred(200,  ref_provider.train_representation(200))\n",
    "after = ref_provider.get_pred(200,  np.dot(clean_provider.train_representation(200), RV))\n",
    "ref_pred = before.argmax(axis=1)\n",
    "clean_pred = after.argmax(axis=1)\n",
    "diff_list = []\n",
    "for i in range(len(ref_pred)):\n",
    "    if ref_pred[i] != clean_pred[i]:\n",
    "        diff_list.append(i)\n",
    "print(len(diff_list))"
   ]
  }
 ],
 "metadata": {
  "kernelspec": {
   "display_name": "deepdebugger",
   "language": "python",
   "name": "deepdebugger"
  },
  "orig_nbformat": 4,
  "vscode": {
   "interpreter": {
    "hash": "31f2aee4e71d21fbe5cf8b01ff0e069b9275f58929596ceb00d14d90e3e16cd6"
   }
  }
 },
 "nbformat": 4,
 "nbformat_minor": 2
}
