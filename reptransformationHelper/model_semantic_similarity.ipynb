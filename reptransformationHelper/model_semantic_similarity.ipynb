{
 "cells": [
  {
   "cell_type": "code",
   "execution_count": 14,
   "metadata": {},
   "outputs": [
    {
     "name": "stdout",
     "output_type": "stream",
     "text": [
      "Finish initialization...\n",
      "Finish initialization...\n",
      "Finish initialization...\n",
      "Finish initialization...\n"
     ]
    }
   ],
   "source": [
    "#### \n",
    "\n",
    "# REF_PATH : reference dataset path\n",
    "# CONFUSION_PATH : benchmark1\n",
    "# EXCHANGE_PATH : benchmark2\n",
    "\n",
    "import torch\n",
    "import sys\n",
    "sys.path.append(\"..\")\n",
    "from singleVis.data import NormalDataProvider\n",
    "\n",
    "\n",
    "\n",
    "REF_PATH = \"/home/yifan/dataset/noisy/pairflip/cifar10/noisy0.001\"\n",
    "\n",
    "CONFUSION_PATH = \"/home/yifan/dataset/confusion/pairflip/cifar10/0\"\n",
    "EXCHANGE_PATH = \"/home/yifan/dataset/exchange/pairflip/cifar10/0\"\n",
    "\n",
    "CLEAN_PATH = \"/home/yifan/dataset/clean/pairflip/cifar10/0\"\n",
    "\n",
    "sys.path.append(REF_PATH)\n",
    "\n",
    "\n",
    "from config import config\n",
    "\n",
    "SETTING = config[\"SETTING\"]\n",
    "CLASSES = config[\"CLASSES\"]\n",
    "DATASET = config[\"DATASET\"]\n",
    "GPU_ID = config[\"GPU\"]\n",
    "EPOCH_START = config[\"EPOCH_START\"]\n",
    "EPOCH_END = config[\"EPOCH_END\"]\n",
    "EPOCH_PERIOD = config[\"EPOCH_PERIOD\"]\n",
    "\n",
    "# Training parameter (subject model)\n",
    "TRAINING_PARAMETER = config[\"TRAINING\"]\n",
    "NET = TRAINING_PARAMETER[\"NET\"]\n",
    "LEN = TRAINING_PARAMETER[\"train_num\"]\n",
    "\n",
    "# Training parameter (visualization model)\n",
    "VISUALIZATION_PARAMETER = config[\"VISUALIZATION\"]\n",
    "PREPROCESS = VISUALIZATION_PARAMETER[\"PREPROCESS\"]\n",
    "LAMBDA = VISUALIZATION_PARAMETER[\"LAMBDA\"]\n",
    "B_N_EPOCHS = VISUALIZATION_PARAMETER[\"BOUNDARY\"][\"B_N_EPOCHS\"]\n",
    "L_BOUND = VISUALIZATION_PARAMETER[\"BOUNDARY\"][\"L_BOUND\"]\n",
    "INIT_NUM = VISUALIZATION_PARAMETER[\"INIT_NUM\"]\n",
    "ALPHA = VISUALIZATION_PARAMETER[\"ALPHA\"]\n",
    "BETA = VISUALIZATION_PARAMETER[\"BETA\"]\n",
    "MAX_HAUSDORFF = VISUALIZATION_PARAMETER[\"MAX_HAUSDORFF\"]\n",
    "# HIDDEN_LAYER = VISUALIZATION_PARAMETER[\"HIDDEN_LAYER\"]\n",
    "ENCODER_DIMS = VISUALIZATION_PARAMETER[\"ENCODER_DIMS\"]\n",
    "DECODER_DIMS = VISUALIZATION_PARAMETER[\"DECODER_DIMS\"]\n",
    "S_N_EPOCHS = VISUALIZATION_PARAMETER[\"S_N_EPOCHS\"]\n",
    "T_N_EPOCHS = VISUALIZATION_PARAMETER[\"T_N_EPOCHS\"]\n",
    "N_NEIGHBORS = VISUALIZATION_PARAMETER[\"N_NEIGHBORS\"]\n",
    "PATIENT = VISUALIZATION_PARAMETER[\"PATIENT\"]\n",
    "MAX_EPOCH = VISUALIZATION_PARAMETER[\"MAX_EPOCH\"]\n",
    "\n",
    "VIS_MODEL_NAME = 'vis'\n",
    "EVALUATION_NAME = VISUALIZATION_PARAMETER[\"EVALUATION_NAME\"]\n",
    "\n",
    "SEGMENTS = [(EPOCH_START, EPOCH_END)]\n",
    "# define hyperparameters\n",
    "DEVICE = torch.device(\"cuda:{}\".format(GPU_ID) if torch.cuda.is_available() else \"cpu\")\n",
    "\n",
    "import Model.model as subject_model\n",
    "net = eval(\"subject_model.{}()\".format(NET))\n",
    "\n",
    "\n",
    "ref_provider = NormalDataProvider(REF_PATH, net, EPOCH_START, EPOCH_END, EPOCH_PERIOD, split=-1, device=DEVICE, classes=CLASSES,verbose=1)\n",
    "\n",
    "confusion_provider = NormalDataProvider(CONFUSION_PATH, net, EPOCH_START, EPOCH_END, EPOCH_PERIOD, split=-1, device=DEVICE, classes=CLASSES,verbose=1)\n",
    "\n",
    "exchange_provider = NormalDataProvider(EXCHANGE_PATH, net, EPOCH_START, EPOCH_END, EPOCH_PERIOD, split=-1, device=DEVICE, classes=CLASSES,verbose=1)\n",
    "\n",
    "clean_provider = NormalDataProvider(CLEAN_PATH, net, EPOCH_START, EPOCH_END, EPOCH_PERIOD, split=-1, device=DEVICE, classes=CLASSES,verbose=1)\n",
    "\n",
    "\n",
    "ref_train_data = ref_provider.train_representation(200).squeeze()\n",
    "\n",
    "\n",
    "confusion_data = confusion_provider.train_representation(200).squeeze()\n",
    "\n",
    "exchange_data = exchange_provider.train_representation(200).squeeze()"
   ]
  },
  {
   "cell_type": "code",
   "execution_count": 23,
   "metadata": {},
   "outputs": [
    {
     "name": "stderr",
     "output_type": "stream",
     "text": [
      "100%|██████████| 250/250 [00:00<00:00, 9480.20it/s]\n",
      "100%|██████████| 250/250 [00:00<00:00, 9328.55it/s]"
     ]
    },
    {
     "name": "stdout",
     "output_type": "stream",
     "text": [
      "ref_prediction [6 9 9 ... 9 1 1]\n",
      "ex_prediction [6 9 9 ... 9 1 1]\n",
      "diff distance: diff_num/ total_num: 0.00142\n",
      "diff_indicated: [619, 973, 1316, 2747, 2833, 3359, 5077, 5645, 7508, 7810, 8157, 8259, 9132, 9316, 9745, 10584, 11038, 11136, 12779, 14647, 14977, 15658, 16535, 17704, 17920, 18387, 18957, 19549, 20209, 21262, 21324, 22456, 23348, 23370, 23477, 23859, 25359, 26927, 27059, 27496, 28148, 29333, 29548, 29638, 29689, 30135, 30802, 31156, 31903, 33465, 33710, 33750, 35162, 36127, 36676, 37466, 38089, 38941, 39487, 39833, 41489, 41498, 42194, 43160, 45777, 46181, 46503, 46683, 47391, 47454, 49774] [{'ref predict': 7, 'ex prediction': 6}, {'ref predict': 8, 'ex prediction': 7}, {'ref predict': 5, 'ex prediction': 3}, {'ref predict': 6, 'ex prediction': 5}, {'ref predict': 3, 'ex prediction': 2}, {'ref predict': 9, 'ex prediction': 8}, {'ref predict': 0, 'ex prediction': 9}, {'ref predict': 0, 'ex prediction': 2}, {'ref predict': 9, 'ex prediction': 8}, {'ref predict': 1, 'ex prediction': 0}, {'ref predict': 3, 'ex prediction': 2}, {'ref predict': 6, 'ex prediction': 3}, {'ref predict': 5, 'ex prediction': 3}, {'ref predict': 3, 'ex prediction': 5}, {'ref predict': 2, 'ex prediction': 1}, {'ref predict': 5, 'ex prediction': 7}, {'ref predict': 7, 'ex prediction': 6}, {'ref predict': 8, 'ex prediction': 7}, {'ref predict': 7, 'ex prediction': 6}, {'ref predict': 3, 'ex prediction': 0}, {'ref predict': 8, 'ex prediction': 7}, {'ref predict': 3, 'ex prediction': 2}, {'ref predict': 0, 'ex prediction': 9}, {'ref predict': 0, 'ex prediction': 9}, {'ref predict': 5, 'ex prediction': 3}, {'ref predict': 3, 'ex prediction': 5}, {'ref predict': 9, 'ex prediction': 3}, {'ref predict': 0, 'ex prediction': 9}, {'ref predict': 9, 'ex prediction': 8}, {'ref predict': 3, 'ex prediction': 2}, {'ref predict': 8, 'ex prediction': 7}, {'ref predict': 6, 'ex prediction': 3}, {'ref predict': 4, 'ex prediction': 3}, {'ref predict': 7, 'ex prediction': 6}, {'ref predict': 2, 'ex prediction': 1}, {'ref predict': 4, 'ex prediction': 3}, {'ref predict': 4, 'ex prediction': 3}, {'ref predict': 9, 'ex prediction': 8}, {'ref predict': 1, 'ex prediction': 0}, {'ref predict': 9, 'ex prediction': 8}, {'ref predict': 2, 'ex prediction': 1}, {'ref predict': 9, 'ex prediction': 8}, {'ref predict': 3, 'ex prediction': 2}, {'ref predict': 4, 'ex prediction': 3}, {'ref predict': 9, 'ex prediction': 8}, {'ref predict': 2, 'ex prediction': 1}, {'ref predict': 5, 'ex prediction': 4}, {'ref predict': 7, 'ex prediction': 5}, {'ref predict': 9, 'ex prediction': 8}, {'ref predict': 5, 'ex prediction': 4}, {'ref predict': 6, 'ex prediction': 5}, {'ref predict': 1, 'ex prediction': 0}, {'ref predict': 8, 'ex prediction': 0}, {'ref predict': 6, 'ex prediction': 5}, {'ref predict': 4, 'ex prediction': 3}, {'ref predict': 2, 'ex prediction': 4}, {'ref predict': 9, 'ex prediction': 8}, {'ref predict': 2, 'ex prediction': 4}, {'ref predict': 3, 'ex prediction': 5}, {'ref predict': 5, 'ex prediction': 4}, {'ref predict': 2, 'ex prediction': 1}, {'ref predict': 3, 'ex prediction': 2}, {'ref predict': 6, 'ex prediction': 5}, {'ref predict': 1, 'ex prediction': 0}, {'ref predict': 9, 'ex prediction': 8}, {'ref predict': 0, 'ex prediction': 9}, {'ref predict': 3, 'ex prediction': 5}, {'ref predict': 3, 'ex prediction': 2}, {'ref predict': 9, 'ex prediction': 8}, {'ref predict': 7, 'ex prediction': 6}, {'ref predict': 8, 'ex prediction': 7}]\n"
     ]
    },
    {
     "name": "stderr",
     "output_type": "stream",
     "text": [
      "\n"
     ]
    }
   ],
   "source": [
    "import numpy as np\n",
    "\n",
    "ref_prediction = ref_provider.get_pred(200, ref_provider.train_representation(200)).argmax(1)\n",
    "\n",
    "ex_prediction = clean_provider.get_pred(200, clean_provider.train_representation(200)).argmax(1)\n",
    "\n",
    "print(\"ref_prediction\",ref_prediction)\n",
    "print(\"ex_prediction\",ex_prediction)\n",
    "diff_indicates = []\n",
    "pairs = []\n",
    "for i in range(len(ref_prediction)):\n",
    "    if ex_prediction[i] != ref_prediction[i]:\n",
    "        diff_indicates.append(i)\n",
    "        pairs.append({\"ref predict\": ref_prediction[i], \"ex prediction\": ex_prediction[i]})\n",
    "print('diff distance: diff_num/ total_num:',len(diff_indicates)/50000)\n",
    "print('diff_indicated:',diff_indicates, pairs)\n",
    "\n"
   ]
  },
  {
   "cell_type": "code",
   "execution_count": null,
   "metadata": {},
   "outputs": [],
   "source": []
  }
 ],
 "metadata": {
  "kernelspec": {
   "display_name": "deepdebugger",
   "language": "python",
   "name": "deepdebugger"
  },
  "orig_nbformat": 4
 },
 "nbformat": 4,
 "nbformat_minor": 2
}
